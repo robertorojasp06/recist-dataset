{
 "cells": [
  {
   "cell_type": "markdown",
   "id": "387be059-6a79-4400-9e16-dddb55f11ff4",
   "metadata": {
    "jp-MarkdownHeadingCollapsed": true
   },
   "source": [
    "# Quantification from automated extraction of annotated lesions\n",
    "Results obtained by using the script `get_lesions_info_from_other_datasets.py`."
   ]
  },
  {
   "cell_type": "code",
   "execution_count": 1,
   "id": "fc259d6d-e262-4b24-aa7c-0ec4ae08a2c4",
   "metadata": {},
   "outputs": [],
   "source": [
    "import pandas as pd\n",
    "import matplotlib.pyplot as plt\n",
    "import seaborn as sns\n",
    "import warnings\n",
    "import numpy as np\n",
    "from pathlib import Path\n",
    "from scipy.stats import gaussian_kde\n",
    "from matplotlib import cm"
   ]
  },
  {
   "cell_type": "code",
   "execution_count": 2,
   "id": "beed0166-4913-47b5-a6a6-d6f25986969e",
   "metadata": {},
   "outputs": [],
   "source": [
    "path_to_data = Path.cwd() / \"resources\" / \"other_datasets_lesions_info.csv\"\n",
    "min_voxels = 50\n",
    "min_slices = 2"
   ]
  },
  {
   "cell_type": "code",
   "execution_count": 3,
   "id": "5f6a3d6f-ba84-4183-969e-92b2c2828b38",
   "metadata": {},
   "outputs": [],
   "source": [
    "df = pd.read_csv(path_to_data)"
   ]
  },
  {
   "cell_type": "code",
   "execution_count": 4,
   "id": "71d3cd81-1126-4cda-9c21-27392eee4298",
   "metadata": {},
   "outputs": [],
   "source": [
    "# Add column to identify the image\n",
    "df[\"image\"] = df.apply(\n",
    "    lambda row: f\"{'-'.join([row['dataset'], row['patient'], row['study'], row['filename']])}\",\n",
    "    axis=1\n",
    ")"
   ]
  },
  {
   "cell_type": "code",
   "execution_count": 5,
   "id": "b2e3601f-939c-4e67-ba7d-765b9e0acd2a",
   "metadata": {},
   "outputs": [],
   "source": [
    "# Remove lesions smaller than 50 voxels or with 1 slice\n",
    "df = df[\n",
    "    (df[\"voxels_count\"] >= min_voxels) |\n",
    "    (df[\"slices_count\"] >= min_slices)\n",
    "].copy()"
   ]
  },
  {
   "cell_type": "code",
   "execution_count": 6,
   "id": "dca75d5a-b002-4e10-bf1e-c5a82bdc4903",
   "metadata": {},
   "outputs": [
    {
     "data": {
      "text/html": [
       "<div>\n",
       "<style scoped>\n",
       "    .dataframe tbody tr th:only-of-type {\n",
       "        vertical-align: middle;\n",
       "    }\n",
       "\n",
       "    .dataframe tbody tr th {\n",
       "        vertical-align: top;\n",
       "    }\n",
       "\n",
       "    .dataframe thead th {\n",
       "        text-align: right;\n",
       "    }\n",
       "</style>\n",
       "<table border=\"1\" class=\"dataframe\">\n",
       "  <thead>\n",
       "    <tr style=\"text-align: right;\">\n",
       "      <th></th>\n",
       "      <th>dataset</th>\n",
       "      <th>lesions_count</th>\n",
       "    </tr>\n",
       "  </thead>\n",
       "  <tbody>\n",
       "    <tr>\n",
       "      <th>0</th>\n",
       "      <td>Adrenal-ACC-Ki67</td>\n",
       "      <td>54</td>\n",
       "    </tr>\n",
       "    <tr>\n",
       "      <th>10</th>\n",
       "      <td>Task06_Lung</td>\n",
       "      <td>70</td>\n",
       "    </tr>\n",
       "    <tr>\n",
       "      <th>4</th>\n",
       "      <td>KiPA22</td>\n",
       "      <td>72</td>\n",
       "    </tr>\n",
       "    <tr>\n",
       "      <th>13</th>\n",
       "      <td>Task10_Colon</td>\n",
       "      <td>130</td>\n",
       "    </tr>\n",
       "    <tr>\n",
       "      <th>3</th>\n",
       "      <td>HCC-TACE-Seg</td>\n",
       "      <td>145</td>\n",
       "    </tr>\n",
       "    <tr>\n",
       "      <th>7</th>\n",
       "      <td>NSCLC-Radiogenomics</td>\n",
       "      <td>156</td>\n",
       "    </tr>\n",
       "    <tr>\n",
       "      <th>2</th>\n",
       "      <td>GLIS-RT</td>\n",
       "      <td>250</td>\n",
       "    </tr>\n",
       "    <tr>\n",
       "      <th>11</th>\n",
       "      <td>Task07_Pancreas</td>\n",
       "      <td>283</td>\n",
       "    </tr>\n",
       "    <tr>\n",
       "      <th>12</th>\n",
       "      <td>Task08_HepaticVessel</td>\n",
       "      <td>532</td>\n",
       "    </tr>\n",
       "    <tr>\n",
       "      <th>5</th>\n",
       "      <td>KiTS23</td>\n",
       "      <td>602</td>\n",
       "    </tr>\n",
       "    <tr>\n",
       "      <th>9</th>\n",
       "      <td>Task03_Liver</td>\n",
       "      <td>857</td>\n",
       "    </tr>\n",
       "    <tr>\n",
       "      <th>1</th>\n",
       "      <td>CT-Lymph-Nodes</td>\n",
       "      <td>1031</td>\n",
       "    </tr>\n",
       "    <tr>\n",
       "      <th>6</th>\n",
       "      <td>Mediastinal-Lymph-Node-SEG</td>\n",
       "      <td>1438</td>\n",
       "    </tr>\n",
       "    <tr>\n",
       "      <th>8</th>\n",
       "      <td>PET-CT</td>\n",
       "      <td>7141</td>\n",
       "    </tr>\n",
       "  </tbody>\n",
       "</table>\n",
       "</div>"
      ],
      "text/plain": [
       "                       dataset  lesions_count\n",
       "0             Adrenal-ACC-Ki67             54\n",
       "10                 Task06_Lung             70\n",
       "4                       KiPA22             72\n",
       "13                Task10_Colon            130\n",
       "3                 HCC-TACE-Seg            145\n",
       "7          NSCLC-Radiogenomics            156\n",
       "2                      GLIS-RT            250\n",
       "11             Task07_Pancreas            283\n",
       "12        Task08_HepaticVessel            532\n",
       "5                       KiTS23            602\n",
       "9                 Task03_Liver            857\n",
       "1               CT-Lymph-Nodes           1031\n",
       "6   Mediastinal-Lymph-Node-SEG           1438\n",
       "8                       PET-CT           7141"
      ]
     },
     "metadata": {},
     "output_type": "display_data"
    }
   ],
   "source": [
    "# Total annotated lesions\n",
    "grouped = df.groupby('dataset').size().reset_index(name='lesions_count')\n",
    "display(grouped.sort_values(by='lesions_count'))"
   ]
  },
  {
   "cell_type": "code",
   "execution_count": 7,
   "id": "6ff7f1b8-c956-4ae2-a0c1-922a41f6758b",
   "metadata": {},
   "outputs": [
    {
     "data": {
      "text/html": [
       "<div>\n",
       "<style scoped>\n",
       "    .dataframe tbody tr th:only-of-type {\n",
       "        vertical-align: middle;\n",
       "    }\n",
       "\n",
       "    .dataframe tbody tr th {\n",
       "        vertical-align: top;\n",
       "    }\n",
       "\n",
       "    .dataframe thead th {\n",
       "        text-align: right;\n",
       "    }\n",
       "</style>\n",
       "<table border=\"1\" class=\"dataframe\">\n",
       "  <thead>\n",
       "    <tr style=\"text-align: right;\">\n",
       "      <th></th>\n",
       "      <th>volume_mm3</th>\n",
       "      <th>volume_ml</th>\n",
       "    </tr>\n",
       "    <tr>\n",
       "      <th>dataset</th>\n",
       "      <th></th>\n",
       "      <th></th>\n",
       "    </tr>\n",
       "  </thead>\n",
       "  <tbody>\n",
       "    <tr>\n",
       "      <th>Adrenal-ACC-Ki67</th>\n",
       "      <td>2.815078e+07</td>\n",
       "      <td>28150.777203</td>\n",
       "    </tr>\n",
       "    <tr>\n",
       "      <th>CT-Lymph-Nodes</th>\n",
       "      <td>4.912883e+06</td>\n",
       "      <td>4912.883119</td>\n",
       "    </tr>\n",
       "    <tr>\n",
       "      <th>GLIS-RT</th>\n",
       "      <td>3.259464e+07</td>\n",
       "      <td>32594.640646</td>\n",
       "    </tr>\n",
       "    <tr>\n",
       "      <th>HCC-TACE-Seg</th>\n",
       "      <td>4.002449e+07</td>\n",
       "      <td>40024.492483</td>\n",
       "    </tr>\n",
       "    <tr>\n",
       "      <th>KiPA22</th>\n",
       "      <td>2.852676e+06</td>\n",
       "      <td>2852.675798</td>\n",
       "    </tr>\n",
       "    <tr>\n",
       "      <th>KiTS23</th>\n",
       "      <td>6.454911e+07</td>\n",
       "      <td>64549.105090</td>\n",
       "    </tr>\n",
       "    <tr>\n",
       "      <th>Mediastinal-Lymph-Node-SEG</th>\n",
       "      <td>9.796613e+06</td>\n",
       "      <td>9796.613349</td>\n",
       "    </tr>\n",
       "    <tr>\n",
       "      <th>NSCLC-Radiogenomics</th>\n",
       "      <td>3.905487e+06</td>\n",
       "      <td>3905.486775</td>\n",
       "    </tr>\n",
       "    <tr>\n",
       "      <th>PET-CT</th>\n",
       "      <td>1.100855e+08</td>\n",
       "      <td>110085.477634</td>\n",
       "    </tr>\n",
       "    <tr>\n",
       "      <th>Task03_Liver</th>\n",
       "      <td>1.021325e+07</td>\n",
       "      <td>10213.245204</td>\n",
       "    </tr>\n",
       "    <tr>\n",
       "      <th>Task06_Lung</th>\n",
       "      <td>1.384761e+06</td>\n",
       "      <td>1384.760864</td>\n",
       "    </tr>\n",
       "    <tr>\n",
       "      <th>Task07_Pancreas</th>\n",
       "      <td>3.635317e+06</td>\n",
       "      <td>3635.316687</td>\n",
       "    </tr>\n",
       "    <tr>\n",
       "      <th>Task08_HepaticVessel</th>\n",
       "      <td>4.225789e+07</td>\n",
       "      <td>42257.885540</td>\n",
       "    </tr>\n",
       "    <tr>\n",
       "      <th>Task10_Colon</th>\n",
       "      <td>4.540225e+06</td>\n",
       "      <td>4540.225030</td>\n",
       "    </tr>\n",
       "  </tbody>\n",
       "</table>\n",
       "</div>"
      ],
      "text/plain": [
       "                              volume_mm3      volume_ml\n",
       "dataset                                                \n",
       "Adrenal-ACC-Ki67            2.815078e+07   28150.777203\n",
       "CT-Lymph-Nodes              4.912883e+06    4912.883119\n",
       "GLIS-RT                     3.259464e+07   32594.640646\n",
       "HCC-TACE-Seg                4.002449e+07   40024.492483\n",
       "KiPA22                      2.852676e+06    2852.675798\n",
       "KiTS23                      6.454911e+07   64549.105090\n",
       "Mediastinal-Lymph-Node-SEG  9.796613e+06    9796.613349\n",
       "NSCLC-Radiogenomics         3.905487e+06    3905.486775\n",
       "PET-CT                      1.100855e+08  110085.477634\n",
       "Task03_Liver                1.021325e+07   10213.245204\n",
       "Task06_Lung                 1.384761e+06    1384.760864\n",
       "Task07_Pancreas             3.635317e+06    3635.316687\n",
       "Task08_HepaticVessel        4.225789e+07   42257.885540\n",
       "Task10_Colon                4.540225e+06    4540.225030"
      ]
     },
     "metadata": {},
     "output_type": "display_data"
    }
   ],
   "source": [
    "# Total annotated volume\n",
    "grouped = df.groupby('dataset')[['volume_mm3', 'volume_ml']].sum()\n",
    "display(grouped)"
   ]
  },
  {
   "cell_type": "code",
   "execution_count": 8,
   "id": "5dbd0367-e559-43fd-8b11-bb110e5e1086",
   "metadata": {},
   "outputs": [
    {
     "data": {
      "text/html": [
       "<div>\n",
       "<style scoped>\n",
       "    .dataframe tbody tr th:only-of-type {\n",
       "        vertical-align: middle;\n",
       "    }\n",
       "\n",
       "    .dataframe tbody tr th {\n",
       "        vertical-align: top;\n",
       "    }\n",
       "\n",
       "    .dataframe thead th {\n",
       "        text-align: right;\n",
       "    }\n",
       "</style>\n",
       "<table border=\"1\" class=\"dataframe\">\n",
       "  <thead>\n",
       "    <tr style=\"text-align: right;\">\n",
       "      <th></th>\n",
       "      <th>dataset</th>\n",
       "      <th>annotated_volumes</th>\n",
       "    </tr>\n",
       "  </thead>\n",
       "  <tbody>\n",
       "    <tr>\n",
       "      <th>0</th>\n",
       "      <td>Adrenal-ACC-Ki67</td>\n",
       "      <td>53</td>\n",
       "    </tr>\n",
       "    <tr>\n",
       "      <th>1</th>\n",
       "      <td>CT-Lymph-Nodes</td>\n",
       "      <td>1031</td>\n",
       "    </tr>\n",
       "    <tr>\n",
       "      <th>2</th>\n",
       "      <td>GLIS-RT</td>\n",
       "      <td>229</td>\n",
       "    </tr>\n",
       "    <tr>\n",
       "      <th>3</th>\n",
       "      <td>HCC-TACE-Seg</td>\n",
       "      <td>105</td>\n",
       "    </tr>\n",
       "    <tr>\n",
       "      <th>4</th>\n",
       "      <td>KiPA22</td>\n",
       "      <td>70</td>\n",
       "    </tr>\n",
       "    <tr>\n",
       "      <th>5</th>\n",
       "      <td>KiTS23</td>\n",
       "      <td>489</td>\n",
       "    </tr>\n",
       "    <tr>\n",
       "      <th>6</th>\n",
       "      <td>Mediastinal-Lymph-Node-SEG</td>\n",
       "      <td>513</td>\n",
       "    </tr>\n",
       "    <tr>\n",
       "      <th>7</th>\n",
       "      <td>NSCLC-Radiogenomics</td>\n",
       "      <td>144</td>\n",
       "    </tr>\n",
       "    <tr>\n",
       "      <th>8</th>\n",
       "      <td>PET-CT</td>\n",
       "      <td>501</td>\n",
       "    </tr>\n",
       "    <tr>\n",
       "      <th>9</th>\n",
       "      <td>Task03_Liver</td>\n",
       "      <td>118</td>\n",
       "    </tr>\n",
       "    <tr>\n",
       "      <th>10</th>\n",
       "      <td>Task06_Lung</td>\n",
       "      <td>63</td>\n",
       "    </tr>\n",
       "    <tr>\n",
       "      <th>11</th>\n",
       "      <td>Task07_Pancreas</td>\n",
       "      <td>281</td>\n",
       "    </tr>\n",
       "    <tr>\n",
       "      <th>12</th>\n",
       "      <td>Task08_HepaticVessel</td>\n",
       "      <td>303</td>\n",
       "    </tr>\n",
       "    <tr>\n",
       "      <th>13</th>\n",
       "      <td>Task10_Colon</td>\n",
       "      <td>126</td>\n",
       "    </tr>\n",
       "  </tbody>\n",
       "</table>\n",
       "</div>"
      ],
      "text/plain": [
       "                       dataset  annotated_volumes\n",
       "0             Adrenal-ACC-Ki67                 53\n",
       "1               CT-Lymph-Nodes               1031\n",
       "2                      GLIS-RT                229\n",
       "3                 HCC-TACE-Seg                105\n",
       "4                       KiPA22                 70\n",
       "5                       KiTS23                489\n",
       "6   Mediastinal-Lymph-Node-SEG                513\n",
       "7          NSCLC-Radiogenomics                144\n",
       "8                       PET-CT                501\n",
       "9                 Task03_Liver                118\n",
       "10                 Task06_Lung                 63\n",
       "11             Task07_Pancreas                281\n",
       "12        Task08_HepaticVessel                303\n",
       "13                Task10_Colon                126"
      ]
     },
     "metadata": {},
     "output_type": "display_data"
    }
   ],
   "source": [
    "# Volumes with annotated lesions\n",
    "grouped = df.groupby(['dataset'])['image'].nunique().reset_index(name='annotated_volumes')\n",
    "display(grouped)"
   ]
  },
  {
   "cell_type": "code",
   "execution_count": 9,
   "id": "a29581c6-0bf6-4eab-8d1b-dc089f9dbdc3",
   "metadata": {},
   "outputs": [
    {
     "data": {
      "text/html": [
       "<div>\n",
       "<style scoped>\n",
       "    .dataframe tbody tr th:only-of-type {\n",
       "        vertical-align: middle;\n",
       "    }\n",
       "\n",
       "    .dataframe tbody tr th {\n",
       "        vertical-align: top;\n",
       "    }\n",
       "\n",
       "    .dataframe thead th {\n",
       "        text-align: right;\n",
       "    }\n",
       "</style>\n",
       "<table border=\"1\" class=\"dataframe\">\n",
       "  <thead>\n",
       "    <tr style=\"text-align: right;\">\n",
       "      <th></th>\n",
       "      <th>count</th>\n",
       "      <th>mean</th>\n",
       "      <th>std</th>\n",
       "      <th>min</th>\n",
       "      <th>25%</th>\n",
       "      <th>50%</th>\n",
       "      <th>75%</th>\n",
       "      <th>max</th>\n",
       "    </tr>\n",
       "    <tr>\n",
       "      <th>dataset</th>\n",
       "      <th></th>\n",
       "      <th></th>\n",
       "      <th></th>\n",
       "      <th></th>\n",
       "      <th></th>\n",
       "      <th></th>\n",
       "      <th></th>\n",
       "      <th></th>\n",
       "    </tr>\n",
       "  </thead>\n",
       "  <tbody>\n",
       "    <tr>\n",
       "      <th>Adrenal-ACC-Ki67</th>\n",
       "      <td>54.0</td>\n",
       "      <td>521.310689</td>\n",
       "      <td>1123.448462</td>\n",
       "      <td>0.584412</td>\n",
       "      <td>54.587495</td>\n",
       "      <td>177.445068</td>\n",
       "      <td>549.581985</td>\n",
       "      <td>7863.760712</td>\n",
       "    </tr>\n",
       "    <tr>\n",
       "      <th>CT-Lymph-Nodes</th>\n",
       "      <td>1031.0</td>\n",
       "      <td>4.765163</td>\n",
       "      <td>10.698951</td>\n",
       "      <td>0.019996</td>\n",
       "      <td>1.100525</td>\n",
       "      <td>2.340375</td>\n",
       "      <td>4.763207</td>\n",
       "      <td>209.709473</td>\n",
       "    </tr>\n",
       "    <tr>\n",
       "      <th>GLIS-RT</th>\n",
       "      <td>250.0</td>\n",
       "      <td>130.378563</td>\n",
       "      <td>91.379041</td>\n",
       "      <td>0.464349</td>\n",
       "      <td>56.726751</td>\n",
       "      <td>121.228342</td>\n",
       "      <td>188.197556</td>\n",
       "      <td>473.378970</td>\n",
       "    </tr>\n",
       "    <tr>\n",
       "      <th>HCC-TACE-Seg</th>\n",
       "      <td>145.0</td>\n",
       "      <td>276.030983</td>\n",
       "      <td>569.153760</td>\n",
       "      <td>0.066742</td>\n",
       "      <td>8.989014</td>\n",
       "      <td>43.507113</td>\n",
       "      <td>245.304955</td>\n",
       "      <td>4054.628325</td>\n",
       "    </tr>\n",
       "    <tr>\n",
       "      <th>KiPA22</th>\n",
       "      <td>72.0</td>\n",
       "      <td>39.620497</td>\n",
       "      <td>47.833205</td>\n",
       "      <td>1.941254</td>\n",
       "      <td>10.800999</td>\n",
       "      <td>26.058104</td>\n",
       "      <td>49.480939</td>\n",
       "      <td>263.874677</td>\n",
       "    </tr>\n",
       "    <tr>\n",
       "      <th>KiTS23</th>\n",
       "      <td>602.0</td>\n",
       "      <td>107.224427</td>\n",
       "      <td>245.738676</td>\n",
       "      <td>0.001308</td>\n",
       "      <td>4.774009</td>\n",
       "      <td>18.324243</td>\n",
       "      <td>71.527078</td>\n",
       "      <td>2590.918263</td>\n",
       "    </tr>\n",
       "    <tr>\n",
       "      <th>Mediastinal-Lymph-Node-SEG</th>\n",
       "      <td>1438.0</td>\n",
       "      <td>6.812666</td>\n",
       "      <td>16.027156</td>\n",
       "      <td>0.005490</td>\n",
       "      <td>0.540306</td>\n",
       "      <td>2.189587</td>\n",
       "      <td>6.029569</td>\n",
       "      <td>224.386235</td>\n",
       "    </tr>\n",
       "    <tr>\n",
       "      <th>NSCLC-Radiogenomics</th>\n",
       "      <td>156.0</td>\n",
       "      <td>25.035172</td>\n",
       "      <td>53.826520</td>\n",
       "      <td>0.003815</td>\n",
       "      <td>2.555422</td>\n",
       "      <td>6.605518</td>\n",
       "      <td>22.184753</td>\n",
       "      <td>371.856445</td>\n",
       "    </tr>\n",
       "    <tr>\n",
       "      <th>PET-CT</th>\n",
       "      <td>7141.0</td>\n",
       "      <td>15.415975</td>\n",
       "      <td>77.274389</td>\n",
       "      <td>0.024882</td>\n",
       "      <td>0.559846</td>\n",
       "      <td>1.542687</td>\n",
       "      <td>4.615619</td>\n",
       "      <td>2144.682651</td>\n",
       "    </tr>\n",
       "    <tr>\n",
       "      <th>Task03_Liver</th>\n",
       "      <td>857.0</td>\n",
       "      <td>11.917439</td>\n",
       "      <td>54.748762</td>\n",
       "      <td>0.000976</td>\n",
       "      <td>0.172187</td>\n",
       "      <td>0.608098</td>\n",
       "      <td>3.366875</td>\n",
       "      <td>968.636209</td>\n",
       "    </tr>\n",
       "    <tr>\n",
       "      <th>Task06_Lung</th>\n",
       "      <td>70.0</td>\n",
       "      <td>19.782298</td>\n",
       "      <td>49.800521</td>\n",
       "      <td>0.003798</td>\n",
       "      <td>1.536333</td>\n",
       "      <td>4.951139</td>\n",
       "      <td>12.497090</td>\n",
       "      <td>370.380830</td>\n",
       "    </tr>\n",
       "    <tr>\n",
       "      <th>Task07_Pancreas</th>\n",
       "      <td>283.0</td>\n",
       "      <td>12.845642</td>\n",
       "      <td>46.564436</td>\n",
       "      <td>0.201219</td>\n",
       "      <td>2.747302</td>\n",
       "      <td>5.755612</td>\n",
       "      <td>10.189377</td>\n",
       "      <td>732.388147</td>\n",
       "    </tr>\n",
       "    <tr>\n",
       "      <th>Task08_HepaticVessel</th>\n",
       "      <td>532.0</td>\n",
       "      <td>79.432116</td>\n",
       "      <td>244.763596</td>\n",
       "      <td>0.015877</td>\n",
       "      <td>1.028779</td>\n",
       "      <td>6.059212</td>\n",
       "      <td>40.031004</td>\n",
       "      <td>2122.625152</td>\n",
       "    </tr>\n",
       "    <tr>\n",
       "      <th>Task10_Colon</th>\n",
       "      <td>130.0</td>\n",
       "      <td>34.924808</td>\n",
       "      <td>50.488145</td>\n",
       "      <td>0.148924</td>\n",
       "      <td>11.412627</td>\n",
       "      <td>21.194216</td>\n",
       "      <td>39.414937</td>\n",
       "      <td>467.862643</td>\n",
       "    </tr>\n",
       "  </tbody>\n",
       "</table>\n",
       "</div>"
      ],
      "text/plain": [
       "                             count        mean          std       min  \\\n",
       "dataset                                                                 \n",
       "Adrenal-ACC-Ki67              54.0  521.310689  1123.448462  0.584412   \n",
       "CT-Lymph-Nodes              1031.0    4.765163    10.698951  0.019996   \n",
       "GLIS-RT                      250.0  130.378563    91.379041  0.464349   \n",
       "HCC-TACE-Seg                 145.0  276.030983   569.153760  0.066742   \n",
       "KiPA22                        72.0   39.620497    47.833205  1.941254   \n",
       "KiTS23                       602.0  107.224427   245.738676  0.001308   \n",
       "Mediastinal-Lymph-Node-SEG  1438.0    6.812666    16.027156  0.005490   \n",
       "NSCLC-Radiogenomics          156.0   25.035172    53.826520  0.003815   \n",
       "PET-CT                      7141.0   15.415975    77.274389  0.024882   \n",
       "Task03_Liver                 857.0   11.917439    54.748762  0.000976   \n",
       "Task06_Lung                   70.0   19.782298    49.800521  0.003798   \n",
       "Task07_Pancreas              283.0   12.845642    46.564436  0.201219   \n",
       "Task08_HepaticVessel         532.0   79.432116   244.763596  0.015877   \n",
       "Task10_Colon                 130.0   34.924808    50.488145  0.148924   \n",
       "\n",
       "                                  25%         50%         75%          max  \n",
       "dataset                                                                     \n",
       "Adrenal-ACC-Ki67            54.587495  177.445068  549.581985  7863.760712  \n",
       "CT-Lymph-Nodes               1.100525    2.340375    4.763207   209.709473  \n",
       "GLIS-RT                     56.726751  121.228342  188.197556   473.378970  \n",
       "HCC-TACE-Seg                 8.989014   43.507113  245.304955  4054.628325  \n",
       "KiPA22                      10.800999   26.058104   49.480939   263.874677  \n",
       "KiTS23                       4.774009   18.324243   71.527078  2590.918263  \n",
       "Mediastinal-Lymph-Node-SEG   0.540306    2.189587    6.029569   224.386235  \n",
       "NSCLC-Radiogenomics          2.555422    6.605518   22.184753   371.856445  \n",
       "PET-CT                       0.559846    1.542687    4.615619  2144.682651  \n",
       "Task03_Liver                 0.172187    0.608098    3.366875   968.636209  \n",
       "Task06_Lung                  1.536333    4.951139   12.497090   370.380830  \n",
       "Task07_Pancreas              2.747302    5.755612   10.189377   732.388147  \n",
       "Task08_HepaticVessel         1.028779    6.059212   40.031004  2122.625152  \n",
       "Task10_Colon                11.412627   21.194216   39.414937   467.862643  "
      ]
     },
     "metadata": {},
     "output_type": "display_data"
    }
   ],
   "source": [
    "# Statistics of annotated lesions (volume_ml)\n",
    "grouped = df.groupby('dataset')['volume_ml'].describe()\n",
    "display(grouped)"
   ]
  },
  {
   "cell_type": "code",
   "execution_count": 10,
   "id": "f2dd445a-f7ec-4804-9527-305dbe3eb67a",
   "metadata": {},
   "outputs": [
    {
     "data": {
      "image/png": "[encoded data removed]",
      "text/plain": [
       "<Figure size 640x480 with 1 Axes>"
      ]
     },
     "metadata": {},
     "output_type": "display_data"
    }
   ],
   "source": [
    "# Boxplots of lesion volumes\n",
    "sns.boxplot(x=\"dataset\", y=\"volume_ml\", data=df)\n",
    "plt.title(\"Volume of annotated lesions for each dataset\")\n",
    "plt.xticks(rotation=90)\n",
    "plt.ylabel(\"volume (ml)\")\n",
    "plt.ylim([0, 250])\n",
    "plt.show()"
   ]
  },
  {
   "cell_type": "markdown",
   "id": "260e6c78-5937-47e9-9b76-be56938d6dac",
   "metadata": {},
   "source": [
    "# Analysis from final table\n",
    "Results collected from the final table informed in the publication."
   ]
  },
  {
   "cell_type": "code",
   "execution_count": 11,
   "id": "0ea32dca-a5ca-4bf7-95d3-6fb7b07e4efa",
   "metadata": {},
   "outputs": [
    {
     "data": {
      "text/html": [
       "        <script type=\"text/javascript\">\n",
       "        window.PlotlyConfig = {MathJaxConfig: 'local'};\n",
       "        if (window.MathJax && window.MathJax.Hub && window.MathJax.Hub.Config) {window.MathJax.Hub.Config({SVG: {font: \"STIX-Web\"}});}\n",
       "        </script>\n",
       "        <script type=\"module\">import \"https://cdn.plot.ly/plotly-3.0.1.min\"</script>\n",
       "        "
      ]
     },
     "metadata": {},
     "output_type": "display_data"
    }
   ],
   "source": [
    "from plotly.subplots import make_subplots\n",
    "import plotly.express as px\n",
    "import plotly.graph_objects as go\n",
    "import plotly.offline as pyo\n",
    "pyo.init_notebook_mode(connected=True)\n",
    "pd.set_option('display.max_columns', None)"
   ]
  },
  {
   "cell_type": "code",
   "execution_count": 12,
   "id": "e1d2def6-1a5d-4f58-90b4-98fc13ffec21",
   "metadata": {},
   "outputs": [],
   "source": [
    "path_to_csv = Path.cwd() / \"resources\" / \"datasets_with_annotations_for_tumor_segmentation.csv\""
   ]
  },
  {
   "cell_type": "code",
   "execution_count": 13,
   "id": "c57532d9-bb1d-4908-ad48-4a30119668ed",
   "metadata": {},
   "outputs": [
    {
     "data": {
      "text/plain": [
       "Index(['Dataset', 'Modality', 'Anatomical region', 'Affected organ',\n",
       "       'File format', 'Primary diagnosis', 'Age', 'Sex', 'Race/Ethnicity',\n",
       "       'Pathologies', 'Lesions', 'Labels', 'Images',\n",
       "       'Images with annotated lesions', 'Images without lesions',\n",
       "       'Annotated lesions', 'Annotated volume (ml)', 'Patients',\n",
       "       'Multicentric data', 'Annotators', 'Annotation approach',\n",
       "       'Years of experience of annotators', 'License'],\n",
       "      dtype='object')"
      ]
     },
     "execution_count": 13,
     "metadata": {},
     "output_type": "execute_result"
    }
   ],
   "source": [
    "table_df = pd.read_csv(path_to_csv)\n",
    "table_df.columns"
   ]
  },
  {
   "cell_type": "code",
   "execution_count": 14,
   "id": "a05e9ec9-9b43-4ab5-ad3e-b8eb76ced615",
   "metadata": {},
   "outputs": [
    {
     "data": {
      "text/html": [
       "<div>\n",
       "<style scoped>\n",
       "    .dataframe tbody tr th:only-of-type {\n",
       "        vertical-align: middle;\n",
       "    }\n",
       "\n",
       "    .dataframe tbody tr th {\n",
       "        vertical-align: top;\n",
       "    }\n",
       "\n",
       "    .dataframe thead th {\n",
       "        text-align: right;\n",
       "    }\n",
       "</style>\n",
       "<table border=\"1\" class=\"dataframe\">\n",
       "  <thead>\n",
       "    <tr style=\"text-align: right;\">\n",
       "      <th></th>\n",
       "      <th>Dataset</th>\n",
       "      <th>Modality</th>\n",
       "      <th>Anatomical region</th>\n",
       "      <th>Affected organ</th>\n",
       "      <th>File format</th>\n",
       "      <th>Primary diagnosis</th>\n",
       "      <th>Age</th>\n",
       "      <th>Sex</th>\n",
       "      <th>Race/Ethnicity</th>\n",
       "      <th>Pathologies</th>\n",
       "      <th>Lesions</th>\n",
       "      <th>Labels</th>\n",
       "      <th>Images</th>\n",
       "      <th>Images with annotated lesions</th>\n",
       "      <th>Images without lesions</th>\n",
       "      <th>Annotated lesions</th>\n",
       "      <th>Annotated volume (ml)</th>\n",
       "      <th>Patients</th>\n",
       "      <th>Multicentric data</th>\n",
       "      <th>Annotators</th>\n",
       "      <th>Annotation approach</th>\n",
       "      <th>Years of experience of annotators</th>\n",
       "      <th>License</th>\n",
       "    </tr>\n",
       "  </thead>\n",
       "  <tbody>\n",
       "    <tr>\n",
       "      <th>0</th>\n",
       "      <td>autoPET</td>\n",
       "      <td>PET-CT</td>\n",
       "      <td>Whole-body</td>\n",
       "      <td>Lymph nodes, Lung, Skin</td>\n",
       "      <td>DICOM</td>\n",
       "      <td>Reported</td>\n",
       "      <td>Reported</td>\n",
       "      <td>Reported</td>\n",
       "      <td>Not Reported</td>\n",
       "      <td>Lymphoma, Lung cancer, Melanoma</td>\n",
       "      <td>Primary tumor, Metastases</td>\n",
       "      <td>Lesion</td>\n",
       "      <td>1014</td>\n",
       "      <td>501</td>\n",
       "      <td>513</td>\n",
       "      <td>7141</td>\n",
       "      <td>110085.5</td>\n",
       "      <td>900.0</td>\n",
       "      <td>No</td>\n",
       "      <td>1.0</td>\n",
       "      <td>Manual</td>\n",
       "      <td>10.0</td>\n",
       "      <td>TCIA Restricted</td>\n",
       "    </tr>\n",
       "    <tr>\n",
       "      <th>1</th>\n",
       "      <td>MSD-Liver</td>\n",
       "      <td>CT</td>\n",
       "      <td>Abdomen</td>\n",
       "      <td>Liver</td>\n",
       "      <td>NIfTI</td>\n",
       "      <td>Not Reported</td>\n",
       "      <td>Not Reported</td>\n",
       "      <td>Not Reported</td>\n",
       "      <td>Not Reported</td>\n",
       "      <td>Hepatocellular carcinoma, Colorectal cancer, B...</td>\n",
       "      <td>Primary tumor, Metastases</td>\n",
       "      <td>Liver, Cancer</td>\n",
       "      <td>201</td>\n",
       "      <td>118</td>\n",
       "      <td>13</td>\n",
       "      <td>857</td>\n",
       "      <td>10213.2</td>\n",
       "      <td>NaN</td>\n",
       "      <td>Yes</td>\n",
       "      <td>4.0</td>\n",
       "      <td>Manual</td>\n",
       "      <td>3.0</td>\n",
       "      <td>CC BY-SA 4.0</td>\n",
       "    </tr>\n",
       "    <tr>\n",
       "      <th>2</th>\n",
       "      <td>MSD-Lung</td>\n",
       "      <td>CT</td>\n",
       "      <td>Thorax</td>\n",
       "      <td>Lung</td>\n",
       "      <td>NIfTI</td>\n",
       "      <td>Reported</td>\n",
       "      <td>Reported</td>\n",
       "      <td>Reported</td>\n",
       "      <td>Reported</td>\n",
       "      <td>Non-small cell lung cancer</td>\n",
       "      <td>Primary tumor</td>\n",
       "      <td>Cancer</td>\n",
       "      <td>95</td>\n",
       "      <td>63</td>\n",
       "      <td>0</td>\n",
       "      <td>70</td>\n",
       "      <td>1384.8</td>\n",
       "      <td>NaN</td>\n",
       "      <td>No</td>\n",
       "      <td>2.0</td>\n",
       "      <td>Initial segmentation + Manual Refinement</td>\n",
       "      <td>5.0</td>\n",
       "      <td>CC BY-SA 4.0</td>\n",
       "    </tr>\n",
       "    <tr>\n",
       "      <th>3</th>\n",
       "      <td>MSD-Pancreas</td>\n",
       "      <td>CT</td>\n",
       "      <td>Abdomen</td>\n",
       "      <td>Pancreas</td>\n",
       "      <td>NIfTI</td>\n",
       "      <td>Not Reported</td>\n",
       "      <td>Not Reported</td>\n",
       "      <td>Not Reported</td>\n",
       "      <td>Not Reported</td>\n",
       "      <td>Pancreatic cancer</td>\n",
       "      <td>Primary tumor, Cyst</td>\n",
       "      <td>Pancreas, Cancer</td>\n",
       "      <td>420</td>\n",
       "      <td>281</td>\n",
       "      <td>1</td>\n",
       "      <td>283</td>\n",
       "      <td>3635.3</td>\n",
       "      <td>NaN</td>\n",
       "      <td>No</td>\n",
       "      <td>1.0</td>\n",
       "      <td>Manual</td>\n",
       "      <td>NaN</td>\n",
       "      <td>CC BY-SA 4.0</td>\n",
       "    </tr>\n",
       "    <tr>\n",
       "      <th>4</th>\n",
       "      <td>MSD-Colon</td>\n",
       "      <td>CT</td>\n",
       "      <td>Abdomen</td>\n",
       "      <td>Colon</td>\n",
       "      <td>NIfTI</td>\n",
       "      <td>Reported</td>\n",
       "      <td>Not Reported</td>\n",
       "      <td>Not Reported</td>\n",
       "      <td>Not Reported</td>\n",
       "      <td>Colon cancer</td>\n",
       "      <td>Primary tumor</td>\n",
       "      <td>Cancer</td>\n",
       "      <td>190</td>\n",
       "      <td>126</td>\n",
       "      <td>0</td>\n",
       "      <td>130</td>\n",
       "      <td>4540.2</td>\n",
       "      <td>NaN</td>\n",
       "      <td>No</td>\n",
       "      <td>1.0</td>\n",
       "      <td>Manual</td>\n",
       "      <td>NaN</td>\n",
       "      <td>CC BY-SA 4.0</td>\n",
       "    </tr>\n",
       "    <tr>\n",
       "      <th>5</th>\n",
       "      <td>MSD-HepaticVessel</td>\n",
       "      <td>CT</td>\n",
       "      <td>Abdomen</td>\n",
       "      <td>Liver</td>\n",
       "      <td>NIfTI</td>\n",
       "      <td>Not Reported</td>\n",
       "      <td>Not Reported</td>\n",
       "      <td>Not Reported</td>\n",
       "      <td>Not Reported</td>\n",
       "      <td>Hepatocellular carcinoma</td>\n",
       "      <td>Primary tumor, Metastases</td>\n",
       "      <td>Vessel, Tumor</td>\n",
       "      <td>443</td>\n",
       "      <td>303</td>\n",
       "      <td>0</td>\n",
       "      <td>532</td>\n",
       "      <td>42257.9</td>\n",
       "      <td>NaN</td>\n",
       "      <td>No</td>\n",
       "      <td>1.0</td>\n",
       "      <td>Initial segmentation + Manual Refinement</td>\n",
       "      <td>NaN</td>\n",
       "      <td>CC BY-SA 4.0</td>\n",
       "    </tr>\n",
       "    <tr>\n",
       "      <th>6</th>\n",
       "      <td>Adrenal-ACC-Ki67</td>\n",
       "      <td>CT</td>\n",
       "      <td>Abdomen</td>\n",
       "      <td>Adrenal glands</td>\n",
       "      <td>DICOM</td>\n",
       "      <td>Reported</td>\n",
       "      <td>Reported</td>\n",
       "      <td>Reported</td>\n",
       "      <td>Reported</td>\n",
       "      <td>Adrenocortical carcinoma</td>\n",
       "      <td>Primary tumor</td>\n",
       "      <td>Tumor</td>\n",
       "      <td>53</td>\n",
       "      <td>53</td>\n",
       "      <td>0</td>\n",
       "      <td>54</td>\n",
       "      <td>28150.8</td>\n",
       "      <td>53.0</td>\n",
       "      <td>No</td>\n",
       "      <td>1.0</td>\n",
       "      <td>Initial segmentation + Manual Refinement</td>\n",
       "      <td>NaN</td>\n",
       "      <td>CC BY 4.0</td>\n",
       "    </tr>\n",
       "    <tr>\n",
       "      <th>7</th>\n",
       "      <td>GLIS-RT</td>\n",
       "      <td>CT</td>\n",
       "      <td>Head-and-neck</td>\n",
       "      <td>Brain</td>\n",
       "      <td>DICOM</td>\n",
       "      <td>Reported</td>\n",
       "      <td>Not Reported</td>\n",
       "      <td>Not Reported</td>\n",
       "      <td>Not Reported</td>\n",
       "      <td>Glioblastoma, Astrocytoma, Low Grade Glioma</td>\n",
       "      <td>Primary tumor</td>\n",
       "      <td>Gross Tumor Volume</td>\n",
       "      <td>230</td>\n",
       "      <td>230</td>\n",
       "      <td>0</td>\n",
       "      <td>250</td>\n",
       "      <td>32594.6</td>\n",
       "      <td>230.0</td>\n",
       "      <td>No</td>\n",
       "      <td>NaN</td>\n",
       "      <td>Manual</td>\n",
       "      <td>NaN</td>\n",
       "      <td>TCIA Restricted</td>\n",
       "    </tr>\n",
       "    <tr>\n",
       "      <th>8</th>\n",
       "      <td>HCC-TACE-Seg</td>\n",
       "      <td>CT</td>\n",
       "      <td>Abdomen</td>\n",
       "      <td>Liver</td>\n",
       "      <td>DICOM</td>\n",
       "      <td>Reported</td>\n",
       "      <td>Reported</td>\n",
       "      <td>Reported</td>\n",
       "      <td>Not Reported</td>\n",
       "      <td>Hepatocellular carcinoma</td>\n",
       "      <td>Primary tumor</td>\n",
       "      <td>Kidney, Tumor, Vessels, Aorta</td>\n",
       "      <td>105</td>\n",
       "      <td>105</td>\n",
       "      <td>0</td>\n",
       "      <td>145</td>\n",
       "      <td>40024.5</td>\n",
       "      <td>105.0</td>\n",
       "      <td>No</td>\n",
       "      <td>4.0</td>\n",
       "      <td>Initial segmentation + Manual Refinement</td>\n",
       "      <td>20.0</td>\n",
       "      <td>CC BY 4.0</td>\n",
       "    </tr>\n",
       "    <tr>\n",
       "      <th>9</th>\n",
       "      <td>NSCLC Radiogenomics</td>\n",
       "      <td>PET-CT</td>\n",
       "      <td>Thorax</td>\n",
       "      <td>Lung</td>\n",
       "      <td>DICOM</td>\n",
       "      <td>Reported</td>\n",
       "      <td>Reported</td>\n",
       "      <td>Reported</td>\n",
       "      <td>Not Reported</td>\n",
       "      <td>Non-small cell lung cancer</td>\n",
       "      <td>Primary tumor</td>\n",
       "      <td>Tumor</td>\n",
       "      <td>144</td>\n",
       "      <td>144</td>\n",
       "      <td>0</td>\n",
       "      <td>156</td>\n",
       "      <td>3905.5</td>\n",
       "      <td>144.0</td>\n",
       "      <td>No</td>\n",
       "      <td>1.0</td>\n",
       "      <td>Manual</td>\n",
       "      <td>NaN</td>\n",
       "      <td>CC BY-NC 3.0</td>\n",
       "    </tr>\n",
       "    <tr>\n",
       "      <th>10</th>\n",
       "      <td>KiPA22</td>\n",
       "      <td>CT</td>\n",
       "      <td>Abdomen</td>\n",
       "      <td>Kidney</td>\n",
       "      <td>NIfTI</td>\n",
       "      <td>Not Reported</td>\n",
       "      <td>Not Reported</td>\n",
       "      <td>Not Reported</td>\n",
       "      <td>Not Reported</td>\n",
       "      <td>Renal cell carcinoma, Adenoma</td>\n",
       "      <td>Primary tumor</td>\n",
       "      <td>Renal vein, Kidney, Renal artery, Tumor</td>\n",
       "      <td>100</td>\n",
       "      <td>70</td>\n",
       "      <td>0</td>\n",
       "      <td>72</td>\n",
       "      <td>2852.7</td>\n",
       "      <td>70.0</td>\n",
       "      <td>No</td>\n",
       "      <td>4.0</td>\n",
       "      <td>Initial segmentation + Manual Refinement</td>\n",
       "      <td>NaN</td>\n",
       "      <td>CC BY-NC-ND</td>\n",
       "    </tr>\n",
       "    <tr>\n",
       "      <th>11</th>\n",
       "      <td>KiTS23</td>\n",
       "      <td>CT</td>\n",
       "      <td>Abdomen</td>\n",
       "      <td>Kidney</td>\n",
       "      <td>NIfTI</td>\n",
       "      <td>Reported</td>\n",
       "      <td>Reported</td>\n",
       "      <td>Reported</td>\n",
       "      <td>Not Reported</td>\n",
       "      <td>Renal cell carcinoma, Others</td>\n",
       "      <td>Primary tumor</td>\n",
       "      <td>Kidney, Tumor, Cyst</td>\n",
       "      <td>599</td>\n",
       "      <td>489</td>\n",
       "      <td>0</td>\n",
       "      <td>602</td>\n",
       "      <td>64549.1</td>\n",
       "      <td>489.0</td>\n",
       "      <td>No</td>\n",
       "      <td>8.0</td>\n",
       "      <td>Manual + nnUNet agreement verification</td>\n",
       "      <td>NaN</td>\n",
       "      <td>CC BY-NC-SA 4.0</td>\n",
       "    </tr>\n",
       "    <tr>\n",
       "      <th>12</th>\n",
       "      <td>Mediastinal-Lymph-Node-SEG</td>\n",
       "      <td>CT</td>\n",
       "      <td>Thorax (mediastinum)</td>\n",
       "      <td>Lymph nodes</td>\n",
       "      <td>DICOM</td>\n",
       "      <td>Reported</td>\n",
       "      <td>Not Reported</td>\n",
       "      <td>Reported</td>\n",
       "      <td>Not Reported</td>\n",
       "      <td>Breast cancer, Chronic lymphocytic leukemia, L...</td>\n",
       "      <td>Enlarged lymph nodes</td>\n",
       "      <td>Lymph node</td>\n",
       "      <td>513</td>\n",
       "      <td>513</td>\n",
       "      <td>0</td>\n",
       "      <td>1438</td>\n",
       "      <td>9796.6</td>\n",
       "      <td>513.0</td>\n",
       "      <td>Yes</td>\n",
       "      <td>NaN</td>\n",
       "      <td>Not Reported</td>\n",
       "      <td>10.0</td>\n",
       "      <td>CC BY 4.0</td>\n",
       "    </tr>\n",
       "    <tr>\n",
       "      <th>13</th>\n",
       "      <td>CT-Lymph-Nodes</td>\n",
       "      <td>CT</td>\n",
       "      <td>Abdomen, Thorax (mediastinum)</td>\n",
       "      <td>Lymph nodes</td>\n",
       "      <td>DICOM, NIfTI</td>\n",
       "      <td>Not Reported</td>\n",
       "      <td>Not Reported</td>\n",
       "      <td>Not Reported</td>\n",
       "      <td>Not Reported</td>\n",
       "      <td>Lymphadenopathy (non-cancer)</td>\n",
       "      <td>Mediastinal lymph nodes, Abdominal lymph nodes</td>\n",
       "      <td>Lymph node</td>\n",
       "      <td>176</td>\n",
       "      <td>176</td>\n",
       "      <td>0</td>\n",
       "      <td>1031</td>\n",
       "      <td>4912.9</td>\n",
       "      <td>176.0</td>\n",
       "      <td>No</td>\n",
       "      <td>NaN</td>\n",
       "      <td>Not Reported</td>\n",
       "      <td>NaN</td>\n",
       "      <td>CC BY 3.0</td>\n",
       "    </tr>\n",
       "  </tbody>\n",
       "</table>\n",
       "</div>"
      ],
      "text/plain": [
       "                       Dataset Modality              Anatomical region  \\\n",
       "0                      autoPET   PET-CT                     Whole-body   \n",
       "1                    MSD-Liver       CT                        Abdomen   \n",
       "2                     MSD-Lung       CT                         Thorax   \n",
       "3                 MSD-Pancreas       CT                        Abdomen   \n",
       "4                    MSD-Colon       CT                        Abdomen   \n",
       "5            MSD-HepaticVessel       CT                        Abdomen   \n",
       "6             Adrenal-ACC-Ki67       CT                        Abdomen   \n",
       "7                      GLIS-RT       CT                  Head-and-neck   \n",
       "8                 HCC-TACE-Seg       CT                        Abdomen   \n",
       "9          NSCLC Radiogenomics   PET-CT                         Thorax   \n",
       "10                      KiPA22       CT                        Abdomen   \n",
       "11                      KiTS23       CT                        Abdomen   \n",
       "12  Mediastinal-Lymph-Node-SEG       CT           Thorax (mediastinum)   \n",
       "13              CT-Lymph-Nodes       CT  Abdomen, Thorax (mediastinum)   \n",
       "\n",
       "             Affected organ   File format Primary diagnosis           Age  \\\n",
       "0   Lymph nodes, Lung, Skin         DICOM          Reported      Reported   \n",
       "1                     Liver         NIfTI      Not Reported  Not Reported   \n",
       "2                      Lung         NIfTI          Reported      Reported   \n",
       "3                  Pancreas         NIfTI      Not Reported  Not Reported   \n",
       "4                     Colon         NIfTI          Reported  Not Reported   \n",
       "5                     Liver         NIfTI      Not Reported  Not Reported   \n",
       "6            Adrenal glands         DICOM          Reported      Reported   \n",
       "7                     Brain         DICOM          Reported  Not Reported   \n",
       "8                     Liver         DICOM          Reported      Reported   \n",
       "9                      Lung         DICOM          Reported      Reported   \n",
       "10                   Kidney         NIfTI      Not Reported  Not Reported   \n",
       "11                   Kidney         NIfTI          Reported      Reported   \n",
       "12              Lymph nodes         DICOM          Reported  Not Reported   \n",
       "13              Lymph nodes  DICOM, NIfTI      Not Reported  Not Reported   \n",
       "\n",
       "             Sex Race/Ethnicity  \\\n",
       "0       Reported   Not Reported   \n",
       "1   Not Reported   Not Reported   \n",
       "2       Reported       Reported   \n",
       "3   Not Reported   Not Reported   \n",
       "4   Not Reported   Not Reported   \n",
       "5   Not Reported   Not Reported   \n",
       "6       Reported       Reported   \n",
       "7   Not Reported   Not Reported   \n",
       "8       Reported   Not Reported   \n",
       "9       Reported   Not Reported   \n",
       "10  Not Reported   Not Reported   \n",
       "11      Reported   Not Reported   \n",
       "12      Reported   Not Reported   \n",
       "13  Not Reported   Not Reported   \n",
       "\n",
       "                                          Pathologies  \\\n",
       "0                     Lymphoma, Lung cancer, Melanoma   \n",
       "1   Hepatocellular carcinoma, Colorectal cancer, B...   \n",
       "2                          Non-small cell lung cancer   \n",
       "3                                   Pancreatic cancer   \n",
       "4                                        Colon cancer   \n",
       "5                           Hepatocellular carcinoma    \n",
       "6                            Adrenocortical carcinoma   \n",
       "7         Glioblastoma, Astrocytoma, Low Grade Glioma   \n",
       "8                           Hepatocellular carcinoma    \n",
       "9                          Non-small cell lung cancer   \n",
       "10                      Renal cell carcinoma, Adenoma   \n",
       "11                       Renal cell carcinoma, Others   \n",
       "12  Breast cancer, Chronic lymphocytic leukemia, L...   \n",
       "13                       Lymphadenopathy (non-cancer)   \n",
       "\n",
       "                                           Lesions  \\\n",
       "0                        Primary tumor, Metastases   \n",
       "1                        Primary tumor, Metastases   \n",
       "2                                    Primary tumor   \n",
       "3                              Primary tumor, Cyst   \n",
       "4                                    Primary tumor   \n",
       "5                        Primary tumor, Metastases   \n",
       "6                                    Primary tumor   \n",
       "7                                    Primary tumor   \n",
       "8                                    Primary tumor   \n",
       "9                                    Primary tumor   \n",
       "10                                   Primary tumor   \n",
       "11                                   Primary tumor   \n",
       "12                            Enlarged lymph nodes   \n",
       "13  Mediastinal lymph nodes, Abdominal lymph nodes   \n",
       "\n",
       "                                     Labels  Images  \\\n",
       "0                                    Lesion    1014   \n",
       "1                             Liver, Cancer     201   \n",
       "2                                    Cancer      95   \n",
       "3                          Pancreas, Cancer     420   \n",
       "4                                    Cancer     190   \n",
       "5                             Vessel, Tumor     443   \n",
       "6                                     Tumor      53   \n",
       "7                        Gross Tumor Volume     230   \n",
       "8             Kidney, Tumor, Vessels, Aorta     105   \n",
       "9                                     Tumor     144   \n",
       "10  Renal vein, Kidney, Renal artery, Tumor     100   \n",
       "11                      Kidney, Tumor, Cyst     599   \n",
       "12                               Lymph node     513   \n",
       "13                               Lymph node     176   \n",
       "\n",
       "    Images with annotated lesions  Images without lesions  Annotated lesions  \\\n",
       "0                             501                     513               7141   \n",
       "1                             118                      13                857   \n",
       "2                              63                       0                 70   \n",
       "3                             281                       1                283   \n",
       "4                             126                       0                130   \n",
       "5                             303                       0                532   \n",
       "6                              53                       0                 54   \n",
       "7                             230                       0                250   \n",
       "8                             105                       0                145   \n",
       "9                             144                       0                156   \n",
       "10                             70                       0                 72   \n",
       "11                            489                       0                602   \n",
       "12                            513                       0               1438   \n",
       "13                            176                       0               1031   \n",
       "\n",
       "    Annotated volume (ml)  Patients Multicentric data  Annotators  \\\n",
       "0                110085.5     900.0                No         1.0   \n",
       "1                 10213.2       NaN               Yes         4.0   \n",
       "2                  1384.8       NaN                No         2.0   \n",
       "3                  3635.3       NaN                No         1.0   \n",
       "4                  4540.2       NaN                No         1.0   \n",
       "5                 42257.9       NaN                No         1.0   \n",
       "6                 28150.8      53.0                No         1.0   \n",
       "7                 32594.6     230.0                No         NaN   \n",
       "8                 40024.5     105.0                No         4.0   \n",
       "9                  3905.5     144.0                No         1.0   \n",
       "10                 2852.7      70.0                No         4.0   \n",
       "11                64549.1     489.0                No         8.0   \n",
       "12                 9796.6     513.0               Yes         NaN   \n",
       "13                 4912.9     176.0                No         NaN   \n",
       "\n",
       "                         Annotation approach  \\\n",
       "0                                     Manual   \n",
       "1                                     Manual   \n",
       "2   Initial segmentation + Manual Refinement   \n",
       "3                                     Manual   \n",
       "4                                     Manual   \n",
       "5   Initial segmentation + Manual Refinement   \n",
       "6   Initial segmentation + Manual Refinement   \n",
       "7                                     Manual   \n",
       "8   Initial segmentation + Manual Refinement   \n",
       "9                                     Manual   \n",
       "10  Initial segmentation + Manual Refinement   \n",
       "11    Manual + nnUNet agreement verification   \n",
       "12                              Not Reported   \n",
       "13                              Not Reported   \n",
       "\n",
       "    Years of experience of annotators          License  \n",
       "0                                10.0  TCIA Restricted  \n",
       "1                                 3.0     CC BY-SA 4.0  \n",
       "2                                 5.0     CC BY-SA 4.0  \n",
       "3                                 NaN     CC BY-SA 4.0  \n",
       "4                                 NaN     CC BY-SA 4.0  \n",
       "5                                 NaN     CC BY-SA 4.0  \n",
       "6                                 NaN        CC BY 4.0  \n",
       "7                                 NaN  TCIA Restricted  \n",
       "8                                20.0        CC BY 4.0  \n",
       "9                                 NaN     CC BY-NC 3.0  \n",
       "10                                NaN      CC BY-NC-ND  \n",
       "11                                NaN  CC BY-NC-SA 4.0  \n",
       "12                               10.0        CC BY 4.0  \n",
       "13                                NaN        CC BY 3.0  "
      ]
     },
     "metadata": {},
     "output_type": "display_data"
    }
   ],
   "source": [
    "display(table_df)"
   ]
  },
  {
   "cell_type": "code",
   "execution_count": 15,
   "id": "7767872c-00da-4e46-9641-3f40d614a316",
   "metadata": {},
   "outputs": [
    {
     "data": {
      "application/vnd.plotly.v1+json": {
       "config": {
        "plotlyServerURL": "https://plot.ly"
       },
       "data": [
        {
         "domain": {
          "x": [
           0,
           0.2888888888888889
          ],
          "y": [
           0.625,
           1
          ]
         },
         "labels": [
          "CT",
          "PET-CT"
         ],
         "textinfo": "label+value",
         "textposition": "inside",
         "type": "pie",
         "values": {
          "bdata": "DAI=",
          "dtype": "i1"
         }
        },
        {
         "domain": {
          "x": [
           0.35555555555555557,
           0.6444444444444445
          ],
          "y": [
           0.625,
           1
          ]
         },
         "labels": [
          "Abdomen",
          "Thorax",
          "Whole-body",
          "Head-and-neck",
          "Thorax (mediastinum)",
          "Abdomen, Thorax (mediastinum)"
         ],
         "textinfo": "label+value",
         "textposition": "inside",
         "type": "pie",
         "values": {
          "bdata": "CAIBAQEB",
          "dtype": "i1"
         }
        },
        {
         "domain": {
          "x": [
           0.7111111111111111,
           1
          ],
          "y": [
           0.625,
           1
          ]
         },
         "labels": [
          "Liver",
          "Lung",
          "Kidney",
          "Lymph nodes",
          "Lymph nodes, Lung, Skin",
          "Pancreas",
          "Colon",
          "Adrenal glands",
          "Brain"
         ],
         "textinfo": "label+value",
         "textposition": "inside",
         "type": "pie",
         "values": {
          "bdata": "AwICAgEBAQEB",
          "dtype": "i1"
         }
        },
        {
         "domain": {
          "x": [
           0,
           0.2888888888888889
          ],
          "y": [
           0,
           0.375
          ]
         },
         "labels": [
          "NIfTI",
          "DICOM",
          "DICOM, NIfTI"
         ],
         "textinfo": "label+value",
         "textposition": "inside",
         "type": "pie",
         "values": {
          "bdata": "BwYB",
          "dtype": "i1"
         }
        },
        {
         "domain": {
          "x": [
           0.35555555555555557,
           0.6444444444444445
          ],
          "y": [
           0,
           0.375
          ]
         },
         "labels": [
          "No",
          "Yes"
         ],
         "textinfo": "label+value",
         "textposition": "inside",
         "type": "pie",
         "values": {
          "bdata": "DAI=",
          "dtype": "i1"
         }
        },
        {
         "domain": {
          "x": [
           0.7111111111111111,
           1
          ],
          "y": [
           0,
           0.375
          ]
         },
         "labels": [
          "CC BY-SA 4.0",
          "CC BY 4.0",
          "TCIA Restricted",
          "CC BY-NC 3.0",
          "CC BY-NC-ND",
          "CC BY-NC-SA 4.0",
          "CC BY 3.0"
         ],
         "textinfo": "label+value",
         "textposition": "inside",
         "type": "pie",
         "values": {
          "bdata": "BQMCAQEBAQ==",
          "dtype": "i1"
         }
        }
       ],
       "layout": {
        "annotations": [
         {
          "font": {
           "size": 16
          },
          "showarrow": false,
          "text": "Modality",
          "x": 0.14444444444444446,
          "xanchor": "center",
          "xref": "paper",
          "y": 1,
          "yanchor": "bottom",
          "yref": "paper"
         },
         {
          "font": {
           "size": 16
          },
          "showarrow": false,
          "text": "Anatomical region",
          "x": 0.5,
          "xanchor": "center",
          "xref": "paper",
          "y": 1,
          "yanchor": "bottom",
          "yref": "paper"
         },
         {
          "font": {
           "size": 16
          },
          "showarrow": false,
          "text": "Affected organ",
          "x": 0.8555555555555556,
          "xanchor": "center",
          "xref": "paper",
          "y": 1,
          "yanchor": "bottom",
          "yref": "paper"
         },
         {
          "font": {
           "size": 16
          },
          "showarrow": false,
          "text": "File format",
          "x": 0.14444444444444446,
          "xanchor": "center",
          "xref": "paper",
          "y": 0.375,
          "yanchor": "bottom",
          "yref": "paper"
         },
         {
          "font": {
           "size": 16
          },
          "showarrow": false,
          "text": "Multicentric data",
          "x": 0.5,
          "xanchor": "center",
          "xref": "paper",
          "y": 0.375,
          "yanchor": "bottom",
          "yref": "paper"
         },
         {
          "font": {
           "size": 16
          },
          "showarrow": false,
          "text": "License",
          "x": 0.8555555555555556,
          "xanchor": "center",
          "xref": "paper",
          "y": 0.375,
          "yanchor": "bottom",
          "yref": "paper"
         }
        ],
        "height": 700,
        "showlegend": false,
        "template": {
         "data": {
          "bar": [
           {
            "error_x": {
             "color": "#2a3f5f"
            },
            "error_y": {
             "color": "#2a3f5f"
            },
            "marker": {
             "line": {
              "color": "#E5ECF6",
              "width": 0.5
             },
             "pattern": {
              "fillmode": "overlay",
              "size": 10,
              "solidity": 0.2
             }
            },
            "type": "bar"
           }
          ],
          "barpolar": [
           {
            "marker": {
             "line": {
              "color": "#E5ECF6",
              "width": 0.5
             },
             "pattern": {
              "fillmode": "overlay",
              "size": 10,
              "solidity": 0.2
             }
            },
            "type": "barpolar"
           }
          ],
          "carpet": [
           {
            "aaxis": {
             "endlinecolor": "#2a3f5f",
             "gridcolor": "white",
             "linecolor": "white",
             "minorgridcolor": "white",
             "startlinecolor": "#2a3f5f"
            },
            "baxis": {
             "endlinecolor": "#2a3f5f",
             "gridcolor": "white",
             "linecolor": "white",
             "minorgridcolor": "white",
             "startlinecolor": "#2a3f5f"
            },
            "type": "carpet"
           }
          ],
          "choropleth": [
           {
            "colorbar": {
             "outlinewidth": 0,
             "ticks": ""
            },
            "type": "choropleth"
           }
          ],
          "contour": [
           {
            "colorbar": {
             "outlinewidth": 0,
             "ticks": ""
            },
            "colorscale": [
             [
              0,
              "#0d0887"
             ],
             [
              0.1111111111111111,
              "#46039f"
             ],
             [
              0.2222222222222222,
              "#7201a8"
             ],
             [
              0.3333333333333333,
              "#9c179e"
             ],
             [
              0.4444444444444444,
              "#bd3786"
             ],
             [
              0.5555555555555556,
              "#d8576b"
             ],
             [
              0.6666666666666666,
              "#ed7953"
             ],
             [
              0.7777777777777778,
              "#fb9f3a"
             ],
             [
              0.8888888888888888,
              "#fdca26"
             ],
             [
              1,
              "#f0f921"
             ]
            ],
            "type": "contour"
           }
          ],
          "contourcarpet": [
           {
            "colorbar": {
             "outlinewidth": 0,
             "ticks": ""
            },
            "type": "contourcarpet"
           }
          ],
          "heatmap": [
           {
            "colorbar": {
             "outlinewidth": 0,
             "ticks": ""
            },
            "colorscale": [
             [
              0,
              "#0d0887"
             ],
             [
              0.1111111111111111,
              "#46039f"
             ],
             [
              0.2222222222222222,
              "#7201a8"
             ],
             [
              0.3333333333333333,
              "#9c179e"
             ],
             [
              0.4444444444444444,
              "#bd3786"
             ],
             [
              0.5555555555555556,
              "#d8576b"
             ],
             [
              0.6666666666666666,
              "#ed7953"
             ],
             [
              0.7777777777777778,
              "#fb9f3a"
             ],
             [
              0.8888888888888888,
              "#fdca26"
             ],
             [
              1,
              "#f0f921"
             ]
            ],
            "type": "heatmap"
           }
          ],
          "histogram": [
           {
            "marker": {
             "pattern": {
              "fillmode": "overlay",
              "size": 10,
              "solidity": 0.2
             }
            },
            "type": "histogram"
           }
          ],
          "histogram2d": [
           {
            "colorbar": {
             "outlinewidth": 0,
             "ticks": ""
            },
            "colorscale": [
             [
              0,
              "#0d0887"
             ],
             [
              0.1111111111111111,
              "#46039f"
             ],
             [
              0.2222222222222222,
              "#7201a8"
             ],
             [
              0.3333333333333333,
              "#9c179e"
             ],
             [
              0.4444444444444444,
              "#bd3786"
             ],
             [
              0.5555555555555556,
              "#d8576b"
             ],
             [
              0.6666666666666666,
              "#ed7953"
             ],
             [
              0.7777777777777778,
              "#fb9f3a"
             ],
             [
              0.8888888888888888,
              "#fdca26"
             ],
             [
              1,
              "#f0f921"
             ]
            ],
            "type": "histogram2d"
           }
          ],
          "histogram2dcontour": [
           {
            "colorbar": {
             "outlinewidth": 0,
             "ticks": ""
            },
            "colorscale": [
             [
              0,
              "#0d0887"
             ],
             [
              0.1111111111111111,
              "#46039f"
             ],
             [
              0.2222222222222222,
              "#7201a8"
             ],
             [
              0.3333333333333333,
              "#9c179e"
             ],
             [
              0.4444444444444444,
              "#bd3786"
             ],
             [
              0.5555555555555556,
              "#d8576b"
             ],
             [
              0.6666666666666666,
              "#ed7953"
             ],
             [
              0.7777777777777778,
              "#fb9f3a"
             ],
             [
              0.8888888888888888,
              "#fdca26"
             ],
             [
              1,
              "#f0f921"
             ]
            ],
            "type": "histogram2dcontour"
           }
          ],
          "mesh3d": [
           {
            "colorbar": {
             "outlinewidth": 0,
             "ticks": ""
            },
            "type": "mesh3d"
           }
          ],
          "parcoords": [
           {
            "line": {
             "colorbar": {
              "outlinewidth": 0,
              "ticks": ""
             }
            },
            "type": "parcoords"
           }
          ],
          "pie": [
           {
            "automargin": true,
            "type": "pie"
           }
          ],
          "scatter": [
           {
            "fillpattern": {
             "fillmode": "overlay",
             "size": 10,
             "solidity": 0.2
            },
            "type": "scatter"
           }
          ],
          "scatter3d": [
           {
            "line": {
             "colorbar": {
              "outlinewidth": 0,
              "ticks": ""
             }
            },
            "marker": {
             "colorbar": {
              "outlinewidth": 0,
              "ticks": ""
             }
            },
            "type": "scatter3d"
           }
          ],
          "scattercarpet": [
           {
            "marker": {
             "colorbar": {
              "outlinewidth": 0,
              "ticks": ""
             }
            },
            "type": "scattercarpet"
           }
          ],
          "scattergeo": [
           {
            "marker": {
             "colorbar": {
              "outlinewidth": 0,
              "ticks": ""
             }
            },
            "type": "scattergeo"
           }
          ],
          "scattergl": [
           {
            "marker": {
             "colorbar": {
              "outlinewidth": 0,
              "ticks": ""
             }
            },
            "type": "scattergl"
           }
          ],
          "scattermap": [
           {
            "marker": {
             "colorbar": {
              "outlinewidth": 0,
              "ticks": ""
             }
            },
            "type": "scattermap"
           }
          ],
          "scattermapbox": [
           {
            "marker": {
             "colorbar": {
              "outlinewidth": 0,
              "ticks": ""
             }
            },
            "type": "scattermapbox"
           }
          ],
          "scatterpolar": [
           {
            "marker": {
             "colorbar": {
              "outlinewidth": 0,
              "ticks": ""
             }
            },
            "type": "scatterpolar"
           }
          ],
          "scatterpolargl": [
           {
            "marker": {
             "colorbar": {
              "outlinewidth": 0,
              "ticks": ""
             }
            },
            "type": "scatterpolargl"
           }
          ],
          "scatterternary": [
           {
            "marker": {
             "colorbar": {
              "outlinewidth": 0,
              "ticks": ""
             }
            },
            "type": "scatterternary"
           }
          ],
          "surface": [
           {
            "colorbar": {
             "outlinewidth": 0,
             "ticks": ""
            },
            "colorscale": [
             [
              0,
              "#0d0887"
             ],
             [
              0.1111111111111111,
              "#46039f"
             ],
             [
              0.2222222222222222,
              "#7201a8"
             ],
             [
              0.3333333333333333,
              "#9c179e"
             ],
             [
              0.4444444444444444,
              "#bd3786"
             ],
             [
              0.5555555555555556,
              "#d8576b"
             ],
             [
              0.6666666666666666,
              "#ed7953"
             ],
             [
              0.7777777777777778,
              "#fb9f3a"
             ],
             [
              0.8888888888888888,
              "#fdca26"
             ],
             [
              1,
              "#f0f921"
             ]
            ],
            "type": "surface"
           }
          ],
          "table": [
           {
            "cells": {
             "fill": {
              "color": "#EBF0F8"
             },
             "line": {
              "color": "white"
             }
            },
            "header": {
             "fill": {
              "color": "#C8D4E3"
             },
             "line": {
              "color": "white"
             }
            },
            "type": "table"
           }
          ]
         },
         "layout": {
          "annotationdefaults": {
           "arrowcolor": "#2a3f5f",
           "arrowhead": 0,
           "arrowwidth": 1
          },
          "autotypenumbers": "strict",
          "coloraxis": {
           "colorbar": {
            "outlinewidth": 0,
            "ticks": ""
           }
          },
          "colorscale": {
           "diverging": [
            [
             0,
             "#8e0152"
            ],
            [
             0.1,
             "#c51b7d"
            ],
            [
             0.2,
             "#de77ae"
            ],
            [
             0.3,
             "#f1b6da"
            ],
            [
             0.4,
             "#fde0ef"
            ],
            [
             0.5,
             "#f7f7f7"
            ],
            [
             0.6,
             "#e6f5d0"
            ],
            [
             0.7,
             "#b8e186"
            ],
            [
             0.8,
             "#7fbc41"
            ],
            [
             0.9,
             "#4d9221"
            ],
            [
             1,
             "#276419"
            ]
           ],
           "sequential": [
            [
             0,
             "#0d0887"
            ],
            [
             0.1111111111111111,
             "#46039f"
            ],
            [
             0.2222222222222222,
             "#7201a8"
            ],
            [
             0.3333333333333333,
             "#9c179e"
            ],
            [
             0.4444444444444444,
             "#bd3786"
            ],
            [
             0.5555555555555556,
             "#d8576b"
            ],
            [
             0.6666666666666666,
             "#ed7953"
            ],
            [
             0.7777777777777778,
             "#fb9f3a"
            ],
            [
             0.8888888888888888,
             "#fdca26"
            ],
            [
             1,
             "#f0f921"
            ]
           ],
           "sequentialminus": [
            [
             0,
             "#0d0887"
            ],
            [
             0.1111111111111111,
             "#46039f"
            ],
            [
             0.2222222222222222,
             "#7201a8"
            ],
            [
             0.3333333333333333,
             "#9c179e"
            ],
            [
             0.4444444444444444,
             "#bd3786"
            ],
            [
             0.5555555555555556,
             "#d8576b"
            ],
            [
             0.6666666666666666,
             "#ed7953"
            ],
            [
             0.7777777777777778,
             "#fb9f3a"
            ],
            [
             0.8888888888888888,
             "#fdca26"
            ],
            [
             1,
             "#f0f921"
            ]
           ]
          },
          "colorway": [
           "#636efa",
           "#EF553B",
           "#00cc96",
           "#ab63fa",
           "#FFA15A",
           "#19d3f3",
           "#FF6692",
           "#B6E880",
           "#FF97FF",
           "#FECB52"
          ],
          "font": {
           "color": "#2a3f5f"
          },
          "geo": {
           "bgcolor": "white",
           "lakecolor": "white",
           "landcolor": "#E5ECF6",
           "showlakes": true,
           "showland": true,
           "subunitcolor": "white"
          },
          "hoverlabel": {
           "align": "left"
          },
          "hovermode": "closest",
          "mapbox": {
           "style": "light"
          },
          "paper_bgcolor": "white",
          "plot_bgcolor": "#E5ECF6",
          "polar": {
           "angularaxis": {
            "gridcolor": "white",
            "linecolor": "white",
            "ticks": ""
           },
           "bgcolor": "#E5ECF6",
           "radialaxis": {
            "gridcolor": "white",
            "linecolor": "white",
            "ticks": ""
           }
          },
          "scene": {
           "xaxis": {
            "backgroundcolor": "#E5ECF6",
            "gridcolor": "white",
            "gridwidth": 2,
            "linecolor": "white",
            "showbackground": true,
            "ticks": "",
            "zerolinecolor": "white"
           },
           "yaxis": {
            "backgroundcolor": "#E5ECF6",
            "gridcolor": "white",
            "gridwidth": 2,
            "linecolor": "white",
            "showbackground": true,
            "ticks": "",
            "zerolinecolor": "white"
           },
           "zaxis": {
            "backgroundcolor": "#E5ECF6",
            "gridcolor": "white",
            "gridwidth": 2,
            "linecolor": "white",
            "showbackground": true,
            "ticks": "",
            "zerolinecolor": "white"
           }
          },
          "shapedefaults": {
           "line": {
            "color": "#2a3f5f"
           }
          },
          "ternary": {
           "aaxis": {
            "gridcolor": "white",
            "linecolor": "white",
            "ticks": ""
           },
           "baxis": {
            "gridcolor": "white",
            "linecolor": "white",
            "ticks": ""
           },
           "bgcolor": "#E5ECF6",
           "caxis": {
            "gridcolor": "white",
            "linecolor": "white",
            "ticks": ""
           }
          },
          "title": {
           "x": 0.05
          },
          "xaxis": {
           "automargin": true,
           "gridcolor": "white",
           "linecolor": "white",
           "ticks": "",
           "title": {
            "standoff": 15
           },
           "zerolinecolor": "white",
           "zerolinewidth": 2
          },
          "yaxis": {
           "automargin": true,
           "gridcolor": "white",
           "linecolor": "white",
           "ticks": "",
           "title": {
            "standoff": 15
           },
           "zerolinecolor": "white",
           "zerolinewidth": 2
          }
         }
        },
        "title": {
         "text": "Distribution of Datasets per Variable"
        },
        "width": 800
       }
      },
      "text/html": [
       "<div>            <script src=\"https://cdnjs.cloudflare.com/ajax/libs/mathjax/2.7.5/MathJax.js?config=TeX-AMS-MML_SVG\"></script><script type=\"text/javascript\">if (window.MathJax && window.MathJax.Hub && window.MathJax.Hub.Config) {window.MathJax.Hub.Config({SVG: {font: \"STIX-Web\"}});}</script>                <script type=\"text/javascript\">window.PlotlyConfig = {MathJaxConfig: 'local'};</script>\n",
       "        <script charset=\"utf-8\" src=\"https://cdn.plot.ly/plotly-3.0.1.min.js\"></script>                <div id=\"39c656a3-071a-4575-a4d5-930d12e26094\" class=\"plotly-graph-div\" style=\"height:700px; width:800px;\"></div>            <script type=\"text/javascript\">                window.PLOTLYENV=window.PLOTLYENV || {};                                if (document.getElementById(\"39c656a3-071a-4575-a4d5-930d12e26094\")) {                    Plotly.newPlot(                        \"39c656a3-071a-4575-a4d5-930d12e26094\",                        [{\"labels\":[\"CT\",\"PET-CT\"],\"textinfo\":\"label+value\",\"textposition\":\"inside\",\"values\":{\"dtype\":\"i1\",\"bdata\":\"DAI=\"},\"type\":\"pie\",\"domain\":{\"x\":[0.0,0.2888888888888889],\"y\":[0.625,1.0]}},{\"labels\":[\"Abdomen\",\"Thorax\",\"Whole-body\",\"Head-and-neck\",\"Thorax (mediastinum)\",\"Abdomen, Thorax (mediastinum)\"],\"textinfo\":\"label+value\",\"textposition\":\"inside\",\"values\":{\"dtype\":\"i1\",\"bdata\":\"CAIBAQEB\"},\"type\":\"pie\",\"domain\":{\"x\":[0.35555555555555557,0.6444444444444445],\"y\":[0.625,1.0]}},{\"labels\":[\"Liver\",\"Lung\",\"Kidney\",\"Lymph nodes\",\"Lymph nodes, Lung, Skin\",\"Pancreas\",\"Colon\",\"Adrenal glands\",\"Brain\"],\"textinfo\":\"label+value\",\"textposition\":\"inside\",\"values\":{\"dtype\":\"i1\",\"bdata\":\"AwICAgEBAQEB\"},\"type\":\"pie\",\"domain\":{\"x\":[0.7111111111111111,1.0],\"y\":[0.625,1.0]}},{\"labels\":[\"NIfTI\",\"DICOM\",\"DICOM, NIfTI\"],\"textinfo\":\"label+value\",\"textposition\":\"inside\",\"values\":{\"dtype\":\"i1\",\"bdata\":\"BwYB\"},\"type\":\"pie\",\"domain\":{\"x\":[0.0,0.2888888888888889],\"y\":[0.0,0.375]}},{\"labels\":[\"No\",\"Yes\"],\"textinfo\":\"label+value\",\"textposition\":\"inside\",\"values\":{\"dtype\":\"i1\",\"bdata\":\"DAI=\"},\"type\":\"pie\",\"domain\":{\"x\":[0.35555555555555557,0.6444444444444445],\"y\":[0.0,0.375]}},{\"labels\":[\"CC BY-SA 4.0\",\"CC BY 4.0\",\"TCIA Restricted\",\"CC BY-NC 3.0\",\"CC BY-NC-ND\",\"CC BY-NC-SA 4.0\",\"CC BY 3.0\"],\"textinfo\":\"label+value\",\"textposition\":\"inside\",\"values\":{\"dtype\":\"i1\",\"bdata\":\"BQMCAQEBAQ==\"},\"type\":\"pie\",\"domain\":{\"x\":[0.7111111111111111,1.0],\"y\":[0.0,0.375]}}],                        {\"template\":{\"data\":{\"histogram2dcontour\":[{\"type\":\"histogram2dcontour\",\"colorbar\":{\"outlinewidth\":0,\"ticks\":\"\"},\"colorscale\":[[0.0,\"#0d0887\"],[0.1111111111111111,\"#46039f\"],[0.2222222222222222,\"#7201a8\"],[0.3333333333333333,\"#9c179e\"],[0.4444444444444444,\"#bd3786\"],[0.5555555555555556,\"#d8576b\"],[0.6666666666666666,\"#ed7953\"],[0.7777777777777778,\"#fb9f3a\"],[0.8888888888888888,\"#fdca26\"],[1.0,\"#f0f921\"]]}],\"choropleth\":[{\"type\":\"choropleth\",\"colorbar\":{\"outlinewidth\":0,\"ticks\":\"\"}}],\"histogram2d\":[{\"type\":\"histogram2d\",\"colorbar\":{\"outlinewidth\":0,\"ticks\":\"\"},\"colorscale\":[[0.0,\"#0d0887\"],[0.1111111111111111,\"#46039f\"],[0.2222222222222222,\"#7201a8\"],[0.3333333333333333,\"#9c179e\"],[0.4444444444444444,\"#bd3786\"],[0.5555555555555556,\"#d8576b\"],[0.6666666666666666,\"#ed7953\"],[0.7777777777777778,\"#fb9f3a\"],[0.8888888888888888,\"#fdca26\"],[1.0,\"#f0f921\"]]}],\"heatmap\":[{\"type\":\"heatmap\",\"colorbar\":{\"outlinewidth\":0,\"ticks\":\"\"},\"colorscale\":[[0.0,\"#0d0887\"],[0.1111111111111111,\"#46039f\"],[0.2222222222222222,\"#7201a8\"],[0.3333333333333333,\"#9c179e\"],[0.4444444444444444,\"#bd3786\"],[0.5555555555555556,\"#d8576b\"],[0.6666666666666666,\"#ed7953\"],[0.7777777777777778,\"#fb9f3a\"],[0.8888888888888888,\"#fdca26\"],[1.0,\"#f0f921\"]]}],\"contourcarpet\":[{\"type\":\"contourcarpet\",\"colorbar\":{\"outlinewidth\":0,\"ticks\":\"\"}}],\"contour\":[{\"type\":\"contour\",\"colorbar\":{\"outlinewidth\":0,\"ticks\":\"\"},\"colorscale\":[[0.0,\"#0d0887\"],[0.1111111111111111,\"#46039f\"],[0.2222222222222222,\"#7201a8\"],[0.3333333333333333,\"#9c179e\"],[0.4444444444444444,\"#bd3786\"],[0.5555555555555556,\"#d8576b\"],[0.6666666666666666,\"#ed7953\"],[0.7777777777777778,\"#fb9f3a\"],[0.8888888888888888,\"#fdca26\"],[1.0,\"#f0f921\"]]}],\"surface\":[{\"type\":\"surface\",\"colorbar\":{\"outlinewidth\":0,\"ticks\":\"\"},\"colorscale\":[[0.0,\"#0d0887\"],[0.1111111111111111,\"#46039f\"],[0.2222222222222222,\"#7201a8\"],[0.3333333333333333,\"#9c179e\"],[0.4444444444444444,\"#bd3786\"],[0.5555555555555556,\"#d8576b\"],[0.6666666666666666,\"#ed7953\"],[0.7777777777777778,\"#fb9f3a\"],[0.8888888888888888,\"#fdca26\"],[1.0,\"#f0f921\"]]}],\"mesh3d\":[{\"type\":\"mesh3d\",\"colorbar\":{\"outlinewidth\":0,\"ticks\":\"\"}}],\"scatter\":[{\"fillpattern\":{\"fillmode\":\"overlay\",\"size\":10,\"solidity\":0.2},\"type\":\"scatter\"}],\"parcoords\":[{\"type\":\"parcoords\",\"line\":{\"colorbar\":{\"outlinewidth\":0,\"ticks\":\"\"}}}],\"scatterpolargl\":[{\"type\":\"scatterpolargl\",\"marker\":{\"colorbar\":{\"outlinewidth\":0,\"ticks\":\"\"}}}],\"bar\":[{\"error_x\":{\"color\":\"#2a3f5f\"},\"error_y\":{\"color\":\"#2a3f5f\"},\"marker\":{\"line\":{\"color\":\"#E5ECF6\",\"width\":0.5},\"pattern\":{\"fillmode\":\"overlay\",\"size\":10,\"solidity\":0.2}},\"type\":\"bar\"}],\"scattergeo\":[{\"type\":\"scattergeo\",\"marker\":{\"colorbar\":{\"outlinewidth\":0,\"ticks\":\"\"}}}],\"scatterpolar\":[{\"type\":\"scatterpolar\",\"marker\":{\"colorbar\":{\"outlinewidth\":0,\"ticks\":\"\"}}}],\"histogram\":[{\"marker\":{\"pattern\":{\"fillmode\":\"overlay\",\"size\":10,\"solidity\":0.2}},\"type\":\"histogram\"}],\"scattergl\":[{\"type\":\"scattergl\",\"marker\":{\"colorbar\":{\"outlinewidth\":0,\"ticks\":\"\"}}}],\"scatter3d\":[{\"type\":\"scatter3d\",\"line\":{\"colorbar\":{\"outlinewidth\":0,\"ticks\":\"\"}},\"marker\":{\"colorbar\":{\"outlinewidth\":0,\"ticks\":\"\"}}}],\"scattermap\":[{\"type\":\"scattermap\",\"marker\":{\"colorbar\":{\"outlinewidth\":0,\"ticks\":\"\"}}}],\"scattermapbox\":[{\"type\":\"scattermapbox\",\"marker\":{\"colorbar\":{\"outlinewidth\":0,\"ticks\":\"\"}}}],\"scatterternary\":[{\"type\":\"scatterternary\",\"marker\":{\"colorbar\":{\"outlinewidth\":0,\"ticks\":\"\"}}}],\"scattercarpet\":[{\"type\":\"scattercarpet\",\"marker\":{\"colorbar\":{\"outlinewidth\":0,\"ticks\":\"\"}}}],\"carpet\":[{\"aaxis\":{\"endlinecolor\":\"#2a3f5f\",\"gridcolor\":\"white\",\"linecolor\":\"white\",\"minorgridcolor\":\"white\",\"startlinecolor\":\"#2a3f5f\"},\"baxis\":{\"endlinecolor\":\"#2a3f5f\",\"gridcolor\":\"white\",\"linecolor\":\"white\",\"minorgridcolor\":\"white\",\"startlinecolor\":\"#2a3f5f\"},\"type\":\"carpet\"}],\"table\":[{\"cells\":{\"fill\":{\"color\":\"#EBF0F8\"},\"line\":{\"color\":\"white\"}},\"header\":{\"fill\":{\"color\":\"#C8D4E3\"},\"line\":{\"color\":\"white\"}},\"type\":\"table\"}],\"barpolar\":[{\"marker\":{\"line\":{\"color\":\"#E5ECF6\",\"width\":0.5},\"pattern\":{\"fillmode\":\"overlay\",\"size\":10,\"solidity\":0.2}},\"type\":\"barpolar\"}],\"pie\":[{\"automargin\":true,\"type\":\"pie\"}]},\"layout\":{\"autotypenumbers\":\"strict\",\"colorway\":[\"#636efa\",\"#EF553B\",\"#00cc96\",\"#ab63fa\",\"#FFA15A\",\"#19d3f3\",\"#FF6692\",\"#B6E880\",\"#FF97FF\",\"#FECB52\"],\"font\":{\"color\":\"#2a3f5f\"},\"hovermode\":\"closest\",\"hoverlabel\":{\"align\":\"left\"},\"paper_bgcolor\":\"white\",\"plot_bgcolor\":\"#E5ECF6\",\"polar\":{\"bgcolor\":\"#E5ECF6\",\"angularaxis\":{\"gridcolor\":\"white\",\"linecolor\":\"white\",\"ticks\":\"\"},\"radialaxis\":{\"gridcolor\":\"white\",\"linecolor\":\"white\",\"ticks\":\"\"}},\"ternary\":{\"bgcolor\":\"#E5ECF6\",\"aaxis\":{\"gridcolor\":\"white\",\"linecolor\":\"white\",\"ticks\":\"\"},\"baxis\":{\"gridcolor\":\"white\",\"linecolor\":\"white\",\"ticks\":\"\"},\"caxis\":{\"gridcolor\":\"white\",\"linecolor\":\"white\",\"ticks\":\"\"}},\"coloraxis\":{\"colorbar\":{\"outlinewidth\":0,\"ticks\":\"\"}},\"colorscale\":{\"sequential\":[[0.0,\"#0d0887\"],[0.1111111111111111,\"#46039f\"],[0.2222222222222222,\"#7201a8\"],[0.3333333333333333,\"#9c179e\"],[0.4444444444444444,\"#bd3786\"],[0.5555555555555556,\"#d8576b\"],[0.6666666666666666,\"#ed7953\"],[0.7777777777777778,\"#fb9f3a\"],[0.8888888888888888,\"#fdca26\"],[1.0,\"#f0f921\"]],\"sequentialminus\":[[0.0,\"#0d0887\"],[0.1111111111111111,\"#46039f\"],[0.2222222222222222,\"#7201a8\"],[0.3333333333333333,\"#9c179e\"],[0.4444444444444444,\"#bd3786\"],[0.5555555555555556,\"#d8576b\"],[0.6666666666666666,\"#ed7953\"],[0.7777777777777778,\"#fb9f3a\"],[0.8888888888888888,\"#fdca26\"],[1.0,\"#f0f921\"]],\"diverging\":[[0,\"#8e0152\"],[0.1,\"#c51b7d\"],[0.2,\"#de77ae\"],[0.3,\"#f1b6da\"],[0.4,\"#fde0ef\"],[0.5,\"#f7f7f7\"],[0.6,\"#e6f5d0\"],[0.7,\"#b8e186\"],[0.8,\"#7fbc41\"],[0.9,\"#4d9221\"],[1,\"#276419\"]]},\"xaxis\":{\"gridcolor\":\"white\",\"linecolor\":\"white\",\"ticks\":\"\",\"title\":{\"standoff\":15},\"zerolinecolor\":\"white\",\"automargin\":true,\"zerolinewidth\":2},\"yaxis\":{\"gridcolor\":\"white\",\"linecolor\":\"white\",\"ticks\":\"\",\"title\":{\"standoff\":15},\"zerolinecolor\":\"white\",\"automargin\":true,\"zerolinewidth\":2},\"scene\":{\"xaxis\":{\"backgroundcolor\":\"#E5ECF6\",\"gridcolor\":\"white\",\"linecolor\":\"white\",\"showbackground\":true,\"ticks\":\"\",\"zerolinecolor\":\"white\",\"gridwidth\":2},\"yaxis\":{\"backgroundcolor\":\"#E5ECF6\",\"gridcolor\":\"white\",\"linecolor\":\"white\",\"showbackground\":true,\"ticks\":\"\",\"zerolinecolor\":\"white\",\"gridwidth\":2},\"zaxis\":{\"backgroundcolor\":\"#E5ECF6\",\"gridcolor\":\"white\",\"linecolor\":\"white\",\"showbackground\":true,\"ticks\":\"\",\"zerolinecolor\":\"white\",\"gridwidth\":2}},\"shapedefaults\":{\"line\":{\"color\":\"#2a3f5f\"}},\"annotationdefaults\":{\"arrowcolor\":\"#2a3f5f\",\"arrowhead\":0,\"arrowwidth\":1},\"geo\":{\"bgcolor\":\"white\",\"landcolor\":\"#E5ECF6\",\"subunitcolor\":\"white\",\"showland\":true,\"showlakes\":true,\"lakecolor\":\"white\"},\"title\":{\"x\":0.05},\"mapbox\":{\"style\":\"light\"}}},\"annotations\":[{\"font\":{\"size\":16},\"showarrow\":false,\"text\":\"Modality\",\"x\":0.14444444444444446,\"xanchor\":\"center\",\"xref\":\"paper\",\"y\":1.0,\"yanchor\":\"bottom\",\"yref\":\"paper\"},{\"font\":{\"size\":16},\"showarrow\":false,\"text\":\"Anatomical region\",\"x\":0.5,\"xanchor\":\"center\",\"xref\":\"paper\",\"y\":1.0,\"yanchor\":\"bottom\",\"yref\":\"paper\"},{\"font\":{\"size\":16},\"showarrow\":false,\"text\":\"Affected organ\",\"x\":0.8555555555555556,\"xanchor\":\"center\",\"xref\":\"paper\",\"y\":1.0,\"yanchor\":\"bottom\",\"yref\":\"paper\"},{\"font\":{\"size\":16},\"showarrow\":false,\"text\":\"File format\",\"x\":0.14444444444444446,\"xanchor\":\"center\",\"xref\":\"paper\",\"y\":0.375,\"yanchor\":\"bottom\",\"yref\":\"paper\"},{\"font\":{\"size\":16},\"showarrow\":false,\"text\":\"Multicentric data\",\"x\":0.5,\"xanchor\":\"center\",\"xref\":\"paper\",\"y\":0.375,\"yanchor\":\"bottom\",\"yref\":\"paper\"},{\"font\":{\"size\":16},\"showarrow\":false,\"text\":\"License\",\"x\":0.8555555555555556,\"xanchor\":\"center\",\"xref\":\"paper\",\"y\":0.375,\"yanchor\":\"bottom\",\"yref\":\"paper\"}],\"title\":{\"text\":\"Distribution of Datasets per Variable\"},\"height\":700,\"width\":800,\"showlegend\":false},                        {\"responsive\": true}                    ).then(function(){\n",
       "                            \n",
       "var gd = document.getElementById('39c656a3-071a-4575-a4d5-930d12e26094');\n",
       "var x = new MutationObserver(function (mutations, observer) {{\n",
       "        var display = window.getComputedStyle(gd).display;\n",
       "        if (!display || display === 'none') {{\n",
       "            console.log([gd, 'removed!']);\n",
       "            Plotly.purge(gd);\n",
       "            observer.disconnect();\n",
       "        }}\n",
       "}});\n",
       "\n",
       "// Listen for the removal of the full notebook cells\n",
       "var notebookContainer = gd.closest('#notebook-container');\n",
       "if (notebookContainer) {{\n",
       "    x.observe(notebookContainer, {childList: true});\n",
       "}}\n",
       "\n",
       "// Listen for the clearing of the current output cell\n",
       "var outputEl = gd.closest('.output');\n",
       "if (outputEl) {{\n",
       "    x.observe(outputEl, {childList: true});\n",
       "}}\n",
       "\n",
       "                        })                };            </script>        </div>"
      ]
     },
     "metadata": {},
     "output_type": "display_data"
    }
   ],
   "source": [
    "# Distribution of Datasets per Variable\n",
    "columns = [\n",
    "    'Modality',\n",
    "    'Anatomical region',\n",
    "    'Affected organ',\n",
    "    'File format',\n",
    "    'Multicentric data',\n",
    "    'License'\n",
    "]\n",
    "# Create subplot grid: 2 rows × 3 columns\n",
    "fig = make_subplots(\n",
    "    rows=2, cols=3,\n",
    "    specs=[[{'type':'domain'}]*3]*2,  # 'domain' is needed for pie charts\n",
    "    subplot_titles=columns\n",
    ")\n",
    "row, col = 1, 1\n",
    "for i, column in enumerate(columns):\n",
    "    counts = table_df[column].value_counts().reset_index(name='counts')\n",
    "    fig.add_trace(\n",
    "        go.Pie(\n",
    "            labels=counts[column],\n",
    "            values=counts['counts'],\n",
    "            textinfo='label+value',\n",
    "            textposition='inside'\n",
    "        ),\n",
    "        row=row,\n",
    "        col=col\n",
    "    )\n",
    "    col += 1\n",
    "    if col > 3:\n",
    "        col = 1\n",
    "        row += 1\n",
    "\n",
    "fig.update_layout(\n",
    "    height=700,\n",
    "    width=800,\n",
    "    title_text=\"Distribution of Datasets per Variable\",\n",
    "    showlegend=False\n",
    ")\n",
    "fig.show()"
   ]
  },
  {
   "cell_type": "code",
   "execution_count": 16,
   "id": "dda3e0b4-9025-4593-9a0b-18fb09f5c9e1",
   "metadata": {},
   "outputs": [
    {
     "data": {
      "application/vnd.plotly.v1+json": {
       "config": {
        "plotlyServerURL": "https://plot.ly"
       },
       "data": [
        {
         "domain": {
          "x": [
           0,
           0.45
          ],
          "y": [
           0.625,
           1
          ]
         },
         "labels": [
          "Reported",
          "Not Reported"
         ],
         "textinfo": "label+value",
         "textposition": "inside",
         "type": "pie",
         "values": {
          "bdata": "CQU=",
          "dtype": "i1"
         }
        },
        {
         "domain": {
          "x": [
           0.55,
           1
          ],
          "y": [
           0.625,
           1
          ]
         },
         "labels": [
          "Not Reported",
          "Reported"
         ],
         "textinfo": "label+value",
         "textposition": "inside",
         "type": "pie",
         "values": {
          "bdata": "CAY=",
          "dtype": "i1"
         }
        },
        {
         "domain": {
          "x": [
           0,
           0.45
          ],
          "y": [
           0,
           0.375
          ]
         },
         "labels": [
          "Reported",
          "Not Reported"
         ],
         "textinfo": "label+value",
         "textposition": "inside",
         "type": "pie",
         "values": {
          "bdata": "Bwc=",
          "dtype": "i1"
         }
        },
        {
         "domain": {
          "x": [
           0.55,
           1
          ],
          "y": [
           0,
           0.375
          ]
         },
         "labels": [
          "Not Reported",
          "Reported"
         ],
         "textinfo": "label+value",
         "textposition": "inside",
         "type": "pie",
         "values": {
          "bdata": "DAI=",
          "dtype": "i1"
         }
        }
       ],
       "layout": {
        "annotations": [
         {
          "font": {
           "size": 16
          },
          "showarrow": false,
          "text": "Primary diagnosis",
          "x": 0.225,
          "xanchor": "center",
          "xref": "paper",
          "y": 1,
          "yanchor": "bottom",
          "yref": "paper"
         },
         {
          "font": {
           "size": 16
          },
          "showarrow": false,
          "text": "Age",
          "x": 0.775,
          "xanchor": "center",
          "xref": "paper",
          "y": 1,
          "yanchor": "bottom",
          "yref": "paper"
         },
         {
          "font": {
           "size": 16
          },
          "showarrow": false,
          "text": "Sex",
          "x": 0.225,
          "xanchor": "center",
          "xref": "paper",
          "y": 0.375,
          "yanchor": "bottom",
          "yref": "paper"
         },
         {
          "font": {
           "size": 16
          },
          "showarrow": false,
          "text": "Race/Ethnicity",
          "x": 0.775,
          "xanchor": "center",
          "xref": "paper",
          "y": 0.375,
          "yanchor": "bottom",
          "yref": "paper"
         }
        ],
        "height": 700,
        "showlegend": false,
        "template": {
         "data": {
          "bar": [
           {
            "error_x": {
             "color": "#2a3f5f"
            },
            "error_y": {
             "color": "#2a3f5f"
            },
            "marker": {
             "line": {
              "color": "#E5ECF6",
              "width": 0.5
             },
             "pattern": {
              "fillmode": "overlay",
              "size": 10,
              "solidity": 0.2
             }
            },
            "type": "bar"
           }
          ],
          "barpolar": [
           {
            "marker": {
             "line": {
              "color": "#E5ECF6",
              "width": 0.5
             },
             "pattern": {
              "fillmode": "overlay",
              "size": 10,
              "solidity": 0.2
             }
            },
            "type": "barpolar"
           }
          ],
          "carpet": [
           {
            "aaxis": {
             "endlinecolor": "#2a3f5f",
             "gridcolor": "white",
             "linecolor": "white",
             "minorgridcolor": "white",
             "startlinecolor": "#2a3f5f"
            },
            "baxis": {
             "endlinecolor": "#2a3f5f",
             "gridcolor": "white",
             "linecolor": "white",
             "minorgridcolor": "white",
             "startlinecolor": "#2a3f5f"
            },
            "type": "carpet"
           }
          ],
          "choropleth": [
           {
            "colorbar": {
             "outlinewidth": 0,
             "ticks": ""
            },
            "type": "choropleth"
           }
          ],
          "contour": [
           {
            "colorbar": {
             "outlinewidth": 0,
             "ticks": ""
            },
            "colorscale": [
             [
              0,
              "#0d0887"
             ],
             [
              0.1111111111111111,
              "#46039f"
             ],
             [
              0.2222222222222222,
              "#7201a8"
             ],
             [
              0.3333333333333333,
              "#9c179e"
             ],
             [
              0.4444444444444444,
              "#bd3786"
             ],
             [
              0.5555555555555556,
              "#d8576b"
             ],
             [
              0.6666666666666666,
              "#ed7953"
             ],
             [
              0.7777777777777778,
              "#fb9f3a"
             ],
             [
              0.8888888888888888,
              "#fdca26"
             ],
             [
              1,
              "#f0f921"
             ]
            ],
            "type": "contour"
           }
          ],
          "contourcarpet": [
           {
            "colorbar": {
             "outlinewidth": 0,
             "ticks": ""
            },
            "type": "contourcarpet"
           }
          ],
          "heatmap": [
           {
            "colorbar": {
             "outlinewidth": 0,
             "ticks": ""
            },
            "colorscale": [
             [
              0,
              "#0d0887"
             ],
             [
              0.1111111111111111,
              "#46039f"
             ],
             [
              0.2222222222222222,
              "#7201a8"
             ],
             [
              0.3333333333333333,
              "#9c179e"
             ],
             [
              0.4444444444444444,
              "#bd3786"
             ],
             [
              0.5555555555555556,
              "#d8576b"
             ],
             [
              0.6666666666666666,
              "#ed7953"
             ],
             [
              0.7777777777777778,
              "#fb9f3a"
             ],
             [
              0.8888888888888888,
              "#fdca26"
             ],
             [
              1,
              "#f0f921"
             ]
            ],
            "type": "heatmap"
           }
          ],
          "histogram": [
           {
            "marker": {
             "pattern": {
              "fillmode": "overlay",
              "size": 10,
              "solidity": 0.2
             }
            },
            "type": "histogram"
           }
          ],
          "histogram2d": [
           {
            "colorbar": {
             "outlinewidth": 0,
             "ticks": ""
            },
            "colorscale": [
             [
              0,
              "#0d0887"
             ],
             [
              0.1111111111111111,
              "#46039f"
             ],
             [
              0.2222222222222222,
              "#7201a8"
             ],
             [
              0.3333333333333333,
              "#9c179e"
             ],
             [
              0.4444444444444444,
              "#bd3786"
             ],
             [
              0.5555555555555556,
              "#d8576b"
             ],
             [
              0.6666666666666666,
              "#ed7953"
             ],
             [
              0.7777777777777778,
              "#fb9f3a"
             ],
             [
              0.8888888888888888,
              "#fdca26"
             ],
             [
              1,
              "#f0f921"
             ]
            ],
            "type": "histogram2d"
           }
          ],
          "histogram2dcontour": [
           {
            "colorbar": {
             "outlinewidth": 0,
             "ticks": ""
            },
            "colorscale": [
             [
              0,
              "#0d0887"
             ],
             [
              0.1111111111111111,
              "#46039f"
             ],
             [
              0.2222222222222222,
              "#7201a8"
             ],
             [
              0.3333333333333333,
              "#9c179e"
             ],
             [
              0.4444444444444444,
              "#bd3786"
             ],
             [
              0.5555555555555556,
              "#d8576b"
             ],
             [
              0.6666666666666666,
              "#ed7953"
             ],
             [
              0.7777777777777778,
              "#fb9f3a"
             ],
             [
              0.8888888888888888,
              "#fdca26"
             ],
             [
              1,
              "#f0f921"
             ]
            ],
            "type": "histogram2dcontour"
           }
          ],
          "mesh3d": [
           {
            "colorbar": {
             "outlinewidth": 0,
             "ticks": ""
            },
            "type": "mesh3d"
           }
          ],
          "parcoords": [
           {
            "line": {
             "colorbar": {
              "outlinewidth": 0,
              "ticks": ""
             }
            },
            "type": "parcoords"
           }
          ],
          "pie": [
           {
            "automargin": true,
            "type": "pie"
           }
          ],
          "scatter": [
           {
            "fillpattern": {
             "fillmode": "overlay",
             "size": 10,
             "solidity": 0.2
            },
            "type": "scatter"
           }
          ],
          "scatter3d": [
           {
            "line": {
             "colorbar": {
              "outlinewidth": 0,
              "ticks": ""
             }
            },
            "marker": {
             "colorbar": {
              "outlinewidth": 0,
              "ticks": ""
             }
            },
            "type": "scatter3d"
           }
          ],
          "scattercarpet": [
           {
            "marker": {
             "colorbar": {
              "outlinewidth": 0,
              "ticks": ""
             }
            },
            "type": "scattercarpet"
           }
          ],
          "scattergeo": [
           {
            "marker": {
             "colorbar": {
              "outlinewidth": 0,
              "ticks": ""
             }
            },
            "type": "scattergeo"
           }
          ],
          "scattergl": [
           {
            "marker": {
             "colorbar": {
              "outlinewidth": 0,
              "ticks": ""
             }
            },
            "type": "scattergl"
           }
          ],
          "scattermap": [
           {
            "marker": {
             "colorbar": {
              "outlinewidth": 0,
              "ticks": ""
             }
            },
            "type": "scattermap"
           }
          ],
          "scattermapbox": [
           {
            "marker": {
             "colorbar": {
              "outlinewidth": 0,
              "ticks": ""
             }
            },
            "type": "scattermapbox"
           }
          ],
          "scatterpolar": [
           {
            "marker": {
             "colorbar": {
              "outlinewidth": 0,
              "ticks": ""
             }
            },
            "type": "scatterpolar"
           }
          ],
          "scatterpolargl": [
           {
            "marker": {
             "colorbar": {
              "outlinewidth": 0,
              "ticks": ""
             }
            },
            "type": "scatterpolargl"
           }
          ],
          "scatterternary": [
           {
            "marker": {
             "colorbar": {
              "outlinewidth": 0,
              "ticks": ""
             }
            },
            "type": "scatterternary"
           }
          ],
          "surface": [
           {
            "colorbar": {
             "outlinewidth": 0,
             "ticks": ""
            },
            "colorscale": [
             [
              0,
              "#0d0887"
             ],
             [
              0.1111111111111111,
              "#46039f"
             ],
             [
              0.2222222222222222,
              "#7201a8"
             ],
             [
              0.3333333333333333,
              "#9c179e"
             ],
             [
              0.4444444444444444,
              "#bd3786"
             ],
             [
              0.5555555555555556,
              "#d8576b"
             ],
             [
              0.6666666666666666,
              "#ed7953"
             ],
             [
              0.7777777777777778,
              "#fb9f3a"
             ],
             [
              0.8888888888888888,
              "#fdca26"
             ],
             [
              1,
              "#f0f921"
             ]
            ],
            "type": "surface"
           }
          ],
          "table": [
           {
            "cells": {
             "fill": {
              "color": "#EBF0F8"
             },
             "line": {
              "color": "white"
             }
            },
            "header": {
             "fill": {
              "color": "#C8D4E3"
             },
             "line": {
              "color": "white"
             }
            },
            "type": "table"
           }
          ]
         },
         "layout": {
          "annotationdefaults": {
           "arrowcolor": "#2a3f5f",
           "arrowhead": 0,
           "arrowwidth": 1
          },
          "autotypenumbers": "strict",
          "coloraxis": {
           "colorbar": {
            "outlinewidth": 0,
            "ticks": ""
           }
          },
          "colorscale": {
           "diverging": [
            [
             0,
             "#8e0152"
            ],
            [
             0.1,
             "#c51b7d"
            ],
            [
             0.2,
             "#de77ae"
            ],
            [
             0.3,
             "#f1b6da"
            ],
            [
             0.4,
             "#fde0ef"
            ],
            [
             0.5,
             "#f7f7f7"
            ],
            [
             0.6,
             "#e6f5d0"
            ],
            [
             0.7,
             "#b8e186"
            ],
            [
             0.8,
             "#7fbc41"
            ],
            [
             0.9,
             "#4d9221"
            ],
            [
             1,
             "#276419"
            ]
           ],
           "sequential": [
            [
             0,
             "#0d0887"
            ],
            [
             0.1111111111111111,
             "#46039f"
            ],
            [
             0.2222222222222222,
             "#7201a8"
            ],
            [
             0.3333333333333333,
             "#9c179e"
            ],
            [
             0.4444444444444444,
             "#bd3786"
            ],
            [
             0.5555555555555556,
             "#d8576b"
            ],
            [
             0.6666666666666666,
             "#ed7953"
            ],
            [
             0.7777777777777778,
             "#fb9f3a"
            ],
            [
             0.8888888888888888,
             "#fdca26"
            ],
            [
             1,
             "#f0f921"
            ]
           ],
           "sequentialminus": [
            [
             0,
             "#0d0887"
            ],
            [
             0.1111111111111111,
             "#46039f"
            ],
            [
             0.2222222222222222,
             "#7201a8"
            ],
            [
             0.3333333333333333,
             "#9c179e"
            ],
            [
             0.4444444444444444,
             "#bd3786"
            ],
            [
             0.5555555555555556,
             "#d8576b"
            ],
            [
             0.6666666666666666,
             "#ed7953"
            ],
            [
             0.7777777777777778,
             "#fb9f3a"
            ],
            [
             0.8888888888888888,
             "#fdca26"
            ],
            [
             1,
             "#f0f921"
            ]
           ]
          },
          "colorway": [
           "#636efa",
           "#EF553B",
           "#00cc96",
           "#ab63fa",
           "#FFA15A",
           "#19d3f3",
           "#FF6692",
           "#B6E880",
           "#FF97FF",
           "#FECB52"
          ],
          "font": {
           "color": "#2a3f5f"
          },
          "geo": {
           "bgcolor": "white",
           "lakecolor": "white",
           "landcolor": "#E5ECF6",
           "showlakes": true,
           "showland": true,
           "subunitcolor": "white"
          },
          "hoverlabel": {
           "align": "left"
          },
          "hovermode": "closest",
          "mapbox": {
           "style": "light"
          },
          "paper_bgcolor": "white",
          "plot_bgcolor": "#E5ECF6",
          "polar": {
           "angularaxis": {
            "gridcolor": "white",
            "linecolor": "white",
            "ticks": ""
           },
           "bgcolor": "#E5ECF6",
           "radialaxis": {
            "gridcolor": "white",
            "linecolor": "white",
            "ticks": ""
           }
          },
          "scene": {
           "xaxis": {
            "backgroundcolor": "#E5ECF6",
            "gridcolor": "white",
            "gridwidth": 2,
            "linecolor": "white",
            "showbackground": true,
            "ticks": "",
            "zerolinecolor": "white"
           },
           "yaxis": {
            "backgroundcolor": "#E5ECF6",
            "gridcolor": "white",
            "gridwidth": 2,
            "linecolor": "white",
            "showbackground": true,
            "ticks": "",
            "zerolinecolor": "white"
           },
           "zaxis": {
            "backgroundcolor": "#E5ECF6",
            "gridcolor": "white",
            "gridwidth": 2,
            "linecolor": "white",
            "showbackground": true,
            "ticks": "",
            "zerolinecolor": "white"
           }
          },
          "shapedefaults": {
           "line": {
            "color": "#2a3f5f"
           }
          },
          "ternary": {
           "aaxis": {
            "gridcolor": "white",
            "linecolor": "white",
            "ticks": ""
           },
           "baxis": {
            "gridcolor": "white",
            "linecolor": "white",
            "ticks": ""
           },
           "bgcolor": "#E5ECF6",
           "caxis": {
            "gridcolor": "white",
            "linecolor": "white",
            "ticks": ""
           }
          },
          "title": {
           "x": 0.05
          },
          "xaxis": {
           "automargin": true,
           "gridcolor": "white",
           "linecolor": "white",
           "ticks": "",
           "title": {
            "standoff": 15
           },
           "zerolinecolor": "white",
           "zerolinewidth": 2
          },
          "yaxis": {
           "automargin": true,
           "gridcolor": "white",
           "linecolor": "white",
           "ticks": "",
           "title": {
            "standoff": 15
           },
           "zerolinecolor": "white",
           "zerolinewidth": 2
          }
         }
        },
        "title": {
         "text": "Datasets Reporting Clinical and Demographic Variables"
        },
        "width": 800
       }
      },
      "text/html": [
       "<div>            <script src=\"https://cdnjs.cloudflare.com/ajax/libs/mathjax/2.7.5/MathJax.js?config=TeX-AMS-MML_SVG\"></script><script type=\"text/javascript\">if (window.MathJax && window.MathJax.Hub && window.MathJax.Hub.Config) {window.MathJax.Hub.Config({SVG: {font: \"STIX-Web\"}});}</script>                <script type=\"text/javascript\">window.PlotlyConfig = {MathJaxConfig: 'local'};</script>\n",
       "        <script charset=\"utf-8\" src=\"https://cdn.plot.ly/plotly-3.0.1.min.js\"></script>                <div id=\"ca7f62e5-1251-4999-8a6d-777f59cf79b7\" class=\"plotly-graph-div\" style=\"height:700px; width:800px;\"></div>            <script type=\"text/javascript\">                window.PLOTLYENV=window.PLOTLYENV || {};                                if (document.getElementById(\"ca7f62e5-1251-4999-8a6d-777f59cf79b7\")) {                    Plotly.newPlot(                        \"ca7f62e5-1251-4999-8a6d-777f59cf79b7\",                        [{\"labels\":[\"Reported\",\"Not Reported\"],\"textinfo\":\"label+value\",\"textposition\":\"inside\",\"values\":{\"dtype\":\"i1\",\"bdata\":\"CQU=\"},\"type\":\"pie\",\"domain\":{\"x\":[0.0,0.45],\"y\":[0.625,1.0]}},{\"labels\":[\"Not Reported\",\"Reported\"],\"textinfo\":\"label+value\",\"textposition\":\"inside\",\"values\":{\"dtype\":\"i1\",\"bdata\":\"CAY=\"},\"type\":\"pie\",\"domain\":{\"x\":[0.55,1.0],\"y\":[0.625,1.0]}},{\"labels\":[\"Reported\",\"Not Reported\"],\"textinfo\":\"label+value\",\"textposition\":\"inside\",\"values\":{\"dtype\":\"i1\",\"bdata\":\"Bwc=\"},\"type\":\"pie\",\"domain\":{\"x\":[0.0,0.45],\"y\":[0.0,0.375]}},{\"labels\":[\"Not Reported\",\"Reported\"],\"textinfo\":\"label+value\",\"textposition\":\"inside\",\"values\":{\"dtype\":\"i1\",\"bdata\":\"DAI=\"},\"type\":\"pie\",\"domain\":{\"x\":[0.55,1.0],\"y\":[0.0,0.375]}}],                        {\"template\":{\"data\":{\"histogram2dcontour\":[{\"type\":\"histogram2dcontour\",\"colorbar\":{\"outlinewidth\":0,\"ticks\":\"\"},\"colorscale\":[[0.0,\"#0d0887\"],[0.1111111111111111,\"#46039f\"],[0.2222222222222222,\"#7201a8\"],[0.3333333333333333,\"#9c179e\"],[0.4444444444444444,\"#bd3786\"],[0.5555555555555556,\"#d8576b\"],[0.6666666666666666,\"#ed7953\"],[0.7777777777777778,\"#fb9f3a\"],[0.8888888888888888,\"#fdca26\"],[1.0,\"#f0f921\"]]}],\"choropleth\":[{\"type\":\"choropleth\",\"colorbar\":{\"outlinewidth\":0,\"ticks\":\"\"}}],\"histogram2d\":[{\"type\":\"histogram2d\",\"colorbar\":{\"outlinewidth\":0,\"ticks\":\"\"},\"colorscale\":[[0.0,\"#0d0887\"],[0.1111111111111111,\"#46039f\"],[0.2222222222222222,\"#7201a8\"],[0.3333333333333333,\"#9c179e\"],[0.4444444444444444,\"#bd3786\"],[0.5555555555555556,\"#d8576b\"],[0.6666666666666666,\"#ed7953\"],[0.7777777777777778,\"#fb9f3a\"],[0.8888888888888888,\"#fdca26\"],[1.0,\"#f0f921\"]]}],\"heatmap\":[{\"type\":\"heatmap\",\"colorbar\":{\"outlinewidth\":0,\"ticks\":\"\"},\"colorscale\":[[0.0,\"#0d0887\"],[0.1111111111111111,\"#46039f\"],[0.2222222222222222,\"#7201a8\"],[0.3333333333333333,\"#9c179e\"],[0.4444444444444444,\"#bd3786\"],[0.5555555555555556,\"#d8576b\"],[0.6666666666666666,\"#ed7953\"],[0.7777777777777778,\"#fb9f3a\"],[0.8888888888888888,\"#fdca26\"],[1.0,\"#f0f921\"]]}],\"contourcarpet\":[{\"type\":\"contourcarpet\",\"colorbar\":{\"outlinewidth\":0,\"ticks\":\"\"}}],\"contour\":[{\"type\":\"contour\",\"colorbar\":{\"outlinewidth\":0,\"ticks\":\"\"},\"colorscale\":[[0.0,\"#0d0887\"],[0.1111111111111111,\"#46039f\"],[0.2222222222222222,\"#7201a8\"],[0.3333333333333333,\"#9c179e\"],[0.4444444444444444,\"#bd3786\"],[0.5555555555555556,\"#d8576b\"],[0.6666666666666666,\"#ed7953\"],[0.7777777777777778,\"#fb9f3a\"],[0.8888888888888888,\"#fdca26\"],[1.0,\"#f0f921\"]]}],\"surface\":[{\"type\":\"surface\",\"colorbar\":{\"outlinewidth\":0,\"ticks\":\"\"},\"colorscale\":[[0.0,\"#0d0887\"],[0.1111111111111111,\"#46039f\"],[0.2222222222222222,\"#7201a8\"],[0.3333333333333333,\"#9c179e\"],[0.4444444444444444,\"#bd3786\"],[0.5555555555555556,\"#d8576b\"],[0.6666666666666666,\"#ed7953\"],[0.7777777777777778,\"#fb9f3a\"],[0.8888888888888888,\"#fdca26\"],[1.0,\"#f0f921\"]]}],\"mesh3d\":[{\"type\":\"mesh3d\",\"colorbar\":{\"outlinewidth\":0,\"ticks\":\"\"}}],\"scatter\":[{\"fillpattern\":{\"fillmode\":\"overlay\",\"size\":10,\"solidity\":0.2},\"type\":\"scatter\"}],\"parcoords\":[{\"type\":\"parcoords\",\"line\":{\"colorbar\":{\"outlinewidth\":0,\"ticks\":\"\"}}}],\"scatterpolargl\":[{\"type\":\"scatterpolargl\",\"marker\":{\"colorbar\":{\"outlinewidth\":0,\"ticks\":\"\"}}}],\"bar\":[{\"error_x\":{\"color\":\"#2a3f5f\"},\"error_y\":{\"color\":\"#2a3f5f\"},\"marker\":{\"line\":{\"color\":\"#E5ECF6\",\"width\":0.5},\"pattern\":{\"fillmode\":\"overlay\",\"size\":10,\"solidity\":0.2}},\"type\":\"bar\"}],\"scattergeo\":[{\"type\":\"scattergeo\",\"marker\":{\"colorbar\":{\"outlinewidth\":0,\"ticks\":\"\"}}}],\"scatterpolar\":[{\"type\":\"scatterpolar\",\"marker\":{\"colorbar\":{\"outlinewidth\":0,\"ticks\":\"\"}}}],\"histogram\":[{\"marker\":{\"pattern\":{\"fillmode\":\"overlay\",\"size\":10,\"solidity\":0.2}},\"type\":\"histogram\"}],\"scattergl\":[{\"type\":\"scattergl\",\"marker\":{\"colorbar\":{\"outlinewidth\":0,\"ticks\":\"\"}}}],\"scatter3d\":[{\"type\":\"scatter3d\",\"line\":{\"colorbar\":{\"outlinewidth\":0,\"ticks\":\"\"}},\"marker\":{\"colorbar\":{\"outlinewidth\":0,\"ticks\":\"\"}}}],\"scattermap\":[{\"type\":\"scattermap\",\"marker\":{\"colorbar\":{\"outlinewidth\":0,\"ticks\":\"\"}}}],\"scattermapbox\":[{\"type\":\"scattermapbox\",\"marker\":{\"colorbar\":{\"outlinewidth\":0,\"ticks\":\"\"}}}],\"scatterternary\":[{\"type\":\"scatterternary\",\"marker\":{\"colorbar\":{\"outlinewidth\":0,\"ticks\":\"\"}}}],\"scattercarpet\":[{\"type\":\"scattercarpet\",\"marker\":{\"colorbar\":{\"outlinewidth\":0,\"ticks\":\"\"}}}],\"carpet\":[{\"aaxis\":{\"endlinecolor\":\"#2a3f5f\",\"gridcolor\":\"white\",\"linecolor\":\"white\",\"minorgridcolor\":\"white\",\"startlinecolor\":\"#2a3f5f\"},\"baxis\":{\"endlinecolor\":\"#2a3f5f\",\"gridcolor\":\"white\",\"linecolor\":\"white\",\"minorgridcolor\":\"white\",\"startlinecolor\":\"#2a3f5f\"},\"type\":\"carpet\"}],\"table\":[{\"cells\":{\"fill\":{\"color\":\"#EBF0F8\"},\"line\":{\"color\":\"white\"}},\"header\":{\"fill\":{\"color\":\"#C8D4E3\"},\"line\":{\"color\":\"white\"}},\"type\":\"table\"}],\"barpolar\":[{\"marker\":{\"line\":{\"color\":\"#E5ECF6\",\"width\":0.5},\"pattern\":{\"fillmode\":\"overlay\",\"size\":10,\"solidity\":0.2}},\"type\":\"barpolar\"}],\"pie\":[{\"automargin\":true,\"type\":\"pie\"}]},\"layout\":{\"autotypenumbers\":\"strict\",\"colorway\":[\"#636efa\",\"#EF553B\",\"#00cc96\",\"#ab63fa\",\"#FFA15A\",\"#19d3f3\",\"#FF6692\",\"#B6E880\",\"#FF97FF\",\"#FECB52\"],\"font\":{\"color\":\"#2a3f5f\"},\"hovermode\":\"closest\",\"hoverlabel\":{\"align\":\"left\"},\"paper_bgcolor\":\"white\",\"plot_bgcolor\":\"#E5ECF6\",\"polar\":{\"bgcolor\":\"#E5ECF6\",\"angularaxis\":{\"gridcolor\":\"white\",\"linecolor\":\"white\",\"ticks\":\"\"},\"radialaxis\":{\"gridcolor\":\"white\",\"linecolor\":\"white\",\"ticks\":\"\"}},\"ternary\":{\"bgcolor\":\"#E5ECF6\",\"aaxis\":{\"gridcolor\":\"white\",\"linecolor\":\"white\",\"ticks\":\"\"},\"baxis\":{\"gridcolor\":\"white\",\"linecolor\":\"white\",\"ticks\":\"\"},\"caxis\":{\"gridcolor\":\"white\",\"linecolor\":\"white\",\"ticks\":\"\"}},\"coloraxis\":{\"colorbar\":{\"outlinewidth\":0,\"ticks\":\"\"}},\"colorscale\":{\"sequential\":[[0.0,\"#0d0887\"],[0.1111111111111111,\"#46039f\"],[0.2222222222222222,\"#7201a8\"],[0.3333333333333333,\"#9c179e\"],[0.4444444444444444,\"#bd3786\"],[0.5555555555555556,\"#d8576b\"],[0.6666666666666666,\"#ed7953\"],[0.7777777777777778,\"#fb9f3a\"],[0.8888888888888888,\"#fdca26\"],[1.0,\"#f0f921\"]],\"sequentialminus\":[[0.0,\"#0d0887\"],[0.1111111111111111,\"#46039f\"],[0.2222222222222222,\"#7201a8\"],[0.3333333333333333,\"#9c179e\"],[0.4444444444444444,\"#bd3786\"],[0.5555555555555556,\"#d8576b\"],[0.6666666666666666,\"#ed7953\"],[0.7777777777777778,\"#fb9f3a\"],[0.8888888888888888,\"#fdca26\"],[1.0,\"#f0f921\"]],\"diverging\":[[0,\"#8e0152\"],[0.1,\"#c51b7d\"],[0.2,\"#de77ae\"],[0.3,\"#f1b6da\"],[0.4,\"#fde0ef\"],[0.5,\"#f7f7f7\"],[0.6,\"#e6f5d0\"],[0.7,\"#b8e186\"],[0.8,\"#7fbc41\"],[0.9,\"#4d9221\"],[1,\"#276419\"]]},\"xaxis\":{\"gridcolor\":\"white\",\"linecolor\":\"white\",\"ticks\":\"\",\"title\":{\"standoff\":15},\"zerolinecolor\":\"white\",\"automargin\":true,\"zerolinewidth\":2},\"yaxis\":{\"gridcolor\":\"white\",\"linecolor\":\"white\",\"ticks\":\"\",\"title\":{\"standoff\":15},\"zerolinecolor\":\"white\",\"automargin\":true,\"zerolinewidth\":2},\"scene\":{\"xaxis\":{\"backgroundcolor\":\"#E5ECF6\",\"gridcolor\":\"white\",\"linecolor\":\"white\",\"showbackground\":true,\"ticks\":\"\",\"zerolinecolor\":\"white\",\"gridwidth\":2},\"yaxis\":{\"backgroundcolor\":\"#E5ECF6\",\"gridcolor\":\"white\",\"linecolor\":\"white\",\"showbackground\":true,\"ticks\":\"\",\"zerolinecolor\":\"white\",\"gridwidth\":2},\"zaxis\":{\"backgroundcolor\":\"#E5ECF6\",\"gridcolor\":\"white\",\"linecolor\":\"white\",\"showbackground\":true,\"ticks\":\"\",\"zerolinecolor\":\"white\",\"gridwidth\":2}},\"shapedefaults\":{\"line\":{\"color\":\"#2a3f5f\"}},\"annotationdefaults\":{\"arrowcolor\":\"#2a3f5f\",\"arrowhead\":0,\"arrowwidth\":1},\"geo\":{\"bgcolor\":\"white\",\"landcolor\":\"#E5ECF6\",\"subunitcolor\":\"white\",\"showland\":true,\"showlakes\":true,\"lakecolor\":\"white\"},\"title\":{\"x\":0.05},\"mapbox\":{\"style\":\"light\"}}},\"annotations\":[{\"font\":{\"size\":16},\"showarrow\":false,\"text\":\"Primary diagnosis\",\"x\":0.225,\"xanchor\":\"center\",\"xref\":\"paper\",\"y\":1.0,\"yanchor\":\"bottom\",\"yref\":\"paper\"},{\"font\":{\"size\":16},\"showarrow\":false,\"text\":\"Age\",\"x\":0.775,\"xanchor\":\"center\",\"xref\":\"paper\",\"y\":1.0,\"yanchor\":\"bottom\",\"yref\":\"paper\"},{\"font\":{\"size\":16},\"showarrow\":false,\"text\":\"Sex\",\"x\":0.225,\"xanchor\":\"center\",\"xref\":\"paper\",\"y\":0.375,\"yanchor\":\"bottom\",\"yref\":\"paper\"},{\"font\":{\"size\":16},\"showarrow\":false,\"text\":\"Race\\u002fEthnicity\",\"x\":0.775,\"xanchor\":\"center\",\"xref\":\"paper\",\"y\":0.375,\"yanchor\":\"bottom\",\"yref\":\"paper\"}],\"title\":{\"text\":\"Datasets Reporting Clinical and Demographic Variables\"},\"height\":700,\"width\":800,\"showlegend\":false},                        {\"responsive\": true}                    ).then(function(){\n",
       "                            \n",
       "var gd = document.getElementById('ca7f62e5-1251-4999-8a6d-777f59cf79b7');\n",
       "var x = new MutationObserver(function (mutations, observer) {{\n",
       "        var display = window.getComputedStyle(gd).display;\n",
       "        if (!display || display === 'none') {{\n",
       "            console.log([gd, 'removed!']);\n",
       "            Plotly.purge(gd);\n",
       "            observer.disconnect();\n",
       "        }}\n",
       "}});\n",
       "\n",
       "// Listen for the removal of the full notebook cells\n",
       "var notebookContainer = gd.closest('#notebook-container');\n",
       "if (notebookContainer) {{\n",
       "    x.observe(notebookContainer, {childList: true});\n",
       "}}\n",
       "\n",
       "// Listen for the clearing of the current output cell\n",
       "var outputEl = gd.closest('.output');\n",
       "if (outputEl) {{\n",
       "    x.observe(outputEl, {childList: true});\n",
       "}}\n",
       "\n",
       "                        })                };            </script>        </div>"
      ]
     },
     "metadata": {},
     "output_type": "display_data"
    }
   ],
   "source": [
    "# Reporting of per-patient variables (diagnosis, age, sex, ethnicity/race)\n",
    "columns = [\n",
    "    'Primary diagnosis',\n",
    "    'Age',\n",
    "    'Sex',\n",
    "    'Race/Ethnicity'\n",
    "]\n",
    "# Create subplot grid: 2 rows × 3 columns\n",
    "fig = make_subplots(\n",
    "    rows=2, cols=2,\n",
    "    specs=[[{'type':'domain'}]*2]*2,  # 'domain' is needed for pie charts\n",
    "    subplot_titles=columns\n",
    ")\n",
    "row, col = 1, 1\n",
    "for i, column in enumerate(columns):\n",
    "    counts = table_df[column].value_counts().reset_index(name='counts')\n",
    "    fig.add_trace(\n",
    "        go.Pie(\n",
    "            labels=counts[column],\n",
    "            values=counts['counts'],\n",
    "            textinfo='label+value',\n",
    "            textposition='inside'\n",
    "        ),\n",
    "        row=row,\n",
    "        col=col\n",
    "    )\n",
    "    col += 1\n",
    "    if col > 2:\n",
    "        col = 1\n",
    "        row += 1\n",
    "\n",
    "fig.update_layout(\n",
    "    height=700,\n",
    "    width=800,\n",
    "    title_text=\"Datasets Reporting Clinical and Demographic Variables\",\n",
    "    showlegend=False\n",
    ")\n",
    "fig.show()"
   ]
  },
  {
   "cell_type": "code",
   "execution_count": 17,
   "id": "d135d63a-6e77-4e91-b0a2-3f3ae79bfad3",
   "metadata": {},
   "outputs": [
    {
     "data": {
      "application/vnd.plotly.v1+json": {
       "config": {
        "plotlyServerURL": "https://plot.ly"
       },
       "data": [
        {
         "cliponaxis": false,
         "name": "Patients",
         "text": [
          "900",
          "NR",
          "NR",
          "NR",
          "NR",
          "NR",
          "53",
          "230",
          "105",
          "144",
          "70",
          "489",
          "513",
          "176"
         ],
         "textposition": "outside",
         "type": "bar",
         "x": [
          "autoPET",
          "MSD-Liver",
          "MSD-Lung",
          "MSD-Pancreas",
          "MSD-Colon",
          "MSD-HepaticVessel",
          "Adrenal-ACC-Ki67",
          "GLIS-RT",
          "HCC-TACE-Seg",
          "NSCLC Radiogenomics",
          "KiPA22",
          "KiTS23",
          "Mediastinal-Lymph-Node-SEG",
          "CT-Lymph-Nodes"
         ],
         "xaxis": "x",
         "y": [
          900,
          0,
          0,
          0,
          0,
          0,
          53,
          230,
          105,
          144,
          70,
          489,
          513,
          176
         ],
         "yaxis": "y"
        },
        {
         "cliponaxis": false,
         "name": "Images with annotated lesions",
         "text": [
          "501",
          "118",
          "63",
          "281",
          "126",
          "303",
          "53",
          "230",
          "105",
          "144",
          "70",
          "489",
          "513",
          "176"
         ],
         "textposition": "outside",
         "type": "bar",
         "x": [
          "autoPET",
          "MSD-Liver",
          "MSD-Lung",
          "MSD-Pancreas",
          "MSD-Colon",
          "MSD-HepaticVessel",
          "Adrenal-ACC-Ki67",
          "GLIS-RT",
          "HCC-TACE-Seg",
          "NSCLC Radiogenomics",
          "KiPA22",
          "KiTS23",
          "Mediastinal-Lymph-Node-SEG",
          "CT-Lymph-Nodes"
         ],
         "xaxis": "x2",
         "y": [
          501,
          118,
          63,
          281,
          126,
          303,
          53,
          230,
          105,
          144,
          70,
          489,
          513,
          176
         ],
         "yaxis": "y2"
        },
        {
         "cliponaxis": false,
         "name": "Annotated lesions",
         "text": [
          "7141",
          "857",
          "70",
          "283",
          "130",
          "532",
          "54",
          "250",
          "145",
          "156",
          "72",
          "602",
          "1438",
          "1031"
         ],
         "textposition": "outside",
         "type": "bar",
         "x": [
          "autoPET",
          "MSD-Liver",
          "MSD-Lung",
          "MSD-Pancreas",
          "MSD-Colon",
          "MSD-HepaticVessel",
          "Adrenal-ACC-Ki67",
          "GLIS-RT",
          "HCC-TACE-Seg",
          "NSCLC Radiogenomics",
          "KiPA22",
          "KiTS23",
          "Mediastinal-Lymph-Node-SEG",
          "CT-Lymph-Nodes"
         ],
         "xaxis": "x3",
         "y": [
          7141,
          857,
          70,
          283,
          130,
          532,
          54,
          250,
          145,
          156,
          72,
          602,
          1438,
          1031
         ],
         "yaxis": "y3"
        }
       ],
       "layout": {
        "height": 500,
        "template": {
         "data": {
          "bar": [
           {
            "error_x": {
             "color": "#2a3f5f"
            },
            "error_y": {
             "color": "#2a3f5f"
            },
            "marker": {
             "line": {
              "color": "#E5ECF6",
              "width": 0.5
             },
             "pattern": {
              "fillmode": "overlay",
              "size": 10,
              "solidity": 0.2
             }
            },
            "type": "bar"
           }
          ],
          "barpolar": [
           {
            "marker": {
             "line": {
              "color": "#E5ECF6",
              "width": 0.5
             },
             "pattern": {
              "fillmode": "overlay",
              "size": 10,
              "solidity": 0.2
             }
            },
            "type": "barpolar"
           }
          ],
          "carpet": [
           {
            "aaxis": {
             "endlinecolor": "#2a3f5f",
             "gridcolor": "white",
             "linecolor": "white",
             "minorgridcolor": "white",
             "startlinecolor": "#2a3f5f"
            },
            "baxis": {
             "endlinecolor": "#2a3f5f",
             "gridcolor": "white",
             "linecolor": "white",
             "minorgridcolor": "white",
             "startlinecolor": "#2a3f5f"
            },
            "type": "carpet"
           }
          ],
          "choropleth": [
           {
            "colorbar": {
             "outlinewidth": 0,
             "ticks": ""
            },
            "type": "choropleth"
           }
          ],
          "contour": [
           {
            "colorbar": {
             "outlinewidth": 0,
             "ticks": ""
            },
            "colorscale": [
             [
              0,
              "#0d0887"
             ],
             [
              0.1111111111111111,
              "#46039f"
             ],
             [
              0.2222222222222222,
              "#7201a8"
             ],
             [
              0.3333333333333333,
              "#9c179e"
             ],
             [
              0.4444444444444444,
              "#bd3786"
             ],
             [
              0.5555555555555556,
              "#d8576b"
             ],
             [
              0.6666666666666666,
              "#ed7953"
             ],
             [
              0.7777777777777778,
              "#fb9f3a"
             ],
             [
              0.8888888888888888,
              "#fdca26"
             ],
             [
              1,
              "#f0f921"
             ]
            ],
            "type": "contour"
           }
          ],
          "contourcarpet": [
           {
            "colorbar": {
             "outlinewidth": 0,
             "ticks": ""
            },
            "type": "contourcarpet"
           }
          ],
          "heatmap": [
           {
            "colorbar": {
             "outlinewidth": 0,
             "ticks": ""
            },
            "colorscale": [
             [
              0,
              "#0d0887"
             ],
             [
              0.1111111111111111,
              "#46039f"
             ],
             [
              0.2222222222222222,
              "#7201a8"
             ],
             [
              0.3333333333333333,
              "#9c179e"
             ],
             [
              0.4444444444444444,
              "#bd3786"
             ],
             [
              0.5555555555555556,
              "#d8576b"
             ],
             [
              0.6666666666666666,
              "#ed7953"
             ],
             [
              0.7777777777777778,
              "#fb9f3a"
             ],
             [
              0.8888888888888888,
              "#fdca26"
             ],
             [
              1,
              "#f0f921"
             ]
            ],
            "type": "heatmap"
           }
          ],
          "histogram": [
           {
            "marker": {
             "pattern": {
              "fillmode": "overlay",
              "size": 10,
              "solidity": 0.2
             }
            },
            "type": "histogram"
           }
          ],
          "histogram2d": [
           {
            "colorbar": {
             "outlinewidth": 0,
             "ticks": ""
            },
            "colorscale": [
             [
              0,
              "#0d0887"
             ],
             [
              0.1111111111111111,
              "#46039f"
             ],
             [
              0.2222222222222222,
              "#7201a8"
             ],
             [
              0.3333333333333333,
              "#9c179e"
             ],
             [
              0.4444444444444444,
              "#bd3786"
             ],
             [
              0.5555555555555556,
              "#d8576b"
             ],
             [
              0.6666666666666666,
              "#ed7953"
             ],
             [
              0.7777777777777778,
              "#fb9f3a"
             ],
             [
              0.8888888888888888,
              "#fdca26"
             ],
             [
              1,
              "#f0f921"
             ]
            ],
            "type": "histogram2d"
           }
          ],
          "histogram2dcontour": [
           {
            "colorbar": {
             "outlinewidth": 0,
             "ticks": ""
            },
            "colorscale": [
             [
              0,
              "#0d0887"
             ],
             [
              0.1111111111111111,
              "#46039f"
             ],
             [
              0.2222222222222222,
              "#7201a8"
             ],
             [
              0.3333333333333333,
              "#9c179e"
             ],
             [
              0.4444444444444444,
              "#bd3786"
             ],
             [
              0.5555555555555556,
              "#d8576b"
             ],
             [
              0.6666666666666666,
              "#ed7953"
             ],
             [
              0.7777777777777778,
              "#fb9f3a"
             ],
             [
              0.8888888888888888,
              "#fdca26"
             ],
             [
              1,
              "#f0f921"
             ]
            ],
            "type": "histogram2dcontour"
           }
          ],
          "mesh3d": [
           {
            "colorbar": {
             "outlinewidth": 0,
             "ticks": ""
            },
            "type": "mesh3d"
           }
          ],
          "parcoords": [
           {
            "line": {
             "colorbar": {
              "outlinewidth": 0,
              "ticks": ""
             }
            },
            "type": "parcoords"
           }
          ],
          "pie": [
           {
            "automargin": true,
            "type": "pie"
           }
          ],
          "scatter": [
           {
            "fillpattern": {
             "fillmode": "overlay",
             "size": 10,
             "solidity": 0.2
            },
            "type": "scatter"
           }
          ],
          "scatter3d": [
           {
            "line": {
             "colorbar": {
              "outlinewidth": 0,
              "ticks": ""
             }
            },
            "marker": {
             "colorbar": {
              "outlinewidth": 0,
              "ticks": ""
             }
            },
            "type": "scatter3d"
           }
          ],
          "scattercarpet": [
           {
            "marker": {
             "colorbar": {
              "outlinewidth": 0,
              "ticks": ""
             }
            },
            "type": "scattercarpet"
           }
          ],
          "scattergeo": [
           {
            "marker": {
             "colorbar": {
              "outlinewidth": 0,
              "ticks": ""
             }
            },
            "type": "scattergeo"
           }
          ],
          "scattergl": [
           {
            "marker": {
             "colorbar": {
              "outlinewidth": 0,
              "ticks": ""
             }
            },
            "type": "scattergl"
           }
          ],
          "scattermap": [
           {
            "marker": {
             "colorbar": {
              "outlinewidth": 0,
              "ticks": ""
             }
            },
            "type": "scattermap"
           }
          ],
          "scattermapbox": [
           {
            "marker": {
             "colorbar": {
              "outlinewidth": 0,
              "ticks": ""
             }
            },
            "type": "scattermapbox"
           }
          ],
          "scatterpolar": [
           {
            "marker": {
             "colorbar": {
              "outlinewidth": 0,
              "ticks": ""
             }
            },
            "type": "scatterpolar"
           }
          ],
          "scatterpolargl": [
           {
            "marker": {
             "colorbar": {
              "outlinewidth": 0,
              "ticks": ""
             }
            },
            "type": "scatterpolargl"
           }
          ],
          "scatterternary": [
           {
            "marker": {
             "colorbar": {
              "outlinewidth": 0,
              "ticks": ""
             }
            },
            "type": "scatterternary"
           }
          ],
          "surface": [
           {
            "colorbar": {
             "outlinewidth": 0,
             "ticks": ""
            },
            "colorscale": [
             [
              0,
              "#0d0887"
             ],
             [
              0.1111111111111111,
              "#46039f"
             ],
             [
              0.2222222222222222,
              "#7201a8"
             ],
             [
              0.3333333333333333,
              "#9c179e"
             ],
             [
              0.4444444444444444,
              "#bd3786"
             ],
             [
              0.5555555555555556,
              "#d8576b"
             ],
             [
              0.6666666666666666,
              "#ed7953"
             ],
             [
              0.7777777777777778,
              "#fb9f3a"
             ],
             [
              0.8888888888888888,
              "#fdca26"
             ],
             [
              1,
              "#f0f921"
             ]
            ],
            "type": "surface"
           }
          ],
          "table": [
           {
            "cells": {
             "fill": {
              "color": "#EBF0F8"
             },
             "line": {
              "color": "white"
             }
            },
            "header": {
             "fill": {
              "color": "#C8D4E3"
             },
             "line": {
              "color": "white"
             }
            },
            "type": "table"
           }
          ]
         },
         "layout": {
          "annotationdefaults": {
           "arrowcolor": "#2a3f5f",
           "arrowhead": 0,
           "arrowwidth": 1
          },
          "autotypenumbers": "strict",
          "coloraxis": {
           "colorbar": {
            "outlinewidth": 0,
            "ticks": ""
           }
          },
          "colorscale": {
           "diverging": [
            [
             0,
             "#8e0152"
            ],
            [
             0.1,
             "#c51b7d"
            ],
            [
             0.2,
             "#de77ae"
            ],
            [
             0.3,
             "#f1b6da"
            ],
            [
             0.4,
             "#fde0ef"
            ],
            [
             0.5,
             "#f7f7f7"
            ],
            [
             0.6,
             "#e6f5d0"
            ],
            [
             0.7,
             "#b8e186"
            ],
            [
             0.8,
             "#7fbc41"
            ],
            [
             0.9,
             "#4d9221"
            ],
            [
             1,
             "#276419"
            ]
           ],
           "sequential": [
            [
             0,
             "#0d0887"
            ],
            [
             0.1111111111111111,
             "#46039f"
            ],
            [
             0.2222222222222222,
             "#7201a8"
            ],
            [
             0.3333333333333333,
             "#9c179e"
            ],
            [
             0.4444444444444444,
             "#bd3786"
            ],
            [
             0.5555555555555556,
             "#d8576b"
            ],
            [
             0.6666666666666666,
             "#ed7953"
            ],
            [
             0.7777777777777778,
             "#fb9f3a"
            ],
            [
             0.8888888888888888,
             "#fdca26"
            ],
            [
             1,
             "#f0f921"
            ]
           ],
           "sequentialminus": [
            [
             0,
             "#0d0887"
            ],
            [
             0.1111111111111111,
             "#46039f"
            ],
            [
             0.2222222222222222,
             "#7201a8"
            ],
            [
             0.3333333333333333,
             "#9c179e"
            ],
            [
             0.4444444444444444,
             "#bd3786"
            ],
            [
             0.5555555555555556,
             "#d8576b"
            ],
            [
             0.6666666666666666,
             "#ed7953"
            ],
            [
             0.7777777777777778,
             "#fb9f3a"
            ],
            [
             0.8888888888888888,
             "#fdca26"
            ],
            [
             1,
             "#f0f921"
            ]
           ]
          },
          "colorway": [
           "#636efa",
           "#EF553B",
           "#00cc96",
           "#ab63fa",
           "#FFA15A",
           "#19d3f3",
           "#FF6692",
           "#B6E880",
           "#FF97FF",
           "#FECB52"
          ],
          "font": {
           "color": "#2a3f5f"
          },
          "geo": {
           "bgcolor": "white",
           "lakecolor": "white",
           "landcolor": "#E5ECF6",
           "showlakes": true,
           "showland": true,
           "subunitcolor": "white"
          },
          "hoverlabel": {
           "align": "left"
          },
          "hovermode": "closest",
          "mapbox": {
           "style": "light"
          },
          "paper_bgcolor": "white",
          "plot_bgcolor": "#E5ECF6",
          "polar": {
           "angularaxis": {
            "gridcolor": "white",
            "linecolor": "white",
            "ticks": ""
           },
           "bgcolor": "#E5ECF6",
           "radialaxis": {
            "gridcolor": "white",
            "linecolor": "white",
            "ticks": ""
           }
          },
          "scene": {
           "xaxis": {
            "backgroundcolor": "#E5ECF6",
            "gridcolor": "white",
            "gridwidth": 2,
            "linecolor": "white",
            "showbackground": true,
            "ticks": "",
            "zerolinecolor": "white"
           },
           "yaxis": {
            "backgroundcolor": "#E5ECF6",
            "gridcolor": "white",
            "gridwidth": 2,
            "linecolor": "white",
            "showbackground": true,
            "ticks": "",
            "zerolinecolor": "white"
           },
           "zaxis": {
            "backgroundcolor": "#E5ECF6",
            "gridcolor": "white",
            "gridwidth": 2,
            "linecolor": "white",
            "showbackground": true,
            "ticks": "",
            "zerolinecolor": "white"
           }
          },
          "shapedefaults": {
           "line": {
            "color": "#2a3f5f"
           }
          },
          "ternary": {
           "aaxis": {
            "gridcolor": "white",
            "linecolor": "white",
            "ticks": ""
           },
           "baxis": {
            "gridcolor": "white",
            "linecolor": "white",
            "ticks": ""
           },
           "bgcolor": "#E5ECF6",
           "caxis": {
            "gridcolor": "white",
            "linecolor": "white",
            "ticks": ""
           }
          },
          "title": {
           "x": 0.05
          },
          "xaxis": {
           "automargin": true,
           "gridcolor": "white",
           "linecolor": "white",
           "ticks": "",
           "title": {
            "standoff": 15
           },
           "zerolinecolor": "white",
           "zerolinewidth": 2
          },
          "yaxis": {
           "automargin": true,
           "gridcolor": "white",
           "linecolor": "white",
           "ticks": "",
           "title": {
            "standoff": 15
           },
           "zerolinecolor": "white",
           "zerolinewidth": 2
          }
         }
        },
        "title": {
         "text": "Patients, Images and Annotated Lesions by Dataset"
        },
        "width": 800,
        "xaxis": {
         "anchor": "y",
         "domain": [
          0,
          1
         ],
         "showticklabels": false
        },
        "xaxis2": {
         "anchor": "y2",
         "domain": [
          0,
          1
         ],
         "showticklabels": false
        },
        "xaxis3": {
         "anchor": "y3",
         "domain": [
          0,
          1
         ],
         "title": {
          "text": "Dataset"
         }
        },
        "yaxis": {
         "anchor": "x",
         "domain": [
          0.7333333333333333,
          1
         ],
         "title": {
          "text": "Patients"
         }
        },
        "yaxis2": {
         "anchor": "x2",
         "domain": [
          0.36666666666666664,
          0.6333333333333333
         ],
         "title": {
          "text": "Images"
         }
        },
        "yaxis3": {
         "anchor": "x3",
         "domain": [
          0,
          0.26666666666666666
         ],
         "title": {
          "text": "Lesions"
         }
        }
       }
      },
      "text/html": [
       "<div>            <script src=\"https://cdnjs.cloudflare.com/ajax/libs/mathjax/2.7.5/MathJax.js?config=TeX-AMS-MML_SVG\"></script><script type=\"text/javascript\">if (window.MathJax && window.MathJax.Hub && window.MathJax.Hub.Config) {window.MathJax.Hub.Config({SVG: {font: \"STIX-Web\"}});}</script>                <script type=\"text/javascript\">window.PlotlyConfig = {MathJaxConfig: 'local'};</script>\n",
       "        <script charset=\"utf-8\" src=\"https://cdn.plot.ly/plotly-3.0.1.min.js\"></script>                <div id=\"69f519f9-d3e8-455a-b9eb-4bcfc499248e\" class=\"plotly-graph-div\" style=\"height:500px; width:800px;\"></div>            <script type=\"text/javascript\">                window.PLOTLYENV=window.PLOTLYENV || {};                                if (document.getElementById(\"69f519f9-d3e8-455a-b9eb-4bcfc499248e\")) {                    Plotly.newPlot(                        \"69f519f9-d3e8-455a-b9eb-4bcfc499248e\",                        [{\"cliponaxis\":false,\"name\":\"Patients\",\"text\":[\"900\",\"NR\",\"NR\",\"NR\",\"NR\",\"NR\",\"53\",\"230\",\"105\",\"144\",\"70\",\"489\",\"513\",\"176\"],\"textposition\":\"outside\",\"x\":[\"autoPET\",\"MSD-Liver\",\"MSD-Lung\",\"MSD-Pancreas\",\"MSD-Colon\",\"MSD-HepaticVessel\",\"Adrenal-ACC-Ki67\",\"GLIS-RT\",\"HCC-TACE-Seg\",\"NSCLC Radiogenomics\",\"KiPA22\",\"KiTS23\",\"Mediastinal-Lymph-Node-SEG\",\"CT-Lymph-Nodes\"],\"y\":[900,0,0,0,0,0,53,230,105,144,70,489,513,176],\"type\":\"bar\",\"xaxis\":\"x\",\"yaxis\":\"y\"},{\"cliponaxis\":false,\"name\":\"Images with annotated lesions\",\"text\":[\"501\",\"118\",\"63\",\"281\",\"126\",\"303\",\"53\",\"230\",\"105\",\"144\",\"70\",\"489\",\"513\",\"176\"],\"textposition\":\"outside\",\"x\":[\"autoPET\",\"MSD-Liver\",\"MSD-Lung\",\"MSD-Pancreas\",\"MSD-Colon\",\"MSD-HepaticVessel\",\"Adrenal-ACC-Ki67\",\"GLIS-RT\",\"HCC-TACE-Seg\",\"NSCLC Radiogenomics\",\"KiPA22\",\"KiTS23\",\"Mediastinal-Lymph-Node-SEG\",\"CT-Lymph-Nodes\"],\"y\":[501,118,63,281,126,303,53,230,105,144,70,489,513,176],\"type\":\"bar\",\"xaxis\":\"x2\",\"yaxis\":\"y2\"},{\"cliponaxis\":false,\"name\":\"Annotated lesions\",\"text\":[\"7141\",\"857\",\"70\",\"283\",\"130\",\"532\",\"54\",\"250\",\"145\",\"156\",\"72\",\"602\",\"1438\",\"1031\"],\"textposition\":\"outside\",\"x\":[\"autoPET\",\"MSD-Liver\",\"MSD-Lung\",\"MSD-Pancreas\",\"MSD-Colon\",\"MSD-HepaticVessel\",\"Adrenal-ACC-Ki67\",\"GLIS-RT\",\"HCC-TACE-Seg\",\"NSCLC Radiogenomics\",\"KiPA22\",\"KiTS23\",\"Mediastinal-Lymph-Node-SEG\",\"CT-Lymph-Nodes\"],\"y\":[7141,857,70,283,130,532,54,250,145,156,72,602,1438,1031],\"type\":\"bar\",\"xaxis\":\"x3\",\"yaxis\":\"y3\"}],                        {\"template\":{\"data\":{\"histogram2dcontour\":[{\"type\":\"histogram2dcontour\",\"colorbar\":{\"outlinewidth\":0,\"ticks\":\"\"},\"colorscale\":[[0.0,\"#0d0887\"],[0.1111111111111111,\"#46039f\"],[0.2222222222222222,\"#7201a8\"],[0.3333333333333333,\"#9c179e\"],[0.4444444444444444,\"#bd3786\"],[0.5555555555555556,\"#d8576b\"],[0.6666666666666666,\"#ed7953\"],[0.7777777777777778,\"#fb9f3a\"],[0.8888888888888888,\"#fdca26\"],[1.0,\"#f0f921\"]]}],\"choropleth\":[{\"type\":\"choropleth\",\"colorbar\":{\"outlinewidth\":0,\"ticks\":\"\"}}],\"histogram2d\":[{\"type\":\"histogram2d\",\"colorbar\":{\"outlinewidth\":0,\"ticks\":\"\"},\"colorscale\":[[0.0,\"#0d0887\"],[0.1111111111111111,\"#46039f\"],[0.2222222222222222,\"#7201a8\"],[0.3333333333333333,\"#9c179e\"],[0.4444444444444444,\"#bd3786\"],[0.5555555555555556,\"#d8576b\"],[0.6666666666666666,\"#ed7953\"],[0.7777777777777778,\"#fb9f3a\"],[0.8888888888888888,\"#fdca26\"],[1.0,\"#f0f921\"]]}],\"heatmap\":[{\"type\":\"heatmap\",\"colorbar\":{\"outlinewidth\":0,\"ticks\":\"\"},\"colorscale\":[[0.0,\"#0d0887\"],[0.1111111111111111,\"#46039f\"],[0.2222222222222222,\"#7201a8\"],[0.3333333333333333,\"#9c179e\"],[0.4444444444444444,\"#bd3786\"],[0.5555555555555556,\"#d8576b\"],[0.6666666666666666,\"#ed7953\"],[0.7777777777777778,\"#fb9f3a\"],[0.8888888888888888,\"#fdca26\"],[1.0,\"#f0f921\"]]}],\"contourcarpet\":[{\"type\":\"contourcarpet\",\"colorbar\":{\"outlinewidth\":0,\"ticks\":\"\"}}],\"contour\":[{\"type\":\"contour\",\"colorbar\":{\"outlinewidth\":0,\"ticks\":\"\"},\"colorscale\":[[0.0,\"#0d0887\"],[0.1111111111111111,\"#46039f\"],[0.2222222222222222,\"#7201a8\"],[0.3333333333333333,\"#9c179e\"],[0.4444444444444444,\"#bd3786\"],[0.5555555555555556,\"#d8576b\"],[0.6666666666666666,\"#ed7953\"],[0.7777777777777778,\"#fb9f3a\"],[0.8888888888888888,\"#fdca26\"],[1.0,\"#f0f921\"]]}],\"surface\":[{\"type\":\"surface\",\"colorbar\":{\"outlinewidth\":0,\"ticks\":\"\"},\"colorscale\":[[0.0,\"#0d0887\"],[0.1111111111111111,\"#46039f\"],[0.2222222222222222,\"#7201a8\"],[0.3333333333333333,\"#9c179e\"],[0.4444444444444444,\"#bd3786\"],[0.5555555555555556,\"#d8576b\"],[0.6666666666666666,\"#ed7953\"],[0.7777777777777778,\"#fb9f3a\"],[0.8888888888888888,\"#fdca26\"],[1.0,\"#f0f921\"]]}],\"mesh3d\":[{\"type\":\"mesh3d\",\"colorbar\":{\"outlinewidth\":0,\"ticks\":\"\"}}],\"scatter\":[{\"fillpattern\":{\"fillmode\":\"overlay\",\"size\":10,\"solidity\":0.2},\"type\":\"scatter\"}],\"parcoords\":[{\"type\":\"parcoords\",\"line\":{\"colorbar\":{\"outlinewidth\":0,\"ticks\":\"\"}}}],\"scatterpolargl\":[{\"type\":\"scatterpolargl\",\"marker\":{\"colorbar\":{\"outlinewidth\":0,\"ticks\":\"\"}}}],\"bar\":[{\"error_x\":{\"color\":\"#2a3f5f\"},\"error_y\":{\"color\":\"#2a3f5f\"},\"marker\":{\"line\":{\"color\":\"#E5ECF6\",\"width\":0.5},\"pattern\":{\"fillmode\":\"overlay\",\"size\":10,\"solidity\":0.2}},\"type\":\"bar\"}],\"scattergeo\":[{\"type\":\"scattergeo\",\"marker\":{\"colorbar\":{\"outlinewidth\":0,\"ticks\":\"\"}}}],\"scatterpolar\":[{\"type\":\"scatterpolar\",\"marker\":{\"colorbar\":{\"outlinewidth\":0,\"ticks\":\"\"}}}],\"histogram\":[{\"marker\":{\"pattern\":{\"fillmode\":\"overlay\",\"size\":10,\"solidity\":0.2}},\"type\":\"histogram\"}],\"scattergl\":[{\"type\":\"scattergl\",\"marker\":{\"colorbar\":{\"outlinewidth\":0,\"ticks\":\"\"}}}],\"scatter3d\":[{\"type\":\"scatter3d\",\"line\":{\"colorbar\":{\"outlinewidth\":0,\"ticks\":\"\"}},\"marker\":{\"colorbar\":{\"outlinewidth\":0,\"ticks\":\"\"}}}],\"scattermap\":[{\"type\":\"scattermap\",\"marker\":{\"colorbar\":{\"outlinewidth\":0,\"ticks\":\"\"}}}],\"scattermapbox\":[{\"type\":\"scattermapbox\",\"marker\":{\"colorbar\":{\"outlinewidth\":0,\"ticks\":\"\"}}}],\"scatterternary\":[{\"type\":\"scatterternary\",\"marker\":{\"colorbar\":{\"outlinewidth\":0,\"ticks\":\"\"}}}],\"scattercarpet\":[{\"type\":\"scattercarpet\",\"marker\":{\"colorbar\":{\"outlinewidth\":0,\"ticks\":\"\"}}}],\"carpet\":[{\"aaxis\":{\"endlinecolor\":\"#2a3f5f\",\"gridcolor\":\"white\",\"linecolor\":\"white\",\"minorgridcolor\":\"white\",\"startlinecolor\":\"#2a3f5f\"},\"baxis\":{\"endlinecolor\":\"#2a3f5f\",\"gridcolor\":\"white\",\"linecolor\":\"white\",\"minorgridcolor\":\"white\",\"startlinecolor\":\"#2a3f5f\"},\"type\":\"carpet\"}],\"table\":[{\"cells\":{\"fill\":{\"color\":\"#EBF0F8\"},\"line\":{\"color\":\"white\"}},\"header\":{\"fill\":{\"color\":\"#C8D4E3\"},\"line\":{\"color\":\"white\"}},\"type\":\"table\"}],\"barpolar\":[{\"marker\":{\"line\":{\"color\":\"#E5ECF6\",\"width\":0.5},\"pattern\":{\"fillmode\":\"overlay\",\"size\":10,\"solidity\":0.2}},\"type\":\"barpolar\"}],\"pie\":[{\"automargin\":true,\"type\":\"pie\"}]},\"layout\":{\"autotypenumbers\":\"strict\",\"colorway\":[\"#636efa\",\"#EF553B\",\"#00cc96\",\"#ab63fa\",\"#FFA15A\",\"#19d3f3\",\"#FF6692\",\"#B6E880\",\"#FF97FF\",\"#FECB52\"],\"font\":{\"color\":\"#2a3f5f\"},\"hovermode\":\"closest\",\"hoverlabel\":{\"align\":\"left\"},\"paper_bgcolor\":\"white\",\"plot_bgcolor\":\"#E5ECF6\",\"polar\":{\"bgcolor\":\"#E5ECF6\",\"angularaxis\":{\"gridcolor\":\"white\",\"linecolor\":\"white\",\"ticks\":\"\"},\"radialaxis\":{\"gridcolor\":\"white\",\"linecolor\":\"white\",\"ticks\":\"\"}},\"ternary\":{\"bgcolor\":\"#E5ECF6\",\"aaxis\":{\"gridcolor\":\"white\",\"linecolor\":\"white\",\"ticks\":\"\"},\"baxis\":{\"gridcolor\":\"white\",\"linecolor\":\"white\",\"ticks\":\"\"},\"caxis\":{\"gridcolor\":\"white\",\"linecolor\":\"white\",\"ticks\":\"\"}},\"coloraxis\":{\"colorbar\":{\"outlinewidth\":0,\"ticks\":\"\"}},\"colorscale\":{\"sequential\":[[0.0,\"#0d0887\"],[0.1111111111111111,\"#46039f\"],[0.2222222222222222,\"#7201a8\"],[0.3333333333333333,\"#9c179e\"],[0.4444444444444444,\"#bd3786\"],[0.5555555555555556,\"#d8576b\"],[0.6666666666666666,\"#ed7953\"],[0.7777777777777778,\"#fb9f3a\"],[0.8888888888888888,\"#fdca26\"],[1.0,\"#f0f921\"]],\"sequentialminus\":[[0.0,\"#0d0887\"],[0.1111111111111111,\"#46039f\"],[0.2222222222222222,\"#7201a8\"],[0.3333333333333333,\"#9c179e\"],[0.4444444444444444,\"#bd3786\"],[0.5555555555555556,\"#d8576b\"],[0.6666666666666666,\"#ed7953\"],[0.7777777777777778,\"#fb9f3a\"],[0.8888888888888888,\"#fdca26\"],[1.0,\"#f0f921\"]],\"diverging\":[[0,\"#8e0152\"],[0.1,\"#c51b7d\"],[0.2,\"#de77ae\"],[0.3,\"#f1b6da\"],[0.4,\"#fde0ef\"],[0.5,\"#f7f7f7\"],[0.6,\"#e6f5d0\"],[0.7,\"#b8e186\"],[0.8,\"#7fbc41\"],[0.9,\"#4d9221\"],[1,\"#276419\"]]},\"xaxis\":{\"gridcolor\":\"white\",\"linecolor\":\"white\",\"ticks\":\"\",\"title\":{\"standoff\":15},\"zerolinecolor\":\"white\",\"automargin\":true,\"zerolinewidth\":2},\"yaxis\":{\"gridcolor\":\"white\",\"linecolor\":\"white\",\"ticks\":\"\",\"title\":{\"standoff\":15},\"zerolinecolor\":\"white\",\"automargin\":true,\"zerolinewidth\":2},\"scene\":{\"xaxis\":{\"backgroundcolor\":\"#E5ECF6\",\"gridcolor\":\"white\",\"linecolor\":\"white\",\"showbackground\":true,\"ticks\":\"\",\"zerolinecolor\":\"white\",\"gridwidth\":2},\"yaxis\":{\"backgroundcolor\":\"#E5ECF6\",\"gridcolor\":\"white\",\"linecolor\":\"white\",\"showbackground\":true,\"ticks\":\"\",\"zerolinecolor\":\"white\",\"gridwidth\":2},\"zaxis\":{\"backgroundcolor\":\"#E5ECF6\",\"gridcolor\":\"white\",\"linecolor\":\"white\",\"showbackground\":true,\"ticks\":\"\",\"zerolinecolor\":\"white\",\"gridwidth\":2}},\"shapedefaults\":{\"line\":{\"color\":\"#2a3f5f\"}},\"annotationdefaults\":{\"arrowcolor\":\"#2a3f5f\",\"arrowhead\":0,\"arrowwidth\":1},\"geo\":{\"bgcolor\":\"white\",\"landcolor\":\"#E5ECF6\",\"subunitcolor\":\"white\",\"showland\":true,\"showlakes\":true,\"lakecolor\":\"white\"},\"title\":{\"x\":0.05},\"mapbox\":{\"style\":\"light\"}}},\"xaxis\":{\"anchor\":\"y\",\"domain\":[0.0,1.0],\"showticklabels\":false},\"yaxis\":{\"anchor\":\"x\",\"domain\":[0.7333333333333333,1.0],\"title\":{\"text\":\"Patients\"}},\"xaxis2\":{\"anchor\":\"y2\",\"domain\":[0.0,1.0],\"showticklabels\":false},\"yaxis2\":{\"anchor\":\"x2\",\"domain\":[0.36666666666666664,0.6333333333333333],\"title\":{\"text\":\"Images\"}},\"xaxis3\":{\"anchor\":\"y3\",\"domain\":[0.0,1.0],\"title\":{\"text\":\"Dataset\"}},\"yaxis3\":{\"anchor\":\"x3\",\"domain\":[0.0,0.26666666666666666],\"title\":{\"text\":\"Lesions\"}},\"height\":500,\"width\":800,\"title\":{\"text\":\"Patients, Images and Annotated Lesions by Dataset\"}},                        {\"responsive\": true}                    ).then(function(){\n",
       "                            \n",
       "var gd = document.getElementById('69f519f9-d3e8-455a-b9eb-4bcfc499248e');\n",
       "var x = new MutationObserver(function (mutations, observer) {{\n",
       "        var display = window.getComputedStyle(gd).display;\n",
       "        if (!display || display === 'none') {{\n",
       "            console.log([gd, 'removed!']);\n",
       "            Plotly.purge(gd);\n",
       "            observer.disconnect();\n",
       "        }}\n",
       "}});\n",
       "\n",
       "// Listen for the removal of the full notebook cells\n",
       "var notebookContainer = gd.closest('#notebook-container');\n",
       "if (notebookContainer) {{\n",
       "    x.observe(notebookContainer, {childList: true});\n",
       "}}\n",
       "\n",
       "// Listen for the clearing of the current output cell\n",
       "var outputEl = gd.closest('.output');\n",
       "if (outputEl) {{\n",
       "    x.observe(outputEl, {childList: true});\n",
       "}}\n",
       "\n",
       "                        })                };            </script>        </div>"
      ]
     },
     "metadata": {},
     "output_type": "display_data"
    }
   ],
   "source": [
    "# Patients, Images and Annotated Lesions by Dataset\n",
    "columns = [\n",
    "    'Patients',\n",
    "    \"Images with annotated lesions\",\n",
    "    \"Annotated lesions\"\n",
    "]\n",
    "fig = make_subplots(\n",
    "    rows=3,\n",
    "    cols=1\n",
    ")\n",
    "y_labels = ['Patients', 'Images', 'Lesions']\n",
    "for idx, column in enumerate(columns):\n",
    "    y_values = table_df[column].fillna(0).astype('int').tolist()\n",
    "    fig.add_trace(\n",
    "        go.Bar(\n",
    "            y=y_values,\n",
    "            x=table_df['Dataset'].tolist(),\n",
    "            name=column,\n",
    "            text=[str(item) if item > 0 else \"NR\" for item in y_values],\n",
    "            textposition='outside',\n",
    "            cliponaxis=False\n",
    "        ),\n",
    "        row=idx+1,\n",
    "        col=1\n",
    "    )\n",
    "    if idx+1<len(columns):\n",
    "        fig.update_xaxes(\n",
    "            showticklabels=False,\n",
    "            row=idx+1,\n",
    "            col=1\n",
    "        )\n",
    "    else:\n",
    "        fig.update_xaxes(\n",
    "            title_text='Dataset',\n",
    "            row=idx+1,\n",
    "            col=1\n",
    "        )\n",
    "    fig.update_yaxes(\n",
    "        title_text=y_labels[idx],\n",
    "        row=idx+1,\n",
    "        col=1\n",
    "    )\n",
    "fig.update_layout(\n",
    "    height=500,\n",
    "    width=800,\n",
    "    title='Patients, Images and Annotated Lesions by Dataset'\n",
    ")\n",
    "fig.show()"
   ]
  },
  {
   "cell_type": "code",
   "execution_count": 18,
   "id": "780e33e0-3d8f-4674-b7a1-f699d849ca10",
   "metadata": {},
   "outputs": [
    {
     "data": {
      "application/vnd.plotly.v1+json": {
       "config": {
        "plotlyServerURL": "https://plot.ly"
       },
       "data": [
        {
         "domain": {
          "x": [
           0,
           1
          ],
          "y": [
           0,
           1
          ]
         },
         "labels": [
          "Primary tumor",
          "Primary tumor, Metastases",
          "Primary tumor, Cyst",
          "Enlarged lymph nodes",
          "Mediastinal lymph nodes, Abdominal lymph nodes"
         ],
         "textinfo": "label+value",
         "textposition": "inside",
         "type": "pie",
         "values": {
          "bdata": "CAMBAQE=",
          "dtype": "i1"
         }
        }
       ],
       "layout": {
        "height": 500,
        "template": {
         "data": {
          "bar": [
           {
            "error_x": {
             "color": "#2a3f5f"
            },
            "error_y": {
             "color": "#2a3f5f"
            },
            "marker": {
             "line": {
              "color": "#E5ECF6",
              "width": 0.5
             },
             "pattern": {
              "fillmode": "overlay",
              "size": 10,
              "solidity": 0.2
             }
            },
            "type": "bar"
           }
          ],
          "barpolar": [
           {
            "marker": {
             "line": {
              "color": "#E5ECF6",
              "width": 0.5
             },
             "pattern": {
              "fillmode": "overlay",
              "size": 10,
              "solidity": 0.2
             }
            },
            "type": "barpolar"
           }
          ],
          "carpet": [
           {
            "aaxis": {
             "endlinecolor": "#2a3f5f",
             "gridcolor": "white",
             "linecolor": "white",
             "minorgridcolor": "white",
             "startlinecolor": "#2a3f5f"
            },
            "baxis": {
             "endlinecolor": "#2a3f5f",
             "gridcolor": "white",
             "linecolor": "white",
             "minorgridcolor": "white",
             "startlinecolor": "#2a3f5f"
            },
            "type": "carpet"
           }
          ],
          "choropleth": [
           {
            "colorbar": {
             "outlinewidth": 0,
             "ticks": ""
            },
            "type": "choropleth"
           }
          ],
          "contour": [
           {
            "colorbar": {
             "outlinewidth": 0,
             "ticks": ""
            },
            "colorscale": [
             [
              0,
              "#0d0887"
             ],
             [
              0.1111111111111111,
              "#46039f"
             ],
             [
              0.2222222222222222,
              "#7201a8"
             ],
             [
              0.3333333333333333,
              "#9c179e"
             ],
             [
              0.4444444444444444,
              "#bd3786"
             ],
             [
              0.5555555555555556,
              "#d8576b"
             ],
             [
              0.6666666666666666,
              "#ed7953"
             ],
             [
              0.7777777777777778,
              "#fb9f3a"
             ],
             [
              0.8888888888888888,
              "#fdca26"
             ],
             [
              1,
              "#f0f921"
             ]
            ],
            "type": "contour"
           }
          ],
          "contourcarpet": [
           {
            "colorbar": {
             "outlinewidth": 0,
             "ticks": ""
            },
            "type": "contourcarpet"
           }
          ],
          "heatmap": [
           {
            "colorbar": {
             "outlinewidth": 0,
             "ticks": ""
            },
            "colorscale": [
             [
              0,
              "#0d0887"
             ],
             [
              0.1111111111111111,
              "#46039f"
             ],
             [
              0.2222222222222222,
              "#7201a8"
             ],
             [
              0.3333333333333333,
              "#9c179e"
             ],
             [
              0.4444444444444444,
              "#bd3786"
             ],
             [
              0.5555555555555556,
              "#d8576b"
             ],
             [
              0.6666666666666666,
              "#ed7953"
             ],
             [
              0.7777777777777778,
              "#fb9f3a"
             ],
             [
              0.8888888888888888,
              "#fdca26"
             ],
             [
              1,
              "#f0f921"
             ]
            ],
            "type": "heatmap"
           }
          ],
          "histogram": [
           {
            "marker": {
             "pattern": {
              "fillmode": "overlay",
              "size": 10,
              "solidity": 0.2
             }
            },
            "type": "histogram"
           }
          ],
          "histogram2d": [
           {
            "colorbar": {
             "outlinewidth": 0,
             "ticks": ""
            },
            "colorscale": [
             [
              0,
              "#0d0887"
             ],
             [
              0.1111111111111111,
              "#46039f"
             ],
             [
              0.2222222222222222,
              "#7201a8"
             ],
             [
              0.3333333333333333,
              "#9c179e"
             ],
             [
              0.4444444444444444,
              "#bd3786"
             ],
             [
              0.5555555555555556,
              "#d8576b"
             ],
             [
              0.6666666666666666,
              "#ed7953"
             ],
             [
              0.7777777777777778,
              "#fb9f3a"
             ],
             [
              0.8888888888888888,
              "#fdca26"
             ],
             [
              1,
              "#f0f921"
             ]
            ],
            "type": "histogram2d"
           }
          ],
          "histogram2dcontour": [
           {
            "colorbar": {
             "outlinewidth": 0,
             "ticks": ""
            },
            "colorscale": [
             [
              0,
              "#0d0887"
             ],
             [
              0.1111111111111111,
              "#46039f"
             ],
             [
              0.2222222222222222,
              "#7201a8"
             ],
             [
              0.3333333333333333,
              "#9c179e"
             ],
             [
              0.4444444444444444,
              "#bd3786"
             ],
             [
              0.5555555555555556,
              "#d8576b"
             ],
             [
              0.6666666666666666,
              "#ed7953"
             ],
             [
              0.7777777777777778,
              "#fb9f3a"
             ],
             [
              0.8888888888888888,
              "#fdca26"
             ],
             [
              1,
              "#f0f921"
             ]
            ],
            "type": "histogram2dcontour"
           }
          ],
          "mesh3d": [
           {
            "colorbar": {
             "outlinewidth": 0,
             "ticks": ""
            },
            "type": "mesh3d"
           }
          ],
          "parcoords": [
           {
            "line": {
             "colorbar": {
              "outlinewidth": 0,
              "ticks": ""
             }
            },
            "type": "parcoords"
           }
          ],
          "pie": [
           {
            "automargin": true,
            "type": "pie"
           }
          ],
          "scatter": [
           {
            "fillpattern": {
             "fillmode": "overlay",
             "size": 10,
             "solidity": 0.2
            },
            "type": "scatter"
           }
          ],
          "scatter3d": [
           {
            "line": {
             "colorbar": {
              "outlinewidth": 0,
              "ticks": ""
             }
            },
            "marker": {
             "colorbar": {
              "outlinewidth": 0,
              "ticks": ""
             }
            },
            "type": "scatter3d"
           }
          ],
          "scattercarpet": [
           {
            "marker": {
             "colorbar": {
              "outlinewidth": 0,
              "ticks": ""
             }
            },
            "type": "scattercarpet"
           }
          ],
          "scattergeo": [
           {
            "marker": {
             "colorbar": {
              "outlinewidth": 0,
              "ticks": ""
             }
            },
            "type": "scattergeo"
           }
          ],
          "scattergl": [
           {
            "marker": {
             "colorbar": {
              "outlinewidth": 0,
              "ticks": ""
             }
            },
            "type": "scattergl"
           }
          ],
          "scattermap": [
           {
            "marker": {
             "colorbar": {
              "outlinewidth": 0,
              "ticks": ""
             }
            },
            "type": "scattermap"
           }
          ],
          "scattermapbox": [
           {
            "marker": {
             "colorbar": {
              "outlinewidth": 0,
              "ticks": ""
             }
            },
            "type": "scattermapbox"
           }
          ],
          "scatterpolar": [
           {
            "marker": {
             "colorbar": {
              "outlinewidth": 0,
              "ticks": ""
             }
            },
            "type": "scatterpolar"
           }
          ],
          "scatterpolargl": [
           {
            "marker": {
             "colorbar": {
              "outlinewidth": 0,
              "ticks": ""
             }
            },
            "type": "scatterpolargl"
           }
          ],
          "scatterternary": [
           {
            "marker": {
             "colorbar": {
              "outlinewidth": 0,
              "ticks": ""
             }
            },
            "type": "scatterternary"
           }
          ],
          "surface": [
           {
            "colorbar": {
             "outlinewidth": 0,
             "ticks": ""
            },
            "colorscale": [
             [
              0,
              "#0d0887"
             ],
             [
              0.1111111111111111,
              "#46039f"
             ],
             [
              0.2222222222222222,
              "#7201a8"
             ],
             [
              0.3333333333333333,
              "#9c179e"
             ],
             [
              0.4444444444444444,
              "#bd3786"
             ],
             [
              0.5555555555555556,
              "#d8576b"
             ],
             [
              0.6666666666666666,
              "#ed7953"
             ],
             [
              0.7777777777777778,
              "#fb9f3a"
             ],
             [
              0.8888888888888888,
              "#fdca26"
             ],
             [
              1,
              "#f0f921"
             ]
            ],
            "type": "surface"
           }
          ],
          "table": [
           {
            "cells": {
             "fill": {
              "color": "#EBF0F8"
             },
             "line": {
              "color": "white"
             }
            },
            "header": {
             "fill": {
              "color": "#C8D4E3"
             },
             "line": {
              "color": "white"
             }
            },
            "type": "table"
           }
          ]
         },
         "layout": {
          "annotationdefaults": {
           "arrowcolor": "#2a3f5f",
           "arrowhead": 0,
           "arrowwidth": 1
          },
          "autotypenumbers": "strict",
          "coloraxis": {
           "colorbar": {
            "outlinewidth": 0,
            "ticks": ""
           }
          },
          "colorscale": {
           "diverging": [
            [
             0,
             "#8e0152"
            ],
            [
             0.1,
             "#c51b7d"
            ],
            [
             0.2,
             "#de77ae"
            ],
            [
             0.3,
             "#f1b6da"
            ],
            [
             0.4,
             "#fde0ef"
            ],
            [
             0.5,
             "#f7f7f7"
            ],
            [
             0.6,
             "#e6f5d0"
            ],
            [
             0.7,
             "#b8e186"
            ],
            [
             0.8,
             "#7fbc41"
            ],
            [
             0.9,
             "#4d9221"
            ],
            [
             1,
             "#276419"
            ]
           ],
           "sequential": [
            [
             0,
             "#0d0887"
            ],
            [
             0.1111111111111111,
             "#46039f"
            ],
            [
             0.2222222222222222,
             "#7201a8"
            ],
            [
             0.3333333333333333,
             "#9c179e"
            ],
            [
             0.4444444444444444,
             "#bd3786"
            ],
            [
             0.5555555555555556,
             "#d8576b"
            ],
            [
             0.6666666666666666,
             "#ed7953"
            ],
            [
             0.7777777777777778,
             "#fb9f3a"
            ],
            [
             0.8888888888888888,
             "#fdca26"
            ],
            [
             1,
             "#f0f921"
            ]
           ],
           "sequentialminus": [
            [
             0,
             "#0d0887"
            ],
            [
             0.1111111111111111,
             "#46039f"
            ],
            [
             0.2222222222222222,
             "#7201a8"
            ],
            [
             0.3333333333333333,
             "#9c179e"
            ],
            [
             0.4444444444444444,
             "#bd3786"
            ],
            [
             0.5555555555555556,
             "#d8576b"
            ],
            [
             0.6666666666666666,
             "#ed7953"
            ],
            [
             0.7777777777777778,
             "#fb9f3a"
            ],
            [
             0.8888888888888888,
             "#fdca26"
            ],
            [
             1,
             "#f0f921"
            ]
           ]
          },
          "colorway": [
           "#636efa",
           "#EF553B",
           "#00cc96",
           "#ab63fa",
           "#FFA15A",
           "#19d3f3",
           "#FF6692",
           "#B6E880",
           "#FF97FF",
           "#FECB52"
          ],
          "font": {
           "color": "#2a3f5f"
          },
          "geo": {
           "bgcolor": "white",
           "lakecolor": "white",
           "landcolor": "#E5ECF6",
           "showlakes": true,
           "showland": true,
           "subunitcolor": "white"
          },
          "hoverlabel": {
           "align": "left"
          },
          "hovermode": "closest",
          "mapbox": {
           "style": "light"
          },
          "paper_bgcolor": "white",
          "plot_bgcolor": "#E5ECF6",
          "polar": {
           "angularaxis": {
            "gridcolor": "white",
            "linecolor": "white",
            "ticks": ""
           },
           "bgcolor": "#E5ECF6",
           "radialaxis": {
            "gridcolor": "white",
            "linecolor": "white",
            "ticks": ""
           }
          },
          "scene": {
           "xaxis": {
            "backgroundcolor": "#E5ECF6",
            "gridcolor": "white",
            "gridwidth": 2,
            "linecolor": "white",
            "showbackground": true,
            "ticks": "",
            "zerolinecolor": "white"
           },
           "yaxis": {
            "backgroundcolor": "#E5ECF6",
            "gridcolor": "white",
            "gridwidth": 2,
            "linecolor": "white",
            "showbackground": true,
            "ticks": "",
            "zerolinecolor": "white"
           },
           "zaxis": {
            "backgroundcolor": "#E5ECF6",
            "gridcolor": "white",
            "gridwidth": 2,
            "linecolor": "white",
            "showbackground": true,
            "ticks": "",
            "zerolinecolor": "white"
           }
          },
          "shapedefaults": {
           "line": {
            "color": "#2a3f5f"
           }
          },
          "ternary": {
           "aaxis": {
            "gridcolor": "white",
            "linecolor": "white",
            "ticks": ""
           },
           "baxis": {
            "gridcolor": "white",
            "linecolor": "white",
            "ticks": ""
           },
           "bgcolor": "#E5ECF6",
           "caxis": {
            "gridcolor": "white",
            "linecolor": "white",
            "ticks": ""
           }
          },
          "title": {
           "x": 0.05
          },
          "xaxis": {
           "automargin": true,
           "gridcolor": "white",
           "linecolor": "white",
           "ticks": "",
           "title": {
            "standoff": 15
           },
           "zerolinecolor": "white",
           "zerolinewidth": 2
          },
          "yaxis": {
           "automargin": true,
           "gridcolor": "white",
           "linecolor": "white",
           "ticks": "",
           "title": {
            "standoff": 15
           },
           "zerolinecolor": "white",
           "zerolinewidth": 2
          }
         }
        },
        "title": {
         "text": "Distribution of Lesions types (primary, metastases, lymph node)"
        },
        "width": 800
       }
      },
      "image/png": "[encoded data removed]",
      "text/html": [
       "<div>            <script src=\"https://cdnjs.cloudflare.com/ajax/libs/mathjax/2.7.5/MathJax.js?config=TeX-AMS-MML_SVG\"></script><script type=\"text/javascript\">if (window.MathJax && window.MathJax.Hub && window.MathJax.Hub.Config) {window.MathJax.Hub.Config({SVG: {font: \"STIX-Web\"}});}</script>                <script type=\"text/javascript\">window.PlotlyConfig = {MathJaxConfig: 'local'};</script>\n",
       "        <script charset=\"utf-8\" src=\"https://cdn.plot.ly/plotly-3.0.1.min.js\"></script>                <div id=\"cea0d712-3fcb-4208-8925-64059c578f6b\" class=\"plotly-graph-div\" style=\"height:500px; width:800px;\"></div>            <script type=\"text/javascript\">                window.PLOTLYENV=window.PLOTLYENV || {};                                if (document.getElementById(\"cea0d712-3fcb-4208-8925-64059c578f6b\")) {                    Plotly.newPlot(                        \"cea0d712-3fcb-4208-8925-64059c578f6b\",                        [{\"labels\":[\"Primary tumor\",\"Primary tumor, Metastases\",\"Primary tumor, Cyst\",\"Enlarged lymph nodes\",\"Mediastinal lymph nodes, Abdominal lymph nodes\"],\"textinfo\":\"label+value\",\"textposition\":\"inside\",\"values\":{\"dtype\":\"i1\",\"bdata\":\"CAMBAQE=\"},\"type\":\"pie\",\"domain\":{\"x\":[0.0,1.0],\"y\":[0.0,1.0]}}],                        {\"template\":{\"data\":{\"histogram2dcontour\":[{\"type\":\"histogram2dcontour\",\"colorbar\":{\"outlinewidth\":0,\"ticks\":\"\"},\"colorscale\":[[0.0,\"#0d0887\"],[0.1111111111111111,\"#46039f\"],[0.2222222222222222,\"#7201a8\"],[0.3333333333333333,\"#9c179e\"],[0.4444444444444444,\"#bd3786\"],[0.5555555555555556,\"#d8576b\"],[0.6666666666666666,\"#ed7953\"],[0.7777777777777778,\"#fb9f3a\"],[0.8888888888888888,\"#fdca26\"],[1.0,\"#f0f921\"]]}],\"choropleth\":[{\"type\":\"choropleth\",\"colorbar\":{\"outlinewidth\":0,\"ticks\":\"\"}}],\"histogram2d\":[{\"type\":\"histogram2d\",\"colorbar\":{\"outlinewidth\":0,\"ticks\":\"\"},\"colorscale\":[[0.0,\"#0d0887\"],[0.1111111111111111,\"#46039f\"],[0.2222222222222222,\"#7201a8\"],[0.3333333333333333,\"#9c179e\"],[0.4444444444444444,\"#bd3786\"],[0.5555555555555556,\"#d8576b\"],[0.6666666666666666,\"#ed7953\"],[0.7777777777777778,\"#fb9f3a\"],[0.8888888888888888,\"#fdca26\"],[1.0,\"#f0f921\"]]}],\"heatmap\":[{\"type\":\"heatmap\",\"colorbar\":{\"outlinewidth\":0,\"ticks\":\"\"},\"colorscale\":[[0.0,\"#0d0887\"],[0.1111111111111111,\"#46039f\"],[0.2222222222222222,\"#7201a8\"],[0.3333333333333333,\"#9c179e\"],[0.4444444444444444,\"#bd3786\"],[0.5555555555555556,\"#d8576b\"],[0.6666666666666666,\"#ed7953\"],[0.7777777777777778,\"#fb9f3a\"],[0.8888888888888888,\"#fdca26\"],[1.0,\"#f0f921\"]]}],\"contourcarpet\":[{\"type\":\"contourcarpet\",\"colorbar\":{\"outlinewidth\":0,\"ticks\":\"\"}}],\"contour\":[{\"type\":\"contour\",\"colorbar\":{\"outlinewidth\":0,\"ticks\":\"\"},\"colorscale\":[[0.0,\"#0d0887\"],[0.1111111111111111,\"#46039f\"],[0.2222222222222222,\"#7201a8\"],[0.3333333333333333,\"#9c179e\"],[0.4444444444444444,\"#bd3786\"],[0.5555555555555556,\"#d8576b\"],[0.6666666666666666,\"#ed7953\"],[0.7777777777777778,\"#fb9f3a\"],[0.8888888888888888,\"#fdca26\"],[1.0,\"#f0f921\"]]}],\"surface\":[{\"type\":\"surface\",\"colorbar\":{\"outlinewidth\":0,\"ticks\":\"\"},\"colorscale\":[[0.0,\"#0d0887\"],[0.1111111111111111,\"#46039f\"],[0.2222222222222222,\"#7201a8\"],[0.3333333333333333,\"#9c179e\"],[0.4444444444444444,\"#bd3786\"],[0.5555555555555556,\"#d8576b\"],[0.6666666666666666,\"#ed7953\"],[0.7777777777777778,\"#fb9f3a\"],[0.8888888888888888,\"#fdca26\"],[1.0,\"#f0f921\"]]}],\"mesh3d\":[{\"type\":\"mesh3d\",\"colorbar\":{\"outlinewidth\":0,\"ticks\":\"\"}}],\"scatter\":[{\"fillpattern\":{\"fillmode\":\"overlay\",\"size\":10,\"solidity\":0.2},\"type\":\"scatter\"}],\"parcoords\":[{\"type\":\"parcoords\",\"line\":{\"colorbar\":{\"outlinewidth\":0,\"ticks\":\"\"}}}],\"scatterpolargl\":[{\"type\":\"scatterpolargl\",\"marker\":{\"colorbar\":{\"outlinewidth\":0,\"ticks\":\"\"}}}],\"bar\":[{\"error_x\":{\"color\":\"#2a3f5f\"},\"error_y\":{\"color\":\"#2a3f5f\"},\"marker\":{\"line\":{\"color\":\"#E5ECF6\",\"width\":0.5},\"pattern\":{\"fillmode\":\"overlay\",\"size\":10,\"solidity\":0.2}},\"type\":\"bar\"}],\"scattergeo\":[{\"type\":\"scattergeo\",\"marker\":{\"colorbar\":{\"outlinewidth\":0,\"ticks\":\"\"}}}],\"scatterpolar\":[{\"type\":\"scatterpolar\",\"marker\":{\"colorbar\":{\"outlinewidth\":0,\"ticks\":\"\"}}}],\"histogram\":[{\"marker\":{\"pattern\":{\"fillmode\":\"overlay\",\"size\":10,\"solidity\":0.2}},\"type\":\"histogram\"}],\"scattergl\":[{\"type\":\"scattergl\",\"marker\":{\"colorbar\":{\"outlinewidth\":0,\"ticks\":\"\"}}}],\"scatter3d\":[{\"type\":\"scatter3d\",\"line\":{\"colorbar\":{\"outlinewidth\":0,\"ticks\":\"\"}},\"marker\":{\"colorbar\":{\"outlinewidth\":0,\"ticks\":\"\"}}}],\"scattermap\":[{\"type\":\"scattermap\",\"marker\":{\"colorbar\":{\"outlinewidth\":0,\"ticks\":\"\"}}}],\"scattermapbox\":[{\"type\":\"scattermapbox\",\"marker\":{\"colorbar\":{\"outlinewidth\":0,\"ticks\":\"\"}}}],\"scatterternary\":[{\"type\":\"scatterternary\",\"marker\":{\"colorbar\":{\"outlinewidth\":0,\"ticks\":\"\"}}}],\"scattercarpet\":[{\"type\":\"scattercarpet\",\"marker\":{\"colorbar\":{\"outlinewidth\":0,\"ticks\":\"\"}}}],\"carpet\":[{\"aaxis\":{\"endlinecolor\":\"#2a3f5f\",\"gridcolor\":\"white\",\"linecolor\":\"white\",\"minorgridcolor\":\"white\",\"startlinecolor\":\"#2a3f5f\"},\"baxis\":{\"endlinecolor\":\"#2a3f5f\",\"gridcolor\":\"white\",\"linecolor\":\"white\",\"minorgridcolor\":\"white\",\"startlinecolor\":\"#2a3f5f\"},\"type\":\"carpet\"}],\"table\":[{\"cells\":{\"fill\":{\"color\":\"#EBF0F8\"},\"line\":{\"color\":\"white\"}},\"header\":{\"fill\":{\"color\":\"#C8D4E3\"},\"line\":{\"color\":\"white\"}},\"type\":\"table\"}],\"barpolar\":[{\"marker\":{\"line\":{\"color\":\"#E5ECF6\",\"width\":0.5},\"pattern\":{\"fillmode\":\"overlay\",\"size\":10,\"solidity\":0.2}},\"type\":\"barpolar\"}],\"pie\":[{\"automargin\":true,\"type\":\"pie\"}]},\"layout\":{\"autotypenumbers\":\"strict\",\"colorway\":[\"#636efa\",\"#EF553B\",\"#00cc96\",\"#ab63fa\",\"#FFA15A\",\"#19d3f3\",\"#FF6692\",\"#B6E880\",\"#FF97FF\",\"#FECB52\"],\"font\":{\"color\":\"#2a3f5f\"},\"hovermode\":\"closest\",\"hoverlabel\":{\"align\":\"left\"},\"paper_bgcolor\":\"white\",\"plot_bgcolor\":\"#E5ECF6\",\"polar\":{\"bgcolor\":\"#E5ECF6\",\"angularaxis\":{\"gridcolor\":\"white\",\"linecolor\":\"white\",\"ticks\":\"\"},\"radialaxis\":{\"gridcolor\":\"white\",\"linecolor\":\"white\",\"ticks\":\"\"}},\"ternary\":{\"bgcolor\":\"#E5ECF6\",\"aaxis\":{\"gridcolor\":\"white\",\"linecolor\":\"white\",\"ticks\":\"\"},\"baxis\":{\"gridcolor\":\"white\",\"linecolor\":\"white\",\"ticks\":\"\"},\"caxis\":{\"gridcolor\":\"white\",\"linecolor\":\"white\",\"ticks\":\"\"}},\"coloraxis\":{\"colorbar\":{\"outlinewidth\":0,\"ticks\":\"\"}},\"colorscale\":{\"sequential\":[[0.0,\"#0d0887\"],[0.1111111111111111,\"#46039f\"],[0.2222222222222222,\"#7201a8\"],[0.3333333333333333,\"#9c179e\"],[0.4444444444444444,\"#bd3786\"],[0.5555555555555556,\"#d8576b\"],[0.6666666666666666,\"#ed7953\"],[0.7777777777777778,\"#fb9f3a\"],[0.8888888888888888,\"#fdca26\"],[1.0,\"#f0f921\"]],\"sequentialminus\":[[0.0,\"#0d0887\"],[0.1111111111111111,\"#46039f\"],[0.2222222222222222,\"#7201a8\"],[0.3333333333333333,\"#9c179e\"],[0.4444444444444444,\"#bd3786\"],[0.5555555555555556,\"#d8576b\"],[0.6666666666666666,\"#ed7953\"],[0.7777777777777778,\"#fb9f3a\"],[0.8888888888888888,\"#fdca26\"],[1.0,\"#f0f921\"]],\"diverging\":[[0,\"#8e0152\"],[0.1,\"#c51b7d\"],[0.2,\"#de77ae\"],[0.3,\"#f1b6da\"],[0.4,\"#fde0ef\"],[0.5,\"#f7f7f7\"],[0.6,\"#e6f5d0\"],[0.7,\"#b8e186\"],[0.8,\"#7fbc41\"],[0.9,\"#4d9221\"],[1,\"#276419\"]]},\"xaxis\":{\"gridcolor\":\"white\",\"linecolor\":\"white\",\"ticks\":\"\",\"title\":{\"standoff\":15},\"zerolinecolor\":\"white\",\"automargin\":true,\"zerolinewidth\":2},\"yaxis\":{\"gridcolor\":\"white\",\"linecolor\":\"white\",\"ticks\":\"\",\"title\":{\"standoff\":15},\"zerolinecolor\":\"white\",\"automargin\":true,\"zerolinewidth\":2},\"scene\":{\"xaxis\":{\"backgroundcolor\":\"#E5ECF6\",\"gridcolor\":\"white\",\"linecolor\":\"white\",\"showbackground\":true,\"ticks\":\"\",\"zerolinecolor\":\"white\",\"gridwidth\":2},\"yaxis\":{\"backgroundcolor\":\"#E5ECF6\",\"gridcolor\":\"white\",\"linecolor\":\"white\",\"showbackground\":true,\"ticks\":\"\",\"zerolinecolor\":\"white\",\"gridwidth\":2},\"zaxis\":{\"backgroundcolor\":\"#E5ECF6\",\"gridcolor\":\"white\",\"linecolor\":\"white\",\"showbackground\":true,\"ticks\":\"\",\"zerolinecolor\":\"white\",\"gridwidth\":2}},\"shapedefaults\":{\"line\":{\"color\":\"#2a3f5f\"}},\"annotationdefaults\":{\"arrowcolor\":\"#2a3f5f\",\"arrowhead\":0,\"arrowwidth\":1},\"geo\":{\"bgcolor\":\"white\",\"landcolor\":\"#E5ECF6\",\"subunitcolor\":\"white\",\"showland\":true,\"showlakes\":true,\"lakecolor\":\"white\"},\"title\":{\"x\":0.05},\"mapbox\":{\"style\":\"light\"}}},\"title\":{\"text\":\"Distribution of Lesions types (primary, metastases, lymph node)\"},\"height\":500,\"width\":800},                        {\"responsive\": true}                    ).then(function(){\n",
       "                            \n",
       "var gd = document.getElementById('cea0d712-3fcb-4208-8925-64059c578f6b');\n",
       "var x = new MutationObserver(function (mutations, observer) {{\n",
       "        var display = window.getComputedStyle(gd).display;\n",
       "        if (!display || display === 'none') {{\n",
       "            console.log([gd, 'removed!']);\n",
       "            Plotly.purge(gd);\n",
       "            observer.disconnect();\n",
       "        }}\n",
       "}});\n",
       "\n",
       "// Listen for the removal of the full notebook cells\n",
       "var notebookContainer = gd.closest('#notebook-container');\n",
       "if (notebookContainer) {{\n",
       "    x.observe(notebookContainer, {childList: true});\n",
       "}}\n",
       "\n",
       "// Listen for the clearing of the current output cell\n",
       "var outputEl = gd.closest('.output');\n",
       "if (outputEl) {{\n",
       "    x.observe(outputEl, {childList: true});\n",
       "}}\n",
       "\n",
       "                        })                };            </script>        </div>"
      ]
     },
     "metadata": {},
     "output_type": "display_data"
    }
   ],
   "source": [
    "# Distribution of Lesions types (primary, metastases, lymph node)\n",
    "fig = make_subplots(\n",
    "    rows=1, cols=1,\n",
    "    specs=[[{'type':'domain'}]*1]*1,  # 'domain' is needed for pie charts\n",
    ")\n",
    "counts = table_df['Lesions'].value_counts().reset_index(name='counts')\n",
    "fig.add_trace(\n",
    "    go.Pie(\n",
    "        labels=counts['Lesions'],\n",
    "        values=counts['counts'],\n",
    "        textinfo='label+value',\n",
    "        textposition='inside'\n",
    "    ),\n",
    "    row=1,\n",
    "    col=1\n",
    ")\n",
    "fig.update_layout(\n",
    "    title='Distribution of Lesions types (primary, metastases, lymph node)',\n",
    "    height=500,\n",
    "    width=800\n",
    ")\n",
    "fig.show()"
   ]
  },
  {
   "cell_type": "code",
   "execution_count": 19,
   "id": "4a2943ac-863b-4dc3-8346-25a32d00e1c0",
   "metadata": {},
   "outputs": [
    {
     "data": {
      "application/vnd.plotly.v1+json": {
       "config": {
        "plotlyServerURL": "https://plot.ly"
       },
       "data": [
        {
         "cliponaxis": false,
         "hovertemplate": "Dataset=%{x}<br>y=%{y}<br>text=%{text}<extra></extra>",
         "legendgroup": "",
         "marker": {
          "color": "#636efa",
          "pattern": {
           "shape": ""
          }
         },
         "name": "",
         "orientation": "v",
         "showlegend": false,
         "text": [
          "1",
          "4",
          "2",
          "1",
          "1",
          "1",
          "1",
          "NR",
          "4",
          "1",
          "4",
          "8",
          "NR",
          "NR"
         ],
         "textposition": "outside",
         "type": "bar",
         "x": [
          "autoPET",
          "MSD-Liver",
          "MSD-Lung",
          "MSD-Pancreas",
          "MSD-Colon",
          "MSD-HepaticVessel",
          "Adrenal-ACC-Ki67",
          "GLIS-RT",
          "HCC-TACE-Seg",
          "NSCLC Radiogenomics",
          "KiPA22",
          "KiTS23",
          "Mediastinal-Lymph-Node-SEG",
          "CT-Lymph-Nodes"
         ],
         "xaxis": "x",
         "y": {
          "bdata": "AQQCAQEBAQAEAQQIAAA=",
          "dtype": "i1"
         },
         "yaxis": "y"
        }
       ],
       "layout": {
        "barmode": "relative",
        "legend": {
         "tracegroupgap": 0
        },
        "margin": {
         "t": 60
        },
        "template": {
         "data": {
          "bar": [
           {
            "error_x": {
             "color": "#2a3f5f"
            },
            "error_y": {
             "color": "#2a3f5f"
            },
            "marker": {
             "line": {
              "color": "#E5ECF6",
              "width": 0.5
             },
             "pattern": {
              "fillmode": "overlay",
              "size": 10,
              "solidity": 0.2
             }
            },
            "type": "bar"
           }
          ],
          "barpolar": [
           {
            "marker": {
             "line": {
              "color": "#E5ECF6",
              "width": 0.5
             },
             "pattern": {
              "fillmode": "overlay",
              "size": 10,
              "solidity": 0.2
             }
            },
            "type": "barpolar"
           }
          ],
          "carpet": [
           {
            "aaxis": {
             "endlinecolor": "#2a3f5f",
             "gridcolor": "white",
             "linecolor": "white",
             "minorgridcolor": "white",
             "startlinecolor": "#2a3f5f"
            },
            "baxis": {
             "endlinecolor": "#2a3f5f",
             "gridcolor": "white",
             "linecolor": "white",
             "minorgridcolor": "white",
             "startlinecolor": "#2a3f5f"
            },
            "type": "carpet"
           }
          ],
          "choropleth": [
           {
            "colorbar": {
             "outlinewidth": 0,
             "ticks": ""
            },
            "type": "choropleth"
           }
          ],
          "contour": [
           {
            "colorbar": {
             "outlinewidth": 0,
             "ticks": ""
            },
            "colorscale": [
             [
              0,
              "#0d0887"
             ],
             [
              0.1111111111111111,
              "#46039f"
             ],
             [
              0.2222222222222222,
              "#7201a8"
             ],
             [
              0.3333333333333333,
              "#9c179e"
             ],
             [
              0.4444444444444444,
              "#bd3786"
             ],
             [
              0.5555555555555556,
              "#d8576b"
             ],
             [
              0.6666666666666666,
              "#ed7953"
             ],
             [
              0.7777777777777778,
              "#fb9f3a"
             ],
             [
              0.8888888888888888,
              "#fdca26"
             ],
             [
              1,
              "#f0f921"
             ]
            ],
            "type": "contour"
           }
          ],
          "contourcarpet": [
           {
            "colorbar": {
             "outlinewidth": 0,
             "ticks": ""
            },
            "type": "contourcarpet"
           }
          ],
          "heatmap": [
           {
            "colorbar": {
             "outlinewidth": 0,
             "ticks": ""
            },
            "colorscale": [
             [
              0,
              "#0d0887"
             ],
             [
              0.1111111111111111,
              "#46039f"
             ],
             [
              0.2222222222222222,
              "#7201a8"
             ],
             [
              0.3333333333333333,
              "#9c179e"
             ],
             [
              0.4444444444444444,
              "#bd3786"
             ],
             [
              0.5555555555555556,
              "#d8576b"
             ],
             [
              0.6666666666666666,
              "#ed7953"
             ],
             [
              0.7777777777777778,
              "#fb9f3a"
             ],
             [
              0.8888888888888888,
              "#fdca26"
             ],
             [
              1,
              "#f0f921"
             ]
            ],
            "type": "heatmap"
           }
          ],
          "histogram": [
           {
            "marker": {
             "pattern": {
              "fillmode": "overlay",
              "size": 10,
              "solidity": 0.2
             }
            },
            "type": "histogram"
           }
          ],
          "histogram2d": [
           {
            "colorbar": {
             "outlinewidth": 0,
             "ticks": ""
            },
            "colorscale": [
             [
              0,
              "#0d0887"
             ],
             [
              0.1111111111111111,
              "#46039f"
             ],
             [
              0.2222222222222222,
              "#7201a8"
             ],
             [
              0.3333333333333333,
              "#9c179e"
             ],
             [
              0.4444444444444444,
              "#bd3786"
             ],
             [
              0.5555555555555556,
              "#d8576b"
             ],
             [
              0.6666666666666666,
              "#ed7953"
             ],
             [
              0.7777777777777778,
              "#fb9f3a"
             ],
             [
              0.8888888888888888,
              "#fdca26"
             ],
             [
              1,
              "#f0f921"
             ]
            ],
            "type": "histogram2d"
           }
          ],
          "histogram2dcontour": [
           {
            "colorbar": {
             "outlinewidth": 0,
             "ticks": ""
            },
            "colorscale": [
             [
              0,
              "#0d0887"
             ],
             [
              0.1111111111111111,
              "#46039f"
             ],
             [
              0.2222222222222222,
              "#7201a8"
             ],
             [
              0.3333333333333333,
              "#9c179e"
             ],
             [
              0.4444444444444444,
              "#bd3786"
             ],
             [
              0.5555555555555556,
              "#d8576b"
             ],
             [
              0.6666666666666666,
              "#ed7953"
             ],
             [
              0.7777777777777778,
              "#fb9f3a"
             ],
             [
              0.8888888888888888,
              "#fdca26"
             ],
             [
              1,
              "#f0f921"
             ]
            ],
            "type": "histogram2dcontour"
           }
          ],
          "mesh3d": [
           {
            "colorbar": {
             "outlinewidth": 0,
             "ticks": ""
            },
            "type": "mesh3d"
           }
          ],
          "parcoords": [
           {
            "line": {
             "colorbar": {
              "outlinewidth": 0,
              "ticks": ""
             }
            },
            "type": "parcoords"
           }
          ],
          "pie": [
           {
            "automargin": true,
            "type": "pie"
           }
          ],
          "scatter": [
           {
            "fillpattern": {
             "fillmode": "overlay",
             "size": 10,
             "solidity": 0.2
            },
            "type": "scatter"
           }
          ],
          "scatter3d": [
           {
            "line": {
             "colorbar": {
              "outlinewidth": 0,
              "ticks": ""
             }
            },
            "marker": {
             "colorbar": {
              "outlinewidth": 0,
              "ticks": ""
             }
            },
            "type": "scatter3d"
           }
          ],
          "scattercarpet": [
           {
            "marker": {
             "colorbar": {
              "outlinewidth": 0,
              "ticks": ""
             }
            },
            "type": "scattercarpet"
           }
          ],
          "scattergeo": [
           {
            "marker": {
             "colorbar": {
              "outlinewidth": 0,
              "ticks": ""
             }
            },
            "type": "scattergeo"
           }
          ],
          "scattergl": [
           {
            "marker": {
             "colorbar": {
              "outlinewidth": 0,
              "ticks": ""
             }
            },
            "type": "scattergl"
           }
          ],
          "scattermap": [
           {
            "marker": {
             "colorbar": {
              "outlinewidth": 0,
              "ticks": ""
             }
            },
            "type": "scattermap"
           }
          ],
          "scattermapbox": [
           {
            "marker": {
             "colorbar": {
              "outlinewidth": 0,
              "ticks": ""
             }
            },
            "type": "scattermapbox"
           }
          ],
          "scatterpolar": [
           {
            "marker": {
             "colorbar": {
              "outlinewidth": 0,
              "ticks": ""
             }
            },
            "type": "scatterpolar"
           }
          ],
          "scatterpolargl": [
           {
            "marker": {
             "colorbar": {
              "outlinewidth": 0,
              "ticks": ""
             }
            },
            "type": "scatterpolargl"
           }
          ],
          "scatterternary": [
           {
            "marker": {
             "colorbar": {
              "outlinewidth": 0,
              "ticks": ""
             }
            },
            "type": "scatterternary"
           }
          ],
          "surface": [
           {
            "colorbar": {
             "outlinewidth": 0,
             "ticks": ""
            },
            "colorscale": [
             [
              0,
              "#0d0887"
             ],
             [
              0.1111111111111111,
              "#46039f"
             ],
             [
              0.2222222222222222,
              "#7201a8"
             ],
             [
              0.3333333333333333,
              "#9c179e"
             ],
             [
              0.4444444444444444,
              "#bd3786"
             ],
             [
              0.5555555555555556,
              "#d8576b"
             ],
             [
              0.6666666666666666,
              "#ed7953"
             ],
             [
              0.7777777777777778,
              "#fb9f3a"
             ],
             [
              0.8888888888888888,
              "#fdca26"
             ],
             [
              1,
              "#f0f921"
             ]
            ],
            "type": "surface"
           }
          ],
          "table": [
           {
            "cells": {
             "fill": {
              "color": "#EBF0F8"
             },
             "line": {
              "color": "white"
             }
            },
            "header": {
             "fill": {
              "color": "#C8D4E3"
             },
             "line": {
              "color": "white"
             }
            },
            "type": "table"
           }
          ]
         },
         "layout": {
          "annotationdefaults": {
           "arrowcolor": "#2a3f5f",
           "arrowhead": 0,
           "arrowwidth": 1
          },
          "autotypenumbers": "strict",
          "coloraxis": {
           "colorbar": {
            "outlinewidth": 0,
            "ticks": ""
           }
          },
          "colorscale": {
           "diverging": [
            [
             0,
             "#8e0152"
            ],
            [
             0.1,
             "#c51b7d"
            ],
            [
             0.2,
             "#de77ae"
            ],
            [
             0.3,
             "#f1b6da"
            ],
            [
             0.4,
             "#fde0ef"
            ],
            [
             0.5,
             "#f7f7f7"
            ],
            [
             0.6,
             "#e6f5d0"
            ],
            [
             0.7,
             "#b8e186"
            ],
            [
             0.8,
             "#7fbc41"
            ],
            [
             0.9,
             "#4d9221"
            ],
            [
             1,
             "#276419"
            ]
           ],
           "sequential": [
            [
             0,
             "#0d0887"
            ],
            [
             0.1111111111111111,
             "#46039f"
            ],
            [
             0.2222222222222222,
             "#7201a8"
            ],
            [
             0.3333333333333333,
             "#9c179e"
            ],
            [
             0.4444444444444444,
             "#bd3786"
            ],
            [
             0.5555555555555556,
             "#d8576b"
            ],
            [
             0.6666666666666666,
             "#ed7953"
            ],
            [
             0.7777777777777778,
             "#fb9f3a"
            ],
            [
             0.8888888888888888,
             "#fdca26"
            ],
            [
             1,
             "#f0f921"
            ]
           ],
           "sequentialminus": [
            [
             0,
             "#0d0887"
            ],
            [
             0.1111111111111111,
             "#46039f"
            ],
            [
             0.2222222222222222,
             "#7201a8"
            ],
            [
             0.3333333333333333,
             "#9c179e"
            ],
            [
             0.4444444444444444,
             "#bd3786"
            ],
            [
             0.5555555555555556,
             "#d8576b"
            ],
            [
             0.6666666666666666,
             "#ed7953"
            ],
            [
             0.7777777777777778,
             "#fb9f3a"
            ],
            [
             0.8888888888888888,
             "#fdca26"
            ],
            [
             1,
             "#f0f921"
            ]
           ]
          },
          "colorway": [
           "#636efa",
           "#EF553B",
           "#00cc96",
           "#ab63fa",
           "#FFA15A",
           "#19d3f3",
           "#FF6692",
           "#B6E880",
           "#FF97FF",
           "#FECB52"
          ],
          "font": {
           "color": "#2a3f5f"
          },
          "geo": {
           "bgcolor": "white",
           "lakecolor": "white",
           "landcolor": "#E5ECF6",
           "showlakes": true,
           "showland": true,
           "subunitcolor": "white"
          },
          "hoverlabel": {
           "align": "left"
          },
          "hovermode": "closest",
          "mapbox": {
           "style": "light"
          },
          "paper_bgcolor": "white",
          "plot_bgcolor": "#E5ECF6",
          "polar": {
           "angularaxis": {
            "gridcolor": "white",
            "linecolor": "white",
            "ticks": ""
           },
           "bgcolor": "#E5ECF6",
           "radialaxis": {
            "gridcolor": "white",
            "linecolor": "white",
            "ticks": ""
           }
          },
          "scene": {
           "xaxis": {
            "backgroundcolor": "#E5ECF6",
            "gridcolor": "white",
            "gridwidth": 2,
            "linecolor": "white",
            "showbackground": true,
            "ticks": "",
            "zerolinecolor": "white"
           },
           "yaxis": {
            "backgroundcolor": "#E5ECF6",
            "gridcolor": "white",
            "gridwidth": 2,
            "linecolor": "white",
            "showbackground": true,
            "ticks": "",
            "zerolinecolor": "white"
           },
           "zaxis": {
            "backgroundcolor": "#E5ECF6",
            "gridcolor": "white",
            "gridwidth": 2,
            "linecolor": "white",
            "showbackground": true,
            "ticks": "",
            "zerolinecolor": "white"
           }
          },
          "shapedefaults": {
           "line": {
            "color": "#2a3f5f"
           }
          },
          "ternary": {
           "aaxis": {
            "gridcolor": "white",
            "linecolor": "white",
            "ticks": ""
           },
           "baxis": {
            "gridcolor": "white",
            "linecolor": "white",
            "ticks": ""
           },
           "bgcolor": "#E5ECF6",
           "caxis": {
            "gridcolor": "white",
            "linecolor": "white",
            "ticks": ""
           }
          },
          "title": {
           "x": 0.05
          },
          "xaxis": {
           "automargin": true,
           "gridcolor": "white",
           "linecolor": "white",
           "ticks": "",
           "title": {
            "standoff": 15
           },
           "zerolinecolor": "white",
           "zerolinewidth": 2
          },
          "yaxis": {
           "automargin": true,
           "gridcolor": "white",
           "linecolor": "white",
           "ticks": "",
           "title": {
            "standoff": 15
           },
           "zerolinecolor": "white",
           "zerolinewidth": 2
          }
         }
        },
        "xaxis": {
         "anchor": "y",
         "domain": [
          0,
          1
         ],
         "title": {
          "text": "Dataset"
         }
        },
        "yaxis": {
         "anchor": "x",
         "domain": [
          0,
          1
         ],
         "title": {
          "text": "Annotators"
         }
        }
       }
      },
      "image/png": "[encoded data removed]",
      "text/html": [
       "<div>            <script src=\"https://cdnjs.cloudflare.com/ajax/libs/mathjax/2.7.5/MathJax.js?config=TeX-AMS-MML_SVG\"></script><script type=\"text/javascript\">if (window.MathJax && window.MathJax.Hub && window.MathJax.Hub.Config) {window.MathJax.Hub.Config({SVG: {font: \"STIX-Web\"}});}</script>                <script type=\"text/javascript\">window.PlotlyConfig = {MathJaxConfig: 'local'};</script>\n",
       "        <script charset=\"utf-8\" src=\"https://cdn.plot.ly/plotly-3.0.1.min.js\"></script>                <div id=\"43cf0d0e-5805-43f8-b1e4-88f28ab5c815\" class=\"plotly-graph-div\" style=\"height:525px; width:100%;\"></div>            <script type=\"text/javascript\">                window.PLOTLYENV=window.PLOTLYENV || {};                                if (document.getElementById(\"43cf0d0e-5805-43f8-b1e4-88f28ab5c815\")) {                    Plotly.newPlot(                        \"43cf0d0e-5805-43f8-b1e4-88f28ab5c815\",                        [{\"hovertemplate\":\"Dataset=%{x}\\u003cbr\\u003ey=%{y}\\u003cbr\\u003etext=%{text}\\u003cextra\\u003e\\u003c\\u002fextra\\u003e\",\"legendgroup\":\"\",\"marker\":{\"color\":\"#636efa\",\"pattern\":{\"shape\":\"\"}},\"name\":\"\",\"orientation\":\"v\",\"showlegend\":false,\"text\":[\"1\",\"4\",\"2\",\"1\",\"1\",\"1\",\"1\",\"NR\",\"4\",\"1\",\"4\",\"8\",\"NR\",\"NR\"],\"textposition\":\"outside\",\"x\":[\"autoPET\",\"MSD-Liver\",\"MSD-Lung\",\"MSD-Pancreas\",\"MSD-Colon\",\"MSD-HepaticVessel\",\"Adrenal-ACC-Ki67\",\"GLIS-RT\",\"HCC-TACE-Seg\",\"NSCLC Radiogenomics\",\"KiPA22\",\"KiTS23\",\"Mediastinal-Lymph-Node-SEG\",\"CT-Lymph-Nodes\"],\"xaxis\":\"x\",\"y\":{\"dtype\":\"i1\",\"bdata\":\"AQQCAQEBAQAEAQQIAAA=\"},\"yaxis\":\"y\",\"type\":\"bar\",\"cliponaxis\":false}],                        {\"template\":{\"data\":{\"histogram2dcontour\":[{\"type\":\"histogram2dcontour\",\"colorbar\":{\"outlinewidth\":0,\"ticks\":\"\"},\"colorscale\":[[0.0,\"#0d0887\"],[0.1111111111111111,\"#46039f\"],[0.2222222222222222,\"#7201a8\"],[0.3333333333333333,\"#9c179e\"],[0.4444444444444444,\"#bd3786\"],[0.5555555555555556,\"#d8576b\"],[0.6666666666666666,\"#ed7953\"],[0.7777777777777778,\"#fb9f3a\"],[0.8888888888888888,\"#fdca26\"],[1.0,\"#f0f921\"]]}],\"choropleth\":[{\"type\":\"choropleth\",\"colorbar\":{\"outlinewidth\":0,\"ticks\":\"\"}}],\"histogram2d\":[{\"type\":\"histogram2d\",\"colorbar\":{\"outlinewidth\":0,\"ticks\":\"\"},\"colorscale\":[[0.0,\"#0d0887\"],[0.1111111111111111,\"#46039f\"],[0.2222222222222222,\"#7201a8\"],[0.3333333333333333,\"#9c179e\"],[0.4444444444444444,\"#bd3786\"],[0.5555555555555556,\"#d8576b\"],[0.6666666666666666,\"#ed7953\"],[0.7777777777777778,\"#fb9f3a\"],[0.8888888888888888,\"#fdca26\"],[1.0,\"#f0f921\"]]}],\"heatmap\":[{\"type\":\"heatmap\",\"colorbar\":{\"outlinewidth\":0,\"ticks\":\"\"},\"colorscale\":[[0.0,\"#0d0887\"],[0.1111111111111111,\"#46039f\"],[0.2222222222222222,\"#7201a8\"],[0.3333333333333333,\"#9c179e\"],[0.4444444444444444,\"#bd3786\"],[0.5555555555555556,\"#d8576b\"],[0.6666666666666666,\"#ed7953\"],[0.7777777777777778,\"#fb9f3a\"],[0.8888888888888888,\"#fdca26\"],[1.0,\"#f0f921\"]]}],\"contourcarpet\":[{\"type\":\"contourcarpet\",\"colorbar\":{\"outlinewidth\":0,\"ticks\":\"\"}}],\"contour\":[{\"type\":\"contour\",\"colorbar\":{\"outlinewidth\":0,\"ticks\":\"\"},\"colorscale\":[[0.0,\"#0d0887\"],[0.1111111111111111,\"#46039f\"],[0.2222222222222222,\"#7201a8\"],[0.3333333333333333,\"#9c179e\"],[0.4444444444444444,\"#bd3786\"],[0.5555555555555556,\"#d8576b\"],[0.6666666666666666,\"#ed7953\"],[0.7777777777777778,\"#fb9f3a\"],[0.8888888888888888,\"#fdca26\"],[1.0,\"#f0f921\"]]}],\"surface\":[{\"type\":\"surface\",\"colorbar\":{\"outlinewidth\":0,\"ticks\":\"\"},\"colorscale\":[[0.0,\"#0d0887\"],[0.1111111111111111,\"#46039f\"],[0.2222222222222222,\"#7201a8\"],[0.3333333333333333,\"#9c179e\"],[0.4444444444444444,\"#bd3786\"],[0.5555555555555556,\"#d8576b\"],[0.6666666666666666,\"#ed7953\"],[0.7777777777777778,\"#fb9f3a\"],[0.8888888888888888,\"#fdca26\"],[1.0,\"#f0f921\"]]}],\"mesh3d\":[{\"type\":\"mesh3d\",\"colorbar\":{\"outlinewidth\":0,\"ticks\":\"\"}}],\"scatter\":[{\"fillpattern\":{\"fillmode\":\"overlay\",\"size\":10,\"solidity\":0.2},\"type\":\"scatter\"}],\"parcoords\":[{\"type\":\"parcoords\",\"line\":{\"colorbar\":{\"outlinewidth\":0,\"ticks\":\"\"}}}],\"scatterpolargl\":[{\"type\":\"scatterpolargl\",\"marker\":{\"colorbar\":{\"outlinewidth\":0,\"ticks\":\"\"}}}],\"bar\":[{\"error_x\":{\"color\":\"#2a3f5f\"},\"error_y\":{\"color\":\"#2a3f5f\"},\"marker\":{\"line\":{\"color\":\"#E5ECF6\",\"width\":0.5},\"pattern\":{\"fillmode\":\"overlay\",\"size\":10,\"solidity\":0.2}},\"type\":\"bar\"}],\"scattergeo\":[{\"type\":\"scattergeo\",\"marker\":{\"colorbar\":{\"outlinewidth\":0,\"ticks\":\"\"}}}],\"scatterpolar\":[{\"type\":\"scatterpolar\",\"marker\":{\"colorbar\":{\"outlinewidth\":0,\"ticks\":\"\"}}}],\"histogram\":[{\"marker\":{\"pattern\":{\"fillmode\":\"overlay\",\"size\":10,\"solidity\":0.2}},\"type\":\"histogram\"}],\"scattergl\":[{\"type\":\"scattergl\",\"marker\":{\"colorbar\":{\"outlinewidth\":0,\"ticks\":\"\"}}}],\"scatter3d\":[{\"type\":\"scatter3d\",\"line\":{\"colorbar\":{\"outlinewidth\":0,\"ticks\":\"\"}},\"marker\":{\"colorbar\":{\"outlinewidth\":0,\"ticks\":\"\"}}}],\"scattermap\":[{\"type\":\"scattermap\",\"marker\":{\"colorbar\":{\"outlinewidth\":0,\"ticks\":\"\"}}}],\"scattermapbox\":[{\"type\":\"scattermapbox\",\"marker\":{\"colorbar\":{\"outlinewidth\":0,\"ticks\":\"\"}}}],\"scatterternary\":[{\"type\":\"scatterternary\",\"marker\":{\"colorbar\":{\"outlinewidth\":0,\"ticks\":\"\"}}}],\"scattercarpet\":[{\"type\":\"scattercarpet\",\"marker\":{\"colorbar\":{\"outlinewidth\":0,\"ticks\":\"\"}}}],\"carpet\":[{\"aaxis\":{\"endlinecolor\":\"#2a3f5f\",\"gridcolor\":\"white\",\"linecolor\":\"white\",\"minorgridcolor\":\"white\",\"startlinecolor\":\"#2a3f5f\"},\"baxis\":{\"endlinecolor\":\"#2a3f5f\",\"gridcolor\":\"white\",\"linecolor\":\"white\",\"minorgridcolor\":\"white\",\"startlinecolor\":\"#2a3f5f\"},\"type\":\"carpet\"}],\"table\":[{\"cells\":{\"fill\":{\"color\":\"#EBF0F8\"},\"line\":{\"color\":\"white\"}},\"header\":{\"fill\":{\"color\":\"#C8D4E3\"},\"line\":{\"color\":\"white\"}},\"type\":\"table\"}],\"barpolar\":[{\"marker\":{\"line\":{\"color\":\"#E5ECF6\",\"width\":0.5},\"pattern\":{\"fillmode\":\"overlay\",\"size\":10,\"solidity\":0.2}},\"type\":\"barpolar\"}],\"pie\":[{\"automargin\":true,\"type\":\"pie\"}]},\"layout\":{\"autotypenumbers\":\"strict\",\"colorway\":[\"#636efa\",\"#EF553B\",\"#00cc96\",\"#ab63fa\",\"#FFA15A\",\"#19d3f3\",\"#FF6692\",\"#B6E880\",\"#FF97FF\",\"#FECB52\"],\"font\":{\"color\":\"#2a3f5f\"},\"hovermode\":\"closest\",\"hoverlabel\":{\"align\":\"left\"},\"paper_bgcolor\":\"white\",\"plot_bgcolor\":\"#E5ECF6\",\"polar\":{\"bgcolor\":\"#E5ECF6\",\"angularaxis\":{\"gridcolor\":\"white\",\"linecolor\":\"white\",\"ticks\":\"\"},\"radialaxis\":{\"gridcolor\":\"white\",\"linecolor\":\"white\",\"ticks\":\"\"}},\"ternary\":{\"bgcolor\":\"#E5ECF6\",\"aaxis\":{\"gridcolor\":\"white\",\"linecolor\":\"white\",\"ticks\":\"\"},\"baxis\":{\"gridcolor\":\"white\",\"linecolor\":\"white\",\"ticks\":\"\"},\"caxis\":{\"gridcolor\":\"white\",\"linecolor\":\"white\",\"ticks\":\"\"}},\"coloraxis\":{\"colorbar\":{\"outlinewidth\":0,\"ticks\":\"\"}},\"colorscale\":{\"sequential\":[[0.0,\"#0d0887\"],[0.1111111111111111,\"#46039f\"],[0.2222222222222222,\"#7201a8\"],[0.3333333333333333,\"#9c179e\"],[0.4444444444444444,\"#bd3786\"],[0.5555555555555556,\"#d8576b\"],[0.6666666666666666,\"#ed7953\"],[0.7777777777777778,\"#fb9f3a\"],[0.8888888888888888,\"#fdca26\"],[1.0,\"#f0f921\"]],\"sequentialminus\":[[0.0,\"#0d0887\"],[0.1111111111111111,\"#46039f\"],[0.2222222222222222,\"#7201a8\"],[0.3333333333333333,\"#9c179e\"],[0.4444444444444444,\"#bd3786\"],[0.5555555555555556,\"#d8576b\"],[0.6666666666666666,\"#ed7953\"],[0.7777777777777778,\"#fb9f3a\"],[0.8888888888888888,\"#fdca26\"],[1.0,\"#f0f921\"]],\"diverging\":[[0,\"#8e0152\"],[0.1,\"#c51b7d\"],[0.2,\"#de77ae\"],[0.3,\"#f1b6da\"],[0.4,\"#fde0ef\"],[0.5,\"#f7f7f7\"],[0.6,\"#e6f5d0\"],[0.7,\"#b8e186\"],[0.8,\"#7fbc41\"],[0.9,\"#4d9221\"],[1,\"#276419\"]]},\"xaxis\":{\"gridcolor\":\"white\",\"linecolor\":\"white\",\"ticks\":\"\",\"title\":{\"standoff\":15},\"zerolinecolor\":\"white\",\"automargin\":true,\"zerolinewidth\":2},\"yaxis\":{\"gridcolor\":\"white\",\"linecolor\":\"white\",\"ticks\":\"\",\"title\":{\"standoff\":15},\"zerolinecolor\":\"white\",\"automargin\":true,\"zerolinewidth\":2},\"scene\":{\"xaxis\":{\"backgroundcolor\":\"#E5ECF6\",\"gridcolor\":\"white\",\"linecolor\":\"white\",\"showbackground\":true,\"ticks\":\"\",\"zerolinecolor\":\"white\",\"gridwidth\":2},\"yaxis\":{\"backgroundcolor\":\"#E5ECF6\",\"gridcolor\":\"white\",\"linecolor\":\"white\",\"showbackground\":true,\"ticks\":\"\",\"zerolinecolor\":\"white\",\"gridwidth\":2},\"zaxis\":{\"backgroundcolor\":\"#E5ECF6\",\"gridcolor\":\"white\",\"linecolor\":\"white\",\"showbackground\":true,\"ticks\":\"\",\"zerolinecolor\":\"white\",\"gridwidth\":2}},\"shapedefaults\":{\"line\":{\"color\":\"#2a3f5f\"}},\"annotationdefaults\":{\"arrowcolor\":\"#2a3f5f\",\"arrowhead\":0,\"arrowwidth\":1},\"geo\":{\"bgcolor\":\"white\",\"landcolor\":\"#E5ECF6\",\"subunitcolor\":\"white\",\"showland\":true,\"showlakes\":true,\"lakecolor\":\"white\"},\"title\":{\"x\":0.05},\"mapbox\":{\"style\":\"light\"}}},\"xaxis\":{\"anchor\":\"y\",\"domain\":[0.0,1.0],\"title\":{\"text\":\"Dataset\"}},\"yaxis\":{\"anchor\":\"x\",\"domain\":[0.0,1.0],\"title\":{\"text\":\"Annotators\"}},\"legend\":{\"tracegroupgap\":0},\"margin\":{\"t\":60},\"barmode\":\"relative\"},                        {\"responsive\": true}                    ).then(function(){\n",
       "                            \n",
       "var gd = document.getElementById('43cf0d0e-5805-43f8-b1e4-88f28ab5c815');\n",
       "var x = new MutationObserver(function (mutations, observer) {{\n",
       "        var display = window.getComputedStyle(gd).display;\n",
       "        if (!display || display === 'none') {{\n",
       "            console.log([gd, 'removed!']);\n",
       "            Plotly.purge(gd);\n",
       "            observer.disconnect();\n",
       "        }}\n",
       "}});\n",
       "\n",
       "// Listen for the removal of the full notebook cells\n",
       "var notebookContainer = gd.closest('#notebook-container');\n",
       "if (notebookContainer) {{\n",
       "    x.observe(notebookContainer, {childList: true});\n",
       "}}\n",
       "\n",
       "// Listen for the clearing of the current output cell\n",
       "var outputEl = gd.closest('.output');\n",
       "if (outputEl) {{\n",
       "    x.observe(outputEl, {childList: true});\n",
       "}}\n",
       "\n",
       "                        })                };            </script>        </div>"
      ]
     },
     "metadata": {},
     "output_type": "display_data"
    }
   ],
   "source": [
    "# Distribution of Annotators count\n",
    "y_values = table_df['Annotators'].fillna(0).astype('int').tolist()\n",
    "fig = px.bar(\n",
    "    table_df,\n",
    "    y=y_values,\n",
    "    x='Dataset',\n",
    "    text=[str(item) if item > 0 else \"NR\" for item in y_values]\n",
    ")\n",
    "fig.update_yaxes(\n",
    "    title_text='Annotators'\n",
    ")\n",
    "fig.update_traces(\n",
    "    textposition='outside',\n",
    "    cliponaxis=False\n",
    ")\n",
    "fig.show()"
   ]
  },
  {
   "cell_type": "code",
   "execution_count": 20,
   "id": "4a2c9f7e-32bc-4ed5-8649-e82f9c121e75",
   "metadata": {},
   "outputs": [
    {
     "data": {
      "application/vnd.plotly.v1+json": {
       "config": {
        "plotlyServerURL": "https://plot.ly"
       },
       "data": [
        {
         "jitter": 0.05,
         "legendgroup": "Task03_Liver",
         "line": {
          "color": "lightseagreen"
         },
         "meanline": {
          "visible": true
         },
         "name": "Task03_Liver",
         "pointpos": 0.25,
         "points": "all",
         "scalegroup": "Task03_Liver",
         "side": "negative",
         "type": "violin",
         "y": {
          "bdata": "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",
          "dtype": "f8"
         }
        },
        {
         "jitter": 0.05,
         "legendgroup": "PET-CT",
         "line": {
          "color": "lightseagreen"
         },
         "meanline": {
          "visible": true
         },
         "name": "PET-CT",
         "pointpos": 0.25,
         "points": "all",
         "scalegroup": "PET-CT",
         "side": "negative",
         "type": "violin",
         "y": {
          "bdata": "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",
          "dtype": "f8"
         }
        },
        {
         "jitter": 0.05,
         "legendgroup": "Mediastinal-Lymph-Node-SEG",
         "line": {
          "color": "lightseagreen"
         },
         "meanline": {
          "visible": true
         },
         "name": "Mediastinal-Lymph-Node-SEG",
         "pointpos": 0.25,
         "points": "all",
         "scalegroup": "Mediastinal-Lymph-Node-SEG",
         "side": "negative",
         "type": "violin",
         "y": {
          "bdata": "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",
          "dtype": "f8"
         }
        },
        {
         "jitter": 0.05,
         "legendgroup": "CT-Lymph-Nodes",
         "line": {
          "color": "lightseagreen"
         },
         "meanline": {
          "visible": true
         },
         "name": "CT-Lymph-Nodes",
         "pointpos": 0.25,
         "points": "all",
         "scalegroup": "CT-Lymph-Nodes",
         "side": "negative",
         "type": "violin",
         "y": {
          "bdata": "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",
          "dtype": "f8"
         }
        },
        {
         "jitter": 0.05,
         "legendgroup": "Task06_Lung",
         "line": {
          "color": "lightseagreen"
         },
         "meanline": {
          "visible": true
         },
         "name": "Task06_Lung",
         "pointpos": 0.25,
         "points": "all",
         "scalegroup": "Task06_Lung",
         "side": "negative",
         "type": "violin",
         "y": {
          "bdata": "AAAAANhoE0DNzMxMR970P83M3PtPMfc/+FOdDjkk9T8AAACgDHgcQGkEnGz5zhBAgvvA07ldVkB9BADGmoSKP0QEN5LBXChAIo4yT3oiP0Bv0+yjetjxP89UmVg5fxRAAAAAAN8OIUAbL93kP1oGQEEmUYn3jE1AsG1GgUKfE0BISm3sNVEPQADg3/8qNjZA/f//7cEcbz8A+AaW1EU9QLCAKX/Q5XA/zqBSI53qYkDNHTCydfQLQGd8sSissVFAkUco4d1hQEC/JJNANGMsQADg2FETJyBA9v8fr8CEqD8AAAAAAHXyPwAAAACg3BRAbc2VjUWtT0CzgIOTtBQYQIKHiz0XpQZAAAA4j200KUABQJWMuHEZQAHg/XjvLCRAfT813osjFEAxCKwcdz8FQAAAAADQWChAAMBU4Rcmd0ApWyGoYU8aQKaQLeMdlDxAAAAAAIAXE0DNTOQUq67pPwKwZYQG/Pg/mplBn2py+D/ir5pTrPwTQGY2+lbltFZAntZOuuy3RED16JT+GX4fQMk/SCn+oOo/aqA62q/NAUCaWRB/7Oj6P5sHHyB37iJAMzMzMzPBO0DzqfHSjTemPwAAAOBKpyZArKxuBiOoFkCKNh2QBpgJQKVJ+ly4mPI/CCpzmFjNB0AAAACg+U/2PwDwNDvSDDFA/P+/fEvJrD///zdFrozaPwBQ2zilRT9A8GC65X4YDED//0mQYfMBQBv8y9By5BBAeOtUlYyb5z8=",
          "dtype": "f8"
         }
        },
        {
         "jitter": 0.05,
         "legendgroup": "Task07_Pancreas",
         "line": {
          "color": "lightseagreen"
         },
         "meanline": {
          "visible": true
         },
         "name": "Task07_Pancreas",
         "pointpos": 0.25,
         "points": "all",
         "scalegroup": "Task07_Pancreas",
         "side": "negative",
         "type": "violin",
         "y": {
          "bdata": "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",
          "dtype": "f8"
         }
        },
        {
         "jitter": 0.05,
         "legendgroup": "Task08_HepaticVessel",
         "line": {
          "color": "lightseagreen"
         },
         "meanline": {
          "visible": true
         },
         "name": "Task08_HepaticVessel",
         "pointpos": 0.25,
         "points": "all",
         "scalegroup": "Task08_HepaticVessel",
         "side": "negative",
         "type": "violin",
         "y": {
          "bdata": "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",
          "dtype": "f8"
         }
        },
        {
         "jitter": 0.05,
         "legendgroup": "NSCLC-Radiogenomics",
         "line": {
          "color": "lightseagreen"
         },
         "meanline": {
          "visible": true
         },
         "name": "NSCLC-Radiogenomics",
         "pointpos": 0.25,
         "points": "all",
         "scalegroup": "NSCLC-Radiogenomics",
         "side": "negative",
         "type": "violin",
         "y": {
          "bdata": "AAAAAMrGJEDqJjH4lUQlQNRxL5KAjA1AAAAAAEXkMkAdYNAu+VxGQIC1bKo+zCBAAAAAAGp3LkBDYOXApS1CQEnMaAqkoilAAAAAwL9uREBdj8KVveclQDMzM9Mn2zJA9ihcz/4RAUANCjYwOQ9LQAAAAADijhxAAAAAAOjRHkCmm8TwlMY3QCbadbdtvBRAH4XrybuNOEAAAABg0ZdSQIXrUbh2NyBAGy/d5D9aBkAzMzMz41cnQEEmUYn3jE1AsG1GgUKfE0BW5dEtmHdMQHeWGhYgR70/JbF/+ZZmD0AAAAAAVE82QAAAAAAAQG8/AAAAAFNiPUAKNDMjHvdwPwjDbPv7/WJAA2dMkqIQDEAAAAAAQHUTQAAAAECfwFFA+gFQ1OZJFkBPuTsvD3JAQNIIQrvWeyxAgnRLMKQxcUAAAAAAZDYgQAAAAAAAnKg/AAAAAAB18j8AAAAAoNwUQB+F61G4PqA/AAAAAJ9MLUAAAAAA2Dj7P2ulkLMzz09As4CDk7QUGECCh4s9F6UGQIwagIRHveo/7QGwu+LeAUAAAAAA2AD7PwAAAABAUQdAmwcfIHfuIkAzMzMzM8E7QOk9mRMLxqE/YHUhHm8fIkDvbY9UJEY0QGVTZfRJq0RA04hy9gPbFkBlMPTYO7IJQKVJ+ly4mPI/vGqiberlB0AAAAAAoLwBQGK6//ODwiRAAAAAAGBm9j8AAAAAAh8xQAAAAAAA6Kw/AAAAAACp2j8AAAAAEL4NQAAAAAC+Yz9AERtQCHYZWkAlLT6n7ydkQEoMAiv3NfI/AQAAAKzRK0AAAAAAAEB0P2eBjbIzTCFAzczMTEfe9D9gBRA1x1oBQAAAAAAARvc/w/UoXOc39T8AAACgDHgcQGkEnGz5zhBAqcSBxbXo8z81XrpJDH4YQIL7wNO5XVZAfQQAxpqEij9EBDeSwVwoQIGVQ/ONi1tAWDm0yKXbAUAAAAAAIO0WQCKOMk96Ij9Ab9Pso3rY8T/j98rlVpYUQAAAACCLOElAAAAAAKAHAkAAAAAAGDQYQGkqGyBA9xBATmIQWG3UM0BnZkKnR99HQLTMzCBcj5w/9gIjo54kNkDhehQOe8wkQGvogjWM2DBAEys0l09NUUCWSlSE0TotQAZQlVFolTFAFK5H4XqsO0AAAACAKhtDQCrDVzIBuuc/AAAAAKiREUAAAAAA0OwQQH00k5eEZBFA/iWPNaLaZkDIONnD0GBEQGAIJ5Qc+V9AAAAAAACD6D8AAAAAwGjzPwAAAAA/mi1AAAAAQKFPQ0Cp7j1tLBhDQN8001RbItE/JdcE4Z7WC0AjBsi9HYUgQAAAAACobBpApq8R3WKFBUAxBuT8k6AXQAAAAADfDiFA/////2NLKUC5BIxPh512QNZ8Zh75NQxAAAAAAODN6z8BAAAArIsZQP/////jQyRAfT813osjFEAxCKwcdz8FQAAAAADYaBNAKTozGFJ0I0AAAAAA0FgoQCPuIdrdIxBAAAAAALQ9d0BDAUUAcmsaQEOkRHB5sjxAAAAAAMCOBUAAAAAAgBcTQAAAAAAQyuk/UwlwFoAZ+T8AAAAAMIYSQAAAAAA4kPg/dQeM+NARFEAAAAAAwO3qPwAAAABuzFZAntZOuuy3REC2NZd+sZ8fQIeZooZaV+o/",
          "dtype": "f8"
         }
        },
        {
         "jitter": 0.05,
         "legendgroup": "KiTS23",
         "line": {
          "color": "lightseagreen"
         },
         "meanline": {
          "visible": true
         },
         "name": "KiTS23",
         "pointpos": 0.25,
         "points": "all",
         "scalegroup": "KiTS23",
         "side": "negative",
         "type": "violin",
         "y": {
          "bdata": "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",
          "dtype": "f8"
         }
        },
        {
         "jitter": 0.05,
         "legendgroup": "Task10_Colon",
         "line": {
          "color": "lightseagreen"
         },
         "meanline": {
          "visible": true
         },
         "name": "Task10_Colon",
         "pointpos": 0.25,
         "points": "all",
         "scalegroup": "Task10_Colon",
         "side": "negative",
         "type": "violin",
         "y": {
          "bdata": "dZcMAwo+IECobDam19TrPwwSZLpZXEdAmpmZmZkNCkBbAMIR+ikyQOPH3nUYXypAwILpwPSVRECkBVtSJ0cjQAEAAADfCkNAsgX8G726NUCdLEM6+bwwQNZL4YbvD8M/kh5dK5p2OECuX49GaicMQAAAAADSgzBAZmZmZlCjS0A2C3jxQFcvQJvgNHD2e11Azj+3WLdPUUCf8DA8E5cuQE7eq93h1ypAmLgy4GlcVEAAAAAAuBoiQJgE+ODbhDFAAAAAAIDgXEDTdlH7yz4yQDjZZ3FFYjxAvAeQHLSBLUA7o/0HZ+Y6QJqZmZlRgTRAo96oFnwZYkBtpYl8j0s8QFt8lonPRTNAMz9YfnCoQEDXpoV5t9pBQNJNYhAMzy1A3QbwUhgwGkBXmrCc6C0oQAAAAACQcTxAweuqJG8TJ0A/Jy/1FhhHQOvNxSkZeBtA99Z8g892NUAsoscog+g5QJ+3CvbfxENAox6Z2Rc4ZkAgY4VizT19QF17iaLb3FFA6JZf8BMWMEA/5FoEFZLRP0YjEhI18BpA/n6t6XdlKUA+CtejBFAjQCatU37fchFAJmk7YmHsVkAAAAAA4L0mQJeEI4MZTB1Aq3q9wNKFQ0AQBMsdy1pDQEKkNRLCxDVAuEuFge6v8j93KeGys9wzQJboNO+lVjBAQk1H7nzhMUC3gOq1UIU4QD1ph4Arrj1AldynAJfAUEC0m0niesEXQFKNy/2wJS5AvNPD7VUMRECsoF+a8r9QQI2NFUDK0TBA25syNcbqPUBLffcFCypTQPw9/WRJxBdA7FG4HquuFkC5AQveCU81QLH0bMrg9ydAimhiKmRhHEAvBxg/J2YrQAAAAADwtyFA/////8NOLEAAAADA2XxpQAAAAADgW/4/w87ST2e7PEDSEMxfx5cyQFw12k1LWTJAKZwLYLJ0IkAXPZNg1NROQHWDa568iUxAAAAAAJASUkClurgI3N8vQNg+OnhWRPM/U5wNhETCFkAAAAAALGBOQM38DoqqLUJAAIJGok0uQkCksCintXVCQAAAAADgkidAFv8o5S4e/j9V46Wb8z9DQGZmZmZmFDVAMsgnxqHEDEDpFFoUeGgxQGDwnCUj8TZAzWAnSnZ+S0DDn8dBhzZBQB9eMj5hDzpAXuLt2SJxREAAAAAAWGAdQPcsNVkEeB9AAAAAACC4GEBdP6Iv7yEUQBFqGi38nD5APnCYf22sTkDTj2PyryRBQGw/fzksH0RA8zQnpqdYMkAEVg5tMVFQQBhVpZp2HjtAAAAAADRwQED2KFwPf8JUQK9K9codiiJA2mctvERlQEAAAAAAOHtVQJgCQUzFkkdAAAAAAB4OEEBAg6CdFug6QMXYjVZM2lNAAAAAABBvR0A=",
          "dtype": "f8"
         }
        },
        {
         "jitter": 0.05,
         "legendgroup": "KiPA22",
         "line": {
          "color": "lightseagreen"
         },
         "meanline": {
          "visible": true
         },
         "name": "KiPA22",
         "pointpos": 0.25,
         "points": "all",
         "scalegroup": "KiPA22",
         "side": "negative",
         "type": "violin",
         "y": {
          "bdata": "lc28ivkfQ0B0qGLV7dYhQAuHSEvaUCFAUqvrp7YhSUBE/PUtw5kwQDgfDtu9/ERAZT/b+JFALEDwp8a7b+1SQLLDT6m0ACRAKfdW1iGXJUBKoMet/n1wQKBX6nciXDlAzNWmkBRNQUBRYYQqATNMQOODCfSLAzlACOckuRYuFkBZLJRxICI2QFXbc5xWf1dAVFYUwhqbJUCrxT4tkbhoQKnezZq3sTtACjMAU4TbTEDjQNB1kUMzQAAAAACAAU9AvnqH/Cj2F0DKzY5FHmJAQGu8dBPvpjFApgiNI/f+QkCIE5n8JocrQK/Wkm5sVVZAfYqe9OByE0BnYPgI3BozQIaSUxwsuFBAH4QSr9z2TEDbwzfYXw//P8+4TaB6kyZAGnNcAi2cSEBywu9ZncE6QLCP9dGSdCZAFjBeb9lxVECjtGxXDoBEQGuGWpDZ/h9AN9nJRc8eQEAtN4mbO9lSQD4Zra6N5T1AOwEL9wfcLUAWGtX57nogQDPdqft+gQRAWFo/n8fTT0ATv+8SG8NDQNCg/tvUdiZAW1aCQab2MED6Zqadnpg4QCbgzG4CYTJAFxWuxuI9QkCOI1kLkJ4KQJ6DktowEkZAy/wXnNbCIEDDcqdIYdAVQM2wG22EjztAl0CjPlzaYUAzsrIWrnhrQHJimZlWOUlAgaI5fa9JFEAfMYKNJFQKQGoo/cTg7VBABJrIrhBgR0CH/w4mBRQvQGb2zT2NsxxAlKtjyKmYQEAp1658gLgXQAprLdYNhkJA",
          "dtype": "f8"
         }
        },
        {
         "jitter": 0.05,
         "legendgroup": "HCC-TACE-Seg",
         "line": {
          "color": "lightseagreen"
         },
         "meanline": {
          "visible": true
         },
         "name": "HCC-TACE-Seg",
         "pointpos": 0.25,
         "points": "all",
         "scalegroup": "HCC-TACE-Seg",
         "side": "negative",
         "type": "violin",
         "y": {
          "bdata": "AAAAAAC9/z8AAAAA5FswQAAAAACgDiVAAAAAAECCBUCTUnLUr89vQAAAAABIci1AAAAAAMykWUD/////s3cvQAAAAABxSkRArqGzF+nARUAAAAAAaCCKQAMG7Wcn9GZAFjqrlneGEkDr0tS+VXcQQOs9M8292sw/ODpzjzbl4j+NiamVPgtVQAAAAAB+PHVA3aEc+7ytSkBzBuosNppIQAAAAIAVlHdAAQAAAGwLFkAAAAAA0OzyPwAAAADARdI/nge+qbHHMEAAAAAA8I0oQP89GzW9CxNAKmvaKbPWpkAtsdb3Fr6HQAAAAAD84jZAAAAAANqkckDTO/X6Kzo3QAAAAABAXTdA/////3AbWUAtdeQZ+nRyQLGxZ/DQ4WhAAAAAAOgDSUAAAAAAII4PQI4L/lTzYDRAAAAA4JD7lkCByHsJhuRmQKHOSfqtzWlAAAAA4P1QZkBMdiBBI/qbQMOjmeLhYuY/zDrDaA+8EEBGB5BZjwcAQNVvZsDBzMQ/fXJGPoaj+j//////gxQuQAAAAACclTlAAAAAwHCnUkABAAAAdZhJQDaA67ZNFpJAADryJtvzZUAAAAAAPF0bQAAAAOBigI5AAAAAAAUpP0AAAAAQ/LKAQAAAAAAATbM/AAAAAICPwT8AAAAAABaxP8sx7DHCqW5AYQYm8esqQUD///+/+S9xQAAAAADic0NAAAAAAJIBQkBnX4w57DiIQAAAADQW2ZFAAAAAAFA3DUAAAABQOqlzQAEAAMB04lZAAAAAAMCa3j8AAAAAAIa5PwEAAADMfitAAAAAgFGORECDFwNxrReTQAAAAAAs4EFAAAAAAGnwfkAAAAB008mbQAAAAADAHuU/AAAAAACxzj8AAAAAoJznPwAAAADADtA/AAAAAFBaY0DG0mBGSBQgQEjVzEI+07Y/PT7LvBKyLUDoCmxDFFttQAtvJxq5REdAZGyGxXof8D/fPFMEOgf6P088MyE+jLg/AAAAAKClKUAAAABIUfmFQAAAABAvXXJAfnBsHyk9lkAAAAAADWZRQP////+g3F1AAAAAAAJuN0Ac2aKIjx5bQKakbaoxfUNAd948EdcoT0AAAAAAgINaQAAAAGCQWHFAAAAAALB6CkCCQBt4RVJNQAAAAMCtz1BAwi3Ppb/Mc0AAAAAApDh0QAAAAMi3L4FAAAAAADN8QUAAAACA3NVeQAWjfh8BwkRAAAAA6CXqkED/////zHE7QAkMyDvphTpAAAAAAAoET0AAAAAAwGIUQKoIzNymGpJAAAAAALitaEB71PYs16lEQAAAAODzmWJAAAAAwCanYUAAAACAxyJAQAAAAAAwwvI/ttUorGb8N0DlCv/jilNtQM3MzLNBra9A4By5LM9bjEAAAAAIhRuCQAAAAACkcDhAAAAAAJbHK0AAAABQZCuRQAAAAABg+iFAS8a43eXuYECXN4H0/8V3QAAAAACk51ZASZaUtHARo0AAAACAyuJEQMcVqDAq6B1AmNM625pKMkAZo2ENXZBJQHA5tlinx5BAAAAAAJ72T0A=",
          "dtype": "f8"
         }
        },
        {
         "jitter": 0.05,
         "legendgroup": "GLIS-RT",
         "line": {
          "color": "lightseagreen"
         },
         "meanline": {
          "visible": true
         },
         "name": "GLIS-RT",
         "pointpos": 0.25,
         "points": "all",
         "scalegroup": "GLIS-RT",
         "side": "negative",
         "type": "violin",
         "y": {
          "bdata": "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",
          "dtype": "f8"
         }
        },
        {
         "jitter": 0.05,
         "legendgroup": "Adrenal-ACC-Ki67",
         "line": {
          "color": "lightseagreen"
         },
         "meanline": {
          "visible": true
         },
         "name": "Adrenal-ACC-Ki67",
         "pointpos": 0.25,
         "points": "all",
         "scalegroup": "Adrenal-ACC-Ki67",
         "side": "negative",
         "type": "violin",
         "y": {
          "bdata": "AAAAgF2UbkBxPQq3zG+aQAAAAEC8v15AzVl4bok3OkCG61HYmPZvQAAAAAA+SC9Ayb2RnUl0f0C/IjDeuTFOQFi72bLa8VFAaLwSGsQnBUAAAACAYnJ3QAAAgH2vH4JAAAAAvsK3vkBnLrLD2g9nQNjcrdD0poVAAAAAAICz4j8AAABAQyphQBzYkQ7EbF5ApHA9dkPLiUAzMzMHpmFJQIPAyqGV/ZxAOVMnIK//iEAAAAAAyHsxQBRSzNB6rZdANDMz30pWREAAAAAgXRNyQAAAAIA/8n1AzczMHIsKZkBScREZHu5ZQBTom4Ncy2FAY94H1cJHg0Bd1V7+YQ1XQIzr3S01JpZANOKsIzwcP0CnzxFQhVhoQAAAAODwUWZACKwcGgdNYUAyp/+jxSBJQC/Icf6kanpAKlwPW4eMfUB7FK5H4ZY6QMj/TI1+WVhAuwXs5YjYNUAAAACgRYRjQKLVkuNwdiNAAQAAwLBTSkBvfX051riUQPxMyn+lzWVAAAAA8CiogUAAAAAA/t52QFpx2WDuSYRAAAAAQIvRl0Avpfu7M15DQAAAAKj9hHFA",
          "dtype": "f8"
         }
        }
       ],
       "layout": {
        "height": 800,
        "showlegend": false,
        "template": {
         "data": {
          "bar": [
           {
            "error_x": {
             "color": "#2a3f5f"
            },
            "error_y": {
             "color": "#2a3f5f"
            },
            "marker": {
             "line": {
              "color": "#E5ECF6",
              "width": 0.5
             },
             "pattern": {
              "fillmode": "overlay",
              "size": 10,
              "solidity": 0.2
             }
            },
            "type": "bar"
           }
          ],
          "barpolar": [
           {
            "marker": {
             "line": {
              "color": "#E5ECF6",
              "width": 0.5
             },
             "pattern": {
              "fillmode": "overlay",
              "size": 10,
              "solidity": 0.2
             }
            },
            "type": "barpolar"
           }
          ],
          "carpet": [
           {
            "aaxis": {
             "endlinecolor": "#2a3f5f",
             "gridcolor": "white",
             "linecolor": "white",
             "minorgridcolor": "white",
             "startlinecolor": "#2a3f5f"
            },
            "baxis": {
             "endlinecolor": "#2a3f5f",
             "gridcolor": "white",
             "linecolor": "white",
             "minorgridcolor": "white",
             "startlinecolor": "#2a3f5f"
            },
            "type": "carpet"
           }
          ],
          "choropleth": [
           {
            "colorbar": {
             "outlinewidth": 0,
             "ticks": ""
            },
            "type": "choropleth"
           }
          ],
          "contour": [
           {
            "colorbar": {
             "outlinewidth": 0,
             "ticks": ""
            },
            "colorscale": [
             [
              0,
              "#0d0887"
             ],
             [
              0.1111111111111111,
              "#46039f"
             ],
             [
              0.2222222222222222,
              "#7201a8"
             ],
             [
              0.3333333333333333,
              "#9c179e"
             ],
             [
              0.4444444444444444,
              "#bd3786"
             ],
             [
              0.5555555555555556,
              "#d8576b"
             ],
             [
              0.6666666666666666,
              "#ed7953"
             ],
             [
              0.7777777777777778,
              "#fb9f3a"
             ],
             [
              0.8888888888888888,
              "#fdca26"
             ],
             [
              1,
              "#f0f921"
             ]
            ],
            "type": "contour"
           }
          ],
          "contourcarpet": [
           {
            "colorbar": {
             "outlinewidth": 0,
             "ticks": ""
            },
            "type": "contourcarpet"
           }
          ],
          "heatmap": [
           {
            "colorbar": {
             "outlinewidth": 0,
             "ticks": ""
            },
            "colorscale": [
             [
              0,
              "#0d0887"
             ],
             [
              0.1111111111111111,
              "#46039f"
             ],
             [
              0.2222222222222222,
              "#7201a8"
             ],
             [
              0.3333333333333333,
              "#9c179e"
             ],
             [
              0.4444444444444444,
              "#bd3786"
             ],
             [
              0.5555555555555556,
              "#d8576b"
             ],
             [
              0.6666666666666666,
              "#ed7953"
             ],
             [
              0.7777777777777778,
              "#fb9f3a"
             ],
             [
              0.8888888888888888,
              "#fdca26"
             ],
             [
              1,
              "#f0f921"
             ]
            ],
            "type": "heatmap"
           }
          ],
          "histogram": [
           {
            "marker": {
             "pattern": {
              "fillmode": "overlay",
              "size": 10,
              "solidity": 0.2
             }
            },
            "type": "histogram"
           }
          ],
          "histogram2d": [
           {
            "colorbar": {
             "outlinewidth": 0,
             "ticks": ""
            },
            "colorscale": [
             [
              0,
              "#0d0887"
             ],
             [
              0.1111111111111111,
              "#46039f"
             ],
             [
              0.2222222222222222,
              "#7201a8"
             ],
             [
              0.3333333333333333,
              "#9c179e"
             ],
             [
              0.4444444444444444,
              "#bd3786"
             ],
             [
              0.5555555555555556,
              "#d8576b"
             ],
             [
              0.6666666666666666,
              "#ed7953"
             ],
             [
              0.7777777777777778,
              "#fb9f3a"
             ],
             [
              0.8888888888888888,
              "#fdca26"
             ],
             [
              1,
              "#f0f921"
             ]
            ],
            "type": "histogram2d"
           }
          ],
          "histogram2dcontour": [
           {
            "colorbar": {
             "outlinewidth": 0,
             "ticks": ""
            },
            "colorscale": [
             [
              0,
              "#0d0887"
             ],
             [
              0.1111111111111111,
              "#46039f"
             ],
             [
              0.2222222222222222,
              "#7201a8"
             ],
             [
              0.3333333333333333,
              "#9c179e"
             ],
             [
              0.4444444444444444,
              "#bd3786"
             ],
             [
              0.5555555555555556,
              "#d8576b"
             ],
             [
              0.6666666666666666,
              "#ed7953"
             ],
             [
              0.7777777777777778,
              "#fb9f3a"
             ],
             [
              0.8888888888888888,
              "#fdca26"
             ],
             [
              1,
              "#f0f921"
             ]
            ],
            "type": "histogram2dcontour"
           }
          ],
          "mesh3d": [
           {
            "colorbar": {
             "outlinewidth": 0,
             "ticks": ""
            },
            "type": "mesh3d"
           }
          ],
          "parcoords": [
           {
            "line": {
             "colorbar": {
              "outlinewidth": 0,
              "ticks": ""
             }
            },
            "type": "parcoords"
           }
          ],
          "pie": [
           {
            "automargin": true,
            "type": "pie"
           }
          ],
          "scatter": [
           {
            "fillpattern": {
             "fillmode": "overlay",
             "size": 10,
             "solidity": 0.2
            },
            "type": "scatter"
           }
          ],
          "scatter3d": [
           {
            "line": {
             "colorbar": {
              "outlinewidth": 0,
              "ticks": ""
             }
            },
            "marker": {
             "colorbar": {
              "outlinewidth": 0,
              "ticks": ""
             }
            },
            "type": "scatter3d"
           }
          ],
          "scattercarpet": [
           {
            "marker": {
             "colorbar": {
              "outlinewidth": 0,
              "ticks": ""
             }
            },
            "type": "scattercarpet"
           }
          ],
          "scattergeo": [
           {
            "marker": {
             "colorbar": {
              "outlinewidth": 0,
              "ticks": ""
             }
            },
            "type": "scattergeo"
           }
          ],
          "scattergl": [
           {
            "marker": {
             "colorbar": {
              "outlinewidth": 0,
              "ticks": ""
             }
            },
            "type": "scattergl"
           }
          ],
          "scattermap": [
           {
            "marker": {
             "colorbar": {
              "outlinewidth": 0,
              "ticks": ""
             }
            },
            "type": "scattermap"
           }
          ],
          "scattermapbox": [
           {
            "marker": {
             "colorbar": {
              "outlinewidth": 0,
              "ticks": ""
             }
            },
            "type": "scattermapbox"
           }
          ],
          "scatterpolar": [
           {
            "marker": {
             "colorbar": {
              "outlinewidth": 0,
              "ticks": ""
             }
            },
            "type": "scatterpolar"
           }
          ],
          "scatterpolargl": [
           {
            "marker": {
             "colorbar": {
              "outlinewidth": 0,
              "ticks": ""
             }
            },
            "type": "scatterpolargl"
           }
          ],
          "scatterternary": [
           {
            "marker": {
             "colorbar": {
              "outlinewidth": 0,
              "ticks": ""
             }
            },
            "type": "scatterternary"
           }
          ],
          "surface": [
           {
            "colorbar": {
             "outlinewidth": 0,
             "ticks": ""
            },
            "colorscale": [
             [
              0,
              "#0d0887"
             ],
             [
              0.1111111111111111,
              "#46039f"
             ],
             [
              0.2222222222222222,
              "#7201a8"
             ],
             [
              0.3333333333333333,
              "#9c179e"
             ],
             [
              0.4444444444444444,
              "#bd3786"
             ],
             [
              0.5555555555555556,
              "#d8576b"
             ],
             [
              0.6666666666666666,
              "#ed7953"
             ],
             [
              0.7777777777777778,
              "#fb9f3a"
             ],
             [
              0.8888888888888888,
              "#fdca26"
             ],
             [
              1,
              "#f0f921"
             ]
            ],
            "type": "surface"
           }
          ],
          "table": [
           {
            "cells": {
             "fill": {
              "color": "#EBF0F8"
             },
             "line": {
              "color": "white"
             }
            },
            "header": {
             "fill": {
              "color": "#C8D4E3"
             },
             "line": {
              "color": "white"
             }
            },
            "type": "table"
           }
          ]
         },
         "layout": {
          "annotationdefaults": {
           "arrowcolor": "#2a3f5f",
           "arrowhead": 0,
           "arrowwidth": 1
          },
          "autotypenumbers": "strict",
          "coloraxis": {
           "colorbar": {
            "outlinewidth": 0,
            "ticks": ""
           }
          },
          "colorscale": {
           "diverging": [
            [
             0,
             "#8e0152"
            ],
            [
             0.1,
             "#c51b7d"
            ],
            [
             0.2,
             "#de77ae"
            ],
            [
             0.3,
             "#f1b6da"
            ],
            [
             0.4,
             "#fde0ef"
            ],
            [
             0.5,
             "#f7f7f7"
            ],
            [
             0.6,
             "#e6f5d0"
            ],
            [
             0.7,
             "#b8e186"
            ],
            [
             0.8,
             "#7fbc41"
            ],
            [
             0.9,
             "#4d9221"
            ],
            [
             1,
             "#276419"
            ]
           ],
           "sequential": [
            [
             0,
             "#0d0887"
            ],
            [
             0.1111111111111111,
             "#46039f"
            ],
            [
             0.2222222222222222,
             "#7201a8"
            ],
            [
             0.3333333333333333,
             "#9c179e"
            ],
            [
             0.4444444444444444,
             "#bd3786"
            ],
            [
             0.5555555555555556,
             "#d8576b"
            ],
            [
             0.6666666666666666,
             "#ed7953"
            ],
            [
             0.7777777777777778,
             "#fb9f3a"
            ],
            [
             0.8888888888888888,
             "#fdca26"
            ],
            [
             1,
             "#f0f921"
            ]
           ],
           "sequentialminus": [
            [
             0,
             "#0d0887"
            ],
            [
             0.1111111111111111,
             "#46039f"
            ],
            [
             0.2222222222222222,
             "#7201a8"
            ],
            [
             0.3333333333333333,
             "#9c179e"
            ],
            [
             0.4444444444444444,
             "#bd3786"
            ],
            [
             0.5555555555555556,
             "#d8576b"
            ],
            [
             0.6666666666666666,
             "#ed7953"
            ],
            [
             0.7777777777777778,
             "#fb9f3a"
            ],
            [
             0.8888888888888888,
             "#fdca26"
            ],
            [
             1,
             "#f0f921"
            ]
           ]
          },
          "colorway": [
           "#636efa",
           "#EF553B",
           "#00cc96",
           "#ab63fa",
           "#FFA15A",
           "#19d3f3",
           "#FF6692",
           "#B6E880",
           "#FF97FF",
           "#FECB52"
          ],
          "font": {
           "color": "#2a3f5f"
          },
          "geo": {
           "bgcolor": "white",
           "lakecolor": "white",
           "landcolor": "#E5ECF6",
           "showlakes": true,
           "showland": true,
           "subunitcolor": "white"
          },
          "hoverlabel": {
           "align": "left"
          },
          "hovermode": "closest",
          "mapbox": {
           "style": "light"
          },
          "paper_bgcolor": "white",
          "plot_bgcolor": "#E5ECF6",
          "polar": {
           "angularaxis": {
            "gridcolor": "white",
            "linecolor": "white",
            "ticks": ""
           },
           "bgcolor": "#E5ECF6",
           "radialaxis": {
            "gridcolor": "white",
            "linecolor": "white",
            "ticks": ""
           }
          },
          "scene": {
           "xaxis": {
            "backgroundcolor": "#E5ECF6",
            "gridcolor": "white",
            "gridwidth": 2,
            "linecolor": "white",
            "showbackground": true,
            "ticks": "",
            "zerolinecolor": "white"
           },
           "yaxis": {
            "backgroundcolor": "#E5ECF6",
            "gridcolor": "white",
            "gridwidth": 2,
            "linecolor": "white",
            "showbackground": true,
            "ticks": "",
            "zerolinecolor": "white"
           },
           "zaxis": {
            "backgroundcolor": "#E5ECF6",
            "gridcolor": "white",
            "gridwidth": 2,
            "linecolor": "white",
            "showbackground": true,
            "ticks": "",
            "zerolinecolor": "white"
           }
          },
          "shapedefaults": {
           "line": {
            "color": "#2a3f5f"
           }
          },
          "ternary": {
           "aaxis": {
            "gridcolor": "white",
            "linecolor": "white",
            "ticks": ""
           },
           "baxis": {
            "gridcolor": "white",
            "linecolor": "white",
            "ticks": ""
           },
           "bgcolor": "#E5ECF6",
           "caxis": {
            "gridcolor": "white",
            "linecolor": "white",
            "ticks": ""
           }
          },
          "title": {
           "x": 0.05
          },
          "xaxis": {
           "automargin": true,
           "gridcolor": "white",
           "linecolor": "white",
           "ticks": "",
           "title": {
            "standoff": 15
           },
           "zerolinecolor": "white",
           "zerolinewidth": 2
          },
          "yaxis": {
           "automargin": true,
           "gridcolor": "white",
           "linecolor": "white",
           "ticks": "",
           "title": {
            "standoff": 15
           },
           "zerolinecolor": "white",
           "zerolinewidth": 2
          }
         }
        },
        "title": {
         "text": "Distribution of Lesion Volumes by Dataset"
        },
        "violingap": 0,
        "violingroupgap": 0,
        "violinmode": "overlay",
        "width": 1000,
        "xaxis": {
         "showgrid": false,
         "tickangle": -90,
         "title": {
          "text": "Dataset"
         },
         "zeroline": false
        },
        "yaxis": {
         "range": [
          0,
          1000
         ],
         "title": {
          "text": "Lesion Volume (ml)"
         }
        }
       }
      },
      "image/png": "[encoded data removed]",
      "text/html": [
       "<div>            <script src=\"https://cdnjs.cloudflare.com/ajax/libs/mathjax/2.7.5/MathJax.js?config=TeX-AMS-MML_SVG\"></script><script type=\"text/javascript\">if (window.MathJax && window.MathJax.Hub && window.MathJax.Hub.Config) {window.MathJax.Hub.Config({SVG: {font: \"STIX-Web\"}});}</script>                <script type=\"text/javascript\">window.PlotlyConfig = {MathJaxConfig: 'local'};</script>\n",
       "        <script charset=\"utf-8\" src=\"https://cdn.plot.ly/plotly-3.0.1.min.js\"></script>                <div id=\"1bef1862-4382-4c66-8148-76ee07fe3fc5\" class=\"plotly-graph-div\" style=\"height:800px; width:1000px;\"></div>            <script type=\"text/javascript\">                window.PLOTLYENV=window.PLOTLYENV || {};                                if (document.getElementById(\"1bef1862-4382-4c66-8148-76ee07fe3fc5\")) {                    Plotly.newPlot(                        \"1bef1862-4382-4c66-8148-76ee07fe3fc5\",                        [{\"legendgroup\":\"Task03_Liver\",\"line\":{\"color\":\"lightseagreen\"},\"name\":\"Task03_Liver\",\"pointpos\":0.25,\"scalegroup\":\"Task03_Liver\",\"side\":\"negative\",\"y\":{\"dtype\":\"f8\",\"bdata\":\"AAAAANB0BUAAAAAAgKzVPwAAAABABuo\\u002fAAAAAAB0wD8AAAAAgEHXPwAAAAAAM9U\\u002fAAAAAAACzz8AAAAAgCfZPwAAAABAjuw\\u002fLM8wnj5YEUB5NtMsvOTnP+s2s9J8Lts\\u002ftpw5\\u002fXG59j+O0BwN9W\\u002f7P4+cmXDcoNU\\u002fotBs0z\\u002f86z9xaWaIgTb2PzMDALjLYcc\\u002fDDfjx04Y\\u002fD8u0Iwtf7LYP+7PLEPb3gZAKVyPQo5BIUD+1HjpWbUNQEOLbOcL\\u002f9Q\\u002fc2iR7XTa5j+yne+ngkjqP7PIdr4\\u002faMg\\u002fmz1Y6+Y5vj\\u002fRKI9U1qCAQK1QNgnbAgRAVwYQGshP1T\\u002fLHjRiv22WP66IyW5AMNk\\u002fGf31qRjH0D+ozQaUm3HYP77TOvKZJsQ\\u002f7kyEvmGj7D9cf2sIK\\u002f+gPyzenKa1WD5AM9PNNdq5KkBYqsSUxaDhPyklt2TnpVBAyJGM7+dCF0B7sxk2yBrmP\\u002fT+f7pCBgBAn3kTE2\\u002f3A0ALW29g\\u002f6ojQJVEQnO9LDFA8\\u002fPkyK1VQ0A\\u002fly9zes3DP4Sd+SXrzOI\\u002f9JnSo9ddCUArHCHCxlRgQLNoj0D4fJI\\u002fSd4p\\u002fyp7rT\\u002fwMo1aufzDP9vC\\u002fSKp3t0\\u002fF6tCqwFQ4D8qkeqx1C28P3BoPYVWNv0\\u002f1BPqCSkHfUArwDsCuxQAQCTPUao2YgFAP\\u002fBRWMyFHEAqCBJnwcn4PzHZoUSZ+tA\\u002fF08VOWhFuD8b9\\u002frzBi3oP9JL35uxpTFAp1avq7Sa6z+k4R1snsMMQAASnoLzM+w\\u002fSqsEtdBkwj8c3mdSsq\\u002fyP3hzNcjCk7k\\u002f6MD\\u002feVYr4z9cb+RR0QAqQKXQrDr39xJA3k9\\u002f8hYtsj8IHUm0q3nGP1YpPjlwsjBAknz9a1nnuT8kcHCMfUXQPxgMfd2E0Q9AuzWg28U84T\\u002fxgUt30\\u002fgDQLbTE3sELzVA+D\\u002fhU8+a0T+R6sfSF7q3P8WIIXKEN9Q\\u002f1HIA77UrKUA4bO5yNRslQK9qIoEDNJY\\u002fWyrmjknU4D9nbSNFrWvsP7vrQKeKxOc\\u002fjU3nBx5H6z\\u002fIoYe0Yh3FPylzJq3+cPM\\u002f2B2zbVph0D8YPBs4jLbtP2JXcyNQsc4\\u002fQh0NM9ynIkCSDjMFmxS8Py4OfqjDIM8\\u002feAVrYQTBuz9dv9FIDC3WP5IOMwWbFKw\\u002fZEYC8qjl1D\\u002frjFBneG3nPyp8SA+C87w\\u002fjWuMOrIboD88Zj4vOArGPwQ7SKUsfdQ\\u002f+Y5+kS1UG0CjL45YsBTEPzsLbslVxsI\\u002fAG1u6NV37z9aodJXiymoP1kfDv4a9\\u002fE\\u002fGPRE04UB5T8W9ETThQHFP5ZpA2t9WL8\\u002f4uG0i1haxD\\u002fm8gkpB2PfP8BWqwtl1w9ALr4Sw\\u002fl6wj9DhF1tAvSvP0CI+eAJc70\\u002fcWcgEpcQyz81PlcYlz34P+H01+KKIv4\\u002fYYjncanPHkAX0xc3VmDMPxnnjshjgxVAPU8ZE19B0z+ndCg+BbiyPycpcP+MNcQ\\u002fW6oGgdT\\u002fvj8Hcdm+kwPVPwKtbiOEVM0\\u002fmxf2wEa\\u002f4z8prGnrbxcIQJS3Dq1Cp8Y\\u002fGkKCuUerGEB9v0aUUaXBPzH1JNcg7b0\\u002fPz3bir2Fjj8wjJVUEfKqP8wr2KE8isI\\u002fDNKnr1l74T8dWmQ7X\\u002fv\\u002fPzVeukkMxLY\\u002fEC2yna9v7j9cj8L1KLzbP4cW2c6XovQ\\u002f2pFyvdwmrj9N76X6EVYUQDvJMdH8extAaTsXZ1O4tj+or9QrMU6xP0ld\\u002fa3I6vU\\u002fMDLcUSorLEBFoi+Vten9P+F3xupXxd8\\u002ft4Ldhur5E0DxqtveKnr0P6P91QRfaaE\\u002fb2wop7FrKUDdWgLXdQW1P7iXAIgzRgJAW3Y6SimWuT\\u002fsLXVvOF2+P4EkcuUu794\\u002frmx5EOof8D\\u002fUmIp8rrnDP1ZcaVSNbOE\\u002fAQ595wOO3D+r10ABse7tPx2cNoBKXcE\\u002ffMYaaJ3zoT+Z7Z\\u002fhDADDPx2cNoBKXbE\\u002fToN7KsL6Xz8SD+Frj\\u002fyEP06DeyrC+l8\\u002fOdBABecZD0BoqtTXT6cfQH6j3J8R\\u002fJc\\u002fETKNWrn8Yz98fzCx5\\u002fuIP06DeyrC+k8\\u002fzUTjUc58kz9Og3sqwvpPP0neKf8qe50\\u002ftvMDu3SSIkCojr6mGOstQO06oNV3jNU\\u002fseZVf1s5BkAy+1pz4hvJP9WgOp5A9+w\\u002fsn6YsJvL2j\\u002futhaYmMTUP4hkrYyhpXBAF3SonaPuHECanNLY83XDP6ESrSCkat8\\u002fQRQn4so6wj+nTO8q0+q2PyVuDOCOKwxAgw1UBVm3L0AukTx+TB2uP9fqxOjip8I\\u002f8BQWkpRk7z+6xyVwDWLAPxBEwzjQo9k\\u002fxEFax9+p2T+yfNAOLRvlP+BVk\\u002fCU0sY\\u002fI9YT7G7e4j+3K9tuvvbzP1RGVk2iXVtAteXxDk6cuj9IaNt7GKK2P+N0YX09PLE\\u002fETED2o0zxz+DkE3OgvOwP5hs8fSZRQVAy3dCwuzWwz8SXze2VrqmP\\u002fxlcgooqOY\\u002fGY1rkh9B1j8XP8KQ\\u002fvAiQMIs7WAMkOg\\u002fRk9VZsF7OUBu+qILwmXaP2LZb2VunGFAU7Xd5ImSsD8QV3uVH98BQKHKBrW8\\u002fNI\\u002fQkkN7284rD9r8u7sfb\\u002ffPyMPVAg2L8o\\u002fwPH\\u002fPLSV4j\\u002fT+So4A8W3P9Cldp61XdM\\u002f+mnMGUr7sz+O7LWGFAHwP7bMKplYL+w\\u002fuKyx8oZL0z+NOLYBHsLJP0lZdSz4hLE\\u002fxxf5xKsuUj+jB6HgpaDHP44SNkSZ4eQ\\u002fOst+iHud1T8g+Dma0WvKP2GLevTt58g\\u002fvxMm6xYj6j9KoRuY3\\u002fLdP6FbNrtDTEJAREu69gDi6j+pV\\u002ffpV5oZQNCldp61XdM\\u002fJhcIJ3rVxD\\u002fU6sTo4qeyP4cZ6HR1WM8\\u002fpQeh4KWg1z9GPFSn4MTlP1wgrOw7vcQ\\u002f\\u002fPdb5aHD+T9s4duVzPjrPyUmbnaa8sk\\u002fctopZfCB4T8zv3BaFaS9P7C3vTKFFbs\\u002frWMJmTeuxj+anNLY83XDPxWuRxlouCBAEVh54o0RdUCwne+nFinAP\\u002fmp8dIpbss\\u002fGi\\u002fdJBoNxT+iRbZzgD3gPyzdJAZlzMA\\u002fR+F6FA1X0j+gGi9dek\\u002fnPzEIrByGX+A\\u002f\\u002f\\u002f\\u002f\\u002f\\u002fxul1T82iUFgBL7VP0w3ieGrqABAabx0k1rBwT99lUOL\\u002fF26P8dLN0ne2\\u002fo\\u002fa7x0k1Nk\\u002fj8nMQisDICwP7RJDAITwKg\\u002fMQisHFpSdkBQjZduEoP8P42XbhKDwOY\\u002fI9v5fmo8KECiRbbz\\u002fVQZQBKDwMqh5ThAXI\\u002fC9ShcJUB7FK5H4XrcPxfZzvdT4\\u002fE\\u002fcT0K16MwLEBYObTIdr71P7TIdr6fGuc\\u002f+n5qvHST\\u002fj\\u002fwp8ZLN4npP1yPwvUoXOM\\u002fZDvfT43XIEBiEFg5tIglQBSuR+F6FPI\\u002f5\\u002fup8dK9Q0CHFtnO91MAQPhT46WbxOA\\u002fj8L1KFyPAED2KFyPwvXIP2mR7Xw\\u002fNRNAQmDl0CJbFEB56SYxCKysP+kmMQisHMo\\u002fsp3vp8bPdUCLCcn0FkWOQBVGB1cGRvk\\u002fynWyMqPZI0B1d4txScH9P6r4CjWsnxZAxSCwcmjRJ0BiEFg5tMj+P+omMQisHOI\\u002fXrpJDAKrEUC4HoXrUbjuP7ByaJHtfNc\\u002fSOF6FK5HMkDP91PjpRtBQOXQItv5fvI\\u002fmpmZmZmpQ0DRItv5fmrcP3WTGARWDvE\\u002fFa5H4XoU5j+uR+F6FK7vP4cW2c73UwlAfT81XrpJBEDByqFFtvPdP6JFtvP91Pg\\u002farx0kxgEtj8MAiuHFlkdQGDl0CLbQVZAL90kBoE9WEAOLbKd7ycSQGDl0CLb+d4\\u002ffT81XrpJEkDZzvdT46W7P2IQWDm0yNY\\u002fjZduEoPAyj8pXI\\u002fC9Sj0Pxsv3SQGgeU\\u002fuB6F61G48D8tsp3vp8bbP6jGSzeJQeg\\u002ffT81XrrJJUA730+Nl26yP5ZDi2zn+9E\\u002fUI2XbhKD7D8nMQisHFrcP3npJjEIrKw\\u002f9ihcj8L1BECNl24Sg8DwP8P1KFyPwsU\\u002f\\u002fKnx0k1i4D9YObTIdr7PP6abxCCwcuA\\u002fiUFg5dAiqz+\\u002fnxov3STiPxsv3SQGgcU\\u002faJHtfD81vj8pXI\\u002fC9SisP0Jg5dAi28k\\u002fYOXQItv58j\\u002f0\\u002fdR46SaxPzMzMzMzM7M\\u002fexSuR+F6tD+TGARWDi3CP+kmMQisHO4\\u002fBoGVQ4ts7z\\u002ffT42XbhLTP6JFtvP91Lg\\u002fYhBYObTItj8IrBxaZDsHQKrx0k1ikBFADAIrhxbZzj9oke18PzW+P6jGSzeJQcA\\u002fqvHSTWIQ5D9YObTIdr6\\u002fP9nO91Pjpas\\u002fXYWo4LV3VEDtBoBPzmX6P2EFwK\\u002fmheQ\\u002fHgcAQx4p2z9wPQrXsWPCP0jhehSeWNA\\u002frUfhej7O0T+3HoXrCyTEP8D1KFz7xb0\\u002fr0fhEtAlIkBSuB71EkcUQITrUbhMD8c\\u002fhOtRuEwPxz\\u002fNzMzMlSnVP\\u002f3\\u002f\\u002f\\u002f9l5MU\\u002fcD0K18IJ1j+hcD0KtRDOP2ZmZmbkDdA\\u002f\\u002ff\\u002f\\u002f\\u002f2XkxT\\u002fsUbge7YTIP+xRuB7thNg\\u002fXI\\u002fC9Sde0T89Ctej8k7FPwjXo3AR7sA\\u002fCtdrBlXy2T8meZuneK4VQHnpJjFCTwxAqvHSbcvcJ0AdWmR77b8OQOlRuB7hj8Y\\u002fdZMYBCmh6z+amZmZO83iPzeJQWCssOc\\u002fwwPAMF+atT+RBfGmes0vQFFDsBvv8UJA\\u002f\\u002f\\u002f\\u002f\\u002frw1akAAAABA7DgWQP\\u002f\\u002f\\u002f\\u002f8f+Mo\\u002f\\u002f\\u002f\\u002f\\u002f\\u002f+s31T8AAADguqoUQP7\\u002f\\u002f\\u002f9PqMA\\u002fRcUnDLljNUD\\u002f08yScYTXP708ZWViJA9A8tJNYqAjAUA9vA6dAlVfQBfDYZ0W\\u002ffY\\u002f9ihcj8KF1z+kcD0Kt1bnP+F6FK4DDRhAUrgehZvb5D9iQCtywwsdQEykIfwQkhdAmgcAaeG+wD9JPGuvGgMkQKuKlGqlf2dA8TsXHzVBI0BPOxuBJN0xQB0MDL+wrCpAwtlcZ3CLLEB52MwqQry5P1pEDaHGeydAUiQ1wO288j9fAlARBW33P7\\u002fZ0zdKrhpAa3N9Y6tryz934yoaQo3lP32wJ51lxdc\\u002fTEAK8yxovD+9VDhTLAO8P0ebtCpsiSBAhs487LoD4T+gfZQTKzm7P5OSgkGyws8\\u002f\\u002ftR46Z4iG0CgGi\\u002fdpMz2P6jGSzdJIRFA2\\u002fl+aryz1T+gGi\\u002fdBJz6P+58PzVeF\\u002fo\\u002fmpmZmRlW1T8X2c7305rUP8UgsHJoVtA\\u002fiUFg5VBv0T+oxkt3jIUgQCUGgZUtKvU\\u002fJQaBlaahC0Cyne+nnn\\u002fXPxFYObSoGOg\\u002fqvHSTR7S6T8AAABAos1TQAAAAAAaRApAAAAAAKhcCUD\\u002f\\u002f5oBeydGQI6Zl3\\u002frWKM\\u002fXK+t5qV7QUAB8hE9NLk1QB0iHLxKJPU\\u002fHLyprhMBWkDxNkYgqJs8QJtFRUrexSpANhqY2IF\\u002fAUDBatTIWKEjQB\\u002fF7o3jf+o\\u002fh5Z8dm765z\\u002fO8sNXwxAGQPMwGpfWMPw\\u002ffj1yKgAUsD\\u002fYYfRQJar+P+Uw35fQVMs\\u002fb2FWz+EWsT8\\u002fe2uK9sVcQI1Rwj70hrc\\u002flUEU1laS5D\\u002fPf3BF66S3PzMzMzPy8CFAAAAAAPiFDkDMzMzMrBzUP5qZmZm5eeI\\u002fZ2ZmZrYJ5T8zMzMz89ziP4nvJdxxKkRAt2iPQPh8wj\\u002fpNL1bUV3AP\\u002fIyjVq5\\u002fNM\\u002ffEVC0v1a8j\\u002fee1Px6+5LQB43wxV8fzhAJoFXN2IY2j+gc2KbpjPLP+OOGPiYu7M\\u002fTWY5JGYNpz9beNWetZO1P01mOSRmDac\\u002fphUTxvYtkz8oGrqkis+iP5z6KI5\\u002fZJU\\u002f\\u002fFvYC8SXrz9A9z737fbePzJzrkZVlLk\\u002fwKTgjyLcGUDXgkwQcgsdQAlrmdCnBuQ\\u002fbJzj73y9\\u002fj\\u002f118VelVb5P+N5dmS\\u002fofQ\\u002fyXRtt37+\\u002fT8d+ZSvFI4BQA2RVJGoGOI\\u002fDspQLDC5EEAMef4eXa8lQBdAO5DIA9Q\\u002fu6l7HalS+D\\u002fETjD65w2\\u002fP56\\u002f6LGYaUFA\\u002frkzm4\\u002f\\u002fOkATUpr+XjDPP5h\\u002f2hmjbilAJK3VPXCA0T\\u002fvefBu\\u002fQUCQJW4WLHA7dg\\u002f08X40ET9tT+aJfdXlCfoPx\\u002fEy0BhZrk\\u002felBdisukyz92UGGD92HtP\\u002fT4a4fRjes\\u002f\\u002fiAewFJz5T+mOScNyejTP+A\\u002fpQdu6PQ\\u002f2g1\\u002fNdQ\\u002fKUDavRtSPovQPwCZBa2bnxVAkJv85KvpCUDZsNcXMlbSP7QW2NSKJ9M\\u002f70Nt+JA0xj8xRFyVrr0LQPRd9WypnuI\\u002fX\\u002fX2YAzk1T\\u002fZxwiVYSr8P8anQzuT8\\u002fE\\u002fQG4tuHWOwT9FvBLBOdnuP3mgzen3EfE\\u002fUa22Vl8\\u002f3z9dQRl55sCiP1n5kt6bGvU\\u002fELif9r0A4z+frBvU3v7qP4fNz8CJ2LU\\u002fh7hM4TtI4T+v0m0bepXQPx5pj12F0dY\\u002fyJY1axbc\\u002fD8+4MLF2ljVPykaf8RMoso\\u002feUC\\u002fo+oxxj+ZH2+6PAEWQO3ytcor2cQ\\u002frL0ZgbOvyT\\u002fDmOBhj\\u002fbYPzsZJe9QE84\\u002fdCNhpDGNoz+wvL+rtyCtPyplNRSZ9zpA6fJResSPGUC+b1hdt2ZQQAfz7Bpg8FNAwjSrdAVh6j9qBRfIntvWP5M11qy7ANA\\u002fPwxE+RdtOkAj7KU21R1FQBgGByqQL+k\\u002fwiJaMCDULkA5AaXtHVzBP3w\\u002f7FZ+w8M\\u002fni9XVzjn6j9gHbSRM4EeQCQGHgn6kNY\\u002f2\\u002fZBcnjBZUBMYqVah8TAP6NwotNOFsM\\u002f3w\\u002f09sUPN0DQTenPRRXGP5ZDiwqlvdg\\u002fCMDse+BpIEAhqBDJgqwVQLYeeUdiOsY\\u002fOLThscCq0z8mMQKpA3zHPwjwnUiFyiBA7FF1uB8FxT8AADgZXrzmP\\u002f\\u002f\\u002fn3\\u002flxcE\\u002f\\u002ff+\\u002fENdzyz\\u002f\\u002f\\u002fz9l5ivBP\\u002fr\\u002fv4rQ078\\u002f\\u002fP\\u002f\\u002f0NrvqD8AAAiMXm\\u002f2PwAAKD9Z\\u002ffk\\u002f\\u002f\\u002f8vJ+Ss0j\\u002f\\u002f\\u002f39G5JfCP\\u002fn\\u002f\\u002f+flf7E\\u002fAABwYeGI1D8MAivH+QMBQPCnRujmU2ZARYtsJ6BGC0A9NV66JXDNP3e+nzpnyRxAg2Qb1ZQWxD9oYPnUGJzyP4UQGCLIpdE\\u002fAnfm2T017D+9QLrPcA08QPp4mbwersI\\u002fRy8dDgNnxT9h3SRw2wirP4UQGCLIpdE\\u002fMlgZ3RaWsj\\u002f6IhsWheazPz0Y94QdVjVAh2aWyGFtwD+67RxP8za1P83MzMyrZOI\\u002fAAAAAFzvCkDI\\u002fOAftMi\\u002fPwEwzvhXLilAAGAk+a8AGEAAWJL3y389QAAws\\u002fnXDEZAADC799fwLEAAWHD5y\\u002fY2QABAavsfDABAAKCM+s8TE0AAAOr6\\u002f8zRPwAAxvn\\u002fygVA+v+H9\\u002f+jvT8ugEKDrTpPQEURno+q41JAf1rLe+eXVkBmT7OI\\u002faRXQJe8I29o00JANyhIJLwxAEAh4RHZ\\u002fd1lQOB9K3IWF19AEiyCPGr9+z\\u002fV8RruJ\\u002fHsP\\u002fyp8VKFWxZAuUkMAltNwj8XDAIrh\\u002fWLP7TIdr7votc\\u002fdZMYBB5c8z9QuB6FuwPBP8uhRTbsQh9AN4lBYCX45D99PzVengnxP7iP\\u002fm0+pntAz8PKQs5M+T\\u002fvbKNF0GDqP6cSRjbojsQ\\u002f7GyjRdBguj\\u002fNL7hA1IPYP2BiQEVMOwpAdkNfM4p14z+RnRRGsIu6PxGtPTey7OQ\\u002fo+tHSgAjrD++gPI0SA7EPzFXPVLAJp8\\u002fxo8jMAQ80j\\u002f9YwdQYFDePzdlRzVwLtQ\\u002fYiEnOCBF1T80rgxMgM68Pz7zbC7glaE\\u002f5YCaMQrK4j\\u002fGcNFNAHq9P4YUXTqAG5Y\\u002fo+tHSgAjjD9eukkMJKTzPzIzMzPXEdc\\u002f9jIzM7PLdj9ozMzMzAp1P7\\u002f\\u002f\\u002f\\u002f\\u002f\\u002fiGE\\u002fJzMzJYXrmT8AsOtqJhUCQJrZypbCuh1AzSxnf5QX8j8AcqVqLvwwQIHHZDpRxlxAZmY33KO0xD8AYNJq5q8RQPv\\u002fxzkzU6o\\u002fc5k5LlwPdT+T3mLBc6T8P7tt2FBQXgJAJoH2AkVOGUBY8FYWMMZVP8zpwXECGxlAvHRapYnM1D971ArU98bkP\\u002fQdu0a+gAFAxTsEClo8DkBayrCy1+oWQDOz7DkRFvg\\u002fmdHNd37VzD9nvc75TojqPwDA2S3pKLc\\u002fokW2Y\\u002fL9IEDq+nH5OMLdPyU0XwfuOZc\\u002fFiOS\\u002f2ba1z9I4XoU5mDnP+Olm0QePBpAtMh2LkeaIkBsvHRzQhYTQF\\u002fcnRuMYz1ACiNlbvlvNkDGSzeJCqLuP6oEDoZ898c\\u002fwcOLp59jMkDiJfMBBnPOP23Jhk4ytyBAfeua2KQGgD+EbverrkyUP7PTInyMoUJAFZAn2sqRL0C39PHtGw2nPxaq\\u002f+TXvxVAEdKgLVXNJ0CidU4Aav\\u002fCP4SvvTpd8+4\\u002fIoeJHspooD82tqE9R5GaPxFYObTISmRAIbByaJHtLED4U+Olm8QcQFYOLbKdbxNAkxgEVg5tM0BQjZduEoPoP0w3iUFg5RRAObTIdr4fLEDNzMxMz3v1Pxsv3SQGgSxA7FG4HoXroT\\u002fl0CLb+X7aP4ts5\\u002fup8fA\\u002fsp3vp8ZL6z\\u002fLoUW28\\u002f0CQJhuEoPAyvU\\u002f30+Nl24S4z9qvHSTGASmP0WLbIdesARAsHJou4N3RkAW2c73Gdr\\u002fP6WbxOAzn\\u002fA\\u002fDAIrR0HDAUBwPQrXOVzGP6JwPQqlfM8\\u002fPgrXA5qmA0CPwvUom5HRP69yaJEMtt4\\u002fY2ZmZtZAoj\\u002fUG1pkO11nPwbZzveTcZQ\\u002f3l\\u002fl0OJIej8LAiuHtr7bP8P1KFzvwBhAgArA3Wk65T8dWmS7U9UsQIGVQ4tcU9k\\u002fEFg5tDvTAEAv3SQG5c7lP8uhRXJlO2VAAiuH1oMQMUAEVg4tEiNXQGqR7XwXSxdAexSuR1J9AUBY1wyQCXYNQLejATy2RzxAR\\u002fFjIHHsFECKlJ+Mr9r0Pylcj8IVJfw\\u002f3gcLiE\\u002fQCEDIYEaTBNRCQGpy1FbXQXNAAAAAAHDO4j\\u002f\\u002f\\u002f\\u002f\\u002f\\u002fk\\u002fILQPTOTLwQF+A\\u002fs5yZD0E11z8a0MwhYcPIP6jQzFJB87w\\u002fn5yZCCGcxj\\u002f9NfPzaNjkPxWuRyHrICpAO99PDa0oAUBOYhD4ISAZQBDZzvcr57s\\u002fMzMzM\\u002fDg7T+oxks3Xh\\u002fsP\\u002fT91HhEUeI\\u002fRJgm11EELUDnm3IaPNEMQEONK57SsuI\\u002fVeR6nfhPxD9oaRYIMfkDQIeg+Wi3ANs\\u002fgZ5JT8Qc8z8un9lXFb7FP9zvlY8KDmtAAABgwZat4D+4oDUxZrz5P2AI3H0eSv4\\u002fCDtT3B1M\\u002fD\\u002fp0bQ2VHXiPw==\"},\"type\":\"violin\",\"meanline\":{\"visible\":true},\"jitter\":0.05,\"points\":\"all\"},{\"legendgroup\":\"PET-CT\",\"line\":{\"color\":\"lightseagreen\"},\"name\":\"PET-CT\",\"pointpos\":0.25,\"scalegroup\":\"PET-CT\",\"side\":\"negative\",\"y\":{\"dtype\":\"f8\",\"bdata\":\"hnCpn7eA9D+mrQz1F33nP1qBHiiXUuA\\u002fgDqexy3eC0DZ0qJEwk0kQE0VCHiDDd8\\u002fs81k3WlsZEDBEVw5mOD5Pw9ZKDbuwzlAlPvk0ldLtj8Yj4KGV5dJQGPWToOterk\\u002fmn73+sknX0ANm0HNwhT5P3PlbWwXtgJATRUIeIMN7z+V5GCNm8wvQKITdofpIVhAULANZMheC0CLKjYeyvUSQJDkwpzcajFAd8aEygj0HkAiovtZ2gwVQIA6nsct3us\\u002fttmF+0K\\u002fQUBNFQh4gw3\\u002fPydciNjsgRNAMNCh1RFsEECU++TSV0u2P8wgeyICHMM\\u002fl\\u002fvk0ldLxj9AwNccbeX1P5DkwpzcagFAer6BffdO8z+Al5WO1+fTP8wgeyICHLM\\u002fjUm9sJcZ5T964PN7x7ZaQAJGYOqLHSdAiW+JmYC7XkC4lT\\u002fvYVHxP7hXgEKmOiRAxE9qXjMoLkAVUXRhvE81QCAmfQBj3\\u002fo\\u002fU0sTUA2w9z+mUBUubnMPQAfg9le6eFZA54TKZoJ\\u002f5T9A3w83W9ggQJ9YeorAthxA99H3dIcCQ0CCWSVa+wEeQAbCLbziewhAFPDTNxrbI0BAXnn81ElQQOHKPehvChdA9bJw4rneEEBNcv8+LRfnP5gcSmJSW0JAQMDXHG3lFUDZdat9GET8P9+rtlWi5vQ\\u002fahRdqEjCDUDHR2cRIoMCQAz4OJRsHgFAGk1p74JG2j\\u002fNw4NbWBL7P\\u002f2LIuRY2c8\\u002fe90IEMVyFUCjb\\u002f7PfDUTQCCDdMcM6SJAgDqexy3e6z\\u002fZdat9GETsP0c89GajdP4\\u002fZzNGSleE4T95I8sJki4+QPQ28ohCsfY\\u002fn\\u002fMw\\u002fiXXIUCLKjYeyvUSQPWycOK53iBAf3gO\\u002fAnEEUCUItHBd7IFQJc9\\u002fmksnDVATXL\\u002fPi0XF0A0YbNKVZWDQFzWToOteqk\\u002fs7wr3oG4AEAMm0HNwhTpP5Jk6lhMA1VABuPhw7y8S0DBEVw5mOAJQE1y\\u002fz4tFxdATXL\\u002fPi0XF0BP7n2YpEQRQHBKaIDSZAZAst8MW2gWNUCzXzQX2K7oP8PLmT\\u002fLJDFAAkZg6osdJ0DnJ9Of2HXdP4A6nsct3gtA7vw9TsCjNEBotxZpv4cuQKiKK3gxHzNAF7JjAz71HUAgJn0AY9\\u002f6P3q+gX33TvM\\u002f9Nn6wZinHkDLdfotyz1nQEm4csAaojhAYrd4eAAmIEBziHalbazqP83Dg1tYEvs\\u002f8PjjY6dpAkDhaN\\u002fH125RQNl1q30YRPw\\u002fR5nrLU1+9j\\u002fH6m9KeHn6P6Nv\\u002fs98NQNAYXm5y0QPE0At2KQiIxEMQAz4OJRsHvE\\u002f3NLxvKF+K0A0ElldpR4+QCCDdMcM6QJAzSB7IgIc8z9nM0ZKV4TxP6Nv\\u002fs98NQNAFJc2W4kLbkCt4xfNoR\\u002fwPwYfJYOMhfA\\u002fSjTxGZLPEkBHmestTX4GQBqqYLYsUOI\\u002fs180F9iu6D+qSBLhXM4DQLO8K96BuOA\\u002fsrwr3oG40D+Z++TSV0vWP4CXlY7X5+M\\u002fVokhdaj3G0CO7MXp7Q\\u002ftP+eEymaCf9U\\u002f2tKiRMJN9D+Znu0LrkHOPy+S4ihWVSNAWoEeKJdS4D\\u002ftXd53Yhj2P\\u002fqLIuRY2b8\\u002fgJeVjtfn0z9kM0ZKV4TBPwz4OJRsHvE\\u002fKthVqkPgJED6iyLkWNm\\u002fP\\u002fqLIuRY2a8\\u002fGqpgtixQ0j9wSmiA0mQWQPqyDtN4QB9Amfvk0ldL1j9Ncv8+LRfXP0DA1xxt5fU\\u002fzCB7IgIc0z8Gwi284nv4P4CXlY7X59M\\u002fWoEeKJdS4D9bJCdh7Uj4P2QzRkpXhME\\u002fDPg4lGwe4T8A6RmrAuPnPyTBguynMAdAs7wr3oG44D8M+DiUbB7hP4ZwqZ+3gPQ\\u002fmfvk0ldL1j9AwNccbeX1P5me7QuuQc4\\u002fmfvk0ldL1j\\u002fnJ9Of2HXdP+eEymaCf+U\\u002fY9ZOg616uT9nM0ZKV4TxPxqqYLYsUNI\\u002fmZ7tC65B3j9m1k6DrXrJP5f75NJXS8Y\\u002fETZHuQdmFUAysbgzA6q8P8wgeyICHKM\\u002fzCB7IgIcsz9agR4ol1LgPwGMIuRY2e8\\u002fhhOy2A13HEBQDQUrcmgjQGBaMjl36\\u002fA\\u002fsrwr3oG48D+Znu0LrkHeP\\u002f\\u002foGasC48c\\u002fmfvk0ldL1j9Ncv8+LRfnPxJVzkvViRdAs7wr3oG44D8GHyWDjIUAQFDPRX62USZA9dn6wZin7j+yvCvegbjQP20MWls3HQJAt51CPHP2DEBnM0ZKV4TxP\\u002fuyDtN4QA9A+osi5FjZvz\\u002ftAOewuA7+P+cn05\\u002fYdf0\\u002fZzNGSleE4T8zDrD6rLPUP8rDg1tYEss\\u002fmfvk0ldL1j\\u002fytsrM0hhTQMqFdTa9yiZAPWOR3eOqJkB3QIc2lNNgQAYfJYOMhfA\\u002fAmWYBHoQEkCoKYtOj6ohQCCDdMcM6TJASHfIp1xHVkDHR2cRIoMCQICXlY7X5wNAAIwi5FjZD0A0sbgzA6r8PxqqYLYsUPI\\u002fcQhP6f0TR0D6DwaaIkr3P83Dg1tYEvs\\u002fx0dnESKDAkDyF2v2dI0UQOcn05\\u002fYdd0\\u002fOefDC41M9T+AOp7HLd4LQF1iNYaIkBxATXL\\u002fPi0XB0AzsbgzA6oMQFqBHiiXUvA\\u002fzsCY71XOdUBnM0ZKV4TxPyCDdMcM6fI\\u002fRR1t1NVQHEDnJ9Of2HXdP6kp2sZu2yhA2tKiRMJN9D9nM0ZKV4QRQJe91q28AwJABsItvOJ7+D\\u002fOw4NbWBILQK3jF82hH\\u002fA\\u002fwW5TAELq8T9g\\u002fTpyzeH4P3q+gX33TvM\\u002falFeXg6yVkBm1k6DrXr5P+w+V+WU9BNAjOzF6e0P\\u002fT+5OEgouEcJQPNVKqMwpCFAuThIKLhH+T\\u002fMIHsiAhzTP\\u002fPZ+sGYp\\u002f4\\u002fjUm9sJcZ9T9z5W1sF7biP+eEymaCf+U\\u002fB\\u002f8ucqhrcUDZ0qJEwk0kQDFzqg5oYghAemGKtk1F+z+a++TSV0v2P2YzRkpXhNE\\u002fGqpgtixQAkAaTWnvgkb6PxpNae+CRto\\u002fAOkZqwLj9z+Znu0LrkHeP90QsWldlRhA4CuPmTJOQUAzDrD6rLPkPzlIZDUvwUZAOUhkNS\\u002fBNkD0NvKIQrHmP7NfNBfYrug\\u002folB3Pa8RMUDNw4NbWBI7QErX+VLoxQpA+4uE85l3EUA\\u002foVCKn8ETQC+S4ihWVSNAWoEeKJdSAEDnJ9Of2HUNQP2qC4ZnmwNAbE8x6QGVVUCiUHc9rxERQH2fmNvojA9AWoEeKJdSEEDj6cR6PS4JQBjwIrD5CytArgZIwmeuO0D3dACu3fgKQHmAwtA7OCZAU0sTUA2w9z\\u002fErt0SyX9eQMSsYSXdMQZA5GVD1LRbM0B0xjVSKcMnQB\\u002fovVOnyC1AJmAxO+XsTEBw7XC5KFsOQEDA1xxt5fU\\u002ffvyPopKWB0C4V4BCpjokQGbWToOtevk\\u002fPYLJ99GdAUDBblMAQuoRQFPuG4ljpv8\\u002fmYVPTN0ud0CUA5mnib8qQFugpbpkdhJAeV8OyWH3UkDTnJdsOKv7P3NpPot\\u002fuS9AI8GC7KcwF0ArPZ823r8\\u002fQH46T09OrTRA6sLYix3HKUAzDrD6rLMUQEFj4FXD2+0\\u002fQWPgVcPb7T93I3yRsv0WQJkaHe1FPiFALBYVV\\u002f\\u002f2EUCN7MXp7Q8NQG0MWls3HfI\\u002f+NH3dIcCA0BT7huJY6b\\u002fP7NfNBfYrvg\\u002fo5OdQ1m6W0CG0UnJWfWFQMERXDmY4Pk\\u002fHot3FB6ODkAqmpb9h8kHQDSxuDMDqvw\\u002f+g8GmiJK9z8DhB+XRzQkQHOIdqVtrOo\\u002fjuzF6e0P7T\\u002fBEVw5mODpP0T+5UEILSpAP6FQip\\u002fBM0BAY+BVw9sNQBpNae+CRuo\\u002fs180F9iuCEDZdat9GET8P9LaB6EUkRFAVceRqYTdEUDgTr+O+Nz8PxpNae+CRvo\\u002fOorMRONC\\u002fT9AY+BVw9sNQG2vYpSNEwpA6sLYix3HCUCzvCvegbgQQAGMIuRY2e8\\u002fMe8oaN+PEkDrH9BSx9ABQDDQodURbABAWyQnYe1I+D9Ar54dhTFiQA5Yaj\\u002f4nFVAl2Df5hL6CUCQ5MKc3GoBQN8rj5kyTjFArgKfX29DEkDphBnfYbAsQCNkiyX+Jh9AXuDgVAzbR0BKDVQ\\u002fu310QMhm7qPvphRAU0sTUA2wB0D7TcVG3mAkQNvnl6Ga9XFAyih+bxPBDkDMIHsiAhzDP8dHZxEig\\u002fI\\u002fgDqexy3e+z9aYuYNqV81QG0MWls3HfI\\u002fTXL\\u002fPi0X1z+Znu0LrkHeP2QzRkpXhME\\u002fpq0M9Rd95z\\u002fgbfeo5s83QIYTstgNd\\u002fw\\u002fRFvdCLI2EkDTnJdsOKv7PxR0Vd6irRlAolB3Pa8REUCAOp7HLd77P5Qi0cF3sgVAjUm9sJcZ9T8cJ50GmqRgQIYTstgNd\\u002fw\\u002fer6BffdO8z\\u002fNIHsiAhwDQMFuUwBC6gFAQWPgVcPb7T8gg3THDOnyP5n75NJXS9Y\\u002fM7G4MwOq7D+g1PjjN+QWQEeZ6y1NfhZAuJU\\u002f72FR8T\\u002fBblMAQurhP7DELiuTXQxAg9Wjs3IvCECNSb2wlxnlP3phirZNRQtA0toHoRSREUBaZo9woco+QKqlp2b6K5dAba9ilI0T+j\\u002fNw4NbWBL7P7DELiuTXQxAjezF6e0PDUAAjCLkWNn\\u002fP+eEymaCf9U\\u002fFw9byuf+FUCt4xfNoR8AQGbWToOtetk\\u002fwW5TAELq8T+NSb2wlxnlP41JvbCXGeU\\u002fC3y6OvXwFkDwm+yc\\u002fV8aQJme7QuuQc4\\u002fmfvk0ldL1j9Ncv8+LRfXP01y\\u002fz4tF\\u002fc\\u002fuJU\\u002f72FR8T8Nm0HNwhT5PydciNjsgfM\\u002fgJeVjtfn8z+O7MXp7Q\\u002ftP\\u002f2LIuRY2c8\\u002fsrwr3oG40D9ziHalbazqP3OIdqVtrPo\\u002fKj2fNt6\\u002fD0DNIHsiAhzzP5me7QuuQc4\\u002fs180F9iu2D+Bl5WO1+cTQB2qry4MgTlA5aMCgXByIEB6YYq2TUX7P9eUlB8nBgBAuP+zVwMbg0Bg\\u002fTpyzeEIQAJlmAR6ECJAICZ9AGPf+j9n1k6DrXrpPyf\\u002fkBFDeOs\\u002fNS03jXrXJkDWRlpqeWJjQHPlbWwXtgJAXWI1hoiQHEBNFQh4gw3fPydciNjsgeM\\u002fKbnOF3a8QkBMA8Kiq4iRQFzWToOteqk\\u002fMrG4MwOqvD\\u002f6iyLkWNm\\u002fP8wgeyICHLM\\u002fXNZOg616qT9ziHalbaz6PzXMlmPYYoVADJtBzcIU6T\\u002fMIHsiAhyzP0I8VnbkEiBAwW5TAELqEUAd6G7bx5cGQDMOsPqssxRAI8GC7KcwF0Cdluq+nJwCQOeEymaCf\\u002fU\\u002fzCB7IgIc0z\\u002fMIHsiAhzTP\\u002feTh0CrHC1Aer6BffdO8z8M+DiUbB7hPwybQc3CFOk\\u002fgJeVjtfn4z\\u002fNIHsiAhzjP8zDg1tYEts\\u002fMw6w+qyzxD9m1k6DrXrJP7K8K96BuNA\\u002fQMDXHG3l5T8ysbgzA6q8PxTRTKVMt\\u002fE\\u002fwW5TAELqAUDZ0qJEwk3kP2QzRkpXhME\\u002fMw6w+qyz5D+yvCvegbjwP41JvbCXGeU\\u002fn3cBHY7a\\u002fj+NSb2wlxnlPzKxuDMDqrw\\u002fMrG4MwOqvD9c1k6DrXqZP\\u002fQ28ohCsfY\\u002fQWPgVcPb7T\\u002fMIHsiAhzDP0DA1xxt5fU\\u002fzMODW1gS2z+AOp7HLd7bP5me7QuuQc4\\u002fmfvk0ldL1j\\u002fZ0qJEwk0EQMFuUwBC6uE\\u002fzCB7IgIc0z+zXzQX2K7YPxqqYLYsUNI\\u002fGqpgtixQ4j+a++TSV0v2P7K8K96BuNA\\u002fsrwr3oG40D+U++TSV0u2P41JvbCXGfU\\u002fMw6w+qyz1D96YYq2TUULQBqqYLYsUNI\\u002fs180F9iu6D\\u002f\\u002f6BmrAuPXP6atDPUXfec\\u002fGk1p74JG6j\\u002f6DwaaIkr3P4CXlY7X59M\\u002fMrG4MwOqvD+zvCvegbjgP7k4SCi4R\\u002fk\\u002fmfvk0ldL1j+lUBUubnPvPzFzqg5oYghAETZHuQdmBUDMIHsiAhyjP62GIAb4Ffg\\u002fs180F9iu2D\\u002f6iyLkWNm\\u002fP5me7QuuQc4\\u002fzCB7IgIcoz\\u002f9iyLkWNnPP41JvbCXGfU\\u002fs180F9iu2D\\u002fnJ9Of2HXdPxqqYLYsUNI\\u002fM7G4MwOq7D\\u002fMIHsiAhyzP9nSokTCTeQ\\u002flPvk0ldLtj\\u002fMIHsiAhzDP\\u002fqLIuRY2b8\\u002fzcODW1gS6z9AY+BVw9v9PzKxuDMDqrw\\u002fy6T8yIruGEAzDrD6rLPEP8FuUwBC6uE\\u002f\\u002f+gZqwLj1z8ysbgzA6q8P8wgeyICHLM\\u002fMw6w+qyzxD8t2KQiIxH8P2YzRkpXhNE\\u002fZjNGSleE0T+yvCvegbjwP7K8K96BuNA\\u002fzMODW1gS2z8ysbgzA6rMP2QzRkpXhME\\u002fzCB7IgIcwz\\u002fMw4NbWBLbPzMOsPqss9Q\\u002f\\u002f+gZqwLj1z+lUBUubnPvP5me7QuuQc4\\u002fZtZOg616yT8ysbgzA6q8P+cn05\\u002fYdd0\\u002fMw6w+qyzxD\\u002fBblMAQurhP41JvbCXGeU\\u002fR5nrLU1+9j+5lT\\u002fvYVERQOBOv4743Pw\\u002fjUm9sJcZ5T8zDrD6rLPUP5f75NJXS8Y\\u002freMXzaEf8D\\u002fyF2v2dI0UQLK8K96BuNA\\u002flPvk0ldLtj8aqmC2LFDSPwYfJYOMhSBAZtZOg616yT8uNZzpzBr0P5me7QuuQc4\\u002f9dn6wZin7j8BjCLkWNnvP6VQFS5uc+8\\u002fJ\\u002f+QEUN46z\\u002fMIHsiAhyzP\\u002fqLIuRY2b8\\u002fMw6w+qyzxD\\u002fMIHsiAhzTP7K8K96BuNA\\u002f54TKZoJ\\u002f1T8gJn0AY9\\u002f6P4CXlY7X5+M\\u002f3W2oMAefAECjb\\u002f7PfDUDQOcn05\\u002fYde0\\u002fgJeVjtfn4z8M+DiUbB7hP9rSokTCTfQ\\u002f4E6\\u002fjvjc\\u002fD+Znu0LrkHOP8wgeyICHMM\\u002f\\u002f4si5FjZ3z82qbXm8QQBQCj\\u002fkBFDeAtA+7IO03hA\\u002fz\\u002f6DwaaIkoHQEDA1xxt5eU\\u002f\\u002f+gZqwLjxz+g1PjjN+T2P1PuG4ljpv8\\u002fjUm9sJcZ5T8aqmC2LFDSP2PWToOterk\\u002fmZ7tC65Bzj\\u002fMIHsiAhzDP2j11RV7nitAXb8sTTKaBEAcyedI+nMUQLNfNBfYrtg\\u002fM7G4MwOq7D+Al5WO1+fjP7NfNBfYrtg\\u002fBh8lg4yF8D\\u002fnhMpmgn\\u002f1P01y\\u002fz4tF9c\\u002f54TKZoJ\\u002f1T\\u002fa0qJEwk30P0c89GajdA5AqkgS4VzOA0DBblMAQurhP2YzRkpXhNE\\u002f\\u002f4si5FjZ3z9dYjWGiJAsQHPlbWwXtuI\\u002fMrG4MwOq3D+2+jkDHQAFQE0VCHiDDe8\\u002fsrwr3oG40D9mM0ZKV4TRP1zWToOteqk\\u002fwRFcOZjg6T\\u002f0NvKIQrHmP0Bj4FXD2\\u002f0\\u002fTXL\\u002fPi0X1z+Al5WO1+fjP7iVP+9hUfE\\u002fuZU\\u002f72FRAUCAl5WO1+fjPzMOsPqss8Q\\u002fl\\u002fvk0ldLxj\\u002f6iyLkWNm\\u002fP8FuUwBC6uE\\u002fGk1p74JG2j9K1\\u002flS6MUKQGfWToOteuk\\u002fwW5TAELq4T8aqmC2LFDiPzMOsPqss8Q\\u002fDPg4lGwe8T+NSb2wlxnlP7NfNBfYrtg\\u002fGqpgtixQ0j\\u002fNIHsiAhzjPwkAPOF9wwxAMrG4MwOqvD9nM0ZKV4ThP5me7QuuQd4\\u002f2XWrfRhE7D\\u002fZ0qJEwk3kPz+hUIqfwRNACV0zqCfNBECMSb2wlxkFQFqBHiiXUvA\\u002fl\\u002fvk0ldLxj9bJCdh7Uj4P8wgeyICHNM\\u002foNT44zfk9j\\u002fNw4NbWBLrPyf\\u002fkBFDeOs\\u002fzCB7IgIc0z\\u002ftXd53Yhj2P\\u002f\\u002foGasC48c\\u002fGqpgtixQ0j\\u002fiRrxB5zcBQJf75NJXS8Y\\u002fUA0FK3JoA0DMIHsiAhzTP5r75NJXSwZAzcODW1gS6z\\u002fBblMAQurhPxpNae+CRto\\u002f36u2VaLm9D\\u002fErGEl3TEGQE1y\\u002fz4tF9c\\u002fzCB7IgIcoz\\u002f6DwaaIkoHQCdciNjsgfM\\u002fzCB7IgIc0z\\u002fnJ9Of2HXtP7NfNBfYrvg\\u002fMw6w+qyz5D+AOp7HLd7rP2bWToOtesk\\u002fs180F9iu2D+9dlZNU48dQPXZ+sGYp+4\\u002fQn6+hZiUNkAnXIjY7IHzP7NfNBfYrtg\\u002f5yfTn9h13T\\u002fZ0qJEwk0EQADpGasC4\\u002fc\\u002fgJeVjtfn4z9yae8SoIgYQE0VCHiDDd8\\u002fgzKbehw5AEDBblMAQurxP\\u002f\\u002foGasC49c\\u002f9DbyiEKx5j96voF9907zP4A6nsct3ts\\u002fs180F9iu2D+X++TSV0vGP+sf0FLH0AFA0n0Q2mqHGUAaTWnvgkbqP5PF2frNqP0\\u002f2dKiRMJN5D8aqmC2LFDSPydciNjsgeM\\u002f+osi5FjZvz8JADzhfcMcQEeZ6y1NfhZA+03FRt5gJED6iyLkWNm\\u002fPzaptebxBAFAysODW1gSyz9Ncv8+LRf3PzMOsPqss9Q\\u002fTRUIeIMN7z9WiSF1qPcLQMwgeyICHKM\\u002fDPg4lGwe8T9Ncv8+LRcHQJ2W6r6cnAJAAOkZqwLj9z\\u002f\\u002f6BmrAuPHP1ugpbpkdhJAba9ilI0T+j9YZkD4wZk3QNnSokTCTeQ\\u002fysODW1gSyz+zXzQX2K7YP1PuG4ljpv8\\u002fDJtBzcIU6T+GcKmft4D0P5me7QuuQc4\\u002fXNZOg616qT+zXzQX2K7YP3cjfJGy\\u002fQZAMrG4MwOqzD8aqmC2LFDyPxpNae+CRto\\u002fCV0zqCfNBEAzsbgzA6rsP2YzRkpXhNE\\u002fTXL\\u002fPi0X1z+zXzQX2K7YP41JvbCXGeU\\u002f2XWrfRhEDEBz5W1sF7YCQGQzRkpXhME\\u002flCLRwXey9T9agR4ol1LgP6atDPUXffc\\u002f7QDnsLgO\\u002fj8ysbgzA6rcP47sxentD+0\\u002fYFoyOXfrEEDuOv36e7oxQMoofm8TwQ5AQMDXHG3l5T9Ncv8+LRfXP+eEymaCf9U\\u002f\\u002f4si5FjZ3z\\u002fnhMpmgn\\u002fVPxqqYLYsUCJAl\\u002fvk0ldLxj+UItHBd7L1P9bapZHT8g9A54TKZoJ\\u002f1T8aTWnvgkbaP2YzRkpXhNE\\u002fuThIKLhHCUBIFWqHxKsQQM3Dg1tYEus\\u002f+osi5FjZvz\\u002ffq7ZVoub0P2BaMjl36\\u002fA\\u002fI+C6BpYjMkAnXIjY7IHzPxqqYLYsUPI\\u002f54TKZoJ\\u002f9T9j1k6DrXq5P7mVP+9hUQFAs180F9iu2D8R2U\\u002fyXVwNQFokJ2HtSOg\\u002fZjNGSleE0T9Ncv8+LRfnP6DU+OM35PY\\u002f7N22u\\u002fJ\\u002fMkBc1k6DrXqpP94vOPwquSpAysODW1gSyz9kM0ZKV4TBP01y\\u002fz4tF9c\\u002fzcODW1gS6z\\u002fnhMpmgn\\u002flPwDpGasC4+c\\u002fQMDXHG3l5T9mM0ZKV4TRP4ZwqZ+3gBRA54TKZoJ\\u002f1T8zDrD6rLMEQMwgeyICHKM\\u002fjuzF6e0P7T\\u002f9iyLkWNnPPzaptebxBAFAmvvk0ldLJkCZnu0LrkHOP8wgeyICHNM\\u002f\\u002f+gZqwLjxz\\u002f6iyLkWNm\\u002fP6WOhWJKWRVAmfvk0ldL1j8U0UylTLcRQGbWToOtesk\\u002flCLRwXey9T\\u002fiRrxB5zcBQO1d3ndiGPY\\u002flPvk0ldLtj\\u002fKw4NbWBLLPyf\\u002fkBFDeOs\\u002fZjNGSleE0T+t4xfNoR\\u002fwP8rDg1tYEss\\u002fQMDXHG3l5T9c1k6DrXqpP7NfNBfYrhhA7QDnsLgODkAysbgzA6rMP2bWToOtesk\\u002f+osi5FjZrz9Ncv8+LRfXP2R1X+Er1TBAwW5TAELq8T8aTWnvgkbaP\\u002f\\u002foGasC49c\\u002fzCB7IgIcwz8aTWnvgkbaP8zDg1tYEts\\u002fZzNGSleE4T9tDFpbNx0CQK1Fdu05u2VA\\u002fYsi5FjZzz\\u002fBEVw5mOD5P8zDg1tYEts\\u002f5yfTn9h17T8Mm0HNwhTpPxpNae+CRvo\\u002fmfvk0ldL1j+O7MXp7Q\\u002ftP8wgeyICHKM\\u002fcEpogNJkFkBnM0ZKV4ThP4xo9cqFDCBA1PmOM+K0A0D6iyLkWNmvP8wgeyICHNM\\u002fY9ZOg616uT9AY+BVw9sNQDMOsPqss8Q\\u002fIIN0xwzp8j\\u002fv\\u002frk7rPFMQGD9OnLN4fg\\u002fwRFcOZjg6T+Znu0LrkHOP01y\\u002fz4tF\\u002fc\\u002fZjNGSleE0T+mrQz1F33nPxqqYLYsUOI\\u002fQx0eXPYfNUCthiAG+BX4P+eEymaCf9U\\u002freMXzaEf8D+yvCvegbjQP3cjfJGy\\u002fSZAreMXzaEf8D\\u002fMIHsiAhyzP8mkrVCrvSFA6x\\u002fQUsfQAUBm1k6DrXrJP5f75NJXS8Y\\u002foNT44zfk9j\\u002f6iyLkWNmvP\\u002fqLIuRY2b8\\u002fOKkEX9E1KEBHmestTX72P1PuG4ljpg9ATRUIeIMN7z9wSmiA0mQGQBqqYLYsUNI\\u002fBsItvOJ7+D84LYYFWgguQAMnKNCdKgxAoNT44zfk9j9agR4ol1LgP1skJ2HtSPg\\u002fgDqexy3e6z9tr2KUjRMKQDMOsPqss9Q\\u002fZtZOg6162T\\u002f0NvKIQrHmP7O8K96BuOA\\u002fc4h2pW2s6j8M+DiUbB7xP8wgeyICHKM\\u002f4+nEej0uCUBj1k6DrXq5PxqqYLYsUOI\\u002fDJtBzcIU6T\\u002ftXd53Yhj2P5f75NJXS8Y\\u002fgDqexy3e2z8aTWnvgkbaP8FuUwBC6gFA5yfTn9h13T9AwNccbeX1P\\u002f\\u002foGasC49c\\u002fM7G4MwOq7D\\u002fw+ONjp2kCQLK8K96BuPA\\u002fMrG4MwOqvD9m1k6DrXrJP+PpxHo9LglATRUIeIMN3z+K7HZxDt81QE1y\\u002fz4tF\\u002fc\\u002fYphAXhIzBUBNcv8+LRfXP\\u002fWycOK53hBAs180F9iu2D\\u002fMIHsiAhyjP\\u002fqLIuRY2b8\\u002fMrG4MwOqzD9xDKnTFk45QJ9YeorAthxAzMODW1gS2z9agR4ol1LgPzKxuDMDqsw\\u002f+osi5FjZrz8nXIjY7IHjP2BaMjl36\\u002fA\\u002fMrG4MwOqzD\\u002fBEVw5mODpP80geyICHOM\\u002fFNFMpUy38T9nM0ZKV4ThP\\u002fU0xRM2lEVAWiQnYe1ICEBj1k6DrXq5P7NfNBfYrtg\\u002fZDNGSleEwT9NFQh4gw3fPzMOsPqss\\u002fQ\\u002fD1V\\u002f0\\u002fVYIEDMIHsiAhzTP1zWToOteqk\\u002fFw9byuf+BUBNFQh4gw3\\u002fP8rDg1tYEss\\u002fmZ7tC65B3j8zDrD6rLPEP8wgeyICHMM\\u002f54TKZoJ\\u002f1T9UyzoMfUg7QIZwqZ+3gARAZjNGSleE0T9m1k6DrXrJP1CwDWTIXitAXNZOg616mT+ZGh3tRT4hQM0geyICHOM\\u002f+osi5FjZrz\\u002fMIHsiAhyzP01y\\u002fz4tF+c\\u002fMw6w+qyzxD9aJCdh7UjoP\\u002f\\u002foGasC49c\\u002fgDqexy3e2z\\u002fqH9BSx9AhQDMOsPqss9Q\\u002fHAen9bWKQUCa++TSV0sGQKatDPUXfec\\u002fJ\\u002f+QEUN4+z\\u002fa0qJEwk30P80geyICHPM\\u002f2tKiRMJN9D+AOp7HLd7bP83Dg1tYEus\\u002fT+59mKREEUDgq7ZVouYkQF2g9DJEpylABsItvOJ7+D8zDrD6rLPUP73TTRT9mBVAc4h2pW2s6j+lUBUubnPvP9l1q30YROw\\u002fAYwi5FjZ7z8o++euSg0yQEn2MW3WuCVAZtZOg6162T\\u002fdELFpXZUIQBE2R7kHZgVARzz0ZqN0HkBnM0ZKV4TxP5r75NJXSwZA6oBwfGlFQ0CzvCvegbjgP8wgeyICHMM\\u002fLjWc6cwa9D\\u002fnJ9Of2HXdPywWFVf\\u002f9hFAs180F9iu6D\\u002f\\u002f6BmrAuPHP6atDPUXffc\\u002fTXL\\u002fPi0X9z+Znu0LrkHuP2QzRkpXhME\\u002fXNZOg616mT\\u002fU+Y4z4rTzP3OIdqVtrOo\\u002f+g8GmiJKB0DBEVw5mODpP01y\\u002fz4tF9c\\u002fTRUIeIMN\\u002fz9kM0ZKV4TBPxR0Vd6irfk\\u002fAYwi5FjZ7z+Al5WO1+fjP+cn05\\u002fYde0\\u002f5yfTn9h17T9Ncv8+LRfXP9l1q30YROw\\u002flCLRwXey9T9kM0ZKV4TBP+cn05\\u002fYde0\\u002fJ1yI2OyBA0Dw+ONjp2kCQLy0xoEvdRNAMrG4MwOqvD9mM0ZKV4TRPzKxuDMDqrw\\u002fsrwr3oG40D9nM0ZKV4ThP54au90EoD9AwRFcOZjg6T8558MLjUwFQJn75NJXS9Y\\u002fzCB7IgIcwz\\u002f6iyLkWNm\\u002fP2QzRkpXhME\\u002fzz8Ctc8\\u002fFUBFemSbf1okQA2bQc3CFAlA3RCxaV2VGEDnhMpmgn\\u002fVP66lp5jFORpAGk1p74JG2j86isxE40L9P00VCHiDDd8\\u002fs7wr3oG44D9tr2KUjRP6P41JvbCXGeU\\u002f8PjjY6dpAkBmM0ZKV4TRPzMOsPqss8Q\\u002fY9ZOg616uT+X++TSV0vGP9P5jjPitBNAs180F9iu2D8ysbgzA6q8PxpNae+CRto\\u002femGKtk1F+z9Ncv8+LRf3P5n75NJXS9Y\\u002fJ\\u002f+QEUN4+z+Z++TSV0vWP+eEymaCf9U\\u002fTRUIeIMN3z9AwNccbeX1PzKxuDMDqsw\\u002fMrG4MwOq3D8S+NaEK4AfQICXlY7X59M\\u002f5yfTn9h13T\\u002f0NvKIQrHmP2PWToOterk\\u002fnZbqvpycAkDfq7ZVoub0P8oofm8TwQ5Apq0M9Rd95z9ziHalbazqP+cn05\\u002fYdd0\\u002fWoEeKJdS8D\\u002fnhMpmgn\\u002flP4lw+BeXsStAIIN0xwzpAkC98oUu64sgQGbWToOtesk\\u002fGqpgtixQ0j\\u002f6iyLkWNmvP80geyICHANAZtZOg6162T\\u002fZdat9GET8P4zsxentD\\u002f0\\u002fMw6w+qyz1D8DhB+XRzQUQHgAmxTMnzJAEzaWMeeWPEBA3w83W9ggQGfWToOteuk\\u002fba9ilI0T+j\\u002fU+Y4z4rQDQP+LIuRY2d8\\u002fTXL\\u002fPi0X1z\\u002fKR7aJAbQpQN1tqDAHnxBAc+VtbBe2AkD9iyLkWNnPP5n75NJXS9Y\\u002fmfvk0ldL1j\\u002f48H4HVSYlQGBaMjl36\\u002fA\\u002fZDNGSleEwT\\u002fejC\\u002fD1MIiQMdHZxEigwJAer6BffdO8z\\u002fvfGUKMDwoQLK8K96BuNA\\u002fzCB7IgIcwz8nXIjY7IHzP7hXgEKmOjRAGqpgtixQ0j8t2KQiIxH8P8rDg1tYEss\\u002fCV0zqCfNFECGcKmft4AEQEDA1xxt5eU\\u002fMw6w+qyz9D98fGjmIv4zQOcn05\\u002fYdd0\\u002fIIN0xwzp8j+yvCvegbjQP9l1q30YRPw\\u002fGk1p74JG2j9nM0ZKV4TxP2fWToOteuk\\u002fmfvk0ldL1j9nM0ZKV4ThPxcPW8rn\\u002fgVADPg4lGwe4T9SLIy9P4w1QP\\u002foGasC49c\\u002fs7wr3oG44D9tr2KUjRP6P6VQFS5uc+8\\u002fzCB7IgIcwz9kM0ZKV4TBPzMOsPqss+Q\\u002fmZ7tC65Bzj+zvCvegbjgP\\u002f\\u002foGasC48c\\u002fGqpgtixQ0j8zDrD6rLPkP2czRkpXhPE\\u002fGIvZI18sIEDMIHsiAhzTP6atDPUXfec\\u002fQMDXHG3lBUDH6m9KeHn6P\\u002fqLIuRY2a8\\u002f+osi5FjZrz\\u002f\\u002f6BmrAuPXP3OIdqVtrPo\\u002fZjNGSleE0T+Al5WO1+fzPzKxuDMDqrw\\u002fzCB7IgIcsz+4lT\\u002fvYVHxPwz4OJRsHuE\\u002fcIpUopqYVECM7MXp7Q\\u002f9P8rDg1tYEss\\u002fvZWOZ0GCKED\\u002f6BmrAuPHPzZMvh9I+whAs7wr3oG44D\\u002f\\u002f6BmrAuPHP01y\\u002fz4tF+c\\u002fZzNGSleE8T+zXzQX2K7YP2fWToOteuk\\u002fGk1p74JG2j+thiAG+BUIQMERXDmY4Pk\\u002fsrwr3oG48D\\u002fNIHsiAhzzP7NfNBfYrtg\\u002fs180F9iu2D8aTWnvgkYKQLK8K96BuNA\\u002fNLG4MwOq\\u002fD+GcKmft4D0P9l1q30YRPw\\u002fTRUIeIMN3z8ysbgzA6rMP12\\u002fLE0ymgRApq0M9Rd9B0CGcKmft4D0P3PlbWwXtuI\\u002fGk1p74JG2j\\u002fNw4NbWBLrP1okJ2HtSOg\\u002fgJeVjtfn4z9ziHalbazqP\\u002f+LIuRY2d8\\u002fzMODW1gS2z9g\\u002fTpyzeH4P1okJ2HtSOg\\u002fMNCh1RFsEECX++TSV0vGP8rDg1tYEss\\u002f+osi5FjZvz8n\\u002f5ARQ3jrPzaptebxBAFApsxEDwZwIkCozJOH5aAZQBqqYLYsUNI\\u002f+osi5FjZvz9n1k6DrXrpP\\u002f\\u002foGasC49c\\u002fx0dnESKD8j\\u002fKw4NbWBLLP5n75NJXS9Y\\u002fZDNGSleEwT9Ncv8+LRf3P0DA1xxt5eU\\u002fAOkZqwLj5z8Nm0HNwhT5P+eEymaCf+U\\u002fTRUIeIMN3z+Znu0LrkHOP01y\\u002fz4tF+c\\u002fAOkZqwLj9z\\u002fh6XUCXv0hQDKxuDMDqsw\\u002fmZ7tC65Bzj8nXIjY7IHzP2bWToOtetk\\u002fgDqexy3e2z\\u002fMIHsiAhzDPxpNae+CRto\\u002fMrG4MwOq3D\\u002fBEVw5mODpP\\u002f\\u002foGasC49c\\u002fTXL\\u002fPi0X9z8ysbgzA6rcP8wgeyICHNM\\u002fba9ilI0T+j8nXIjY7IHjP\\u002fuyDtN4QP8\\u002f+4uE85l3EUBn1k6DrXrpPwGMIuRY2e8\\u002fmZ7tC65B3j9HPPRmo3T+P5f75NJXS8Y\\u002fZzNGSleE4T8M+DiUbB7hPzMOsPqss9Q\\u002fTRUIeIMN3z8Nm0HNwhT5P+eEymaCf+U\\u002f9dn6wZin7j9W5hg8UgEUQDMOsPqss9Q\\u002fYFoyOXfr8D8o\\u002f5ARQ3gLQFANBStyaBNAysODW1gSyz8nXIjY7IHjP2bWToOtesk\\u002fMrG4MwOqzD8aqmC2LFDiP5f75NJXS8Y\\u002fY9ZOg616uT+U++TSV0u2P\\u002fqLIuRY2b8\\u002fLjWc6cwa9D\\u002f1VLskGq5kQOcn05\\u002fYdd0\\u002fMrG4MwOq3D+zvCvegbjgP\\u002fD442OnaQJABh8lg4yF8D\\u002fum50kHi8jQEc89GajdB5AFpGv+2O0SkCxQK2ECosWQBHZT\\u002fJdXA1ApVAVLm5z7z\\u002f9iyLkWNnPPzHz0crX+jtA98gjNoitckCJC6+L\\u002fNEgQFNLE1ANsPc\\u002fd0CHNpTTQEA9gsn30Z0BQI1JvbCXGeU\\u002fsUCthAqLFkAM+DiUbB7hP7pKoV+izoVAVsfgIWQOKUBziHalbazqP+eEymaCf+U\\u002f54TKZoJ\\u002f5T9c1k6DrXqpP8FuUwBC6vE\\u002fgJeVjtfn0z8Mm0HNwhTpP3OIdqVtrOo\\u002fXNZOg616mT8zsbgzA6rsP\\u002f1NFL+9kQtAuZU\\u002f72FRAUBKNPEZks8CQMzDg1tYEts\\u002fgJeVjtfn8z\\u002fnJ9Of2HX9P6DU+OM35PY\\u002f54TKZoJ\\u002f9T+pqbIK\\u002f0JFQOcn05\\u002fYdQ1ATXL\\u002fPi0X5z94QgMkgCEZQICXlY7X5\\u002fM\\u002f9dn6wZin7j8GHyWDjIUAQLiVP+9hUfE\\u002fZzNGSleE4T+Znu0LrkHeP3q+gX33TvM\\u002fJ1yI2OyB4z\\u002fnhMpmgn\\u002fVP8FuUwBC6uE\\u002fWiQnYe1I6D8zDrD6rLPUPzHvKGjfjxJAmZ7tC65Bzj\\u002fTnJdsOKv7P\\u002f2LIuRY2c8\\u002fc4h2pW2s6j85JYO4SGMiQLNfNBfYrtg\\u002fmZ7tC65Bzj\\u002fTnJdsOKv7PzHz0crX+jtAY9ZOg616uT+lUBUubnPvP3kQZZWdXWlAUA0FK3JoA0CDMpt6HDkAQHPlbWwXtuI\\u002fGNYVchIDd0Bj1k6DrXq5PxqqYLYsUNI\\u002fBh8lg4yF8D9sP7bgDwhmQMwgeyICHKM\\u002f\\u002ffGecSIHcUCAl5WO1+fzP+PpxHo9LilAE5ON+JCgJEA6isxE40L9PxqqYLYsUAJAOKkEX9E1OECNianSX01DQCCDdMcM6SJAia63xFLICECyvCvegbjQP00VCHiDDd8\\u002fMw6w+qyzBEAGHyWDjIXwP2PWToOterk\\u002fcmnvEqCIKEClUBUubnPvP\\u002fVVeRsQ1RhAZzNGSleEAUDIZu6j76Y0QFskJ2HtSPg\\u002fZzNGSleE4T+fdwEdjtoOQGBaMjl36\\u002fA\\u002fOefDC41M9T9AwNccbeUVQLNfNBfYrvg\\u002fMrG4MwOq3D8A6RmrAuP3P\\u002fQ28ohCseY\\u002fAOkZqwLj5z9tDFpbNx0CQMrDg1tYEss\\u002fba9ilI0T+j+Znu0LrkHePzZMvh9I+yhAPKWqdLj7NUBm1k6DrXrJP80geyICHOM\\u002fhJW3kar7SUBziHalbazqP9l1q30YROw\\u002f1PmOM+K08z96voF9904jQP1sTNmrhCZApq0M9Rd99z\\u002fIZu6j76Y0QDFQyZGBBDRAWKioB3YbHkCyvlhTjtVBQLc4+a\\u002fYFiJA+JOHQKscHUBW5hg8UgEEQEbL2DQPc21AWoEeKJdSEEA4yDx5vygTQDrE4o6m7kBAzMODW1gS2z+ljoViSlkVQGPWToOterk\\u002f5yfTn9h13T+yvCvegbjQP+eEymaCf9U\\u002fgDqexy3e+z8zDrD6rLMEQC41nOnMGvQ\\u002fsrwr3oG40D9ziHalbazqP00VCHiDDd8\\u002fJ1yI2OyB8z\\u002fsXwvtbjVHQMrzpfxOiGJA1jedWH38F0AIPqwVWqkyQBE2R7kHZgVAdCWpBr8aaEClMY6boE8dQKqG0Y0Y5TBARzhLBKsJNUBn1k6DrXoJQEDA1xxt5TVAgJeVjtfn0z8Yi9kjXywgQMcyI241uIBAkCYrrJDsN0CUoHyQ+\\u002fxAQCWfX2a3+XZA7QDnsLgO\\u002fj8gJn0AY98qQDrrbG6Ftz5AemGKtk1F+z9ImTqmLK89QKpIEuFczhNA7e+tsdBaakCmrQz1F33nP1PuG4ljpv8\\u002fmvvk0ldLBkDZdat9GET8P1ck2OgNGCFA5yfTn9h17T8ysbgzA6rcP10gzXbUDjZABh8lg4yF8D9j1k6DrXq5P2BaMjl360BAFNFMpUy3EUAM+DiUbB7xP\\u002f+LIuRY2d8\\u002fGqpgtixQ8j\\u002f40fd0hwIDQMwgeyICHLM\\u002fzSB7IgIcE0D30fd0hwITQM3Dg1tYEus\\u002fRP7lQQgtKkDBblMAQuoRQFqBHiiXUgBAx+pvSnh5+j8aqmC2LFDyP8KN2pIPDhRAmZ7tC65B3j8ysbgzA6rcP8wgeyICHMM\\u002f89n6wZin\\u002fj\\u002fBEVw5mOD5P5raMMt9CkNA+LPfkpvigECyvCvegbjwPznnwwuNTPU\\u002fQMDXHG3l9T8zDrD6rLPUPxpNae+CRto\\u002fplAVLm5z\\u002fz\\u002fNw4NbWBLrP\\u002fCb7Jz9XwpAVceRqYTdEUBKNPEZks8SQI2ncm43SlFAZjNGSleE0T\\u002fZdat9GEQMQNnSokTCTeQ\\u002fywH0jzT4EEDphBnfYbAsQNl1q30YRPw\\u002fluC3KqNhNkAe1Qhn08ZhQPXZ+sGYp+4\\u002fM7G4MwOq7D+g1PjjN+T2P4PVo7NyLxhAjOzF6e0P\\u002fT8M+DiUbB7xPzOxuDMDquw\\u002f7h3yVZrkR0CQh8vVMmEJQCCDdMcM6fI\\u002fJP9BmWNHJECt4xfNoR\\u002fwP78v1lyQrFBATXL\\u002fPi0XB0C5lT\\u002fvYVEBQBqqYLYsUOI\\u002fXt6z3\\u002f+9JkBP7n2YpEQRQP+LIuRY2d8\\u002fwRFcOZjg+T+GcKmft4D0P4DZ\\u002fZ2LaVpAAuloI+ITP0CMaPXKhQwgQMoofm8TwQ5A8PjjY6dpAkA558MLjUwFQKbMRA8GcCJAdaf9NzvQHEB0BiJ08fZFQHq+gX33TgNA7R8fy6YBaUBWiSF1qPcbQP2qC4ZnmwNAJMGC7KcwB0Ckrb18OEwgQIA6nsct3vs\\u002fr8TfsrMsJUBm1k6DrXrJPzPt+\\u002fLSckFAxKxhJd0xJkBdvyxNMpo0QL20xoEvdSNAGqpgtixQ4j9tr2KUjRMKQHzdCBDFciVAmz1N4gvNPEAgg3THDOnyP6YvYSaUMkxATRUIeIMN3z8GHyWDjIXwP2BaMjl36\\u002fA\\u002fWoEeKJdSAECAOp7HLd7bPxqqYLYsUOI\\u002fVWbxf+JoYECzXzQX2K7YPx9k7TQ\\u002fxSBAjCqFlqkmOkBaJCdh7UjoP\\u002fjwfgdVJhVATXL\\u002fPi0X9z+Al5WO1+fjPxcPW8rn\\u002fgVAGk1p74JG6j8fZO00P8UQQAUBXOe0iIJA6h\\u002fQUsfQEUD9qguGZ5sDQC3YpCIjEfw\\u002fDZtBzcIU+T+Al5WO1+fzP\\u002fgUHnsxq21AJ1yI2OyB4z8LfLo69fA2QKZQFS5uc\\u002f8\\u002fJ1yI2OyB4z\\u002fj6cR6PS4JQET+5UEILQpAzSB7IgIc8z8A6RmrAuPnPyf\\u002fkBFDeBtAmZ7tC65B3j8qmpb9h8kHQNl1q30YROw\\u002fc+VtbBe24j+Znu0LrkHOPxqqYLYsUOI\\u002f1PmOM+K08z836x32pYZHQBeyYwM+9Q1A6h\\u002fQUsfQEUCa++TSV0sGQJQi0cF3svU\\u002fR5nrLU1+BkCzvCvegbgQQDqKzETjQh1ATDRAknEAKkAIPqwVWqkSQDVvn5wuWT1AkqZSaACFG0AKADzhfcMsQKpIEuFczgNA2tKiRMJN9D+DMpt6HDkgQDKxuDMDqsw\\u002f7D5X5ZT0E0AM+DiUbB7hP2czRkpXhOE\\u002fAOkZqwLjB0BHPPRmo3QOQADpGasC4+c\\u002fYFoyOXfr8D8d6G7bx5cWQEc89GajdP4\\u002fvbTGgS91I0Bc1k6DrXqZP8dHZxEig\\u002fI\\u002fuZU\\u002f72FRAUA2TL4fSPtIQOPpxHo9LglAZ9ZOg6166T+4lT\\u002fvYVHxP47sxentD+0\\u002fGqpgtixQ0j+AOp7HLd7bPzMOsPqss+Q\\u002fMw6w+qyz1D\\u002fgq7ZVouYUQIA6nsct3us\\u002f95ELU7\\u002fOREBHPPRmo3T+P00VCHiDDd8\\u002fDPg4lGwe8T9HPPRmo3T+P5me7QuuQc4\\u002fAYwi5FjZ7z9agR4ol1LgP\\u002fXZ+sGYp+4\\u002fafXVFXueG0DBEVw5mODpPwYfJYOMhfA\\u002fc4h2pW2sCkCM7MXp7Q\\u002f9P8wgeyICHMM\\u002f1hgWxq\\u002fYFUDZ0qJEwk3kP8zDg1tYEts\\u002fGk1p74JG+j8aqmC2LFDyP5n75NJXS9Y\\u002fMrG4MwOq3D9NFQh4gw3vP2bWToOtetk\\u002f54TKZoJ\\u002f9T9kM0ZKV4TBP80geyICHOM\\u002fXNZOg616mT8BjCLkWNnvP5me7QuuQd4\\u002fgJeVjtfn8z8aqmC2LFACQLO8K96BuOA\\u002fs7wr3oG44D8vkuIoVlUzQM0geyICHPM\\u002fMrG4MwOqzD9GuCNIO3EhQJme7QuuQc4\\u002fDB\\u002fDc0vnPkAaqmC2LFDyP4F4XXTp9EhAjAv+A9wCKEDBEVw5mOAZQGQzRkpXhME\\u002fgJeVjtfn4z8VVR3EtLo+QH7ZriWsOFNAzSB7IgIc8z\\u002fnhMpmgn\\u002fVP\\u002f+LIuRY2d8\\u002fl73WrbwDIkCY3F1AiicUQLk4SCi4R\\u002fk\\u002fhHXBgMbhakDET2peMyguQPXXzUyMik1AFPQtIjMVRkA7RjfAIqRFQO1d3ndiGPY\\u002fM7G4MwOq7D9BY+BVw9vtP+\\u002fZXNHZRRBAkOTCnNxqAUBAY+BVw9sNQNeUlB8nBhBAYhgZoqKaMUDeLzj8KrkaQLO8K96BuOA\\u002fZDNGSleEwT8zDrD6rLPEP7NfNBfYrtg\\u002f\\u002f+gZqwLj1z9m1k6DrXrZP5n75NJXS9Y\\u002fXb8sTTKaNEBbJCdh7Uj4P2czRkpXhCFAywH0jzT4EEDSsB0ZL0+JQAbCLbziexhAGIvZI18sIEApew9ruqU1QE1y\\u002fz4tF9c\\u002flPvk0ldLtj\\u002fy2mlAr51bQJme7QuuQd4\\u002fo2\\u002f+z3w1A0C8000U\\u002fZg1QCCDdMcM6fI\\u002fTXL\\u002fPi0X1z+yvCvegbjQP4CXlY7X5wNAWoEeKJdS8D+rSGFZPP8qQM8\\u002fArXPPxVAlCLRwXey9T9+\\u002fI+ikpYHQJn75NJXS9Y\\u002fHGN+hF3BoEBagR4ol1LgP5ue7QuuQf4\\u002f\\u002f+gZqwLj1z9hfWIuPXo8QGPWToOterk\\u002fTRUIeIMN7z\\u002fKw4NbWBLLP6rrGhqzxAtAMrG4MwOqzD+X++TSV0vGP1okJ2HtSOg\\u002fmfvk0ldL1j+X++TSV0vGP7K8K96BuNA\\u002fmvvk0ldL9j\\u002fMIHsiAhyjP20MWls3HfI\\u002fTXL\\u002fPi0X1z8ysbgzA6q8PxqqYLYsUNI\\u002f\\u002fYsi5FjZzz8nXIjY7IHzP\\u002fqLIuRY2a8\\u002fjezF6e0PDUAM+DiUbB7xPzKxuDMDqtw\\u002fUUvE1y1\\u002fMECAOp7HLd7rPxqqYLYsUAJAQWPgVcPb7T+Al5WO1+fTP01y\\u002fz4tF+c\\u002fMw6w+qyz1D+a++TSV0vmP2QzRkpXhME\\u002fGk1p74JG2j+yvCvegbjQPxTRTKVMtxFAZzNGSleE4T\\u002fNIHsiAhzjP01y\\u002fz4tF9c\\u002fTXL\\u002fPi0XB0AaqmC2LFDiPzKxuDMDqtw\\u002fVokhdaj3C0DTnJdsOKsLQDKxuDMDqrw\\u002fMw6w+qyz1D9nM0ZKV4ThP+PpxHo9LglADZtBzcIU+T8aqmC2LFDSP5n75NJXS9Y\\u002fgzKbehw5AEAysbgzA6q8P9nSokTCTeQ\\u002freMXzaEf8D\\u002f6iyLkWNm\\u002fP8rDg1tYEss\\u002fMw6w+qyz5D8Nm0HNwhT5P2bWToOtetk\\u002f54TKZoJ\\u002f1T+SA0ovqo4TQIA6nsct3ts\\u002fzSB7IgIc4z\\u002fMIHsiAhzTP0DA1xxt5eU\\u002fGqpgtixQ4j8ysbgzA6q8P4CXlY7X59M\\u002fMrG4MwOq3D8Yi9kjXywQQIA6nsct3ts\\u002fsrwr3oG40D\\u002fNIHsiAhzjP7NfNBfYrvg\\u002fs7wr3oG44D9ziHalbazqPzGSMaE1hjpA\\u002fYsi5FjZzz9ziHalbazqP6atDPUXfec\\u002fFw9byuf+BUAaTWnvgkYKQLNfNBfYrjhAkcWKgu53RkAaTWnvgkb6PwjhtE6wnxpAzMODW1gS2z\\u002fvvs0Z5L1OQDaptebxBAFABAOJXMGlU0Ct4xfNoR\\u002fwPxVoljOhFIRAU+4biWOmD0DhbUYhxgAfQICXlY7X5+M\\u002fRVvdCLI2AkCZGh3tRT4xQJ058\\u002ffykhpA\\u002faoLhmebE0D1snDiud4gQMwgeyICHKM\\u002fl2Df5hL6GUAWD1vK5\\u002f4lQKMSBwnTKwtAzcODW1gS+z9nM0ZKV4QBQP1NFL+9kQtAUA0FK3JoA0AzsbgzA6rsPwDpGasC4+c\\u002fzz8Ctc8\\u002fFUCZnu0LrkHuP5n75NJXS9Y\\u002fx0dnESKD8j\\u002fhyj3obwoXQK3jF82hH\\u002fA\\u002fF7JjAz71LUCvwrI9pw9UQBqqYLYsUCJALZi4AFvdXUAWLpPk1fEwQDqKzETjQg1AQMDXHG3l5T94QgMkgCEZQDDQodURbABAUs+U9pWCLUCt4xfNoR8AQFvAm8tIkGFAsCEm8jxnFECIjzAyhaQmQEFj4FXD2+0\\u002f89n6wZin\\u002fj9Yg0udo29BQNnSokTCTeQ\\u002fwRFcOZjg+T+bXIX8+b83QJ058\\u002ffykgpAOefDC41M9T+GE7LYDXf8P\\u002f2LIuRY2c8\\u002f9DbyiEKx5j+zXzQX2K74P3Onrr9bnyVAiQuvi\\u002fzREEDMIHsiAhyzP5ue7QuuQQ5AlMXZ+s2oHUA558MLjUz1P47qmHTh8ktAEhNmPCEIMUCA+DW4eVw1QMsRb5gmhWBA1PmOM+K0I0BsM+Q6FuYvQIPVo7NyLwhAlMXZ+s2oLUBJtYdUGF5jQCdciNjsgeM\\u002foDWZDdpYOEAXsmMDPvUNQM0geyICHANAuThIKLhHCUC9000U\\u002fZgFQDMOsPqss+Q\\u002fNWv2OTbuQ0ANm0HNwhT5P2OYQF4SMxVA9DbyiEKx9j\\u002fnJ9Of2HUNQJr75NJXS+Y\\u002fJ1yI2OyB8z\\u002fNw4NbWBLrP7O8K96BuABAcsbm2UmSEEBm1k6DrXrZP5r75NJXS\\u002fY\\u002fmZ7tC65B7j8gJn0AY9\\u002f6PzqKzETjQv0\\u002fFw9byuf+BUBHmestTX72P5r75NJXS\\u002fY\\u002fAIwi5FjZ\\u002fz+bewyPx+M5QBqqYLYsUPI\\u002freMXzaEf8D\\u002fNIHsiAhzjP\\u002f\\u002foGasC49c\\u002fMrG4MwOqzD9m1k6DrXrZPxqqYLYsUNI\\u002fwW5TAELq4T9oNcI3Q9JJQAldM6gnzRRAGqpgtixQ0j+XvdatvAMCQMwgeyICHLM\\u002fGk1p74JG+j\\u002fZ0qJEwk3kP8YJqGRmbCVA8zbyiEKxBkAUdFXeoq35P0T+5UEILRpAR5nrLU1+9j\\u002fBblMAQuoRQMERXDmY4Ok\\u002fUNPu4K68P0BWiSF1qPcbQICXlY7X59M\\u002f89n6wZin\\u002fj8tVCN8mj4mQGfWToOteuk\\u002fl73WrbwDAkAMm0HNwhTpP2czRkpXhAFAzz8Ctc8\\u002fFUDBEVw5mODpP9T5jjPitPM\\u002fTXL\\u002fPi0X5z\\u002f6iyLkWNmvP4sqNh7K9RJAqkgS4VzOA0AnXIjY7IEDQP2LIuRY2c8\\u002f4ka8Qec3AUB6voF9907zPxpNae+CRuo\\u002fTXL\\u002fPi0X5z\\u002fMIHsiAhzDP3PlbWwXtuI\\u002fTXL\\u002fPi0X1z+1vHpWYeknQMERXDmY4Ok\\u002fmvvk0ldL5j8A6RmrAuP3P24vilD9qz1A2tKiRMJN9D\\u002fNIHsiAhzjP\\u002f2LIuRY2c8\\u002fuJU\\u002f72FR8T\\u002ffq7ZVoub0P\\u002f+LIuRY2d8\\u002frYYgBvgVCECGE7LYDXf8PxqqYLYsUOI\\u002fWoEeKJdS4D+yvCvegbjwP8wgeyICHMM\\u002fsrwr3oG40D\\u002f\\u002f6BmrAuPHPwz4OJRsHuE\\u002f5yfTn9h13T+mrQz1F333P2YzRkpXhNE\\u002fs7wr3oG44D8aqmC2LFDiP4CXlY7X59M\\u002fGk1p74JG2j8nXIjY7IHjP0eZ6y1NfvY\\u002fGqpgtixQ4j\\u002fnhMpmgn\\u002fVP\\u002f\\u002foGasC49c\\u002fc+VtbBe28j+Al5WO1+fjP6atDPUXfec\\u002fXb8sTTKaBECmUBUubnP\\u002fP9T5jjPitPM\\u002f54TKZoJ\\u002f5T\\u002fNIHsiAhzzPwbCLbzie\\u002fg\\u002fGqpgtixQAkBaJCdh7UjoP8FuUwBC6uE\\u002fyEU6nBVmYUBbJCdh7Uj4P2D9OnLN4fg\\u002f\\u002f+gZqwLjxz8aqmC2LFDiP80geyICHOM\\u002fwRFcOZjg6T+Al5WO1+fTP1qBHiiXUuA\\u002f93QArt34CkA6isxE40L9P3cDhoDO41dAmfvk0ldL1j\\u002fsPlfllPQTQAIIoT3QBhpAFNFMpUy38T+DuJgOkVlOQMrDg1tYEss\\u002f4E6\\u002fjvjcLEDxl0M6BfVQQP+LIuRY2d8\\u002fvXZWTVOPHUAx7yho348SQCdciNjsgeM\\u002fEhNmPCEIMUDqH9BSx9AhQGpSzdwkqCNA3W2oMAefEEB6YYq2TUX7P1skJ2HtSPg\\u002fba9ilI0TCkCkrb18OEwgQPO2yszSGDNALjWc6cwaFEBD316vOglIQA8IAxU+3GdALjWc6cwa9D8+RApLFodEQFVqmuLa0ylAgwy8ljsOdkDdbagwB58QQB9k7TQ\\u002fxRBAanFUb\\u002fLLFUAk\\u002f0GZY0ckQPuLhPOZdzFAn1h6isC2HEDdbagwB58AQD0l0jAolBlAICZ9AGPf+j\\u002fW2qWR0\\u002fIvQKatDPUXffc\\u002fM7G4MwOq7D9qUs3cJKgjQGbWToOtetk\\u002fLjWc6cwa9D+yoU2urP9XQE0VCHiDDe8\\u002fZDNGSleEwT\\u002ftXd53YhgWQJ2W6r6cnAJA2XWrfRhE7D+127JwT9wSQCsWFVf\\u002f9jFA5+J\\u002fJCKwUUCa++TSV0sWQHe2CcIWZ29AMXOqDmhiCEA8qVPXsGYfQIgyOWvbmi5Ax+pvSnh5GkAM+DiUbB4BQJQi0cF3svU\\u002fWoEeKJdS4D+g1PjjN+QGQPIbFFlt+E1AWAWgzh8lFkCGE7LYDXcMQGYzRkpXhNE\\u002f2nECGyDZMkDTnJdsOKv7P3OIdqVtrPo\\u002fQMDXHG3lBUAoew9ruqUVQJr75NJXSwZATDRAknEASkB3I3yRsv0GQNGcSPRYeiRAvhENwbivIkCy47W9YIEuQEBj4FXD2\\u002f0\\u002fFfDTNxrbE0D1snDiud4QQDFzqg5oYghA1PmOM+K08z\\u002fdELFpXZUIQFXHkamE3SFAahRdqEjCHUBX5hg8UgE0QIMym3ocOQBARzz0ZqN0\\u002fj+mrQz1F30HQJ6W6r6cnBJAcEpogNJkBkBtcaPn0fwsQCCDdMcM6fI\\u002f+rIO03hAH0CfdwEdjtoOQMqFdTa9ygZA1PmOM+K0A0BAwNccbeUFQGczRkpXhAFAPYLJ99GdEUBZZBODtXxGQE1y\\u002fz4tF9c\\u002fZzNGSleEAUA9JdIwKJQJQGBaMjl36\\u002fA\\u002fHehu28eXNkAIgBQlDis5QBR0Vd6irfk\\u002fmH9meeAdPECPC018uzMfQLNfNBfYrtg\\u002fW6ClumR2EkBNFQh4gw3vPxR0Vd6irfk\\u002fULANZMheC0Ca++TSV0sWQBTRTKVMtwFAzSB7IgIc4z\\u002fNIHsiAhwDQDnnwwuNTAVAlCLRwXeyBUDET2peMygOQBiL2SNfLCBAsUCthAqLFkAu8sRbAqNwQJGHy9UyYRlAMw6w+qyz9D\\u002fv2VzR2UUQQGpxVG\\u002fyywVAc8qPPEL9WUDKhXU2vco2QFokJ2HtSOg\\u002fZtZOg6162T+wISbyPGcEQJme7QuuQd4\\u002fzcODW1gS6z+DMpt6HDkAQLFC2vkWqFdAxKxhJd0xFkDgq7ZVouYEQO1d3ndiGAZArYYgBvgV+D8ce62TTNB3QP1NFL+9kQtAwo3akg8OJEDOw4NbWBILQDFQyZGBBDRAQMDXHG3lJUD\\u002fiyLkWNnfP+GI1di7iEBADdzr5YBvW0DMw4NbWBLbPwz4OJRsHuE\\u002fkKfB5hZ7WEDMw4NbWBLbPzKxuDMDqsw\\u002fPKlT17BmH0Cbnu0LrkH+PzMOsPqss9Q\\u002fMrG4MwOq3D+AOp7HLd7bP80geyICHOM\\u002fGk1p74JG2j8A6RmrAuPnP6atDPUXffc\\u002f2LMbsvQpIkDU+Y4z4rTzP\\u002f\\u002foGasC49c\\u002f6x\\u002fQUsfQAUDz2frBmKcOQMFuUwBC6vE\\u002f15SUHycGIEAaTWnvgkbaPxqqYLYsUNI\\u002fzMODW1gS2z9m1k6DrXrZPzSxuDMDqvw\\u002fGk1p74JG2j+t4xfNoR\\u002fwP7NfNBfYrvg\\u002fSLhywBqiGECzvCvegbjgPzVr9jk27iNAYHm5y0QPI0AzDrD6rLPEP2D9OnLN4fg\\u002f\\u002f+gZqwLj1z+1fruppdIaQE0VCHiDDe8\\u002fmZ7tC65Bzj\\u002fgTr+O+Nz8P\\u002fuLhPOZdxFAl73WrbwDAkCAl5WO1+fjP4A6nsct3ts\\u002fmfvk0ldL1j\\u002fnJ9Of2HXdP9nSokTCTeQ\\u002fGqpgtixQ4j9m1k6DrXrZP\\u002foPBpoiShdAjUm9sJcZ5T\\u002f\\u002f6BmrAuPXP0DA1xxt5fU\\u002fubzJzkAaH0Bm1k6DrXrJP7NfNBfYrug\\u002fs7wr3oG44D\\u002f6iyLkWNm\\u002fP0DA1xxt5eU\\u002fMrG4MwOqvD\\u002f9iyLkWNnPPyY\\u002ffTMLrFlA5yfTn9h1\\u002fT\\u002ftAOewuA4eQM0geyICHOM\\u002fwRFcOZjg6T+wISbyPGcEQGczRkpXhOE\\u002f\\u002f+gZqwLj1z+y47W9YIEuQF4eoAHI8WRA8zbyiEKxBkBm1k6DrXrZPxSDYWh+RGxA8hdr9nSNJECzXzQX2K7YP2HaWfXmgzRAc+VtbBe2EkAM+DiUbB7hP0RgRGKgyF9AhnCpn7eABEAGHyWDjIXwP5r75NJXSwZADJtBzcIU6T+a++TSV0vmP5r75NJXS+Y\\u002foLVxUWrAFEBgW\\u002fAvbRJVQDqKzETjQg1Acsbm2UmSEECzvCvegbgQQLNfNBfYrghAmvvk0ldLBkDoZZJMlIx6QJdg3+YS+glAgTqexy3eG0Dz2frBmKf+P9eUlB8nBhBAGqpgtixQAkDXlJQfJwYAQGwz5DoW5i9ABsItvOJ7+D\\u002fET2peMygOQA+6yF+QOEtAVWqa4trTKUBPsL7r6C1EQHphirZNRQtAMw6w+qyzFEBbAUbkBuszQGfWToOteglAk0EJ3GWlIEBnM0ZKV4ThP+sf0FLH0AFAkYfL1TJhGUBgWjI5d+sAQM3Dg1tYEitAmZ7tC65B7j\\u002fjTWML2m9wQL9VU\\u002f9kK4ZAwW5TAELqAUASNke5B2YlQACMIuRY2f8\\u002fHKYGzBMWQEDET2peMygOQIdRcYXJjSlAFPDTNxrbI0BmM0ZKV4TRP\\u002f\\u002foGasC48c\\u002fg7YcIaULFkDBblMAQurhP5n75NJXS9Y\\u002fFNFMpUy38T\\u002fMw4NbWBLbP7k4SCi4R\\u002fk\\u002f\\u002f4si5FjZ3z\\u002fMw4NbWBLbP68ZwTFUCHFAHehu28eXBkCcd2Msz3hAQNE\\u002fUS2vcCxAhhOy2A13\\u002fD9m1k6DrXrZP\\u002fXZ+sGYp+4\\u002fBh8lg4yFYEDtXd53YhgGQLsZEA7KVC5AhhOy2A13\\u002fD\\u002ftAOewuA7+P7K8K96BuPA\\u002fsrwr3oG40D\\u002fMw4NbWBLbPxYPW8rn\\u002fiVAICZ9AGPfKkAYi9kjXywQQFzWToOteqk\\u002fSsg8Qexfb0D6iyLkWNmvP2QzRkpXhME\\u002fpq0M9Rd99z\\u002fKw4NbWBLLP1zWToOteqk\\u002fQMDXHG3l5T+jEgcJ0ysLQN1tqDAHnzBAs180F9iu2D+jMT8jwR42QMzDg1tYEts\\u002fZtZOg616yT\\u002f6DwaaIkr3P7NfNBfYrtg\\u002fx+pvSnh5+j\\u002f7sg7TeED\\u002fP5Qi0cF3svU\\u002fMw6w+qyzxD8qmpb9h8kXQJQi0cF3shVAQMDXHG3l5T+dluq+nJwCQHPlbWwXtgJArppXbNqWgUCjEgcJ0ysLQLm8yc5AGh9Ax0dnESKDAkCZnu0LrkHuPwz4OJRsHhFAwo3akg8OFEBAwNccbeXlPznnwwuNTPU\\u002fwRFcOZjg+T9gWjI5d+sQQMrDg1tYEss\\u002fWoEeKJdS4D96YYq2TUULQCdciNjsgfM\\u002fFNFMpUy38T8zDrD6rLP0Pwt8ujr18BZAM7G4MwOq7D+5OEgouEcJQE1y\\u002fz4tF+c\\u002fx0dnESKD8j9n1k6DrXrpP\\u002f\\u002foGasC49c\\u002fzMODW1gS2z\\u002fZ0qJEwk3kPzqKzETjQv0\\u002fWoEeKJdS4D8ysbgzA6rcP7O8K96BuOA\\u002fTo8K5A7tQEDS2gehFJERQE1y\\u002fz4tF9c\\u002fysODW1gSyz8aqmC2LFDSP8wgeyICHLM\\u002fYHm5y0QPI0DMw4NbWBLbP4wL\\u002fgPcAihA68OWghPuXUBc1k6DrXqpP22vYpSNE\\u002fo\\u002fsrwr3oG40D9ziHalbazqP4YTstgNd\\u002fw\\u002flPvk0ldLtj\\u002fKw4NbWBLLP5f75NJXS8Y\\u002fzCB7IgIcoz+U++TSV0u2P+eEymaCf9U\\u002fmZ7tC65B3j8Nm0HNwhQZQE1y\\u002fz4tF9c\\u002freMXzaEfAEAzDrD6rLPkP5f75NJXS8Y\\u002fzCB7IgIcsz+U++TSV0u2P4CXlY7X59M\\u002f\\u002fYsi5FjZzz+Znu0LrkHOPz2CyffRnQFAIIN0xwzp8j+D1aOzci8IQBTRTKVMt\\u002fE\\u002flPvk0ldLtj\\u002f6iyLkWNmvP\\u002f\\u002foGasC48c\\u002fY9ZOg616uT9c1k6DrXqpP80geyICHOM\\u002fc4h2pW2s6j+U++TSV0u2P2PWToOterk\\u002fY9ZOg616uT9TSxNQDbD3P\\u002fqLIuRY2a8\\u002fZjNGSleE0T9c1k6DrXqpPxE2R7kHZgVAMrG4MwOqvD\\u002f\\u002f6BmrAuPHP2czRkpXhAFAlPvk0ldLtj\\u002fMIHsiAhyzP1PuG4ljpg9A\\u002f4si5FjZ3z+U++TSV0u2P5T75NJXS7Y\\u002fwRFcOZjg6T8ysbgzA6rMPzKxuDMDqsw\\u002f\\u002f+gZqwLj1z9mM0ZKV4TRP5f75NJXS8Y\\u002fZjNGSleE0T9tDFpbNx3yP\\u002f\\u002foGasC48c\\u002fVuYYPFIBBEApWxla1otmQJqe7QuuQR5AWAlJMRiQP0D40fd0hwIDQJue7QuuQQ5A+g8GmiJK9z+zvCvegbjgP5f75NJXS8Y\\u002fMZ2ULzMrkkDPPwK1zz8VQCTBguynMAdAIIN0xwzp8j\\u002fqgHB8aUVTQFYbU\\u002fAi5oRA+osi5FjZvz9c1k6DrXqpPzKxuDMDqsw\\u002f+osi5FjZvz9c1k6DrXqZP6fKF5r5UkFAlPvk0ldLtj+U++TSV0u2P\\u002fIXa\\u002fZ0jRRARbpQvUeOQkDBEVw5mOAJQMFuUwBC6kFADPg4lGwe4T8zsbgzA6rsP9PY2isIdEBAc+VtbBe28j8n\\u002f5ARQ3jrP06PCuQO7UBAAYwi5FjZ7z8aqmC2LFDSP5me7QuuQd4\\u002f\\u002f4si5FjZ3z9kM0ZKV4TBP2bWToOtesk\\u002fmZ7tC65B3j9Z5me0MTI7QPXZ+sGYp+4\\u002fZjNGSleE0T8aqmC2LFDyP4A6nsct3us\\u002fs180F9iu2D9n1k6DrXrpP0DA1xxt5eU\\u002fGk1p74JG6j\\u002fU+Y4z4rTzP6gtNLGHFTtAZjNGSleE0T\\u002fNw4NbWBLrP2QzRkpXhME\\u002fWoEeKJdSAEDtAOewuA7+P\\u002foPBpoiSvc\\u002fIoPDP+wZOkBimEBeEjMFQLK8K96BuPA\\u002fx0dnESKD8j\\u002ftAOewuA7+PwafTD\\u002f8HTRAer6BffdO8z8M+DiUbB7xP62GIAb4Ffg\\u002fsrwr3oG40D+a++TSV0vmP3\\u002fXgbCfG0JAjuzF6e0P7T+t4xfNoR8AQMERXDmY4Ok\\u002f8fjjY6dpMkDMw4NbWBLbP5n75NJXS9Y\\u002f\\u002f+gZqwLj1z8aTWnvgkbqP7iVP+9hUfE\\u002fWiQnYe1ICEC5lT\\u002fvYVExQDMOsPqss8Q\\u002fzMODW1gS2z9gWjI5d+vwP01y\\u002fz4tF9c\\u002f6cQFASrkSkCzvCvegbjgP\\u002f\\u002foGasC48c\\u002fmZ7tC65B3j9P7n2YpEQhQGQzRkpXhME\\u002fanFUb\\u002fLLBUCZ++TSV0vWP2QzRkpXhME\\u002fgffGOWNmWECFUSIN6lwSQNLaB6EUkRFAraVYIOYIM0B6YYq2TUX7P\\u002fP4MtyGmllANqm15vEEAUBnM0ZKV4ThP7NfNBfYrghAmvvk0ldL5j8A6RmrAuP3P5me7QuuQe4\\u002fYFoyOXfr8D8aqmC2LFDiP4CXlY7X5+M\\u002feJ\\u002f66ikrEUDIKC\\u002f3M5AnQBcPW8rn\\u002fhVAywH0jzT4EEBaJCdh7UgIQO1d3ndiGAZAfJ0c7vw+R0C5A126+4V8QOcn05\\u002fYde0\\u002foDWZDdpYOEAgg3THDOnyP593AR2O2v4\\u002fjuzF6e0P7T+g1PjjN+QGQDKxuDMDqtw\\u002f54TKZoJ\\u002f5T\\u002fET2peMygeQAybQc3CFOk\\u002fQr6qp2DIREB\\u002faVHqDV5mQOcn05\\u002fYdf0\\u002fERcPnxlzKkBtDFpbNx0CQOrC2IsdxwlAs180F9iu6D9lNXO\\u002fY6FCQH78j6KSlgdAEdlP8l1cHUDgTr+O+NxMQN9t96jmzydABKdPjA3DP0DrHaPdurNAQD0Ix4tGvk9A93QArt34GkCUItHBd7IFQBXw0zca2xNAo6At4EgDZkBSDVSjUZkqQOmjUflPoydA2tKiRMJN9D9n1k6DrXrpPwYfJYOMhQBAQWPgVcPb7T9oFA4waZEmQNK7z4YmniZAsrwr3oG48D8zDrD6rLPkPzKxuDMDqtw\\u002fWyQnYe1I+D+Txdn6zaj9P80geyICHPM\\u002fwW5TAELq8T+GcKmft4D0P\\u002fPZ+sGYp\\u002f4\\u002f\\u002f4si5FjZ3z96voF9907zPwDpGasC4+c\\u002fx+pvSnh5+j9SMnWQPJ2AQKbMRA8GcDJAdKWBSk+CVEDZ0qJEwk0kQNBeiUedYxdAA4Qfl0c0FEBz5W1sF7byP7O8K96BuABA\\u002fsmSGDW\\u002fFUAcbPCBUGosQCCDdMcM6fI\\u002fl\\u002fvk0ldLxj9ewDm8B\\u002fJfQOrC2IsdxwlA+g8GmiJK9z8ysbgzA6rMP2PWToOterk\\u002fTXL\\u002fPi0X1z+mrQz1F30nQJue7QuuQQ5AUs+U9pWCHUBtDFpbNx3yP533iug+EURAx0dnESKDAkAGwi284nv4PzTtSmuyo2hALjWc6cwa9D+iUHc9rxERQPjR93SHAgNA9tH3dIcCI0CQ5MKc3GoBQOcn05\\u002fYdd0\\u002fQWPgVcPb7T\\u002f\\u002f6BmrAuPHP6atDPUXfec\\u002fl\\u002fvk0ldLxj+yvCvegbjQP+0A57C4Dg5A89n6wZin\\u002fj9Ncv8+LRfnPxqqYLYsUNI\\u002fVuYYPFIBBEBz5W1sF7byP0vVzN3bqElAWoEeKJdS4D9NFQh4gw3\\u002fP41JvbCXGfU\\u002fDPg4lGweAUDPfcFhi1YiQNl1q30YROw\\u002fWoEeKJdS4D8LfLo69fAWQBeyYwM+9S1AE5ON+JCgJEAcyedI+nMUQKatDPUXffc\\u002fo2\\u002f+z3w1A0BTSxNQDbD3P22vYpSNEwpA54TKZoJ\\u002f9T9m1k6DrXr5P2bWToOtesk\\u002fMw6w+qyzxD+Znu0LrkHOP5f75NJXS8Y\\u002fs180F9iuCEAzDrD6rLPUPyf\\u002fkBFDePs\\u002fwRFcOZjg6T+X++TSV0vGP80geyICHOM\\u002flPvk0ldLtj+5OEgouEcJQDqKzETjQi1ALdikIiMR\\u002fD9z5W1sF7biP9eUlB8nBhBADJtBzcIU6T8ysbgzA6rMP\\u002f2qC4ZnmxNAafEss4IzMkCUItHBd7IVQDxkAFz6oFNAGk1p74JG2j+jb\\u002f7PfDUTQEDA1xxt5eU\\u002f1PmOM+K0I0D9TRS\\u002fvZELQFzWToOtepk\\u002f+osi5FjZrz9ziHalbawaQEDfDzdb2CBATXL\\u002fPi0X5z8GHyWDjIUAQHOIdqVtrOo\\u002fjEm9sJcZBUBNcv8+LRfnP7zX9nb1A09AZtZOg616+T+thiAG+BX4P91tqDAHnxBAttuycE\\u002fcIkBc1k6DrXqZP+mjUflPo1dA22\\u002fVpRO8UUAzDrD6rLPEPxpNae+CRto\\u002fkEkMKXdKPEDHR2cRIoPyP62GIAb4Ffg\\u002f9HSxNf7HI0CQ5MKc3GoRQIA6nsct3ts\\u002fQn6+hZiURkAx7yho348SQLiVP+9hUfE\\u002fQMDXHG3l5T8qPZ823r8vQHcjfJGy\\u002fQZAZjNGSleE0T9z5W1sF7biP9eUlB8nBgBAubzJzkAaH0BBoZ8Cf\\u002fI6QFokJ2HtSAhA3W2oMAefAECZnu0LrkHuP6gpi06PqhFAETZHuQdmBUDS2gehFJERQCsmkF\\u002fxg3FATlPHJD8kLEDblDIQ5mceQLDELiuTXRxAAOkZqwLj5z8+ISnOLylQQDOxuDMDquw\\u002fMw6w+qyz5D9mM0ZKV4TRP0Bj4FXD2\\u002f0\\u002fNqm15vEEAUARFw+fGXM6QCrc\\u002fgw8S25AQWPgVcPb7T8JXTOoJ80EQHBpoJrAVyFA5yfTn9h13T+Ef1O2u11\\u002fQOcn05\\u002fYde0\\u002fM7G4MwOq7D+4lT\\u002fvYVHxP+1d3ndiGAZAXNZOg616qT+IsOQ5X+VZQLDELiuTXQxArafUDdJWa0DU+Y4z4rQDQMwgeyICHNM\\u002fzCB7IgIcwz\\u002fiSaet6XtWQEQ8pe7DQydAzCB7IgIcoz+Znu0LrkHuP2F5uctEDxNAAgihPdAGOkAMunnnsAckQE1y\\u002fz4tF\\u002fc\\u002fs7wr3oG4MEDb8GvgmUpSQKVQFS5uc+8\\u002fzcODW1gS6z9LU3isX\\u002fMkQK3DIby9BXFAc4h2pW2s6j\\u002fZdat9GEQMQJr75NJXS\\u002fY\\u002fMw6w+qyzBEBAIXhGD1pHQOrC2IsdxxlAzCB7IgIcwz\\u002fuOv36e7oxQOdDIE7EJFNACD6sFVqpEkBnM0ZKV4ThPxTRTKVMt\\u002fE\\u002f5yfTn9h1DUBnM0ZKV4TxPxR0Vd6irfk\\u002fSjTxGZLPAkAgg3THDOnyP4gLr4v80QBAs180F9iu6D\\u002fXN51YffwHQOBOv4743Pw\\u002fPYLJ99GdAUCUxdn6zagdQKUxjpugTx1AYFoyOXfrAEB6voF9904DQAYfJYOMhRBAkIfL1TJhCUCGE7LYDXcMQAJlmAR6EBJATRUIeIMN\\u002fz8aTWnvgkYKQADpGasC4wdAk8XZ+s2o\\u002fT+t4xfNoR8QQPjR93SHAgNAMNCh1RFsAEBaJCdh7UjoP+cn05\\u002fYde0\\u002fx0dnESKD8j+zXzQX2K74P3mEazM0oz9AAKwY9TzzXkCQ5MKc3GoRQNM5e1Wq6EFAGqpgtixQ4j9Ncv8+LRfXP1qBHiiXUgBAFHRV3qKt+T\\u002f12frBmKcuQPQ28ohCseY\\u002fia63xFLICEAGwi284nsIQOeEymaCf\\u002fU\\u002f5yfTn9h17T9AY+BVw9v9P8wgeyICHNM\\u002fnZbqvpycAkAV8NM3GtsTQJr75NJXS+Y\\u002f4ka8Qec3AUAuNZzpzBr0P9l1q30YRPw\\u002fEdlP8l1cLUAnXIjY7IEjQKQOXqbawDFAyuMq9Fz7UkCjEgcJ0ysbQE1y\\u002fz4tF+c\\u002f2XWrfRhEDEC7J16hr8R8QMSsYSXdMQZAk8XZ+s2o\\u002fT8M+DiUbB7hPzeOJi\\u002f8fD9A0toHoRSREUBCHR5c9h9FQN6ML8PUwjJA13SeDkPsUEAsGJFE60RKQJwn\\u002fAEVuHJAnpS9SZB\\u002fQUA9gsn30Z0hQB6LdxQejg5AS\\u002faA5bXpHEAJXTOoJ80kQCXgCX91VBlAVke5ZfR1NUAgg3THDOkCQMFuUwBC6vE\\u002fEPiHDExPKEDOw4NbWBILQLNfNBfYrug\\u002fF7JjAz71DUBHmestTX4GQP+LIuRY2d8\\u002f2\\u002fEp149xFkAzDrD6rLP0P8dHZxEigwJAA4Qfl0c0FEBn1k6DrXrpP4CXlY7X5+M\\u002fYphAXhIzBUBNFQh4gw3fPy3YpCIjEfw\\u002fe59JYwlcKECAl5WO1+fjP0DA1xxt5fU\\u002fWiQnYe1I6D+dluq+nJwCQJPF2frNqP0\\u002fmfvk0ldL1j\\u002fnJ9Of2HXdP5f75NJXS8Y\\u002f\\u002f4si5FjZ3z9AxIB\\u002fZVBPQI1JvbCXGSVAJ\\u002f+QEUN46z\\u002fa0qJEwk30P6ZQFS5uc\\u002f8\\u002fTXL\\u002fPi0X5z8A6RmrAuPnPxqqYLYsUPI\\u002fIWQ8rR72R0Ca++TSV0sGQKpIEuFczgNAMw6w+qyz1D9M9oDltel8QBTRTKVMt\\u002fE\\u002fD5fn4qnaNkCt4xfNoR8QQFokJ2HtSOg\\u002fMw6w+qyzBEDM4rt1RgUmQGF5uctEDxNAr8TfsrMsJUAaTWnvgkbaPyCDdMcM6QJAM7G4MwOq7D\\u002fErGEl3TEGQOeEymaCf+U\\u002fDPg4lGwe8T\\u002fMIHsiAhzTP8rDg1tYEss\\u002fysODW1gSyz+t4xfNoR8QQBpNae+CRto\\u002fmfvk0ldL1j\\u002fnhMpmgn\\u002flP8wgeyICHKM\\u002f+osi5FjZvz9Ncv8+LRfXP5r75NJXS+Y\\u002fplAVLm5z\\u002fz\\u002f\\u002fiyLkWNnfP\\u002f\\u002foGasC48c\\u002fwW5TAELq8T9z5W1sF7byP3phirZNRfs\\u002fGqpgtixQ0j\\u002fMIHsiAhzDP8rDg1tYEss\\u002f2dKiRMJN5D\\u002fnJ9Of2HXdP01y\\u002fz4tF+c\\u002fZDNGSleEwT8zDrD6rLPkP7\\u002fy1KbKvBdA\\u002f+gZqwLj1z8A6RmrAuP3P4CXlY7X59M\\u002fMrG4MwOqzD9NFQh4gw3vPyEi1J1qdIFAg9Wjs3IvCEBVysuNZlJeQKZQFS5uc\\u002f8\\u002fplAVLm5zD0A558MLjUwFQPQ28ohCsfY\\u002fFNFMpUy3EUBOU8ckPyQsQO1d3ndiGAZACMAAR9ZeZ0DnJ9Of2HXtP2nV3wSXhFxATXL\\u002fPi0X1z\\u002fNIHsiAhzzP\\u002ffR93SHAhNAAOkZqwLj5z\\u002f9iyLkWNnPP8FuUwBC6vE\\u002frYYgBvgV+D9m1k6DrXr5PzkG\\u002fCV7P1BAAQYlUOS4UUBimEBeEjMFQKPRXPAU0VhAwRFcOZjgGUCZYJCg\\u002ftaFQJT75NJXS7Y\\u002fWoEeKJdSAEBkM0ZKV4TBPxqqYLYsUNI\\u002fXNZOg616mT\\u002fnhMpmgn\\u002fVP8wgeyICHMM\\u002fsr5YU47VQUBj1k6DrXq5P+eEymaCf9U\\u002fZtZOg616yT8gg3THDOnyPyCDdMcM6QJAmZ7tC65Bzj\\u002fkJ4Qn+URGQCdeBMbYz0tAmvvk0ldL5j\\u002fZ0qJEwk3kP5e91q28AwJAwRFcOZjg6T9imEBeEjMFQPM28ohCsQZAKHsPa7qlFUB6YYq2TUULQBqqYLYsUAJAcEpogNJkBkDb8SnXj3EWQMyAXVWuaVBAAmWYBHoQEkAGwi284nv4PzqKzETjQv0\\u002fbQxaWzcdAkDKhXU2vcoGQD3jaSF0EjNACQA84X3DDEBnM0ZKV4TxP4A6nsct3gtAuThIKLhHCUCpSj9WaetkQHcjfJGy\\u002fTZAU+4biWOm\\u002fz+Z++TSV0vWP00VCHiDDe8\\u002fBsItvOJ7+D+thiAG+BX4P\\u002foPBpoiSvc\\u002fMrG4MwOqzD+Znu0LrkHOP5n75NJXS9Y\\u002fzcODW1gS6z9AwNccbeXlPyAmfQBj3wpA4Y08MqoaXkCNSb2wlxn1P5n75NJXS9Y\\u002f15SUHycGAEAU0UylTLfxP7b6OQMdABVAKjn20+VURkDnJ9Of2HXdP2bWToOtetk\\u002fwRFcOZjg6T9NFQh4gw3vP6XQ7XH+2ltAAOkZqwLj9z+JbQ2slG1WQDKxuDMDqtw\\u002fTXL\\u002fPi0X1z9bJCdh7Uj4P+PpxHo9LilAr0QHbyPFSECzvCvegbjgP2KYQF4SMwVAZtZOg6162T+X++TSV0vGP8zDg1tYEts\\u002f9DbyiEKx5j+zXzQX2K74P2bWToOtesk\\u002fGk1p74JG6j\\u002fNIHsiAhzjP5Qi0cF3svU\\u002fYFoyOXfr8D9imEBeEjMFQKUxjpugTy1AZDNGSleEwT+yvCvegbjwP8wgeyICHNM\\u002fQMDXHG3l5T8JADzhfcMMQM5eOs+9MkBAuFsppZ6lfUAMm0HNwhTpP20MWls3HfI\\u002fo2\\u002f+z3w1A0AzsbgzA6rsP4O2HCGlCyZAYphAXhIzBUBqcVRv8ssFQAOEH5dHNARATXL\\u002fPi0X1z8Mm0HNwhTpP73yhS7riyBAreMXzaEf8D\\u002f8bzdFrshrQM0geyICHCNAnFgrEuGFJUDBblMAQuoRQJQi0cF3svU\\u002fMw6w+qyzxD+wISbyPGcUQPQ28ohCseY\\u002fJ\\u002f+QEUN46z80sbgzA6r8P1rgkdwsqkBAmvvk0ldLBkD9iyLkWNnPPx3obtvHlwZAwW5TAELq4T\\u002f6DwaaIkoHQEDA1xxt5eU\\u002fs180F9iu+D\\u002f\\u002f6BmrAuPHP2KYQF4SMyVAXNZOg616qT\\u002fgTr+O+Nz8P+BOv4743Pw\\u002fzCB7IgIc0z8aTWnvgkbqP0IgCcj4Y1pACV0zqCfNBEBaJCdh7UjoP4YTstgNd\\u002fw\\u002fc+VtbBe28j9c1k6DrXqpP5me7QuuQc4\\u002f+osi5FjZvz\\u002fv2VzR2UUgQCj\\u002fkBFDeAtA+osi5FjZrz8cbPCBUGosQMrDg1tYEss\\u002f0hxwsMgSOEBG3YCyDR1OQLO8K96BuOA\\u002fl\\u002fvk0ldLxj91e\\u002fkDduyAQLNfNBfYrtg\\u002fgJeVjtfn0z8pWC7u00dBQC41nOnMGvQ\\u002fzCB7IgIcwz8Mm0HNwhTpPydciNjsgeM\\u002flCLRwXey9T\\u002fMIHsiAhzDP97xeE9voi1AWoEeKJdS4D8AjCLkWNn\\u002fP3OIdqVtrPo\\u002fVceRqYTdIUCM7MXp7Q\\u002f9P+eEymaCf+U\\u002fbQxaWzcd8j\\u002f6DwaaIkr3P\\u002f\\u002foGasC49c\\u002fMrG4MwOqzD\\u002f\\u002fiyLkWNnfP72G0VVFHH1AmZ7tC65B3j9AwNccbeX1P+cn05\\u002fYde0\\u002fTXL\\u002fPi0X5z\\u002fnhMpmgn\\u002fVP+cn05\\u002fYdd0\\u002f2XWrfRhE7D9j1k6DrXq5P80geyICHOM\\u002fs180F9iu+D9m1k6DrXrJP8rDg1tYEss\\u002f54TKZoJ\\u002f1T+Txdn6zaj9P5me7QuuQd4\\u002fWIXHio+9WUBNFQh4gw3fP2bWToOtetk\\u002fpq0M9Rd95z+bnu0LrkH+P+eEymaCf+U\\u002f\\u002f+gZqwLj1z8A6RmrAuP3P8wgeyICHMM\\u002fmvvk0ldL5j9K1\\u002flS6MUKQMFuUwBC6uE\\u002fpq0M9Rd95z+AOp7HLd7bP\\u002foPBpoiSvc\\u002fq0hhWTz\\u002fKkD\\u002f6BmrAuPXP5T75NJXS7Y\\u002f54TKZoJ\\u002f5T8nXIjY7IHzP5T75NJXS7Y\\u002fTXL\\u002fPi0X1z9Ncv8+LRcHQHPlbWwXtvI\\u002frYYgBvgV+D\\u002fMIHsiAhzDPz2CyffRnQFA5yfTn9h17T+Znu0LrkHOP64Cn19vQyJAx0dnESKDAkACZZgEehAiQMvDNON44TNAhnCpn7eABEB4xoTKCPQOQDBzqg5oYhhAQGPgVcPb\\u002fT8t2KQiIxH8P0E\\u002fQeLmVlVA0OIK7iU2PUClMY6boE8dQJe91q28AwJA5oTKZoJ\\u002fBUDnJ9Of2HUNQC73K7XwNB5As180F9iu+D+AOp7HLd7rP3PlbWwXtuI\\u002fyih+bxPBDkCthiAG+BX4P00VCHiDDd8\\u002fpq0M9Rd9F0CZ++TSV0vWP9l1q30YROw\\u002fTRUIeIMNH0AFRq9ia04eQIHVVDuT\\u002fiBA7J\\u002f3DjdpNUAlPQFGH14RQAYfJYOMhQBAojXohbmJX0A073fgvsApQLsVZ6vR6TRAOorMRONCDUC1fruppdIqQDKxuDMDqtw\\u002fzSB7IgIc8z9ziHalbazqP7AC7tdOdClAzMODW1gS2z\\u002fnJ9Of2HXdP\\u002f\\u002foGasC49c\\u002fGk1p74JG2j\\u002fU+Y4z4rQDQImut8RSyChAMrG4MwOqzD\\u002fnhMpmgn\\u002fVP43sxentDy1AGk1p74JG6j9nM0ZKV4TxP5r75NJXSxZAwW5TAELq8T96voF9907zP91OcBYZrDVAVuYYPFIBFEDNw4NbWBIbQNC\\u002fKXE\\u002f2FhAvFfPuoVrG0A558MLjUz1PzaptebxBAFAMw6w+qyz5D\\u002f9iyLkWNnPP0rX+VLoxQpAEdlP8l1cDUARNke5B2Y1QDhHpj45mmJAJ1yI2OyB8z+SplJoAIUbQKNv\\u002fs98NQNAcsbm2UmSIEBeMsRssul9QEDA1xxt5fU\\u002fTRUIeIMN7z8A6RmrAuPnPwCMIuRY2f8\\u002fOefDC41MBUAiYVFBHLJSQJYiIDpX4yxAQMDXHG3lBUDMIHsiAhzTP4CXlY7X5\\u002fM\\u002fmZ7tC65Bzj8BjCLkWNnvP5PF2frNqP0\\u002fmvvk0ldL9j+X++TSV0vGP+eEymaCf\\u002fU\\u002fZjNGSleE0T+g99lgHkJLQDKxuDMDqtw\\u002f\\u002fYsi5FjZzz+Znu0LrkHePzMOsPqssxRApq0M9Rd99z9z5W1sF7YSQCf\\u002fkBFDeOs\\u002fzSB7IgIc8z9nM0ZKV4ThP52W6r6cnAJAS\\u002faA5bXpHEB6voF9904DQOCrtlWi5gRAjuzF6e0P7T+t4xfNoR\\u002fwP83Dg1tYEus\\u002ffD6pOWfnNkCAOp7HLd7bPwDpGasC4ydAMw6w+qyzBEDCjdqSDw4UQCf\\u002fkBFDeOs\\u002fjUm9sJcZ5T8fB\\u002fZtlbsYQI1JvbCXGfU\\u002fCpvyVOPjQUBAwNccbeUFQA2bQc3CFAlABh8lg4yF8D9ziHalbawaQGKYQF4SMwVAsrwr3oG48D9tr2KUjRM6QMFuUwBC6uE\\u002fQGPgVcPb\\u002fT8ysbgzA6rcPzOxuDMDquw\\u002fC3y6OvXwFkD\\u002fiyLkWNnfP7K8K96BuNA\\u002fAOkZqwLj9z8A6RmrAuPnP8rDg1tYEss\\u002fz33BYYtWIkDtXd53Yhj2P6rncbe6WTJAFHRV3qKt+T9Qz0V+tlEmQILVo7NyLyhAjUm9sJcZ9T\\u002fTnJdsOKv7P+RlQ9S0WxNATRUIeIMN7z+X++TSV0vGP0o08RmSzwJAgDqexy3e6z9TSxNQDbD3P\\u002fXZ+sGYp+4\\u002fLhZkz94nKUDU+Y4z4rTzP\\u002f5sm1GLtR1AuJU\\u002f72FR8T9j1k6DrXq5P80geyICHOM\\u002fCn7nrwEOSED\\u002f6BmrAuPHP5f75NJXS8Y\\u002fjUm9sJcZ5T8aqmC2LFDSPyyWPBNvj0VAZ9ZOg6166T8zsbgzA6rsP4CXlY7X59M\\u002fpq0M9Rd99z+X++TSV0vGPzMOsPqss8Q\\u002f\\u002f+gZqwLjxz8zDrD6rLPEP7K8K96BuPA\\u002f54TKZoJ\\u002f1T9c1k6DrXqpP\\u002f\\u002foGasC48c\\u002fMrG4MwOqzD9Vx5GphN0RQNnSokTCTeQ\\u002f\\u002f+gZqwLjxz\\u002fBEVw5mOD5P+cn05\\u002fYdf0\\u002f4E6\\u002fjvjc\\u002fD\\u002f7sg7TeEAPQDKxuDMDqtw\\u002f\\u002fYsi5FjZzz9jmEBeEjMVQD2CyffRnQFANS03jXrXFkD0NvKIQrH2P1XHkamE3RFAMw6w+qyz5D9j1k6DrXq5P6ZQFS5ucw9A\\u002f4si5FjZ3z+zXzQX2K7YP3q+gX33TvM\\u002fJ\\u002f+QEUN46z8Gwi284nsoQDMOsPqss+Q\\u002fBaOmKRVYFkCX++TSV0vGP8FuUwBC6vE\\u002f54TKZoJ\\u002f1T9HmestTX72P8zDg1tYEts\\u002fDPg4lGwe4T8DhB+XRzQUQM0geyICHOM\\u002f54TKZoJ\\u002f1T9z5W1sF7byP91tqDAHnwBAdCWpBr8aSEBaJCdh7UjoP2bWToOtesk\\u002f1PmOM+K08z8DJyjQnSoMQHPlbWwXtuI\\u002f15SUHycGEEDH6m9KeHn6PzqKzETjQv0\\u002fdyN8kbL9BkCmrQz1F33nPy41nOnMGvQ\\u002fs180F9iu2D9gebnLRA8jQD2CyffRnQFAR5nrLU1+BkBQDQUrcmgDQFqBHiiXUvA\\u002fpVAVLm5z7z+mrQz1F33nP\\u002fHZq0m5djdAGk1p74JG6j9tr2KUjRP6P01y\\u002fz4tF\\u002fc\\u002f\\u002f+gZqwLjxz+zXzQX2K7YPwjhtE6wnxpAMrG4MwOqvD+thiAG+BX4P22vYpSNE\\u002fo\\u002f+osi5FjZvz\\u002fZdat9GETsPxTRTKVMt\\u002fE\\u002fgpfkBrcYO0BaJCdh7UjoP+jhEKYLuiRAsCEm8jxnBED\\u002fiyLkWNnfP1CwDWTIXgtAZzNGSleE4T\\u002fnhMpmgn\\u002f1P7K8K96BuNA\\u002fgdVUO5P+IEBHmestTX72PxqqYLYsUNI\\u002fMw6w+qyzBEAaqmC2LFDyPyQBbw5wZEVAMw6w+qyz1D\\u002fnJ9Of2HXdP+0A57C4Dv4\\u002fLjWc6cwaBEAPushfkDgbQHq+gX33TvM\\u002fFw9byuf+BUAo\\u002f5ARQ3gLQD2CyffRnQFAOorMRONCHUA2qbXm8QQRQMFuUwBC6uE\\u002freMXzaEfAEAzrQ\\u002fRCj9TQP2LIuRY2c8\\u002fFZPccHDRK0AN2QB6fismQK2GIAb4FQhAzCB7IgIc0z+Uxdn6zagNQLNfNBfYrghAQMDXHG3lBUAxc6oOaGIIQCCDdMcM6SJAFPjpfyMJcECZ++TSV0vWP\\u002f+LIuRY2d8\\u002fSjTxGZLPAkAysbgzA6rcP4R0A4rQujZA4E6\\u002fjvjc\\u002fD8mgCdMyQZsQLmVP+9hUQFAfZ+Y2+iMD0Cq6xoas8QLQL6TYfI0ZUdA6x\\u002fQUsfQAUBNFQh4gw3\\u002fP8ERXDmY4Ok\\u002fDPg4lGwe4T+yvCvegbjQPzUtN4161yZA+NH3dIcCA0Axc6oOaGIIQM8\\u002fArXPPxVAs7wr3oG4EEAoHhikEJwdQHcjfJGy\\u002fQZAJ\\u002f+QEUN46z\\u002f\\u002f6BmrAuPHPzOxuDMDqgxASjTxGZLPAkCJC6+L\\u002fNEQQG0MWls3HfI\\u002ffxdu0mdPMEC4lT\\u002fvYVHxPyZgMTvl7DxA7\\u002foQ2bOGQ0DNw4NbWBLrP+ujoHEv1C5Aj6YD8CBUVEBNFQh4gw3fP2czRkpXhOE\\u002fSjTxGZLPAkD48H4HVSYlQOcn05\\u002fYdd0\\u002fMe8oaN+PIkDqH9BSx9ARQI7sxentD+0\\u002f1tqlkdPyD0A558MLjUz1P9Ocl2w4qwtAYP06cs3h+D\\u002fErGEl3TEGQNOcl2w4q\\u002fs\\u002fcEpogNJkBkAU0UylTLcRQPPZ+sGYp\\u002f4\\u002fWoEeKJdSAECeluq+nJwSQMKN2pIPDiRA+7IO03hA\\u002fz+DMpt6HDkAQPM28ohCsRZATRUIeIMND0ABjCLkWNnvP32fmNvojA9AykTLHf9vVEDPIMqa4Uw6QAg+rBVaqTJAjuzF6e0P7T9agR4ol1LgP+BOv4743Pw\\u002f5yfTn9h1\\u002fT8uNZzpzBr0P12\\u002fLE0ymhRAgdVUO5P+IEACCKE90AYaQOeEymaCf\\u002fU\\u002fI2SLJf4mH0CmrQz1F333P8qFdTa9yhZAduW85PbmKUAuc1uWiDEhQDGSMaE1hhpAdyN8kbL9BkDWWn7VY1o8QBhNGnejFSNAgpfkBrcYK0BKNPEZks8CQI7sxentD+0\\u002fl2Df5hL6CUA5JYO4SGMiQPiTh0CrHB1AICZ9AGPfCkAuNZzpzBoEQNOcl2w4qxtA0F6JR51jF0CljoViSlkVQIYTstgNdwxA4IoCTsilQUBQsA1kyF4LQJTF2frNqA1AbQxaWzcdAkDWGBbGr9gVQPQ28ohCseY\\u002f6x\\u002fQUsfQAUCJC6+L\\u002fNEQQBHZT\\u002fJdXB1AzSB7IgIc8z\\u002fS2gehFJERQKrrGhqzxAtARzz0ZqN0DkBNUUs3U9ZjQHjGhMoI9A5AzcODW1gSG0AHAO1onpJ1QJNBCdxlpTBArgKfX29DMkDMw4NbWBLbP\\u002f\\u002foGasC48c\\u002fZtZOg6162T8ysbgzA6rMP6pIEuFcziNAjezF6e0PDUBziHalbazqP2C9TlAFrkpA+7IO03hA\\u002fz\\u002f\\u002f6BmrAuPXP83Dg1tYEus\\u002f+osi5FjZvz\\u002fzNvKIQrEGQM0geyICHOM\\u002fLdikIiMRDEBAAMQ+NRlkQBqqYLYsUPI\\u002f4E6\\u002fjvjcDEBm1k6DrXrJP7iVP+9hUfE\\u002fWiQnYe1I6D\\u002fdELFpXZUIQCdciNjsgfM\\u002f2XWrfRhE7D+UItHBd7IVQP\\u002foGasC49c\\u002fLjWc6cwaBED9iyLkWNnPPyf\\u002fkBFDePs\\u002fl\\u002fvk0ldLxj+GcKmft4D0PzKxuDMDqrw\\u002fSjTxGZLPAkBc1k6DrXqpP\\u002f\\u002foGasC48c\\u002fQGPgVcPb\\u002fT+yvCvegbjwP2BaMjl36\\u002fA\\u002fNLG4MwOq\\u002fD\\u002fj6cR6PS4JQBqqYLYsUPI\\u002fZ9ZOg6166T8zDrD6rLPEP47sxentD+0\\u002fU0sTUA2w9z\\u002f9iyLkWNnPP3PlbWwXtvI\\u002f\\u002f+gZqwLj1z9Ncv8+LRfXP2D9OnLN4fg\\u002f2dKiRMJN5D\\u002fKw4NbWBLLP6atDPUXfec\\u002f+osi5FjZvz+mrQz1F33nPwCMIuRY2f8\\u002fQ\\u002fxpVBzfQUByae8SoIgYQG0MWls3HQJA05yXbDirC0C5lT\\u002fvYVERQJr75NJXS\\u002fY\\u002fICZ9AGPf+j8\\u002fAvGzQTY1QAYfJYOMhRBAoJf3LXL0XUA0DIOFoJZDQP2qC4ZnmwNAAYwi5FjZ7z+Ze70W6LIyQJme7QuuQc4\\u002fFNFMpUy38T+4lT\\u002fvYVHxP\\u002fqLIuRY2b8\\u002fmvvk0ldLBkBziHalbazqP3OIdqVtrOo\\u002fGk1p74JG6j+U++TSV0u2P2QzRkpXhME\\u002fgJeVjtfn4z9aJCdh7UjoP5f75NJXS8Y\\u002fAOkZqwLj5z\\u002f\\u002f6BmrAuPHP7K8K96BuNA\\u002fzCB7IgIcoz9NFQh4gw3fPwybQc3CFOk\\u002fgJeVjtfn0z+yvCvegbjwP0sVuf+j3DdAfvyPopKWB0CmUBUubnP\\u002fP0+RhtH6OilAc+VtbBe24j\\u002fTnJdsOKsLQGczRkpXhOE\\u002fMw6w+qyzxD9Ncv8+LRfnP0c89GajdA5AmZ7tC65B7j\\u002fzVSqjMKQhQJme7QuuQe4\\u002f3M5IWqkTUkApXNdQzLIqQOJGvEHnNwFA1PmOM+K0A0B+\\u002fI+ikpYHQMUI6m1wRWFATXL\\u002fPi0X5z8wc6oOaGI4QO1d3ndiGPY\\u002f8va27ppMUUAU0UylTLfxPyGmpLzSd05AcO1wuShbDkC9tMaBL3UjQBqqYLYsUPI\\u002fzSB7IgIcE0Aw0KHVEWwAQFgFoM4fJRZAQMDXHG3l5T+AOp7HLd77P2yxjwmaMEtAR5nrLU1+BkDgq7ZVouYEQGuvExyu4lJAQCF4Rg9aN0BaQTIGzx5CQErX+VLoxRpABsItvOJ7+D+htcDJSfErQNl1q30YRPw\\u002fg7YcIaULFkAiovtZ2gwVQDaptebxBAFAR5nrLU1+9j86yIvxnlkqQOeEymaCf9U\\u002f87eIw8g\\u002fV0CGcKmft4AEQP2LIuRY2c8\\u002fAIwi5FjZD0BKNPEZks8CQKZQFS5ucw9A15SUHycGAEDjRrxB5zcRQLMoHDQP0HpASZk6piyvLUAVVR3EtLouQN4vOPwquRpAc4h2pW2s6j9m1k6DrXrZP6VQFS5uc+8\\u002fsrwr3oG40D+C1aOzci9oQBqqYLYsUPI\\u002f+g8GmiJKB0DOw4NbWBILQIZwqZ+3gPQ\\u002fwW5TAELqAUD\\u002f6BmrAuPHP\\u002fWycOK53hBAkOTCnNxqAUCGE7LYDXcMQIM2RN0UpElAMrG4MwOqzD\\u002f2NkEBIuI9QEwp8GWGXYFA2dKiRMJN5D8ysbgzA6rMPzLQ8E3xnCdAcO1wuShbHkAysbgzA6rcPyf\\u002fkBFDeOs\\u002fsrwr3oG40D\\u002fH6m9KeHn6P5ue7QuuQf4\\u002fDPg4lGwe8T\\u002f\\u002f6BmrAuPXP1zWToOtepk\\u002f54TKZoJ\\u002f5T\\u002fwm+yc\\u002fV8KQFNLE1ANsPc\\u002fdQieYd1EPkAzDrD6rLPUP0y0Z07hmD1AXNZOg616qT+Znu0LrkHOP2PWToOterk\\u002fxcvot6pVGEAw0KHVEWxAQBqqYLYsUPI\\u002f7QDnsLgOLkBAY+BVw9v9P6cruMObx0JAGk1p74JG2j\\u002fSXFzSkEZGQMERXDmY4Pk\\u002fs180F9iu2D+lUBUubnPvP\\u002fqLIuRY2b8\\u002fBh8lg4yFQECNSb2wlxnlP8rDg1tYEss\\u002fMw6w+qyz5D\\u002fiRrxB5zcBQPcTYIQ7hDlAlPvk0ldLtj\\u002f\\u002fiyLkWNnfPzKxuDMDqrw\\u002fjOzF6e0P\\u002fT+U++TSV0u2P0ZbLIGRZzlA\\u002f4si5FjZ3z\\u002fNw4NbWBLrP2PWToOterk\\u002fBh8lg4yFAEBn1k6DrXoJQG7KQMRizDJAF7JjAz71DUBm1k6DrXrJP\\u002f2LIuRY2c8\\u002fmfvk0ldL1j+Al5WO1+cDQIYTstgNd\\u002fw\\u002fx0dnESKD8j+zXzQX2K7oP9T5jjPitPM\\u002fMw6w+qyz5D\\u002fnhMpmgn\\u002fVP3OIdqVtrPo\\u002fzCB7IgIcwz9TKl9IM29EQCf\\u002fkBFDeOs\\u002fBh8lg4yF8D9m1k6DrXrJPzKxuDMDqsw\\u002flPvk0ldLtj9kM0ZKV4TBP8SsYSXdMQZA2XWrfRhE\\u002fD+X++TSV0vGP8wgeyICHLM\\u002fwW5TAELqAUD6iyLkWNm\\u002fP8ERXDmY4Ok\\u002fzsODW1gSC0DZ0qJEwk3kP1zWToOteqk\\u002fWiQnYe1I6D8zDrD6rLPUP3OIdqVtrPo\\u002fXNZOg616qT\\u002fa0qJEwk30P5f75NJXS8Y\\u002f\\u002f+gZqwLjxz\\u002fU+Y4z4rTzPz0l0jAolAlAs180F9iu2D\\u002fBblMAQurxP41JvbCXGRVA7xvF4I3HNkD6iyLkWNm\\u002fP8wgeyICHLM\\u002fMrG4MwOqzD8zDrD6rLPEPzKxuDMDqtw\\u002fgDqexy3e2z\\u002f6iyLkWNm\\u002fP7iVP+9hUfE\\u002fmZ7tC65Bzj9NFQh4gw3fPwybQc3CFOk\\u002fD5fn4qnaNkBNcv8+LRfXP0Bj4FXD2x1A+osi5FjZrz\\u002fnhMpmgn\\u002fVP9nSokTCTeQ\\u002fMrG4MwOqvD8gB0XmdOwvQGPWToOterk\\u002fJ\\u002f+QEUN46z8zsbgzA6rsPwz4OJRsHuE\\u002fWoEeKJdS4D8ysbgzA6rcP1skJ2HtSPg\\u002fwRFcOZjg6T+Al5WO1+fzPzOxuDMDquw\\u002fZtZOg616yT\\u002f6iyLkWNmvP9Ocl2w4q\\u002fs\\u002fx0dnESKD8j\\u002fTfRDaaocpQDMOsPqss8Q\\u002fsrwr3oG40D\\u002fMIHsiAhyjPzMOsPqss9Q\\u002fWyQnYe1I+D\\u002fgTr+O+NwMQP\\u002foGasC49c\\u002fl\\u002fvk0ldLxj9m1k6DrXrJP0Bj4FXD2\\u002f0\\u002fmZ7tC65B3j9hO\\u002foeifglQFskJ2HtSPg\\u002fZzNGSleE4T+UItHBd7L1P+cn05\\u002fYdd0\\u002frqWnmMU5KkAaTWnvgkbaP8wgeyICHNM\\u002fzCB7IgIcwz9j1k6DrXq5P2BaMjl36\\u002fA\\u002f3W2oMAefEED6iyLkWNm\\u002fP\\u002fqLIuRY2b8\\u002fZDNGSleEwT\\u002f6iyLkWNm\\u002fPzznEoRsfSxAMw6w+qyzxD8A6RmrAuMHQMwgeyICHMM\\u002f9dn6wZin7j\\u002fnJ9Of2HXdP8qFdTa9ygZADPg4lGwe8T+Z++TSV0vWP5x3YyzPeCBAZtZOg616yT\\u002f3dACu3fgKQDMOsPqss8Q\\u002fzcODW1gS6z\\u002fnhMpmgn\\u002fVP9+rtlWi5vQ\\u002fLFh9ZrN4OEBNcv8+LRfXP2bWToOtetk\\u002fMrG4MwOqzD9CPFZ25BIQQJme7QuuQc4\\u002fer6BffdOE0C3nUI8c\\u002fYMQAWjpikVWBZAWiQnYe1ICEABjCLkWNnvP01y\\u002fz4tF9c\\u002fx0dnESKDAkDNw4NbWBLrP2QzRkpXhME\\u002fT66RdtwQY0BDDOVcDmxhQBpNae+CRvo\\u002fbQxaWzcd8j9ziHalbawKQAz4OJRsHuE\\u002fIXS3tRCDZ0CM7MXp7Q\\u002f9P4Mym3ocOQBAICZ9AGPf+j8ysbgzA6rcP7J+bDHGoSNAiI8wMoWkFkCwyVkHmkdzQMUo4H5UXyBAzSB7IgIcA0BqcVRv8ssFQLNfNBfYrug\\u002fyoV1Nr3KBkDHR2cRIoPyPxqqYLYsUOI\\u002fRVvdCLI2AkD6iyLkWNm\\u002fP5Qi0cF3svU\\u002f9DbyiEKx5j8KPvuNOdopQNrSokTCTfQ\\u002fTXL\\u002fPi0X1z\\u002fIZu6j76YUQJ058\\u002ffykgpAHMnnSPpzJEDBblMAQurxP+0A57C4Dv4\\u002fJMGC7KcwB0DQm4r9YlOAQLm8yc5AGh9AMrG4MwOqvD9tDFpbNx0SQNY3nVh9\\u002fBdAl\\u002fvk0ldLxj\\u002flCEwNC1IbQFzWToOteqk\\u002fMrG4MwOqvD93I3yRsv0mQEDA1xxt5eU\\u002fgDqexy3e2z+TNvUsYqpuQBqqYLYsUNI\\u002fc+VtbBe24j\\u002f\\u002fiyLkWNnfP338j6KSlhdA7V3ed2IY9j9FW90IsjYCQCZ8funQm2JAZzNGSleE8T+59t8YBMZSQI1JvbCXGeU\\u002ft51CPHP2DEAzDrD6rLPUP2bWToOtesk\\u002fJ1yI2OyBE0CAOp7HLd7rP4A6nsct3vs\\u002fjUm9sJcZ5T9m1k6DrXrZP2D9OnLN4QhA\\u002f+gZqwLjxz9AwNccbeXlP\\u002fqLIuRY2b8\\u002fzCB7IgIcoz9z5W1sF7byP2QzRkpXhME\\u002fmZ7tC65B3j\\u002f0NvKIQrHmPzqKzETjQv0\\u002fzCB7IgIcoz\\u002fMIHsiAhyzPx8H9m2VuxhA2dKiRMJNJEDXlJQfJwYAQOcn05\\u002fYdd0\\u002fzCB7IgIc0z+mrQz1F33nP9eUlB8nBgBAQWPgVcPb7T+Al5WO1+cDQNOcl2w4q\\u002fs\\u002fLjWc6cwa9D8HQlV4UhRMQDMOsPqss8Q\\u002fTRUIeIMN3z8uNZzpzBr0PzMOsPqss+Q\\u002f+osi5FjZvz8nXIjY7IHjPzMOsPqss+Q\\u002fOefDC41MBUD\\u002fiyLkWNnfP\\u002fqLIuRY2b8\\u002fplAVLm5zD0BNFQh4gw3vP2bWToOtesk\\u002fs180F9iu2D\\u002f6iyLkWNmvP9owWAJiflBAmfvk0ldL1j\\u002fMIHsiAhyzP41JvbCXGeU\\u002f0toHoRSREUDMw4NbWBLbP+PpxHo9LglAWWf+7rfAW0Dfq7ZVoub0P\\u002f\\u002foGasC48c\\u002fHehu28eXBkDNw4NbWBL7P2bWToOtesk\\u002fmfvk0ldL1j9j1k6DrXq5PzMOsPqss8Q\\u002fmfvk0ldL1j9HPPRmo3QOQOeEymaCf9U\\u002fpq0M9Rd99z9HmestTX72P\\u002f+LIuRY2d8\\u002fHehu28eXBkD9iyLkWNnPP\\u002f2LIuRY2c8\\u002fDJtBzcIU6T\\u002fZdat9GET8P2czRkpXhOE\\u002fQGPgVcPbDUDBEVw5mODpPy41nOnMGgRAZtZOg6162T96voF9907zP01y\\u002fz4tF+c\\u002fRN+tJxo6L0DZ0qJEwk3kP7O8K96BuABA\\u002fYsi5FjZzz9T7huJY6b\\u002fP1nivlE5xzFAzSB7IgIc8z8gJn0AY9\\u002f6PxqqYLYsUNI\\u002f9DbyiEKx9j+zvCvegbjgP41JvbCXGeU\\u002fMrG4MwOqzD+a++TSV0sGQAz4OJRsHuE\\u002fkOTCnNxqAUClUBUubnPvP5x3YyzPeBBARrgjSDtxIUAnXIjY7IHjP+0A57C4Dv4\\u002fzSB7IgIc8z\\u002fH6m9KeHn6P8rDNON44SNAgzKbehw5AEB6voF9904jQD1lvlLwx0dA\\u002fYsi5FjZzz+zXzQX2K7oP0i4csAaohhAer6BffdO8z\\u002fnJ9Of2HXdPwxdgiAH\\u002fitAZ9ZOg6166T88BkueWnAXQMFuUwBC6vE\\u002f54TKZoJ\\u002f1T9tDFpbNx3yPwz4OJRsHgFAmZ7tC65B3j\\u002fnJ9Of2HXtPyNkiyX+Jj9AXb8sTTKaBEDXlJQfJwYQQGVa0Ck2TR9AZzNGSleE4T\\u002f0NvKIQrHmP4A6nsct3us\\u002flMXZ+s2oDUCwxC4rk10MQOeEymaCf+U\\u002fkIfL1TJhCUCUItHBd7L1PxTRTKVMtwFA4E6\\u002fjvjc\\u002fD+IC6+L\\u002fNEAQOcn05\\u002fYdQ1ACV0zqCfNBEB6YYq2TUX7P8FuUwBC6uE\\u002fZDNGSleEwT\\u002f6iyLkWNm\\u002fP7O8K96BuOA\\u002fQMDXHG3lBUCyvCvegbjQP\\u002fqLIuRY2a8\\u002fuThIKLhH+T+X++TSV0vGP\\u002fiTh0CrHB1AXEGBfq5PSUDnJ9Of2HXtPzUtN4161xZA05yXbDir+z+5lT\\u002fvYVEBQHDtcLkoWw5A7V3ed2IY9j\\u002fKKH5vE8EOQCm5zhd2vCJAPYLJ99GdAUAGHyWDjIUAQBymBswTFkBAer6BffdO8z9hTIL9alafQCFkPK0e9jdA89n6wZin\\u002fj+AOp7HLd7bPyCDdMcM6QJAKxq+ufdhO0DHR2cRIoMCQDZMvh9I+whAjUm9sJcZ9T+xX+We+H0hQPD442OnaRJAuThIKLhHGUB6YYq2TUX7P48LTXy7My9AhBNjYC5GJUDBEVw5mOAZQPIXa\\u002fZ0jSRAF7JjAz71DUCqyDmdzGZXQMdHZxEigyJAsrwr3oG48D+Z++TSV0vWP8dHZxEigwJAZtZOg616yT\\u002fcL+mDS4gjQGtOc\\u002fILbjFAPSXSMCiUCUBrUhxVBNkqQNrSokTCTfQ\\u002fmfvk0ldL1j9g\\u002fTpyzeEoQOArj5kyTkFAVGge9e6FQUBziHalbazqP5ue7QuuQf4\\u002f1tqlkdPyH0CBIU+APPx7QGczRkpXhOE\\u002fsrwr3oG48D+Znu0LrkHeP3q+gX33TvM\\u002fkIfL1TJhCUDHR2cRIoPyPxqqYLYsUPI\\u002f2tKiRMJN9D\\u002fnhMpmgn\\u002fVP9LaB6EUkRFA3RCxaV2VCEAxkjGhNYYqQBR0Vd6irRlAg9Wjs3IvCEDorCU4T\\u002fh3QPPZ+sGYp\\u002f4\\u002f3RCxaV2VCED40fd0hwIDQMPvOLOnqVlA4Yx+O7TzKUDjJ4Qn+UQmQCAmfQBj3\\u002fo\\u002fGPAisPkLK0DHR2cRIoMiQBHZT\\u002fJdXB1AvbTGgS91Q0CwxC4rk10cQKrrGhqzxAtAU0sTUA2w9z\\u002fP4gruJTYtQPQ28ohCseY\\u002fqusaGrPEG0AzDrD6rLMUQK3jF82hH\\u002fA\\u002fZtZOg616yT9m1k6DrXr5P9l1q30YROw\\u002fWyQnYe1I+D\\u002fNIHsiAhzjP7NfNBfYrug\\u002fYFoyOXfrAECzvCvegbjgP2aYj9bxYzxAywH0jzT4EEAM+DiUbB7xP\\u002foPBpoiSgdA+osi5FjZrz+GcKmft4D0P+eEymaCf\\u002fU\\u002fYhzCBJsFG0AHQre5XsCAQO1d3ndiGPY\\u002fba9ilI0T+j9z5W1sF7biP4CXlY7X5+M\\u002fysODW1gSyz+wISbyPGcEQM0geyICHPM\\u002fFHRV3qKt+T\\u002fMIHsiAhyjP2YzRkpXhNE\\u002fpq0M9Rd95z+MSb2wlxkFQMdHZxEig\\u002fI\\u002fZ9ZOg6166T\\u002fnhMpmgn\\u002f1P01y\\u002fz4tF9c\\u002fuJU\\u002f72FR8T+NSb2wlxnlP5T75NJXS7Y\\u002fICZ9AGPf+j9Ncv8+LRf3P4CXlY7X5+M\\u002f7QDnsLgO\\u002fj\\u002fBEVw5mODpPyAmfQBj3\\u002fo\\u002fc+VtbBe28j9NFQh4gw3vP4A6nsct3ts\\u002f9dn6wZin7j+qSBLhXM4DQGczRkpXhPE\\u002fJ1yI2OyB4z\\u002fMIHsiAhzDPwz4OJRsHuE\\u002fmvvk0ldL5j9m1k6DrXrZP2PWToOterk\\u002fwRFcOZjg6T+O7MXp7Q\\u002ftP83Dg1tYEvs\\u002fjUm9sJcZ9T\\u002fMIHsiAhyzP01y\\u002fz4tF+c\\u002fwW5TAELq8T+Al5WO1+fzP2czRkpXhPE\\u002fMrG4MwOqvD\\u002fZ0qJEwk3kP8wgeyICHMM\\u002fZzNGSleE8T+O7MXp7Q\\u002ftP2czRkpXhOE\\u002fs7wr3oG44D9AwNccbeXlP9l1q30YRPw\\u002fStf5UujFGkDj6cR6PS4JQERb3QiyNhJA1DdO4J3LIEDeojFdt7SIQKZQFS5uc\\u002f8\\u002fpK29fDhMMEAuFmTP3ic5QO8bxeCNxzZAhnCpn7eAFEAt2KQiIxEMQGGzvBoQMnZAT7I62dR7TEB7\\u002fEAqs2UgQCo9nzbevx9AIIN0xwzpAkAfB\\u002fZtlbsYQHq+gX33TgNAMrPlqA\\u002fHTUAcbPCBUGosQCdciNjsgeM\\u002fOorMRONC\\u002fT+NSb2wlxnlP62GIAb4Ffg\\u002fM7G4MwOq7D9VZvF\\u002f4mgwQJ2W6r6cnAJA\\u002f4si5FjZ3z+Al5WO1+fjP2czRkpXhOE\\u002fDZtBzcIU+T9m1k6DrXrZP\\u002f7Jkhg1vxVAv\\u002fLUpsq8F0AuNZzpzBoUQMsE3\\u002fs2PFZA89n6wZin\\u002fj+NSb2wlxnlPwz4OJRsHhFAYFoyOXfr8D\\u002fKw4NbWBLLPxR0Vd6irQlAZzNGSleEAUANm0HNwhT5P9+rtlWi5vQ\\u002fzCB7IgIc0z8M+DiUbB7xP\\u002f+LIuRY2d8\\u002f9DbyiEKx5j9agR4ol1LwPxpNae+CRvo\\u002foNT44zfk9j9agR4ol1LwPzKxuDMDqtw\\u002fMrG4MwOq3D+mUBUubnP\\u002fP9T5jjPitPM\\u002fAYwi5FjZ7z\\u002fsHmHUsNpUQGQzRkpXhME\\u002fZDNGSleEwT9m1k6DrXrJP2D9OnLN4fg\\u002fMw6w+qyzxD8aqmC2LFDyP1+BvBhWtC5AhnCpn7eA9D8ysbgzA6rMP7NfNBfYrtg\\u002fyoV1Nr3KBkDKw4NbWBLLPxpNae+CRuo\\u002fZtZOg6162T8zDrD6rLPEP3q+gX33TvM\\u002f6h\\u002fQUsfQEUDIZu6j76YUQEyV4LsTdTtA1r\\u002faXPbCd0DTnJdsOKsLQAMnKNCdKhxAlUFYVEXWF0C2+jkDHQAFQO1d3ndiGPY\\u002fdaf9NzvQPEDBblMAQuoBQADpGasC4+c\\u002fUiyMvT+MFUDYsxuy9CkSQAybQc3CFOk\\u002fDGlUxgAgYkAnXIjY7IETQKMSBwnTKxtA2EIAgGAocUBGWyyBkWc5QNbapZHT8g9AcshixzXgWEAA6RmrAuMnQMUo4H5UXxBA6h\\u002fQUsfQEUBNcv8+LRcXQJue7QuuQf4\\u002fQMDXHG3lJUAUdFXeoq35P\\u002f1NFL+9kRtAP8IEknkCR0AR2U\\u002fyXVwNQFqC3B6NeVRAI2SLJf4mD0DnJ9Of2HXtP0Bj4FXD2w1Azz8Ctc8\\u002fRUBIdgqxZiBCQDqKzETjQv0\\u002fAgihPdAGGkBp8SyzgjNCQCAmfQBj3wpAGqpgtixQ0j+JC6+L\\u002fNEQQPsq5Mn3AjBAETZHuQdmBUCM7MXp7Q\\u002f9P2D9OnLN4fg\\u002fkIfL1TJhCUDBEVw5mOAJQMERXDmY4ClAVuYYPFIBBEBbwVnCPrdFQOlGWjKmmR9AMrG4MwOq3D\\u002fu\\u002fD1OwKNEQMcLJFJSuk1A+4uE85l3IUCCWSVa+wEeQIS2a5mEPC1AWiQnYe1IGEAfB\\u002fZtlbsYQLp2B9VzXiZAgDqexy3e6z+Q5MKc3GoBQN+rtlWi5vQ\\u002fqMyTh+WgGUDKw4NbWBLLPxpNae+CRuo\\u002f54TKZoJ\\u002f1T8GHyWDjIXwP5PF2frNqP0\\u002fGk1p74JG2j\\u002f\\u002f6BmrAuPXP4gLr4v80QBAuZU\\u002f72FRAUDaIN35b\\u002fGAQM3Dg1tYEus\\u002fY9ZOg616uT+NSb2wlxnlP3PlbWwXtuI\\u002fAYwi5FjZ7z+O7MXp7Q\\u002ftP0tTeKxf8zRA4Ku2VaLmBED9qguGZ5sjQE0VCHiDDe8\\u002f7V3ed2IY9j\\u002fBblMAQurxPzMOsPqss8Q\\u002fs180F9iu+D\\u002f0NvKIQrH2P\\u002f\\u002foGasC49c\\u002foxIHCdMrC0CyvCvegbjQP\\u002f\\u002foGasC49c\\u002fMw6w+qyz1D\\u002fT+Y4z4rQTQPufqF6Eb2pAIIN0xwzp8j8558MLjUz1PzKxuDMDqsw\\u002fBREmz6C\\u002fl0AReK\\u002fIu+dLQGBaMjl36wBAWiQnYe1I6D\\u002fU+Y4z4rQDQJQi0cF3svU\\u002fDJtBzcIU6T\\u002fCjdqSDw4kQMERXDmY4Pk\\u002f4E6\\u002fjvjcDEB6voF9904DQEBj4FXD2w1A4qtnD47DgEBnM0ZKV4TxPzwGS55acBdApO5nlfamckAGwi284nsIQNizG7L0KRJAYP06cs3hCECma6TlY\\u002fswQF7es9\\u002f\\u002fvRZAs180F9iu2D\\u002fH6m9KeHn6PwldM6gnzQRA5yfTn9h1\\u002fT\\u002f40fd0hwIDQJ058\\u002ffykhpAnZbqvpycAkCGcKmft4AUQJr75NJXS+Y\\u002fMw6w+qyzBEBj1k6DrXq5Pwt8ujr18BZAwRFcOZjg6T\\u002fBEVw5mOD5P01y\\u002fz4tF9c\\u002fTXL\\u002fPi0X9z9hebnLRA8TQLO8K96BuOA\\u002fQMDXHG3l5T+2+jkDHQAVQIYTstgNd\\u002fw\\u002fHkfij13vRkD0NvKIQrH2P9Ocl2w4q\\u002fs\\u002fc+VtbBe24j80sbgzA6r8P9T5jjPitANAZtZOg616+T9IuHLAGqIYQDOxuDMDquw\\u002fULANZMheC0AUdFXeoq35Pyf\\u002fkBFDeOs\\u002fTRUIeIMN3z+yvCvegbjQP1aJIXWo9wtAsCEm8jxnBEBBY+BVw9vtPwYfJYOMhfA\\u002fCQA84X3DDED\\u002f6BmrAuPHP7DELiuTXRxA3RCxaV2VCECZ++TSV0vWP5f75NJXS8Y\\u002fLjWc6cwaFED6DwaaIkoHQPeyv1qZDyhAJ\\u002f+QEUN4+z8JADzhfcMMQOcn05\\u002fYde0\\u002fJ1yI2OyB4z9gWjI5d+sAQHPlbWwXtuI\\u002f\\u002f+gZqwLj1z+Al5WO1+fjPwJlmAR6ECJAHot3FB6ODkAGHyWDjIXwPxpNae+CRuo\\u002fzCB7IgIcsz\\u002fMIHsiAhyjP00VCHiDDf8\\u002fdwREd8QKTEDgzpfSiEQ5QM3Dg1tYEus\\u002fZtZOg616+T8zDrD6rLPUP0T+5UEILQpATXL\\u002fPi0X9z\\u002f+bJtRi7UdQMdHZxEigwJAJ1yI2OyBE0DQXolHnWMHQCdciNjsgeM\\u002f\\u002f+gZqwLj1z8ar8cPG+JfQFokJ2HtSOg\\u002fjwtNfLszH0Bm1k6DrXrZP7NfNBfYrvg\\u002fjUm9sJcZ9T\\u002fMIHsiAhzTP8wgeyICHMM\\u002fZjNGSleE0T+mrQz1F33nPzMOsPqss8Q\\u002fsrwr3oG40D9WiSF1qPcLQCualv2HySdAMrG4MwOqzD\\u002fMw4NbWBLbP01y\\u002fz4tF9c\\u002fRXpkm39aFED0NvKIQrH2PxpNae+CRto\\u002fl73WrbwDEkAnXIjY7IFDQI1JvbCXGfU\\u002f7rxRLPhvRkBAY+BVw9v9P+0A57C4Dh5AEVXOS9WJJ0CyvCvegbjQPwYfJYOMhfA\\u002fZtZOg6162T8xsWm7I3klQOPpxHo9LhlAzCB7IgIcwz8Mm0HNwhTpP6atDPUXfec\\u002fzMODW1gS2z+zXzQX2K4IQLb6OQMdAAVAZtZOg6162T\\u002fZ0qJEwk3kPwo++4052ilA\\u002f+gZqwLj1z8lPQFGH14hQBqqYLYsUOI\\u002fTRUIeIMN3z\\u002f0dLE1\\u002fscjQHLG5tlJkhBAtX67qaXSKkCzvCvegbjgP80geyICHPM\\u002ftv7iZRVrPkCZnu0LrkHePxqqYLYsUNI\\u002fMrG4MwOqzD8o\\u002f5ARQ3gLQKMSBwnTKwtA0\\u002f03ltofPUCyvCvegbjQPxqqYLYsUNI\\u002fWoEeKJdSAECdluq+nJwCQPqLIuRY2b8\\u002f\\u002f+gZqwLj1z9n1k6DrXoJQBpNae+CRto\\u002femGKtk1F+z\\u002f\\u002f6BmrAuPXP63jF82hH\\u002fA\\u002fWoEeKJdS8D9QDQUrcmgDQFIsjL0\\u002fjCVA0F6JR51jB0BBY+BVw9vtP5me7QuuQe4\\u002fBsItvOJ7+D+mrQz1F33nPxC4m+qDG0pAnFgrEuGFZUAM+DiUbB7hP8LPQqLDjzpAgB\\u002fTklCuc0BgWjI5d+vwPzKxuDMDqrw\\u002fjqYD8CBUJECa++TSV0sWQFNLE1ANsBdADPg4lGweEUDvW7ECVvtEQGfWToOteuk\\u002fFNFMpUy3AUCWLvLfUAVzQOeEymaCf9U\\u002fT+59mKREEUD12frBmKfuP4Mym3ocOQBAMw6w+qyz1D\\u002f6iyLkWNmvPyf\\u002fkBFDeOs\\u002fcO1wuShbDkAMm0HNwhTpP\\u002f8IELzm\\u002fGZA+osi5FjZvz8zDrD6rLPkP00VCHiDDd8\\u002fSHqzE1+LK0BagR4ol1LwP8ERXDmY4Pk\\u002fzSB7IgIc8z8AjCLkWNn\\u002fP\\u002f1O0rWzuG9Azl46z70yIEAzsbgzA6rsP\\u002fbR93SHAiNAnTnz9\\u002fKSCkAU0UylTLcBQImut8RSyAhA54TKZoJ\\u002f9T+Znu0LrkHuP9eUlB8nBgBAuZU\\u002f72FRAUAzDrD6rLPUP\\u002fM28ohCsQZAgDqexy3e2z8Nm0HNwhT5PxqqYLYsUNI\\u002fMw6w+qyz1D\\u002fqwtiLHccJQATC3kMDSyFAP0CwYP1MMkDBEVw5mOA5QF\\u002f8fHvXumRAIkUEkzADTUBKNPEZks8SQG2vYpSNE\\u002fo\\u002fMe8oaN+PEkAzDrD6rLPUPxcPW8rn\\u002fhVAM7G4MwOq7D8aTWnvgkbqPz0HCZVQl2tA5gJ2NQbKQECE8q5YVAVSQK3IiBWsl05ARzz0ZqN0\\u002fj9AwNccbeUFQNeUlB8nBhBABaOmKRVYJkAJXTOoJ80EQFDT7uCuvE9AMbFpuyN5JUCyvCvegbjwP6gpi06PqhFAreMXzaEf8D8uNZzpzBr0PzMOsPqss9Q\\u002fQGPgVcPb\\u002fT+UItHBd7L1P4xJvbCXGQVAMw6w+qyz1D+qSBLhXM4jQADpGasC4+c\\u002fc4h2pW2s6j96voF9907zP3BKaIDSZCZALdikIiMRDEAnXIjY7IHzP41JvbCXGeU\\u002fmZ7tC65Bzj\\u002fnhMpmgn\\u002flPzKxuDMDqsw\\u002fL5LiKFZVI0Bg\\u002fTpyzeH4PxpNae+CRuo\\u002fzSB7IgIcA0Da0qJEwk30P+NGvEHnNxFAo2\\u002f+z3w1A0CU++TSV0u2PzKxuDMDqtw\\u002fOorMRONCDUBp8uqpeFpWQLNfNBfYrtg\\u002fgDqexy3e+z+Al5WO1+fTP5r75NJXS+Y\\u002f\\u002f+gZqwLjxz\\u002fhyj3obwonQD2CyffRnQFAbEB01wUvakAGHyWDjIUAQBTRTKVMtyFAsMCFyJryMkBn1k6DrXrpP6DU+OM35PY\\u002fxcvot6pVGED0NvKIQrE2QFugpbpkdhJAMNCh1RFsAECa++TSV0vmP01y\\u002fz4tF\\u002fc\\u002fpq0M9Rd99z\\u002fwXS3wQUktQFNLE1ANsPc\\u002fF7JjAz71DUBTzPgCc29vQC41nOnMGgRAuZU\\u002f72FREUBz5W1sF7YCQEVb3QiyNgJA5oTKZoJ\\u002fBUCD1aOzci8IQMdHZxEigwJAYP06cs3h+D\\u002f30fd0hwITQKatDPUXffc\\u002f\\u002f4si5FjZ3z\\u002f1snDiud4QQLp2B9VzXjZAw26ieCEbKUCAOp7HLd77P5QmeiRwHT9AXNZOg616mT\\u002f9iyLkWNnPP1qBHiiXUuA\\u002fmZ7tC65B7j8gBAsCk3eDQCj\\u002fkBFDeAtAJ\\u002f+QEUN46z9g\\u002fTpyzeH4P4ZwqZ+3gPQ\\u002fsCEm8jxnBECNSb2wlxnlP3OIdqVtrOo\\u002fjUm9sJcZ5T\\u002fmhMpmgn8FQFokJ2HtSOg\\u002fnTnz9\\u002fKSCkBaJCdh7UjoPy+iXTFI4mJA+osi5FjZrz8aqmC2LFDiPzMOsPqss+Q\\u002fpVAVLm5z7z\\u002f7sg7TeED\\u002fP8wgeyICHNM\\u002foxIHCdMrC0Bm1k6DrXrJPxpNae+CRuo\\u002f2dKiRMJN5D9XJNjoDRghQGbWToOtetk\\u002fpq0M9Rd99z+fdwEdjtoOQJPF2frNqP0\\u002f5yfTn9h13T\\u002f12frBmKfuPwybQc3CFOk\\u002fZtZOg616+T\\u002fNIHsiAhzjPyXM5ROLXGBAOefDC41MBUDqwtiLHccJQDMOsPqss\\u002fQ\\u002fk8XZ+s2o\\u002fT+MKAmpvdhBQLNfNBfYrtg\\u002fFNFMpUy38T8n\\u002f5ARQ3jrPw2bQc3CFPk\\u002fTXL\\u002fPi0X1z\\u002fa0qJEwk30P\\u002f2LIuRY2c8\\u002fen6VWy8bRUCNSb2wlxnlPxqqYLYsUNI\\u002fCQA84X3DDEA2TL4fSPsIQIShiTekHXBACV0zqCfNBEDDLrZWWedKQEc89GajdB5A2\\u002fXSOYjcT0CAOp7HLd7bPxTRTKVMtzFAJ1yI2OyB8z+NSb2wlxn1P5\\u002fzMP4l1yFAu1fPuoVrO0C1e9A9o45VQGM7SZdoKQ1A\\u002fU0Uv72RC0AaTWnvgkb6PxcPW8rn\\u002fgVAfL7Q9dZ\\u002fSkDZdat9GEQMQIMym3ocOQBAn3cBHY7aDkCIC6+L\\u002fNEAQERb3QiyNhJAGIvZI18sEECSA0ovqo4TQBqqYLYsUAJAwRFcOZjgKUCX3cy+oB1RQL3TTRT9mAVAzcODW1gS+z+DMpt6HDkQQGfWToOteglAkOTCnNxqAUDQXolHnWMHQIaxU7h122ZA7QDnsLgO\\u002fj+mUBUubnP\\u002fP\\u002fCb7Jz9XwpAYP06cs3h+D\\u002f6DwaaIkoHQJue7QuuQf4\\u002fYP06cs3h+D+UItHBd7IFQK2GIAb4FQhA6x\\u002fQUsfQAUCdluq+nJwCQBqqYLYsUOI\\u002fjOzF6e0P\\u002fT+g1PjjN+T2P6MSBwnTKwtAs180F9iu6D9z5W1sF7YCQFaoWY+W6kZAs180F9iu+D8zDrD6rLPkP0T+5UEILRpAbQxaWzcdAkCGE7LYDXf8P8fqb0p4eRpAPfSiIFzGZkBz5W1sF7biP9nSokTCTeQ\\u002fDPg4lGwe8T\\u002fBEVw5mOAJQNb53avB5SpAm57tC65B\\u002fj\\u002f6iyLkWNm\\u002fP7K8K96BuPA\\u002fgDqexy3e6z\\u002fBblMAQurxPyCDdMcM6fI\\u002fAKexm05hQUBvzukmWzccQICXlY7X5wNAmvvk0ldL5j8Nm0HNwhT5P+cn05\\u002fYde0\\u002fs180F9iu2D+5lT\\u002fvYVERQGBaMjl36\\u002fA\\u002fTRUIeIMN3z9AwNccbeXlP1qBHiiXUuA\\u002fhVEiDepcEkBUaB717oVBQOzdtrvyfzJA93QArt34CkCB1VQ7k\\u002f4gQBXw0zca2xNANqm15vEEAUCzXzQX2K7oP7k4SCi4RwlAnZbqvpycAkDyF2v2dI0kQCCDdMcM6QJAzSB7IgIcQ0C5lT\\u002fvYVEBQA2bQc3CFPk\\u002fwo3akg8OFEAAJ9lXvvk0QJs5pH8TYjNAuThIKLhH+T+UItHBd7L1P5n75NJXS9Y\\u002fgJeVjtfnA0CAOp7HLd7bP2fWToOteuk\\u002fZzNGSleE8T82TL4fSPsYQOeEymaCf9U\\u002fhhOy2A13DEAgg3THDOnyP01y\\u002fz4tF+c\\u002fT+59mKREEUBtDFpbNx3yPyo9nzbev09AzCB7IgIcoz9kt8fw31YXQNT5jjPitPM\\u002fzCB7IgIc0z8t2KQiIxH8P1LuzBCEdShAiQuvi\\u002fzREECZnu0LrkHuP\\u002f+LIuRY2d8\\u002fY9ZOg616uT+vxN+ysywlQCdciNjsgQNAhTLq8vtpN0CthiAG+BX4PzLQ8E3xnCdA1PmOM+K08z\\u002f\\u002f6BmrAuPXP7edQjxz9gxADJtBzcIU6T\\u002fiRrxB5zcBQHphirZNRfs\\u002ftvo5Ax0ABUDw3Ja1u7psQI1JvbCXGfU\\u002fYFoyOXfrAED7sg7TeEAPQEtTeKxf8xRAx0dnESKD8j+Al5WO1+fTP41JvbCXGeU\\u002f4O0eZVZoO0CXYN\\u002fmEvoJQEeZ6y1NfgZAy4XErpz7LUB8G8i8gIkiQAz4OJRsHvE\\u002fmvvk0ldL9j\\u002fwm+yc\\u002fV8KQMERXDmY4Pk\\u002fqC00sYcVS0DNIHsiAhwjQFqBHiiXUvA\\u002f7QDnsLgO\\u002fj+Z++TSV0vWP4A6nsct3ts\\u002fwW5TAELq4T9bgW2gdoMnQJBFY8Z+3zJAs7wr3oG44D8aqmC2LFACQCdciNjsgeM\\u002fAIwi5FjZ\\u002fz\\u002fdbagwB58AQG0MWls3HUJA15SUHycGAEBtr2KUjRP6P4A6nsct3ts\\u002freMXzaEf8D+Bl5WO1+cTQFWJ0vzIxiRA2XWrfRhE7D+thiAG+BUIQJme7QuuQd4\\u002fTXL\\u002fPi0X1z9Ncv8+LRfnP\\u002ffR93SHAhNAs7wr3oG44D\\u002fBblMAQuoBQOeEymaCf+U\\u002flUFYVEXWF0Da0qJEwk30P80geyICHOM\\u002fsrwr3oG48D+q8+EbqM+DQBqqYLYsUOI\\u002f7J\\u002f3DjdpNUAlPQFGH14RQNOcl2w4qwtAZDNGSleEwT\\u002fR3fIMF9VmQO1d3ndiGPY\\u002f\\u002f+gZqwLjxz9w7XC5KFsOQKLzf3YFCClA5yfTn9h13T\\u002f12frBmKfuP1pBMgbPHkJA\\u002f+gZqwLjxz9ziHalbazqPwz4OJRsHuE\\u002fxSjgflRfEECNSb2wlxnlP8rDg1tYEss\\u002fia63xFLICEBc1k6DrXqZPzKxuDMDqrw\\u002fOefDC41M9T973QgQxXIVQGD9OnLN4fg\\u002ffP96DpXaXEBz5W1sF7biP3PlbWwXtvI\\u002fpVAVLm5z7z8aTWnvgkbqPw2bQc3CFAlAc4h2pW2s+j\\u002fH6m9KeHn6Pw2bQc3CFPk\\u002foNT44zfkFkCGE7LYDXf8P7tXz7qFaytAz+IK7iU2HUCdluq+nJwCQDW8G1vm1XVAn3cBHY7a\\u002fj8Gwi284nsIQK3jF82hHwBAKP+QEUN4C0BMNECScQAqQO\\u002fZXNHZRRBAq0hhWTz\\u002fKkCyfmwxxqEjQICXlY7X5wNAGqpgtixQ4j\\u002f1VXkbENUYQCuYaYh7rEZA\\u002f+gZqwLjxz+0wNRAeiM6QFzWToOteqk\\u002f9DbyiEKx9j+ZGh3tRT4hQA8baYkyrUxAjwtNfLszL0AU8NM3GtsjQEc89GajdP4\\u002fVuYYPFIBBEBD316vOgk4QBqqYLYsUOI\\u002fU2pLavuiIkDXN51YffwHQFqBHiiXUuA\\u002fQWPgVcPb7T9JOJp8ijo8QPoPBpoiSvc\\u002fNLG4MwOq\\u002fD9Ncv8+LRfnP2OgVqYbYXFA1PmOM+K0A0ALH8NzS+ceQLNfNBfYrghAI2SLJf4mD0ADhB+XRzQEQBeyYwM+9R1ANLG4MwOq\\u002fD9m1k6DrXr5P3zdCBDFciVA\\u002fkvnSbF0WkD9iyLkWNnPP3phirZNRfs\\u002foNT44zfk9j9AwNccbeUFQNuUMhDmZx5ArYYgBvgVKEBimEBeEjMFQDOxuDMDqixAzCB7IgIc0z+a++TSV0vmP+JGvEHnNwFAYFoyOXfrEEBg\\u002fTpyzeH4P+cn05\\u002fYdQ1AoNT44zfk9j\\u002fHR2cRIoPyP4LVo7NyLyhAjOzF6e0P\\u002fT89JdIwKJQJQEuTZM4nJ1NALlQjfJo+FkAqmpb9h8kHQJDkwpzcagFAYphAXhIzBUCyvCvegbjwPxpNae+CRvo\\u002ft51CPHP2DECmUBUubnP\\u002fP0H+lsko\\u002fCJAAQYlUOS4QUDNIHsiAhzjPw2bQc3CFPk\\u002f5oTKZoJ\\u002fBUD7i4TzmXdBQGczRkpXhBFAYFoyOXfr8D9ziHalbazqPw06oaMgoDdAOorMRONC\\u002fT9IdgqxZiAyQIxJvbCXGQVA11Yk60ogKkABjCLkWNnvP2Va0Ck2TR9Aiyo2Hsr1EkCmrQz1F33nP4ZwqZ+3gARA2XWrfRhE\\u002fD9qcVRv8ssFQHPlbWwXtuI\\u002fUA0FK3JoA0CAOp7HLd7rP0Fj4FXD2+0\\u002fhhOy2A13\\u002fD\\u002fnJ9Of2HUNQKatDPUXfec\\u002f\\u002faoLhmebA0C5OEgouEf5P4X0KkZAUxpAgzKbehw5AEAtVCN8mj4mQOYCdjUGylBAkIfL1TJhCUCVQVhURdYXQKDU+OM35BZAZtZOg616+T+wAu7XTnQpQIA6nsct3gtA8JvsnP1fCkBnM0ZKV4ThP6Nv\\u002fs98NQNAZzNGSleE4T\\u002fmhMpmgn8FQMERXDmY4Ok\\u002f2XWrfRhE7D9gWjI5d+vwP5me7QuuQd4\\u002fs7wr3oG4AEAnXIjY7IHjPwDpGasC4\\u002fc\\u002fk6Xj6emOXkBIerMTX4srQLiVP+9hUfE\\u002folB3Pa8REUD9iyLkWNnPP8FuUwBC6uE\\u002f+NH3dIcCA0BagR4ol1LwP+eEymaCf+U\\u002fzMODW1gS2z\\u002fZ0qJEwk3kP1gFoM4fJSZAWoEeKJdSAEDBblMAQurhPwybQc3CFOk\\u002fhhOy2A13DEDZdat9GEQMQHPlbWwXtvI\\u002fVuYYPFIBFEAaqmC2LFDiP593AR2O2g5AAYwi5FjZ7z+Al5WO1+fjP9+rtlWi5vQ\\u002f3W2oMAefEED30fd0hwITQKZQFS5ucw9AOGtFshUfG0ANm0HNwhQpQN+rtlWi5vQ\\u002fQoJn6JD\\u002fH0D7sg7TeED\\u002fP39Z1uEb0SZAkYfL1TJhGUCfdwEdjtr+P9T5jjPitPM\\u002fJkwN0Pr0Y0CNSb2wlxn1P7O8K96BuOA\\u002fzCB7IgIcoz9tr2KUjRP6PwIIoT3QBkpAzcODW1gS6z+AOp7HLd7rPz9SWN779nJA1zedWH38B0CN7MXp7Q8dQGBaMjl36xBA6UZaMqaZH0Agg3THDOkCQMfqb0p4efo\\u002fmZ7tC65B3j9Ncv8+LRfnP8wgeyICHNM\\u002fAmWYBHoQEkC5lT\\u002fvYVEBQIA6nsct3us\\u002fAOkZqwLj5z\\u002fH6PNcjCtCQICXlY7X59M\\u002f8chyStHCY0DdbagwB58AQJienpPOECdAS1N4rF\\u002fzNECbnu0LrkEOQPH442OnaTJAt7F5olV3dkBNFQh4gw3vPx9FtRpR0iVAjuzF6e0P7T93I3yRsv0GQJ93AR2O2v4\\u002fZtZOg616+T96YYq2TUULQGD9OnLN4QhA4Ku2VaLmFEDtAOewuA4OQHJp7xKgiBhA3RCxaV2VCEASV\\u002fvA4aZIQKEWYfPrZU1AlMXZ+s2oHUBNcv8+LRf3P\\u002foPBpoiSidAgDqexy3e2z\\u002fMIHsiAhzDPzI\\u002f3wp5gWdAqkgS4VzOA0CO7MXp7Q\\u002ftP4X0KkZAU0pAnTnz9\\u002fKSCkDNIHsiAhzjP2pSzdwkqCNALljM3pKpP0CNSb2wlxnlP8zFsNBkL1xAsMQuK5NdHECn68uh05MkQPizfVGPNlxADZtBzcIU+T+a++TSV0vmP8KN2pIPDhRAer6BffdOA0DdbagwB58gQJwabGUlbxhAU0sTUA2wJ0Bl9Yadm200QEeZ6y1NfvY\\u002fziQkhfqGPEAPG2mJMq08QPQ28ohCseY\\u002fwHL8YjpVO0BqcVRv8ssVQHwbyLyAiSJAhhOy2A13DECdluq+nJwCQBTRTKVMtxFADXwJs9QhLkAaTWnvgkb6P593AR2O2v4\\u002fGk1p74JG6j96voF9904DQGR6d1sgvZhAbQxaWzcd8j98vtD11n8qQGS3x\\u002fDfVidAzsODW1gSC0Bm1k6DrXr5P4CXlY7X59M\\u002fkIfL1TJhCUAgJn0AY98KQK6lp5jFORpAGIvZI18sEEAU0UylTLcBQBqqYLYsUNI\\u002fg7YcIaULJkAlPQFGH14RQMFuUwBC6uE\\u002fcmnvEqCIGEBQDQUrcmgDQNk37NBcLT9ADPg4lGwe4T\\u002f+yZIYNb8VQB8H9m2VuxhAmvvk0ldL5j9dvyxNMpoEQLNfNBfYrug\\u002fAmWYBHoQEkCzXzQX2K4IQMdHZxEig\\u002fI\\u002fa68THK7iMkDmhMpmgn8FQJTF2frNqA1ANky+H0j7CEBg\\u002fTpyzeH4PwGMIuRY2e8\\u002fS1chD1heTkDqH9BSx9AhQJDkwpzcahFA27L7q71kXEDMw4NbWBLbP7O8K96BuOA\\u002fuJU\\u002f72FR8T+GE7LYDXf8PydciNjsgSNANky+H0j7CEA\\u002foVCKn8ETQGfWToOteuk\\u002frYYgBvgV+D\\u002fNw4NbWBLrPzDQodURbABA\\u002f+gZqwLj1z8VE7W0ADlIQO6bnSQeLyNAWiQnYe1I6D+g1PjjN+QGQHphirZNRQtADPg4lGweEUBZpnuSaf5MQL+XHVAlWXFAreMXzaEf8D86isxE40INQMFuUwBC6vE\\u002fYTv6Hon4JUBW5hg8UgEEQGt+5AviFGBAo9RHXBcVXkCuBkjCZ65LQHUE9f7k2RRATXL\\u002fPi0X5z8j4LoGliNSQET+5UEILQpAemGKtk1FC0Dpo1H5T6MXQNLaB6EUkRFAP6FQip\\u002fBE0AnXIjY7IHjP0Bj4FXD2w1ACD6sFVqpMkAzsbgzA6rsP5IDSi+qjhNAFw9byuf+BUAU0UylTLfxP+eEymaCf+U\\u002fI2SLJf4mD0DXlJQfJwYAQIMym3ocOQBAIuC6BpYjIkDyeAsgFwI2QOx8FpJQCyFAYhzCBJsFG0C9dlZNU48NQMXKKsG0LlRApTGOm6BPHUAd6G7bx5cWQDKxuDMDqtw\\u002fkqZSaACFG0Bq86igboFKQDwGS55acDdAwRFcOZjg6T9Ncv8+LRf3P12\\u002fLE0ymiRAYXm5y0QPE0BNcv8+LRfXP8FuUwBC6uE\\u002fICZ9AGPf+j98G8i8gIlSQLiVP+9hUfE\\u002fWoEeKJdS8D8M+DiUbB7xP0Fj4FXD2+0\\u002fETZHuQdmFUAzDrD6rLPkP5058\\u002ffykgpAhnCpn7eA9D+DMpt6HDkgQJr75NJXS\\u002fY\\u002fVokhdaj3C0DBEVw5mOAJQBTRTKVMt\\u002fE\\u002fs180F9iu6D+GcKmft4AkQIA6nsct3vs\\u002fBh8lg4yF8D+zvCvegbjgP1qBHiiXUgBAJMGC7KcwB0BziHalbazqP5Qi0cF3svU\\u002fAYwi5FjZ7z8cpgbMExYwQHvdCBDFchVAzCB7IgIc0z+ded8Zu8ZIQP+LIuRY2d8\\u002fAOkZqwLj9z\\u002fnhMpmgn\\u002fVP+eEymaCf9U\\u002f5yfTn9h13T\\u002ftXd53Yhj2P01y\\u002fz4tF9c\\u002fMrG4MwOq3D91p\\u002f03O9AcQN\\u002fm2dxv3IBAba9ilI0T+j\\u002fMIHsiAhyjP8oofm8TwQ5Apq0M9Rd95z\\u002fIZu6j76YUQMwgeyICHMM\\u002fcEpogNJkBkCDMpt6HDkgQEI8VnbkEiBAEXivyLvnO0CtpVgg5ggzQC3YpCIjEQxAvxENwbivMkCzIXVqHJhrQM0geyICHPM\\u002f89n6wZin\\u002fj8A6RmrAuPnP12\\u002fLE0ymgRAoCdLevToeUB+\\u002fI+ikpYHQLk4SCi4RxlA1TedWH38J0CzvCvegbjgP\\u002f\\u002foGasC48c\\u002fhNQ0NVw5W0BVKDLTJlIzQEc89GajdP4\\u002fmvvk0ldL5j8mwdFkh2EuQHBKaIDSZAZAmvvk0ldLBkAozx\\u002f4bNFsQIzsxentD\\u002f0\\u002fWiQnYe1I6D\\u002fH6m9KeHn6P27KQMRizDJAc+VtbBe28j8A6RmrAuP3Pyya5XVn+i5AoxIHCdMrC0Awc6oOaGIYQKWOhWJKWRVAo9RHXBcVLkAJPH+gTYxBQMdHZxEig\\u002fI\\u002f4MxqXXwnSED9qguGZ5sTQOOIJFGbuUdA\\u002f+gZqwLj1z+Al5WO1+fTP00VCHiDDS9Av\\u002fLUpsq8F0ClDDExzqNAQBgu4ly1IhhAVYnS\\u002fMjGJEBHmestTX4WQN+rtlWi5vQ\\u002fBp9MP\\u002fwdNEDXlJQfJwYwQCF2M6P80G9AKj2fNt6\\u002fD0Bc1k6DrXqZP44m3DOxu0BAQMDXHG3lFUDXlJQfJwYQQGiSuf7s20FAhk\\u002f1l90\\u002fQUBW5hg8UgFEQOof0FLH0BFA4Yx+O7TzOUANV6xIAnZBQJr75NJXSwZAFw9byuf+FUAEZed8WUFJQM3Dg1tYEhtAz+IK7iU2HUBjO0mXaCkdQBWT3HBw0StAWiQnYe1I6D+9000U\\u002fZgFQKgpi06PqhFAAOkZqwLjF0C4OnWdxGSKQAJlmAR6EBJA89n6wZin\\u002fj\\u002fZ0qJEwk3kPwz4OJRsHuE\\u002fsCEm8jxnBED7sg7TeEAPQFXHkamE3RFA2XWrfRhE7D\\u002f+bJtRi7UdQN1tqDAHnwBAqkgS4VzOA0DnJ9Of2HUNQMsB9I80+BBAJ1yI2OyBA0DnJ9Of2HXtPwVGr2JrTh5AWiQnYe1I6D\\u002fNIHsiAhzzP7iVP+9hUfE\\u002fJAPr+1uyPUBziHalbaz6P+cn05\\u002fYdf0\\u002fBsItvOJ7CEB8G8i8gIkiQCf\\u002fkBFDePs\\u002f2ZTjlwY3J0BE\\u002fuVBCC0aQNT5jjPitANAwRFcOZjgCUDQAZKA81kfQIYTstgNd\\u002fw\\u002f6sLYix3HCUAzsbgzA6rsP2BaMjl36xBA54TKZoJ\\u002f1T\\u002fzVSqjMKRBQJTF2frNqA1Asrwr3oG40D+UItHBd7IFQP+LIuRY2d8\\u002f\\u002f+gZqwLjxz\\u002fdbagwB58AQCAmfQBj3\\u002fo\\u002fEFrmLOTqXUBboKW6ZHYSQE0VCHiDDe8\\u002f2vNWTJyOV0C2nUI8c\\u002fYcQIxJvbCXGQVAbQxaWzcdAkAS+NaEK4AfQNOcl2w4qxtAcUn5AbxuWUAGgMWsLvoxQLNJMn31vIJAQMDXHG3l5T8puc4XdrwiQPQ28ohCseY\\u002fc+VtbBe24j+Al5WO1+cDQFNLE1ANsPc\\u002fZzNGSleE4T+zvCvegbjgP+cn05\\u002fYdS1AOorMRONC\\u002fT+zXzQX2K7oP9nSokTCTeQ\\u002fgJeVjtfn8z+UItHBd7L1P8FuUwBC6uE\\u002fUwmrQFkuMUD\\u002f6BmrAuPXP2KYQF4SMwVAmfvk0ldL1j9n1k6DrXrpP73TTRT9mBVAgDqexy3e+z+zvCvegbjgPzTrzn3GVTBAYzegNHC+M0AsFhVX\\u002f\\u002fYRQHPlbWwXtgJAAyco0J0qHEC3GcGV6iM3QI5oRENlPRdAHuZBZrt6ZUCRh8vVMmEpQMERXDmY4ClAjezF6e0PDUD12frBmKfuP5f75NJXS8Y\\u002flCLRwXey9T9AwNccbeXlPxpNae+CRuo\\u002fZjNGSleE0T9W5hg8UgEEQJDkwpzcagFA7V3ed2IY9j8A6RmrAuP3P00VCHiDDe8\\u002fsrwr3oG40D+zvCvegbjgP01y\\u002fz4tF9c\\u002fwW5TAELq4T+Al5WO1+fTPznnwwuNTPU\\u002fTRUIeIMN7z\\u002fXlJQfJwYAQEeZ6y1NfvY\\u002fLBYVV\\u002f\\u002f2EUCQ5MKc3GoRQNizG7L0KRJABh8lg4yF8D+Z++TSV0vWP1aoWY+W6kZAuJU\\u002f72FR8T82qbXm8QQRQLAhJvI8ZwRAhfQqRkBTGkCAOp7HLd7bP8fqb0p4efo\\u002f\\u002f+gZqwLj1z8GHyWDjIXwPwCMIuRY2f8\\u002f2dKiRMJN5D\\u002ftXd53YhgGQHPlbWwXtvI\\u002fBaOmKRVYFkAGHyWDjIXwPxqqYLYsUAJAVokhdaj3C0CIC6+L\\u002fNEAQHPlbWwXtuI\\u002fDJtBzcIU6T8M+DiUbB4xQN+rtlWi5vQ\\u002fJ\\u002f+QEUN46z9C3qC4ROJTQP2LIuRY2c8\\u002fAOkZqwLj5z8Mm0HNwhTpPwz4OJRsHuE\\u002freMXzaEfAEDjRrxB5zcxQMRPal4zKA5AmZ7tC65Bzj+AOp7HLd7bP8rDg1tYEss\\u002f54TKZoJ\\u002f5T+d6M3WQqtoQFskJ2HtSPg\\u002fX797xRHLO0AU0UylTLcRQOyf9w43aUVAF7JjAz71DUAgg3THDOnyP1okJ2HtSOg\\u002fuThIKLhHCUD0NvKIQrHmP8ERXDmY4Ok\\u002fXb8sTTKaNECg1PjjN+T2P62GIAb4Ffg\\u002fgJeVjtfn4z9J9jFt1rhFQOHKPehvCjdAmZ7tC65Bzj\\u002fMw4NbWBLbP3PlbWwXtuI\\u002f+osi5FjZvz9m1k6DrXrJPzMOsPqss8Q\\u002fmZ7tC65Bzj9m1k6DrXrJPxpNae+CRto\\u002fMw6w+qyz1D9mM0ZKV4TRP7K8K96BuNA\\u002fZDNGSleEwT\\u002fMw4NbWBLbP8zDg1tYEts\\u002fELib6oMbWkAM+DiUbB4xQNeUlB8nBgBAzMODW1gS2z\\u002f6iyLkWNmvP2PWToOterk\\u002fULANZMheC0D12frBmKfuP720xoEvdTNAzSB7IgIcE0DD7E1HpWVEQM\\u002fiCu4lNh1APYLJ99GdAUCUItHBd7IlQBTRTKVMtwFAuJU\\u002f72FR8T8PVX\\u002fT9VgwQO1d3ndiGPY\\u002f2XWrfRhEHECGcKmft4D0P4FZJVr7AS5A9VV5GxDVGEBGuCNIO3ExQPkPBpoiSjdAZzNGSleEAUDpwokTPpYiQKmo9BMJHFFAI2SLJf4mD0AaTWnvgkbqP0Q8pe7DQydAWiQnYe1ICEA0sbgzA6r8P+cn05\\u002fYde0\\u002fGqpgtixQEkBVapri2tMZQGbWToOtetk\\u002fkOTCnNxqEUAEVWx0Z7RpQACMIuRY2f8\\u002foxIHCdMrC0BIFWqHxKswQNl1q30YRPw\\u002fM7G4MwOqDEBNcv8+LRfnPz8AxD41GURAgJeVjtfn4z+vBBtNW5FKQBiL2SNfLCBASjTxGZLPAkABjCLkWNnvPzSxuDMDqvw\\u002fzmY9TprljkCSJnokcB1fQGczRkpXhAFAM7G4MwOq7D+VfxcBAe0kQNnSokTCTeQ\\u002f5yfTn9h13T9m1k6DrXrZP6ZQFS5ucw9A\\u002faoLhmebA0CAOp7HLd77P9nSokTCTeQ\\u002fx+pvSnh5+j+zXzQX2K7oP00VCHiDDe8\\u002fDZtBzcIU+T9AwNccbeUFQBeyYwM+9Q1ATRUIeIMN3z8A6RmrAuPnP+JGvEHnNwFAzcODW1gS6z8n\\u002f5ARQ3jrP4CXlY7X5+M\\u002fMw6w+qyz5D+AOp7HLd4LQDtGN8AipEVAQMDXHG3l5T\\u002frH9BSx9ABQJwabGUlbxhAfngO\\u002fAnEMUBkM0ZKV4TBPyXgCX91VBlAAcf2JBKsV0BZQ1972zsjQM3Dg1tYEvs\\u002fHaqvLgyBKUAzDrD6rLPkP99t96jmzydAFPIArSb4VED\\u002f6BmrAuPXP00VCHiDDe8\\u002fYFoyOXfr8D8fJAETd5FSQGZWJ8c94jVAmZ7tC65B7j\\u002fyeAsgFwI2QG0MWls3HfI\\u002fLjWc6cwa9D\\u002fmhMpmgn8FQAbCLbzie\\u002fg\\u002f54TKZoJ\\u002fJUAM+DiUbB4BQFokJ2HtSOg\\u002f4W1GIcYAH0CzXzQX2K7oPyo9nzbevw9Aer6BffdOA0BrTnPyC24xQDMOsPqsswRA1PmOM+K0A0Dip1xriawyQEVb3QiyNgJAer6BffdO8z9Ncv8+LRf3P7DELiuTXQxAwW5TAELqAUCO7MXp7Q\\u002ftPx8H9m2VuyhARVvdCLI2AkDnhMpmgn\\u002flP1qBHiiXUvA\\u002fgDqexy3e+z\\u002fNw4NbWBLrP0DA1xxt5fU\\u002frYYgBvgVCED12frBmKfuP91tqDAHnxBA2tKiRMJN9D9aJCdh7UjoP\\u002fHZq0m5didAohIHCdMrK0Cq6xoas8QLQKZQFS5uc\\u002f8\\u002fn3cBHY7a\\u002fj94Jfh+nktPQDTvd+C+wClAAOkZqwLj5z9nM0ZKV4ThP2fWToOteuk\\u002fMw6w+qyz1D9HmestTX72Pyc9UL7+jihAreMXzaEf8D\\u002fnJ9Of2HX9PzaptebxBAFAEdlP8l1cDUAuNZzpzBoEQAybQc3CFOk\\u002fMNvxAf0OeUDlJ4Qn+UQ2QKNv\\u002fs98NQNA\\u002faoLhmebI0DU+Y4z4rTzP4mut8RSyAhAm57tC65B\\u002fj\\u002fgq7ZVouYEQE1y\\u002fz4tF+c\\u002fZjNGSleE0T\\u002f0NvKIQrHmP0Fj4FXD2+0\\u002fFNFMpUy38T\\u002fNw4NbWBL7PxpNae+CRuo\\u002fYFoyOXfr8D+O7MXp7Q\\u002ftP3q+gX33TgNAJ1yI2OyBA0D7sg7TeED\\u002fP\\u002f+LIuRY2d8\\u002fmfvk0ldL1j+O7MXp7Q\\u002ftPwDpGasC4+c\\u002fIIN0xwzp8j9TSxNQDbD3P6ZQFS5uc\\u002f8\\u002fgDqexy3e2z9m1k6DrXrZPwJlmAR6EBJAmZ7tC65Bzj+UItHBd7L1PxqqYLYsUBJAjuzF6e0P7T\\u002fzNvKIQrEGQOeEymaCf\\u002fU\\u002fR5nrLU1+9j8oew9ruqUVQM0geyICHBNAAyco0J0qDEBm1k6DrXrZPxiL2SNfLBBA\\u002f4si5FjZ3z8aTWnvgkbqP63jF82hHwBA2XWrfRhE7D9HmestTX72P9l1q30YROw\\u002fgJeVjtfn8z9gWjI5d+vwP8fqb0p4eQpAZXkIRCRAKkAGwi284nv4P3jGhMoI9A5Ag7YcIaULJkCZ++TSV0vWP7O8K96BuABATXL\\u002fPi0X9z+a++TSV0v2P8rDg1tYEss\\u002f2\\u002fEp149xFkDNIHsiAhwDQOJGvEHnNwFAf\\u002fzeGnLHLkDXN51YffwHQAYfJYOMhQBA0toHoRSREUCq6xoas8QrQO78PU7AozRAkOTCnNxqAUBHmestTX4GQOklpirMWExAreMXzaEf8D+gUqSyuy5SQPqLIuRY2b8\\u002f\\u002fYsi5FjZzz+jb\\u002f7PfDUDQO1d3ndiGPY\\u002f5zwXQ8VAj0Bc1k6DrXqpP8rDg1tYEss\\u002fer6BffdO8z+UItHBd7L1PxqqYLYsUOI\\u002fl\\u002fvk0ldLxj8ysbgzA6q8P7K8K96BuNA\\u002fY9ZOg616uT9NFQh4gw3fP8wgeyICHKM\\u002fFHRV3qKt+T+X++TSV0vGP\\u002fqLIuRY2a8\\u002f\\u002f+gZqwLjxz9mM0ZKV4TRP\\u002fqLIuRY2a8\\u002f\\u002f4si5FjZ3z8aqmC2LFDSP\\u002fqLIuRY2a8\\u002fMrG4MwOqvD\\u002f\\u002f6BmrAuPHP8zDg1tYEts\\u002fMrG4MwOqzD8zDrD6rLPEP1aJIXWo9ytAlCLRwXey9T\\u002fw+ONjp2kCQICXlY7X59M\\u002fGk1p74JG+j+T5BEVvJsoQFik\\u002f6R9sDRAmZ7tC65B3j8GHyWDjIXwP+cn05\\u002fYdd0\\u002fjOzF6e0P\\u002fT+C19Aof0xZQOcn05\\u002fYde0\\u002f2XWrfRhE\\u002fD9Vx5GphN0RQAz4OJRsHhFAUA0FK3JoE0DtXd53Yhj2P63jF82hH\\u002fA\\u002fJ\\u002f+QEUN46z\\u002fBblMAQurhPyCDdMcM6QJADPg4lGweAUCt4xfNoR\\u002fwP+1d3ndiGPY\\u002f7V3ed2IY9j+xQK2ECosmQImut8RSyBhAZtZOg6162T\\u002fnJ9Of2HXdP8dHZxEig\\u002fI\\u002fWoEeKJdS4D\\u002fqH9BSx9AhQCCDdMcM6fI\\u002fZtZOg616+T\\u002fw+ONjp2kSQHPlbWwXtgJAXpxL0Es8MEAU0UylTLcRQLAhJvI8ZwRABp9MP\\u002fwdNECAOp7HLd7rPzAUN1rSCkhANI7XthxMOEAeh86xJSM1QDMOsPqss+Q\\u002fdyN8kbL9BkBQDQUrcmhDQFaJIXWo9wtAVceRqYTdEUBDe9MZllBRQDrIi\\u002fGeWSpAWiQnYe1I6D\\u002f48H4HVSYVQAybQc3CFOk\\u002ftqkU4mwYY0Bm1k6DrXrZPy3YpCIjEfw\\u002fA+W\\u002fwOmoNUCUItHBd7L1P8fqb0p4efo\\u002f7D5X5ZT0I0D7i4TzmXcRQOcn05\\u002fYdf0\\u002f+rIO03hAH0Dgbfeo5s83QAz4OJRsHuE\\u002fiAuvi\\u002fzRAEA8yIvxnlk6QPcPtyFDGTBAGqpgtixQ4j9m1k6DrXr5P1okJ2HtSOg\\u002fEjQaRPtIRECUxdn6zagdQK4Cn19vQxJAzCB7IgIcoz8aTWnvgkbqP6C1cVFqwBRA4E6\\u002fjvjc\\u002fD\\u002f0NvKIQrH2P7K8K96BuNA\\u002fJ1yI2OyB8z\\u002fTnJdsOKv7P5PkERW8m3hALFh9ZrN4OECAl5WO1+fTPwGMIuRY2e8\\u002fpq0M9Rd95z+pzJOH5aA5QGczRkpXhPE\\u002f8PjjY6dpQkBc1k6DrXqZP7NfNBfYrvg\\u002fwW5TAELqAUDMIHsiAhyjPzKxuDMDqtw\\u002fY9ZOg616uT\\u002fBblMAQurxP4zsxentD\\u002f0\\u002fahRdqEjCHUA558MLjUwFQE1y\\u002fz4tF9c\\u002f89n6wZin\\u002fj\\u002fbEt7eabJJQBcPW8rn\\u002fgVAXNZOg616mT+Znu0LrkHeP7K8K96BuNA\\u002fplAVLm5z\\u002fz9ziHalbaz6P5n75NJXS9Y\\u002fXNZOg616mT9c1k6DrXqpP5n75NJXS9Y\\u002f2tKiRMJN9D+AOp7HLd7bPzMOsPqss9Q\\u002fmfvk0ldL1j\\u002fWN51YffwXQBcPW8rn\\u002fhVAF7JjAz71DUCOJtwzsbswQGPWToOterk\\u002fDPg4lGweAUCzXzQX2K7oP4zsxentD\\u002f0\\u002fNs4SUcSwTUC4lT\\u002fvYVHxPwGMIuRY2e8\\u002fGk1p74JG6j\\u002fMIHsiAhzDP47sxentD+0\\u002fZtZOg616yT9NFQh4gw3\\u002fP01y\\u002fz4tF\\u002fc\\u002fZzNGSleE4T\\u002f12frBmKfuP2K3eHgAJkBAMw6w+qyzBEAFcncZSYpjQDOxuDMDquw\\u002fBsItvOJ7SECO7MXp7Q\\u002ftPzDQodURbDBAzSB7IgIcI0AS+NaEK4BPQHphirZNRfs\\u002f+7IO03hA\\u002fz+YQafMJAdPQBL41oQrgB9A54TKZoJ\\u002f5T8Nm0HNwhT5Pyo9nzbevw9AmZ7tC65B3j9HPPRmo3T+P5me7QuuQc4\\u002fNky+H0j7CEAbLjHVlFMvQOBOv4743Pw\\u002fKxq+ufdhS0Bn1k6DrXrpPwybQc3CFOk\\u002f\\u002f4si5FjZ3z9yxubZSZJQQGZjt2MtK3BAZtZOg6162T+Al5WO1+fzP73TTRT9mAVARX4N\\u002fnfFPUBYqKgHdhseQJr75NJXS\\u002fY\\u002f9DbyiEKx9j9HmestTX72P9Ocl2w4q\\u002fs\\u002fhnCpn7eABECAOp7HLd77P0o08RmSzwJAZzNGSleEAUD+6MoyI7IgQMSsYSXdMQZAJ\\u002f+QEUN4+z+jb\\u002f7PfDUjQIYy6vL7aWdAmfvk0ldL1j+XvdatvAMCQEvUDuflgYVAzCB7IgIcsz9c1k6DrXqZP+\\u002fZXNHZRRBAJV33VgN4YECGcKmft4D0P+sf0FLH0AFAU0sTUA2w9z+4lT\\u002fvYVHxP1PuG4ljpv8\\u002f5+VqkCT0RkDrH9BSx9ABQCAmfQBj3wpAaLcWab+HLkB\\u002fmz7xz1I9QADpGasC4\\u002fc\\u002fGk1p74JGCkBk1v8KzkkyQC5UI3yaPhZAmJ6ek84QJ0DaMtTvTcxYQLX6OQMdACVATXL\\u002fPi0XB0CzXzQX2K7YP\\u002f\\u002foGasC49c\\u002fm57tC65B\\u002fj9NFQh4gw3vP0tTeKxf8xRAwjDjy2UEHEAysbgzA6rcPwCMIuRY2f8\\u002fe59JYwlcWEAn\\u002f5ARQ3jrP5me7QuuQd4\\u002fvdNNFP2YBUCAOp7HLd77P6uvm937U3BAmfvk0ldL1j9HmestTX4GQGPWToOterk\\u002fXNZOg616qT\\u002fZ0qJEwk3kP1zWToOteqk\\u002fzCB7IgIcwz8XsmMDPvUNQEc89GajdP4\\u002fYFoyOXfrAEAzDrD6rLMUQOCrtlWi5gRAWiQnYe1ICEB6YYq2TUX7PxpNae+CRuo\\u002fxKxhJd0xBkDZdat9GEQMQMERXDmY4Ok\\u002fOUhkNS\\u002fBNkDNw4NbWBLrP\\u002fuyDtN4QP8\\u002f615N9ngOU0AzDrD6rLPkPyf\\u002fkBFDeOs\\u002fzMODW1gS2z+AOp7HLd77P9l1q30YRAxAxKxhJd0xBkAU0UylTLfxP00VCHiDDd8\\u002fs180F9iuGECa++TSV0v2P9nSokTCTeQ\\u002fzSB7IgIc8z+5OEgouEf5P6DU+OM35PY\\u002fGqpgtixQ8j+O7MXp7Q\\u002ftP9l1q30YROw\\u002fMXOqDmhiCEDBEVw5mOD5P7DELiuTXRxAWoEeKJdS8D8zsbgzA6rsP7O8K96BuOA\\u002fmZ7tC65B7j+Al5WO1+fzP+1d3ndiGPY\\u002foLVxUWrAFEDtXd53Yhj2P9l1q30YROw\\u002fR5nrLU1+9j8A6RmrAuMHQGbWToOtesk\\u002f5yfTn9h13T\\u002fZdat9GETsPwybQc3CFOk\\u002fgDqexy3e6z8zDrD6rLPUP1qBHiiXUuA\\u002fgDqexy3e6z\\u002fNIHsiAhzjP5TF2frNqA1AQMDXHG3l9T8zDrD6rLPkP5n75NJXS9Y\\u002fmfvk0ldL1j+Znu0LrkHePzMOsPqss8Q\\u002fZzNGSleE4T+X++TSV0vGP3PlbWwXtuI\\u002freMXzaEfEEAM+DiUbB7hP4A6nsct3ts\\u002fOefDC41M9T+Q5MKc3GoBQJme7QuuQe4\\u002fiY0DvXiHRUDET2peMygeQEgVaofEqyBAUu7MEIR1KEAR2U\\u002fyXVwdQJREQ8BHGl1ALdikIiMR\\u002fD96YYq2TUX7Pw0XwCY6QiNAsn5sMcahU0Ca++TSV0sWQCCDdMcM6RJAy6T8yIruKEC2+jkDHQAFQNFbntuaH2JAZtZOg616+T8ysbgzA6rcP0DA1xxt5eU\\u002fIWQ8rR72J0B8PHzEWspFQO98ZQowPChAhVEiDepcEkBtDFpbNx3yPxTRTKVMt\\u002fE\\u002f7D5X5ZT0I0Cbnu0LrkH+P0jXqtoIlSNAq0qOzkgcTEAy0PBN8ZwnQHJp7xKgiBhA5yfTn9h13T9HmestTX72P5kaHe1FPiFA36u2VaLm9D9Ncv8+LRfnP2BaMjl36\\u002fA\\u002flCLRwXeyBUDtXd53YhgGQDZLAClS1FRAHeks0r2+WkDQXolHnWMHQOBOv4743AxAU+4biWOm\\u002fz+cd2Msz3gQQAQER1O3zDdARXpkm39aFECzvCvegbjgP\\u002fd0AK7d+BpAWoEeKJdSIECEze+sda2AQEc89GajdP4\\u002f+g8GmiJK9z9R8bd8hrldQAg+rBVaqRJAwW5TAELq8T+zvCvegbjgPxE2R7kHZgVAOorMRONC\\u002fT\\u002fZdat9GETsP0Vb3QiyNgJAIIN0xwzp8j8zDrD6rLMUQHWn\\u002fTc70BxA9jZBASLiPUCsBvlJiH00QLNfNBfYrvg\\u002f15SUHycGEECgVk0VtJlLQM8\\u002fArXPPzVAT5GG0fo6KUDnhMpmgn\\u002f1P4A6nsct3ts\\u002fZVrQKTZNH0AysbgzA6q8P1NLE1ANsPc\\u002fuJU\\u002f72FR8T+AOp7HLd77P4CXlY7X5+M\\u002fhhOy2A13DEAaqmC2LFDyP9eUlB8nBgBAZ9ZOg616CUBmM0ZKV4TRP2bWToOtetk\\u002fQMDXHG3l5T9z5W1sF7YCQKDU+OM35PY\\u002fNqm15vEEAUBm1k6DrXr5Pwz4OJRsHuE\\u002fwRFcOZjg+T\\u002fnJ9Of2HXtP5Qi0cF3svU\\u002fR5nrLU1+9j9Ncv8+LRfXP9nSokTCTeQ\\u002ffxsXNWC6GUBNFQh4gw3fP2QzRkpXhME\\u002fY9ZOg616uT9j1k6DrXq5PxaPMw54ZjJA5yfTn9h13T84CqWIc6o5QOaEymaCfwVAFw9byuf+BUCzXzQX2K4IQJn75NJXS9Y\\u002flUFYVEXWJ0Dgq7ZVouYEQFqBHiiXUuA\\u002f9DbyiEKx5j9tDFpbNx3yPxqqYLYsUOI\\u002ffoiJBPxQYUBziHalbazqP4KWJhDB8VZA770PI+6WWkD1snDiud4QQNnSokTCTeQ\\u002fZtZOg6162T9m1k6DrXrZP+eEymaCf+U\\u002fgJeVjtfn0z+zXzQX2K7YP7NfNBfYrtg\\u002fY9ZOg616uT\\u002f6iyLkWNm\\u002fP3PlbWwXtuI\\u002fc4h2pW2s+j9c1k6DrXqpPzMOsPqss8Q\\u002fba9ilI0T+j8ysbgzA6q8P8wgeyICHKM\\u002fY9ZOg616uT8ysbgzA6q8P2bWToOtesk\\u002fWiQnYe1I6D\\u002flowKBcHIgQMwgeyICHKM\\u002fs180F9iu2D\\u002f6iyLkWNmvPydciNjsgeM\\u002f+osi5FjZrz+DMpt6HDkAQOeEymaCf9U\\u002fMrG4MwOqzD+zXzQX2K7oP2YzRkpXhNE\\u002fgDqexy3e2z9n1k6DrXrpPydciNjsgeM\\u002fZzNGSleE8T+AOp7HLd4LQAYfJYOMhfA\\u002fFmNrV5oqjUAaTWnvgkYKQIZwqZ+3gARAZzNGSleEEUC5OEgouEf5PzMOsPqss8Q\\u002fjuzF6e0P7T+a++TSV0sGQDaKfcwDEiZAgJeVjtfn0z+q6xoas8QLQBr7hdfcN2RAdkK0q6DwIUBNcv8+LRcXQCaeoW\\u002fB0jJAaLcWab+HLkA9gsn30Z0hQKJQdz2vESFA0AGSgPNZH0AM+DiUbB4RQOoAmDjZ3SZAcO1wuShbDkDzNvKIQrEGQOHKPehvCidA2FYk60ogGkBAB2sIKFFzQKgpi06PqiFAl\\u002fvk0ldLxj9lWtApNk0fQCCDdMcM6RJAUA0FK3JoA0D0eFqY9jI9QPG490HfNURAWiQnYe1I6D+Al5WO1+fTP\\u002fruUZJICVRAzSB7IgIc4z9nM0ZKV4ThPxR0Vd6irfk\\u002fzCB7IgIcwz+Z++TSV0vWP2YzRkpXhNE\\u002fOorMRONC\\u002fT+UItHBd7L1Px5olpc3MFpA9dn6wZin7j8uNZzpzBr0P0DA1xxt5eU\\u002fzsODW1gSC0Cf8zD+JdchQGczRkpXhPE\\u002fM60P0Qo\\u002fM0BT7huJY6b\\u002fP9l1q30YROw\\u002fJ1yI2OyB8z+WoMsI2y1IQPlfbcTcCmVAZjNGSleE0T9ziHalbazqP20MWls3HfI\\u002fMrG4MwOqvD9Qz0V+tlE2QOCrtlWi5gRAQMDXHG3l5T+zvCvegbjgP\\u002f2LIuRY2c8\\u002fqusaGrPEC0C69LKj96hBQGfWToOteuk\\u002fnZbqvpycAkCZ++TSV0vWPyAmfQBj3wpADPg4lGwe8T8R2U\\u002fyXVwNQGuvExyu4kJAETZHuQdmBUBjO0mXaCkNQMzDg1tYEts\\u002fzSB7IgIcA0BkM0ZKV4TBPxK2bnV3\\u002fjhAYP06cs3h+D9L1\\u002flS6MUqQMERXDmY4Pk\\u002fer6BffdO8z8ysbgzA6rMP5vYA1Zx7VFAICZ9AGPf+j\\u002ffq7ZVoub0P5n75NJXS9Y\\u002flPvk0ldLtj\\u002fKw4NbWBLLPwldM6gnzQRAgpfkBrcYK0AqPZ823r8fQM3Dg1tYEvs\\u002f8\\u002fgy3IaaKUCFMury+2knQNQ3TuCdyyBADPg4lGwe4T9z5W1sF7YCQPcPtyFDGTBAQV8388pwNED12frBmKfuPzKxuDMDqrw\\u002f0n0Q2mqHGUBBY+BVw9vtPzMOsPqss8Q\\u002fuBnBleojF0CZnu0LrkHOP8wgeyICHLM\\u002f54TKZoJ\\u002f5T+zXzQX2K7oPzMOsPqss+Q\\u002fMw6w+qyz1D9qcVRv8ssFQIVRIg3qXBJA5yfTn9h17T\\u002f9iyLkWNnPPxpNae+CRto\\u002fZDNGSleEwT8aqmC2LFAiQFalbiOUpnFAYP06cs3hCEDZdat9GEQcQPQ28ohCsfY\\u002fs180F9iu2D+4lT\\u002fvYVHxP\\u002fqLIuRY2b8\\u002fzCB7IgIc0z\\u002f6iyLkWNm\\u002fPxqqYLYsUOI\\u002fGk1p74JG2j9z5W1sF7biP2QzRkpXhME\\u002f+osi5FjZvz\\u002fHR2cRIoMCQJwabGUlbxhAl\\u002fvk0ldLxj+X++TSV0vGP+eEymaCf9U\\u002fZtZOg616yT8n\\u002f5ARQ3jrP2QzRkpXhME\\u002fmfvk0ldL1j\\u002f6iyLkWNm\\u002fPyCDdMcM6fI\\u002fy6T8yIruOEAA6RmrAuP3P5T75NJXS7Y\\u002fZtZOg616yT8Y7HlNAaExQAy6eeewBzRA9DbyiEKx5j+zXzQX2K7YP3dhOz5uFDRAGk1p74JG6j8ysbgzA6rMPxTRTKVMtwFAx0dnESKD8j\\u002f6iyLkWNm\\u002fP+cn05\\u002fYde0\\u002f7T6mXXQlO0AysbgzA6rcP5me7QuuQe4\\u002f\\u002fYsi5FjZzz+zvCvegbjgP\\u002f2LIuRY2c8\\u002fZtZOg6162T+rKdrGbts4QE0VCHiDDd8\\u002f9DbyiEKx5j8zsbgzA6rsP5f75NJXS8Y\\u002fGk1p74JG2j96YYq2TUX7P8KN2pIPDhRA5yfTn9h13T\\u002fnhMpmgn\\u002f1P4A6nsct3ts\\u002fMw6w+qyzxD+U++TSV0u2P\\u002f2LIuRY2c8\\u002fgJeVjtfn4z+Znu0LrkHeP37dV4ikozxAGqpgtixQ0j\\u002fMIHsiAhzDPxqqYLYsUOI\\u002fu9en\\u002fhXTN0AAjCLkWNn\\u002fP2bWToOtetk\\u002fXNZOg616qT+bnu0LrkH+P8wgeyICHMM\\u002fWiQnYe1I6D9NFQh4gw3vP+eEymaCf9U\\u002fZtZOg6162T\\u002f6iyLkWNmvP9l1q30YROw\\u002fmfvk0ldL1j+yvCvegbjQPzMOsPqss9Q\\u002fjezF6e0PDUAgg3THDOnyPzKxuDMDqsw\\u002fTRUIeIMN3z9CPFZ25BIQQFzWToOteqk\\u002fZtZOg6162T9BY+BVw9vtP\\u002f+LIuRY2d8\\u002fYXm5y0QPE0CX++TSV0vGP8ERXDmY4Ok\\u002fXNZOg616qT9z5W1sF7byP0Bj4FXD2\\u002f0\\u002flPvk0ldLtj9n1k6DrXrpP\\u002fqLIuRY2b8\\u002feJ\\u002f66ikrIUD9iyLkWNnPP+eEymaCf\\u002fU\\u002fzCB7IgIcsz\\u002f9iyLkWNnPP80geyICHOM\\u002fTRUIeIMN3z+Z++TSV0vWP5DkwpzcagFAGqpgtixQ0j\\u002f12frBmKfuPxqqYLYsUNI\\u002f+osi5FjZvz\\u002f\\u002f6BmrAuPXP8zDg1tYEts\\u002fzCB7IgIcwz+8MzBHqeZiQOcn05\\u002fYdd0\\u002fmZ7tC65Bzj+Znu0LrkHOPy3YpCIjERxAzCB7IgIc0z+yvCvegbjQPxqqYLYsUNI\\u002fMw6w+qyz5D\\u002fMIHsiAhyzP2QzRkpXhME\\u002fmZ7tC65Bzj8f6L1Tp8g9QMFuUwBC6vE\\u002fzCB7IgIc0z\\u002f6DwaaIkr3P9eUlB8nBhBA\\u002fYsi5FjZzz9j1k6DrXq5P+eEymaCf9U\\u002fzCB7IgIcoz9kM0ZKV4TBP5me7QuuQc4\\u002f54TKZoJ\\u002f1T\\u002fMIHsiAhzDP\\u002f\\u002foGasC49c\\u002fgDqexy3e6z+Z++TSV0vWP47sxentD+0\\u002fc+VtbBe28j\\u002fnhMpmgn\\u002flP1zWToOtepk\\u002fQMDXHG3l5T\\u002f\\u002f6BmrAuPHP+DtHmVWaDtAYFoyOXfr8D\\u002f\\u002f6BmrAuPHP2PWToOterk\\u002fMw6w+qyz1D\\u002fZ0qJEwk3kP5me7QuuQd4\\u002fMrG4MwOq3D9kM0ZKV4TBP6VQFS5uc+8\\u002f2XWrfRhE7D9mM0ZKV4TRP7iVP+9hUfE\\u002fkgNKL6qOE0DnhMpmgn\\u002fVP5T75NJXS7Y\\u002fMw6w+qyzxD9NFQh4gw3vPzMOsPqss\\u002fQ\\u002fTXL\\u002fPi0X1z+mUBUubnP\\u002fPzZMvh9I+whA4E6\\u002fjvjc\\u002fD9mM0ZKV4TRP83Dg1tYEus\\u002f+osi5FjZrz8zDrD6rLPEP8wgeyICHKM\\u002fGk1p74JG2j8ysbgzA6rMP\\u002f+LIuRY2d8\\u002f9dn6wZin7j8n\\u002f5ARQ3j7P9U3nVh9\\u002fCdAIuC6BpYjIkD9iyLkWNnPP47sxentD+0\\u002f5yfTn9h13T9NFQh4gw3vP0eZ6y1NfgZAwW5TAELq8T+X++TSV0vGP1NLE1ANsAdAHGzwgVBqHECZnu0LrkHOP5r75NJXS+Y\\u002fTXL\\u002fPi0X1z+a++TSV0v2PxpNae+CRto\\u002fZtZOg6162T+g1PjjN+QGQKDU+OM35PY\\u002fzCB7IgIcsz\\u002fdELFpXZUIQEc89GajdP4\\u002fDZtBzcIU+T9aJCdh7UjoP1ioqAd2Gx5ATRUIeIMN3z+XvdatvAMCQNnSokTCTQRALtZ3rRb0SkAMm0HNwhTpP7V+u6ml0kpAh\\u002fDQWycZSED\\u002f6BmrAuPHP1zWToOteqk\\u002fLlQjfJo+FkDMIHsiAhzTP8rDg1tYEss\\u002fZDNGSleEwT\\u002f\\u002f6BmrAuPHP0\\u002fufZikRBFA97K\\u002fWpkPOEDzNvKIQrEGQADpGasC4+c\\u002fffyPopKWF0ClMY6boE8dQODOl9KIRGlAdQT1\\u002fuTZJEBagR4ol1LwP7K8K96BuNA\\u002fFNFMpUy38T94n\\u002frqKSsRQJ2W6r6cnAJAR5nrLU1+9j\\u002fnhMpmgn\\u002fVP\\u002f7Jkhg1vxVAWyQnYe1I+D\\u002fOw4NbWBILQAGMIuRY2e8\\u002freMXzaEf8D9tDFpbNx3yP7NfNBfYrug\\u002fQWPgVcPb7T8zDrD6rLPEP+0A57C4Dv4\\u002fULANZMheC0DMIHsiAhyzP\\u002f\\u002foGasC49c\\u002fMw6w+qyzxD\\u002fNIHsiAhzjP8wgeyICHMM\\u002fWiQnYe1I6D9mM0ZKV4TRP3phirZNRfs\\u002fgDqexy3e2z8ysbgzA6q8P\\u002fqLIuRY2b8\\u002fZ9ZOg6166T+AOp7HLd7bP8wgeyICHLM\\u002fx+pvSnh5+j\\u002f9iyLkWNnPP3PlbWwXtuI\\u002f\\u002fYsi5FjZzz9m1k6DrXrJP20MWls3HQJAmZ7tC65Bzj+Znu0LrkHOP5me7QuuQc4\\u002fpVAVLm5z7z8aTWnvgkbqP5f75NJXS8Y\\u002fMrG4MwOqvD9mM0ZKV4TRP9zv\\u002fGGDVEVAZDNGSleEwT8n\\u002f5ARQ3jrP1okJ2HtSOg\\u002fMj\\u002ffCnmBZ0BAwNccbeXlPz0l0jAolBlAmZ7tC65Bzj+t4xfNoR8AQGYzRkpXhNE\\u002f36u2VaLm9D8zDrD6rLPUP8wgeyICHMM\\u002fg9Wjs3IvCECzXzQX2K74P+\\u002fZXNHZRRBAgJeVjtfn4z9Ncv8+LRfXP593AR2O2g5AGqpgtixQ0j9m1k6DrXrJP4vNPlcg7CpAmNxdQIonJECAl5WO1+fTP9nSokTCTeQ\\u002fTXL\\u002fPi0X5z+fdwEdjtr+PxR0Vd6irfk\\u002fyih+bxPBDkDZ0qJEwk3kP22vYpSNEwpAWgXvRv9VLUCwxC4rk10MQDKxuDMDqsw\\u002fPYLJ99GdAUD0NvKIQrH2P\\u002f\\u002foGasC49c\\u002fPOcShGx9PEBz5W1sF7byP7007j2fDTdA6x\\u002fQUsfQAUCmUBUubnP\\u002fP83Dg1tYEus\\u002fGqpgtixQ4j+yvCvegbjQP1PuG4ljpv8\\u002fBsItvOJ7+D9Ncv8+LRfnP3OIdqVtrOo\\u002fAYwi5FjZ7z+O7MXp7Q\\u002ftP7NfNBfYrtg\\u002fZzNGSleE4T8zDrD6rLP0P3q+gX33ThNAjUm9sJcZ5T9qFF2oSMINQJZ\\u002fFwEB7TRAWyQnYe1I+D+3OPmv2BYiQDKxuDMDqtw\\u002fgDqexy3e6z+zvCvegbjgP00VCHiDDQ9ATRUIeIMN7z\\u002fKw4NbWBLLP41JvbCXGeU\\u002fDPg4lGwe4T8zDrD6rLPEP+cn05\\u002fYdd0\\u002fKj2fNt6\\u002fD0D0NvKIQrH2P8qFdTa9ygZA+q2neYqugUBtr2KUjRP6P2pxVG\\u002fyywVAZtZOg616yT9g\\u002fTpyzeH4PydciNjsgeM\\u002f9dn6wZin7j+zXzQX2K7YP73TTRT9mAVABsItvOJ7CEBqcVRv8ssFQAz4OJRsHuE\\u002f54TKZoJ\\u002f5T+zvCvegbjgP2BaMjl36wBADJtBzcIU6T80sbgzA6r8P\\u002fQ28ohCsfY\\u002fKrkdkFXtKUBskNsBwO8XQBqqYLYsUNI\\u002fPSXSMCiUGUB\\u002feA78CcQRQADpGasC4\\u002fc\\u002fs180F9iu2D96YYq2TUX7PwJlmAR6EBJAJ1yI2OyB4z\\u002fnhMpmgn\\u002fVP5r75NJXS+Y\\u002f2XWrfRhEDEBAwNccbeXlP8qFdTa9ygZA6sLYix3HCUBimEBeEjMFQNnSokTCTeQ\\u002f\\u002f+gZqwLj1z9nM0ZKV4ThP\\u002f\\u002foGasC49c\\u002fElXOS9WJF0DW2qWR0\\u002fIfQI3YoX4DGGRAkqZSaACFG0ANm0HNwhT5P+sf0FLH0AFAJ1yI2OyBA0DdELFpXZUYQNoxFvlXpURAWUNfe9s7Q0AcaEcfWP8yQEBj4FXD2y1AoDWZDdpYOED09UdwhFZUQHfGhMoI9B5ATXL\\u002fPi0X9z8AjCLkWNkfQBFVzkvViSdAwo3akg8OFEAJADzhfcMMQCGmpLzSd05AnHdjLM94IEDPfcFhi1YiQD9AsGD9TEJAwRFcOZjgCUBpkIyJ4L4wQKESuJDz+iNAZ9ZOg616CUD6DwaaIkoHQFbmGDxSARRA05yXbDir+z+fdwEdjtr+P4ZwqZ+3gPQ\\u002f9DbyiEKx5j\\u002fnJ9Of2HXdP9kzQ25kwkVAvfKFLuuLMEBagR4ol1LgP2D9OnLN4QhA3owvw9TCEkBbJCdh7Uj4P5058\\u002ffykgpA+g8GmiJKF0AjQVswOJgzQOJGvEHnNwFAmvvk0ldL5j+U++TSV0u2P2czRkpXhAFA4ka8Qec3AUDnhMpmgn\\u002f1P20MWls3HfI\\u002fGk1p74JG+j\\u002fnhMpmgn\\u002flP0DA1xxt5fU\\u002fKP+QEUN4C0DnJ9Of2HXdP\\u002fPZ+sGYp\\u002f4\\u002f9DbyiEKx5j9iHMIEmwUbQBE2R7kHZhVAXNZOg616qT8aqmC2LFDiP6atDPUXfec\\u002fgDqexy3e2z9c1k6DrXqZPwldM6gnzSRAl\\u002fvk0ldLxj\\u002f7sg7TeED\\u002fP4CXlY7X5+M\\u002fSjTxGZLPAkDzNvKIQrEWQOgE8iLyF0lAzYEbTKSQNEC8tMaBL3UTQIA6nsct3ts\\u002fzCB7IgIcwz+D1aOzci8IQLNfNBfYrtg\\u002fgDqexy3e2z+zvCvegbgQQJwabGUlbyhAYFoyOXfr8D+NSb2wlxnlPydciNjsgeM\\u002fKP+QEUN4C0Bc1k6DrXqpPx9k7TQ\\u002fxRBAgDqexy3e+z9NFQh4gw3fP80geyICHPM\\u002f+osi5FjZrz8aqmC2LFDiP2TW\\u002fwrOSSJAu9en\\u002fhXTN0C5OEgouEf5PwbCLbzie\\u002fg\\u002fYFoyOXfr8D+Al5WO1+fzP0Fj4FXD2+0\\u002fzCB7IgIc0z8=\"},\"type\":\"violin\",\"meanline\":{\"visible\":true},\"jitter\":0.05,\"points\":\"all\"},{\"legendgroup\":\"Mediastinal-Lymph-Node-SEG\",\"line\":{\"color\":\"lightseagreen\"},\"name\":\"Mediastinal-Lymph-Node-SEG\",\"pointpos\":0.25,\"scalegroup\":\"Mediastinal-Lymph-Node-SEG\",\"side\":\"negative\",\"y\":{\"dtype\":\"f8\",\"bdata\":\"PDuLEkWhD0CVl1pXRjweQF8ZrdFktAZA75Bpf8E7RUBWnICHvxMcQNgC4NuyPf0\\u002fuaQNox51QUBiTfW7zGLoP8BFVHRIkxhAVxv82+BeIkDU+QIfOmPhP4NWWKDKn9M\\u002fni58L9w9uD+DVligyp\\u002fDP+dgeRgFRuQ\\u002fkULqZ9PuxT8IDy\\u002frbX3UP47HBTYRW+U\\u002fysZLAt40E0Bz4Y4LMH8ZQBwAas\\u002fqWQVAIr5RNib\\u002fNEDTciio7571Pyql0A3729I\\u002fbKWw735nxj+UFPtCb2AhQDACDIptBQtAaQGWoWRnEUB56SYx0MwaQFPSHU69Rh5AXxNo9JxUAkBcYGLNq0AQQMU96sk4fBJALzs6hv3yEEB7FK5HQYcOQJzEILCybSdAAAAAAF43EEABAAAABP4bQB8GgIGOWOc\\u002fAAAAgPx6R0D\\u002f\\u002f\\u002f\\u002f\\u002fg+8jQFMb7UCDQQ1A5gDfx\\u002fW8DkAAAACAqzguQHXF7V0eRw5AyuSXcuLDEECZBKjgvYkxQMNwZ13ubhJAAaQYQ5yd6D8SKZiPM3XwPwhSOK45SNE\\u002fdrgewX7UtT+HZuq4h3jzP9\\u002f16PymvLE\\u002fIgCAXlm9tj+pWXd3ypITQOGG77YbOARAN7BXrMz\\u002fCEDtUbh+dCsiQKPcPRNZcyRAqSmLOzXWLUDf7SYUqkBRQEAgZfil7iNAJ+ooxowlFECY0Pl4w1kUQEDuiCFnTS9AWFP0QdNWAEBJuyYSWFpTQDABXp\\u002fakDdAjZduEkVAN0CqNCOsisATQGQ730+N5PU\\u002fHsIKruNMJ0D500CkN14VQJlgNV\\u002fuP\\u002fg\\u002ftMh2vh+t+z9WfEYgXktgQHKsSmb7tVVARE2PU7AUFUB28RG6Q5\\u002ffP99qoEJyzgdAM0zZp3AT2D+VVRLvi34DQDy8LumD19Q\\u002faZ4bkGea6T8AAAAA\\u002fAkYQJDC9Siq5xtA+VhDa+1KKUBlzUwRClLHP34AMUJMIfM\\u002ftlxvkIkntj9\\u002f9kxlnLbcP5H7xYGRpxpAWs3yR6F\\u002f5T\\u002f2M+W91IPtP82PplyXDRFAFX8TX6nMJ0AAAAAAAFQ1QA9Yu5L3pU9Af5Wle1JxvT9m1uGh3+\\u002fUPxFSmEEkfQZAAAAAgBPZL0D2A4DGrjwYQC386Jy0dAVAyHD5LCD+9j+IZiFJIPgVQIlNU\\u002foA0ShApHA9Cj0xEkAoXI\\u002fCVabePwrXo3B9gvk\\u002fFa5H4Vq00T\\u002fhehSuZ2rnP+xRuB49jyVAFa5H4Vq04T+ZmZmZeS7QPx+F61FYLfg\\u002fexSuRyEU3j9cj8L1qLLdP996FK4HqMI\\u002fKVyPwtUbF0B2AnYrqGEeQM8BcvT4XBZAy6FFtrP35D8rhxbZTq72P9YZywAlliJAoAnwGYj4J0De06C0w5ohQJqZmVnmZwZAlYZn6Bt5REBxPQrXw5ENQNwBwLxMtAtAFAIAhiz7zj9LAZTsJkUDQJ4B0FYZDug\\u002fIwHQ\\u002fNPn4D+9AVCtqtfpP9oBlNV3nBtALAHYZ9F2AUAeAQDSoa7QP0wBwNP7XNM\\u002fsn+TYXO8HUBYaBbROvMFQP9oopctWy1A8WyPZhPO5T86ruv06uzdP+eC6VPU1AhA1sokwgkVIkBWCrU9UsccQCPb+T5FRw9ArG9yd0\\u002f4HUC0ANa1ToPqPz5IBkHXgypAPa1CXbe+VECkcD0KrzD2PxNjaH8tcytAuslSCyF6AEBCaG+KWt0pQFg5tMhmfSVA16NwPfqXJkAqhxbelzQiQLPYLxe0cxNAvQHqfeZOJECA7VjpXSwXQPy5jsDxfuM\\u002f7ZvJMVY56z94bmQM8YtDQPU+E7QewBFAQqUYFgyZEECbFsZ3VNroP7DiWsOQgtA\\u002f9GgG5MnbzT9G8y0jYV5DQM5\\u002fnbJ3Ig1AptB0y0wuFkAdnRV\\u002fZ+4vQF2b25qSCxBAKCBwJlObQkB5v6tJf7UaQDICw5agoDdAH+kMvKeO1z+1syKnnJvwP2aBddndj+s\\u002fHPakAfq61D+XCQlqdX3QP9pQpJ5xjeM\\u002f\\u002fYFzq3jBLUAZAz1HTOfxPwAbA+URWAFAWqg9qtQU4z9+aa87GB8MQG\\u002f55jDSGjFAn5FzsEQHyD\\u002foeqm2tPnsP8TdJ7\\u002ffB\\u002fo\\u002fAAAAANAeIUAAAAAACBX\\u002fP\\u002f\\u002f\\u002f\\u002f\\u002f\\u002fjLAxAAAAAALyADUBgClDfA+0bQNgGtBjEazJAinEmtyX8\\u002fT+aCwCfHTnfP2cGALD+OeE\\u002fgwYgaWrV6D9XCPx23MxfQKMFgJ\\u002fOg9U\\u002fUAeANm7syz+EBQCnng7FP\\u002fsHQA32cO4\\u002fEgbIhEklB0ApCAACviDvP7Y3xRmrRSJAWXwaHmzCIkAlBoGV+Y\\u002fzPwAAAABAjBVA\\u002fgHp95xnGkDNzMzMYGgFQOcg6tKjTxNAdU2K86AeIUBl2io+Is8kQAE6cehONzVASGzmOJpUEkB\\u002f0lTI9MIhQHzTvMMK1xRAkI4CDW2oEEAeV7G1hqkMQGD6j9kndwlAAAAAAKRfFEBB8MqXrCkdQFPj\\u002fRPPpB1ARbbz\\u002fZxhDkAEVg4tchjWP4ts5\\u002fsIkSVAc2iR7bRg+j\\u002fb+X5qXIXgPxWuR+E6RuE\\u002fFK5H4ZoOH0BI4XoUrhzTP83MzMw0SPY\\u002fMzMzM\\u002fM29D9hH08BHbQHQEyfmaELxARAgQFASFf79T9YROm464v5P9BUZg0e4O0\\u002fgLb1YGx89D+fGQ2Hu4jcP8GRcJGiut4\\u002f3zowW0FE0z\\u002fHeXI7MMlAQACsz26gafc\\u002fr856FSeV7z+AtvVgbHzkP\\u002f2kC3gYXck\\u002fsp3vpyq+K0DkpZvEtl0QQPYoXI8W2TBAw\\u002fUoXBM4G0DozOrRUEAUQPLMbL+vYNw\\u002fq5+pw\\u002f+2tT8pfnDdg5QyQEk6m7l\\u002fVck\\u002fjIp\\u002fQTds0z9Y+5bZMPfjP2SpyrdO2PM\\u002fSgwCKx3qFkAHmgTHRqISQP+F1yS2rypAuzUPfVnrCUB\\u002f06CEMe0HQNc\\u002fk9jsRP4\\u002fWYivkyBwQECIF45eqxQnQNoKc+eLwuw\\u002fJnYx43cbAkAJrFZGlrFQQNuPkr5OSuc\\u002f\\u002fjSijgoGOECoMzSqvWQFQEOy6cisATBAWUjje6p+\\u002fz\\u002fLZjqjvobSP3z95gv4OzNA+U8T8y92EUD7STfTe4wfQO+11KOL8jpAbEkxFPscQUBhwM5viU4sQLRchQDMUAdAlNjh9PW19D8InLwAFR8JQD9FOZEN5\\u002fQ\\u002fw6Hgd8FWAUDJtvhTDDPkPwSme7lLjgBA8sL8M0724T\\u002fjJYSDl\\u002fHjP8CZtoby\\u002fBNAcT0K17K0VkCMyImcvgMkQJ7+UA4jmg1AVg4tsp3mC0AAAAAAILIZQAAAAAAcDBlAFcT11XN5EUD9xKHzmeQ7QMNdn5ouVvI\\u002fCeN6fsk7xD9FK1yy5qvKPzxK4Vo8br0\\u002fuNijm1dQwz8Mm3kvcKvgP+s\\u002fCnjKgsw\\u002f6oaLMxSU5D\\u002fEcDW5bIDsPwgnIYsoDts\\u002fcT0K16OMBUBI4XoUrhcNQLqpLqofnvE\\u002fZHBAk50\\u002fHUCL0JSxpfzxPxWTkPB2iDNAFK5H4Z5eBEAAAAAAgGXEP83MzEztEFFAzczMzGxg4z8zMzMzM1HAP9WjcD3KnsU\\u002fMzMzM\\u002fOD2j97FK5HobnwPwAAAACQC\\u002fw\\u002f4XoUrtdp6j+YmZmZWVvCP+xRuB6FG8o\\u002f7FG4HnV18j9wPQrXA67YP+xRuB7xiwBAzczMzMx52D8rhxbZ3s4HQCelMyULSTNAAAAAIAs3UUAAAAAAAQggQAAAAABAs\\u002fE\\u002fAAAAAJA6\\u002fD8AAAAAGGz3P\\u002f\\u002f\\u002f\\u002f\\u002f9f49Y\\u002fAAAAALKmIED7B0AN9nDuP58EQN+2n+E\\u002fJQYYgIduF0C4riOeJDkLQKtbqvhsdwFAKQgAAr4gvz\\u002f9BlzLgKYaQDsEoPfaIgBA7gbgTpJv6j+VBUCjNkkVQIEEhGYwLiFA5gdoEmUgDkBwBtBtLIz4PykFgL0Or+M\\u002fQ4VCp48QRECaBoBjTi3ZPx4FUMAcgwNA7AcAEV423j+VBNRhbncRQPQEoMr64eI\\u002fqqZrE7j\\u002fLUBb\\u002fjgNZL4jQBH+iiQ5MRpA3v+x5Kre\\u002fz8VL9yKlij1P22\\u002f1rApjghAsOja4VGe+T\\u002fNoJnfdOTIP4lYCMex3vY\\u002f17NHGffpwz\\u002fq36PxXLO+P8CN66Xy3r0\\u002fMWtm6k2YsD9Il8LCs2HLP3Dm+lvt1sE\\u002fPYGU1gD9xT8rhxbZ3i0QQDzfT40nwxhABkSQhwp69T+Q0vhBHLbqP4NJGg5vUAhAH7QrgHZjQkDSz7P+6Ur5P0Bd9kn2YwlAGLwkbJDtHUBcrn5yZx\\u002fhP1yufnJnH+E\\u002fZF7nRByo\\u002fz+fOg4jO9YPQO7g\\u002fc\\u002foKT5Akz1emWRpA0A3TvShJdI0QOfOyd4axS5Au4uOPTvXKkC4LYCKZFXjP8pEJSJ62\\u002f0\\u002fBLXFBXot7D+bOuPtdCq+P+omMXiqZjlAYKmMN847BEDc6+MhJbQQQK5H4bpXMQBAezR51ihEIUDpbzIpapgcQAAAAAAUnyBA0qaYig3nJkCFM7284U4BQHm6WQRgowVAqRLUNlxbAkDkBxMUY70OQPYGTaiTH\\u002fs\\u002fYhBYOfSjJEAzMzMzMwPTPzMzMzMzA8M\\u002fKVyPwvVg8j\\u002fsUbgehWu+P\\u002fyp8dJNwrI\\u002fYhBYObQYyT\\u002fNzMzMPDzsPwAAAACmpeE\\u002fMzMzs5VlA0DNzMzMtWvwPyozMzNzOqE\\u002fzczMzIwO1T9OCrXxzwcOQO415UBqrhNAmJ0tysbA4z96yCSkg5cgQIqV5VjCjw5AGMfJeoJs9j9cIkeeEwACQCfwaggX\\u002f\\u002fc\\u002fxMQAHPRh+D+kcD0Kn50PQNI081kHn+A\\u002fhpufesXBA0C+aCYQJwLIPwqc2QNXPbk\\u002ftSii++OoR0BnNV+et5X2Py6bLd6uMvA\\u002fjgWigy7Y8j\\u002f8wyhPXs8OQAAAAABAAew\\u002fZ2ZmZpa1D0BneyYy3xcNQNCPSoyUoNk\\u002f2CsCHV08EkBv1xMPuq\\u002fGP3HXEw+6r9Y\\u002f3RTL5IR69T+QrpGPHv7qP5OFm3khDLo\\u002fywpnmbwWzz\\u002fR6\\u002f2dPpjgP3dc9wGSOcE\\u002fVKTifKtp6z9tUjAc4iXsP+BmjkHITss\\u002fOh\\u002fFvqI\\u002frj+zZqYUBc7wP+5wVSd4YsA\\u002fGXE9VDvjuj8UiUyKicEDQEKydzWy5MQ\\u002fGe9ZwkXc0T+2iYvXT+rGP+3LytaSNQVAPfnUWd5a0T\\u002fmQdr2xT3GP+oBV9tSSRlAHrWX62HVEEAIUeGRl2XGP1yOa6AVHOY\\u002fmByHTe5mM0DpCoPtrjUbQP8ULoGhPNU\\u002f+7ievHDFuz8IwxFd8j7zP0DDVbD9Ldw\\u002fYFIIUQ2V0j9QUtBdnAfwP8AKd40U1NQ\\u002f3zrr1yhyFUCDPlNnBZ3vP+xRuL78dBVAj9ecyBdV+T\\u002fCuP2edowVQHKYe1HAgjRARvbc9hdm0j8g7O\\u002fcaLDlP5nXM7xG4NM\\u002fSjQDvIcGMECeUjHB8OD4PwTDfdJjYtA\\u002fRezdN6u5+j+TpLaEVkHqP0DIoOztMQRA0zPH9xyKEUAO7zg\\u002fpoEDQI7zmNOsFSBAnlKhFGD1EUC6uyIP4c7SP7mKo1CQ6d4\\u002fHfDxz2ZT2T880qCMFSDaP8wGUFe86wlAU7geRfxp\\u002fT9cj8J1QQcYQDmnI0xOMgdAA5Kg7ixrHUAZZhmDVnHfP9EEthKjYyJAUgb2tHocKECgBhhiR0MJQNsOxRwsPFFABQY09cvSUEB6M7ufZhHgP48zrdoY9OQ\\u002f02YaOUaJ6D8AmpVcwTvnP7WGT7LhyFFAbAC6Jntt6D8NmvDVETgKQMpmksloXdY\\u002fI5riEMQa\\u002fz8xzdQ3KwTHP60zRSmxd+s\\u002fteaJE\\u002fDiAUBnZmZml2AUQAAAAICIdRdAMzMzszm8FUAAAAAAGlQUQKVBDomM6RVA5fe2UPFlIkBVXkyucvgZQGdmZmY6WAtAv3Ntw8UVEEBxgO8VF2kVQHgA5TkZ+QZAYwA6DFLf8j+JAIjeVTjaP4sAOjpprfo\\u002ffgBQtpclyD9bABBuQ1HhP1kAcp0ECwFAAAAAAMDo\\u002fz9Qj2NPj5AdQP7WTAchls0\\u002ff4LU5VEa1j8Ai2s6Qw7BP\\u002f12vTSxcsI\\u002fzWyNpaGWMUBXTqHbloQeQMbRpE\\u002f+HwZADn0v8N3i9D\\u002fRpRBaVlMiQF8kIQjQIxpAVN1iVmtVB0CF483OQXL\\u002fPw5+U38JpCNAsl1FbSL7AUA\\u002fIc3rV5gNQPup8eqF1jRA7FG4HgUXHUAAAAAAAMoKQKoz45MJjPg\\u002fgI1XUnai\\u002fz+zuqhPmnE3QBYD+AvI3QJAPAQgsbrj2T\\u002fLAiAjexPRP\\u002fYCxJXiGwJAFQQm\\u002fcP1GECsBICNzqTMPwAAAADAsQVAAAAAAICj+D9GlEIQgwLBP2y2rfLE00xATZ9Zhty04z\\u002fq36PxXLO+P3e4IE71ZwZAVAXgshJVFEA4BcC5punzP9UFeJPLPzZAUgWAs05L5D+wBWCcorQVQNh2pH9CAiRAWKIiXSVvCUDo9c51NDYlQIkR85nZliJA7FG4HmvvJkC7SQwCO3cZQKliB1puBwVAQ5OofL3c4T\\u002f0iCn8jo3hP+RzB5PpszdA\\u002fGxi8DUo\\u002fj9M5YbdTmfSP7\\u002f6uCRx48Y\\u002fhEtJnFqhwT8LVlVu+ufyP0suNKdZb+g\\u002fIy9o7R5N7D9EwV6EuODtP3JCa8C\\u002fuEBAGdwzKt3k8D\\u002fXgRRztULHP9EIePyicw1A76hojvIEEUBsQsphsqTwPzFu5mphEco\\u002fQYO0\\u002fUOJ\\u002fj+lYFWHIExSQDn2SEc6jMo\\u002fDvyBV8yIJ0BRsbaWVw05QOq56iGP6gBAgHzU27JGIUBJDAIrqVAeQGpwHPNYKPo\\u002fQCWECocC\\u002fD9BiAL2BSobQDNNOhGFBwNAyiZhzVCTFEAQqgSTUEpIQEbNJJJk8cg\\u002fwzMA3VO+DUANmri2Vef3P30AqI4avPk\\u002fMzMzMzPzD0CxALRlCNAmQDzfT40PKh5Aw\\u002fUoXI+FJUDUUsiOuV7JP+sA+wUSWAlA5tdzW9e01z864j8xUjr6P+6FjBp3YRZA0tOei6V3J0C9dJMYxAHmP4RtvUvGGi5AKzmosE2lDEDswMK97AQsQP4AoOAtHv4\\u002fgAnd\\u002fM3sSECiJTKmTdIsQPUB4ZVf6ClAsgHqk5l9BkDgJ0Sz6IpDQD\\u002fzKv0SFiZACtpZQMXtUEBxPQrXU38SQEKFbdW+\\u002fAhAUrgedbBbJEBwBQi3pW8TQPAGSFw9zBhAWKmg+mmtI0Bn00wKaJfXP11iS4ATmQVAIB8ukxrWL0B5URABaewKQMSebVTgxN0\\u002fKBLAbP1aY0Ava75b+KDLPxs2Kzuhu\\u002fA\\u002fUAWeCwWl\\u002fj+8HZ2udM8HQHccXw2YgwBAnDZ3SMam0z9GgzVLT9kCQOADnBAcYNY\\u002fBjZJDhs\\u002fEECVN55MzT4JQMc2O6LSn9Q\\u002fie5XcnazA0Aw1zph3TYUQE2MJeyGeEFAmU+uomO9QUAAAAAAgHoNQAAAAAAAuNE\\u002fAAAAAECLBkAAAAAAAOHyPwAAAAAAPtA\\u002fAAAAAACR9D8AAAAAANTTP50vVNBlJwJAE5sRo8OR8j\\u002fuTEoQJz0xQAXQxEoZFiBAoh07yK9ITUDOJ9HYtJAEQNejcN1isyFAe6CZi8E2FkCuSvXKHYrSPyLqnuVQCwdAJdpTCxkq4z+HxdUKylTCP8D6OBJr1L4\\u002fo\\u002fXjC3b2REAkYIeOmpTIP3Fqxg5C\\u002f7g\\u002fiCo4YLDIB0AzMzMzh7gFQKtCr1fSFQtA4XoUDnKUIEBnZmYmVJU8QNYFI7P7RFZAswXAm2a+9T9Sx2VeCO5bQDwHIDyKlOs\\u002fRgYgeArr5z+BBphpF84IQEgIgPrtld8\\u002fhwTg5NJH4T\\u002fTGrFNBFoWQP0gTfz4ihhAGI+wqKJAF0ABEOlvqXQSQGbaObXlw+A\\u002fKlwYf3P3L0Ds+nzSmcfZP\\u002fKzH65tUc0\\u002fk1FLMHuvKEDYly7LvFwFQDDa3alXnxhAezpHZk1t0D+WJoTW2DDmPwAAAAAAIQVAAAAAAIBXD0BWDi2yzYomQO92CR+a+xtAVVL1ZUONIUC+dJMYtBAaQEa28\\u002f04aBVA2\\u002fl+apz3CEAz1864jfweQGhaCHoaKxZA6AyjHTWU0T9Y0GDWSV3nP5i7EjuSldU\\u002ffyJFfgrsyD9PSjkqPlvBP3peUWoTuDdAwQ334lIkxz+AIkV+CuzoP\\u002fDlAjcftf4\\u002fxNAKuVgl+j8HvnyZg8MUQC\\u002fRtJtn7cw\\u002fPjeTGcKzyj8Psr8y1EHKPz43kxnCs8o\\u002fwQ334lIk5z8ga9YdDSe\\u002fP7BU4PcZP9I\\u002ffoW6SV1YI0CQ21tpQ9HNPx\\u002fpLmnG8AFA2SzsS+bPuT815Fqs45SjP7+6vnV0BcA\\u002f\\u002f\\u002fioR5tcxT8XknYEIwbSP5ruAXq\\u002feLQ\\u002fug334lIkpz\\u002fE0Aq5WCXqPyBr1h0NJ78\\u002fmu4Ber94tD9PSjkqPlvBP3EhnEfl9\\u002fE\\u002fuS1AEQRg3z\\u002fjgeQ0p1QdQHsUrkfx8BBA8KfGS1XOJkAAAAAAYDolQAAAAAAA9No\\u002fAAAAAADu6z8AAAAADuBWQAAAAACwVCRAAAAAAKCRFEAAAAAAgIECQGZDEelTCDFASPnV\\u002fFq3FUBKDAJLijATQJLtfF\\u002fkDx1ATPdrdvhx+z9Y6VL\\u002fHAoRQKJu9vTPwt0\\u002faAYYhq4sxz\\u002f9bN9wnND3P0Y6Ie6PjQlAjB4KHVDiAUC4BHAfcxPRP5k5EcURHRdAg9J9O8Wk9D\\u002fPBQO1ryc2QFkHzRT7BjxADdIx5B6RAUAe3rs9Chz1P9zIO3iLFMU\\u002f+NIwoi030T\\u002fHOE17iTr7P9v5firWb1lAUI2XbqJRDEAB7FImKFIdQDMzMzO\\u002fnFpAZ2ZmZtrRG0AAG1\\u002fcswoVQJkUaCEDGhhAGA\\u002fv1\\u002ftfFkA8XtyriqczQEybY+ovGwZASnKgurp7FUAopfxAxyXxP3\\u002ftkV9ty8k\\u002foJFyqeuB3T\\u002f9pXAivSPMP2DY849PZNE\\u002fWW353VnPJ0Dg0lyEIkbiP2Btthwx+\\u002fQ\\u002f3+mKyLHa2T+Vl1gSergYQAAAAAAY9RVAgGq8dADe+D+sLlhR5xfvP43P8Rd5gjRAFYD5PTDSzz+b+9sJzKrjPxMCInnEVf0\\u002fTK55yufv3j9Hggs5yvzlP0SGXK\\u002fyA9E\\u002fKrnjLxTwBEA4fjBMY5\\u002fkP+qwVwp7f9E\\u002ffX\\u002fO8Cdv7D+\\u002fdAWP6WnJP5ymGIrTFNE\\u002fJGCHjpqUyD+luyBsuYTkP4nB8TaVSClAdCH5yX\\u002ffEEAvaShqfS\\u002fhP\\u002f5UNEvF9AJAETZ3ys600T\\u002f+VDRLxfTSP+a8vhB+VLw\\u002fTZzZCSyqwD\\u002fNQEAsDbrkPyWd7cxZ3+U\\u002fwPo4EmvUvj+G0TwRzSnNP2Yz9GBoBQtAcCeVtpiS9j+fQ8opuwHwP0dHFmYOehlA37iuJZYryT83pJT6Ty3RP5\\u002fX03Pjh8o\\u002fK8gTa1khJkCvrm9uHY3bPz1Iwcy82ck\\u002fF3HxPRGU1D\\u002fAPWWJTuYbQAQfEX0x+Po\\u002fmY\\u002fepRhqFUCUGARW3F4QQEa28\\u002f2kzus\\u002fzczMzPyu\\u002fz9SuB6FExYJQM3MzMz1HABAzczMzJQrE0CamZmZsegdQOF6FK4HrRBA16NwPZD\\u002fEkApXI\\u002fC9Uc8QAAAAACAvApAPgrXo\\u002fu2I0BMZobTHCsvQAD5qCNmBsA\\u002fgCJF1CGywj8ATOGE3V31P1cjORh33tY\\u002fgoCbFMjV+z9c5jx1XR\\u002fpP4ts57u8rBRAjTX\\u002fjrMfGEBNm6+Ry3IRQDzP7AaL7ug\\u002fsmh5NFiTF0AAAABw\\u002fUMiQGvPWtABGxFAMnPoUyC4EECUUwnFM2gwQAAAAADwywZA\\u002f\\u002f\\u002f\\u002f\\u002f\\u002fcdB0Bpke28sicNQDeJQeDI6vw\\u002f2q+9AePSAEDOQNKfE+jvPxMXmiQ8jfg\\u002fnvBJD0X8Z0Bh7cNkF6QRQFke3m4I7ME\\u002fA648Woegvz9Yp70FjFnGPy8ATUHdkdw\\u002fAwK+z+r50j9p\\u002fJAgl\\u002fInQMP1KFy7QzNAPQrXo3Dt+D\\u002f2KFyPUo1CQMP1KFyP7Pc\\u002fFK5H4Xpkxj8AAAAAkKkXQAAAAACA2xBA70+5lKe4QUAC4Y1Q9FIJQBWyb14S9sA\\u002fHvakAfq6BEBasblQ8JokQKGRc7BEB9g\\u002fsp3vp8qgEUB3vp8a73kPQGDl0CJWPyVA4XoUrg8zFkD1I4FMsXEpQEVHpHhknRxABB4f2aVkIUCXqeW1IWQbQOxKeg6\\u002fC+Y\\u002frkfherw7FkCaSmVxbrUiQHoUvOk2aQ1A4TPckCwyyz\\u002fimAFJX1dRQPXAHomIhLU\\u002fTaLZe8mq1T8zcWarquW6PwkCSebhji5A3wcQBHz+zz8o0zgZ5NL5PxCHq9x8mvo\\u002fCF4dELivGUCVFCbAhbjyPyflbqLcDBRAkny+MKglJED\\u002f\\u002f\\u002f\\u002f\\u002fI2sAQAAAAAAgM+w\\u002fAAAAAADvA0D\\u002f\\u002f\\u002f\\u002f\\u002fn5LePzWvxFmzvu0\\u002fS2z+BJReEkBpwCFowxs2QNGbim4xsQhAAQAAAHx+JEBp71tMuC4MQGQ730+Nzb0\\u002fj8L1KJrdF0AbL90kBpS0P6rx0k2VJjNA1XjpJoEI6j8bL90kBpTEP5huEoOAf\\u002fA\\u002fiUFg5SJoKUBKDAIrR2bvPzeJQWDlF90\\u002fyAXUFk4LFkAzMzMzs38QQOz03t5ZeSlA3LhT68FoG0CuMLYoKOEBQEi4wiB9QA9Aih+cqyplzj+bja5641YRQCRuRxjqhitA2uWUDOECzD8AIGBjTSjVPyusjW2XoAlAhc05+EwS8z+MH5yrKmXeP2jFcPFwF9A\\u002fbO4hy9\\u002fA1T\\u002fE9Shcp4INQKx9nwfI4jZAUgVYScZ5zj9Now8bRtwiQHlzjPkb2kNAgwMgZFgP1D8rA1jkjyHSP3YDwh1HxeM\\u002fqIMHHGDnBEAUw2eAr5YhQJsDd7oilwRAdzUwJAdqBUDTUnAY9lAPQPzK39RhqylAVP2IIQQPG0DNzMzML9kwQGdmZq7rjUNAYRYdGvA3EkBU46WbRPkRQJReu5wR7wRABTdSDrm0IUBM5BVOuoP4P4XrUbjep+A\\u002fw\\u002fUoXI\\u002fzwD+4HoXrEZnkPx+F61G4BNo\\u002fAAAAAFzfO0DsUbgelewHQOF6FK6nffg\\u002fMzMzM7OU3D\\u002fsUbgehe7PPwrXo3DdJvs\\u002fhetRuJ4e0z8pXI\\u002fC1SP1PwrXo3A9h8I\\u002fmpmZmRmc6j+q8dJNogMbQDMzMzOzugFAAAAAAACIC0AAAAAAAMDRPwAAAAAAoOY\\u002fAAAAAABuOkAAAAAAAKDaP4PAyqENEQBAF1SR5dItFUBDnPiPy6gxQFdIyme6MxRAYoBsndsiAUA4H4mjMwP7PxqeiDuENiNA6W4pKKw2FEAlnc1hGyXVPyYWBgTeliFA\\u002fPieg1k78z\\u002frIexCrxTzP\\u002fg6E3HFHuE\\u002fUwvwGQT0+D\\u002fYP6NYlNz7PwY\\u002fczE6C\\u002fo\\u002fVW806G+tI0CvPjMjAmKpP0TZzFCCf7s\\u002fOD3z2+kT5j9\\u002fkfXSiKbwP5XNaqHckf8\\u002ffWgmd2LTxj+cKyZIDswcQBx9Hv1gOxhAgMU1Db303z91zTyVOfEQQKtoKVSq7P4\\u002frmb2udog+z+kcD0KR0YEQBm6okzmttw\\u002fL9E0GEXTwT8If5Asjt0QQN8lleCjEd0\\u002fYnxNNpuDEED\\u002f8VE\\u002fmVPKPxjK\\u002f375MiRAzPzCasiW7D+rrkZ9ozAHQBxO0wzyHuo\\u002fqMch22m09D\\u002fY+TzpWZcAQD0+PVy0jfs\\u002fOPEKTh0nBEDhZk7XferAP8FcBGuKlwRAmnvxeyEE+T+qUuS1++TZPxAVXgKXTMQ\\u002fMZCrVskM\\u002fT8+w20tsK7XP5quiZujBeI\\u002fAAAAAADNK0AAAAAAAPAQQAAAAAAA7BBAAAAAAAC4B0AAAAAAAGDXPwAAAAAANChAAAAAAAAAwD+t6400X1YWQMY5Sm+u0fs\\u002f7AcAEV42DkBzBAjqQfcAQJMFuKPjQQVAywSWFFdGMkAiIVySdyAFQIR51xzfYAZAopf5dszNAkCO6gQog8sIQDMzMzOz\\u002fzFAaZRnmMiI5j81QOLaFP8TQCJXP273QVdAaZRnmMiI5j+NqS1IE8ntP9hjW9yMFuY\\u002fS3oRii9pCkDhehSua1wiQHeAw4aukQZAgcBQyb2XGEDQw20UJQngPzBJ6T7sTOM\\u002f8HFllKKc8D+Acv1TQ9DnP37tkf6RWbk\\u002fgOO6Uy9s3D+UuWzElBswQKA0oymGPuI\\u002fgETKsKU85T9QqsgpPHgTQODJBW0DAQZAKQWAvQ6vE0DhRQoTKAAfQAAAAABYLAJA2c73kzltC0CHFtkumaQQQMT1KAzeviNA1XjplvNqLUAs2UUwFCwHQHy12ry9EkNAfK6AcrCRIUBCU\\u002fL17\\u002fQCQEXYQ4D5cME\\u002fnguX1HuRwz8SFmR2\\u002fYQmQAjElW0w2NQ\\u002fBdnjJYUT7D84ASTtIkjxP9k0k5+ZZcc\\u002frZBCGa63wj\\u002fLr+daZz\\u002foP8bENRO8er8\\u002fYM0UOOVa5z\\u002fbszysZ3gaQDCa8E+pxQdAagBtgHaeAEBwAB0fSqEBQA1ao7UoOiJA9bz9owOTEECNCyAafWP4P3cIJoMx4CFAlrtXhZJaCED\\u002f\\u002f\\u002f\\u002f\\u002fH\\u002ffSPwAAAABQ7eA\\u002fAAAAALAx6D\\u002f+\\u002f\\u002f\\u002f\\u002fP3\\u002fDPwAAAADAyfI\\u002f\\u002fP\\u002f\\u002f\\u002f3+muz8AAAAASBccQAAAAACAnPA\\u002fo9yDkTkEG0AyMzOT7R0nQK+vANZVaxJA001iEA4EEUDwCUiwEF0iQC52Js3vKP0\\u002flQ\\u002f8WOrKHEBQjZdu+iIcQA9J0kEjFy5AFTJcHSOfxz\\u002fVL3ypPsvxPz6BlB4VedA\\u002fXY\\u002fC9RTWC0DNzMzMzFP0PwAAAABAGtU\\u002f40heGTPaEECsM7jBM80DQAKar5QVKQFAAem3Z29dLUCGAUQjxCPxP8sBfgA7NQRA4W+iqH8CJEDzcFZdOUQGQKTWzMUgx+Q\\u002fUXHmS+8Oxz8opunWwIL6P2xwJtxtKNU\\u002fdQj8KSDbEUAPO\\u002fPP0JjQP3HbzBnT6d4\\u002f9lml1pxD+j\\u002fsdRdRj0ARQE9j++F\\u002f1AVAGBwlbzUkxj\\u002f5hVeGaGbbP4z3ww\\u002fORCBAowbTeMlxzj+jBtN4yXHuP4Kq0VTKhPU\\u002fnn5QsapX5D9B+buzD2vmPzRq5o6kEe8\\u002fL5KU31zlJUA2ndWLGWYDQKNSugCAVy9AANEWhs8CFEBjBGiaHuXUPwrET1TKPBNAz2nquto70D+znUeSXofjP5MSjKO4fitADARgGKZJ0z8AAAAAwFbmP3E9Cte6RkRAAAAAAKAI9j8AAAAAQPr6PwAAAADgD\\u002fo\\u002fAAAAAJg5FUB7FK5HibwTQMl2vp\\u002fP2SdAN4lBYAtfE0BnZmYmeWBRQCAh9eXLpfk\\u002fwSAlDQam9T8pSeQXctFNQDQuTz2oeUJAz\\u002fdT40U6EUCYbhKDAOIiQAAAAAB\\u002fE1NAAAAAAIC01j8AAAAAgJrSPwEAAAD\\u002f0U9APQrXrwULMkCF61FYEcUPQJ3rlSGdn0JAVPwIXvR75z\\u002f\\u002fBQCVXnLFP6z7vAVyIzVArA\\u002f3y8ho4z+lQvo\\u002f5ZoCQHBN4TLBlsQ\\u002fktsDnDox4D\\u002fIYM+glYPgP7Mz5UuVXApAegLQXgNq6z9ANV46nbhJQEyaz6U9ytA\\u002fa7oenNqCEEA+DpieQERPQKKjxN7ZLto\\u002fEYsEPjPI9D8AAAAAAO0SQAAAAAAACxNAyqE58i2Z3T9dO9vwXITdP5\\u002fdTD0QtCFA+FPjpXPZHEAIrBxa2OIAQGdmZmbmChNAPgrXowD4GEDL0dyVvKPJP1+fld3Gn\\u002f0\\u002ffzjX\\u002f+Ey2z+TapbQWHvFP0FdR78RvhJAD2J42FE2\\u002fz+xjQ9uT5MgQE0vxOhOWBtAf\\u002fdoqfRGtj92FuebpFwZQKC5Dn83teA\\u002f4Ia7fh541j8wzlSUncPhP\\u002f80s\\u002f6bC8c\\u002fPyq8qQ2E0D8\\u002fFg5USKnGPyBKkdOiTd8\\u002fQs5HrBGqEkAYxT+AUHx2P9uBWuvE6e8\\u002f9ZjYLGE9\\u002fz82mCnf204kQERYWR7WgN8\\u002fUrgehSvcCEBU46WbxJftP1rndAhcDGxA810U4DvwOUBU9ghfPhD9Py4a6vOiTh1AQk2M90sBB0AAAABAD2AUQH0\\u002fNV7K1SlAC1oiSYICJUDjpZtEFdwwQIXrUbjetvk\\u002fMzMzMxONC0CYhv\\u002fc3k4WQAAAAACgmQFA\\u002f\\u002f\\u002f\\u002f\\u002f2jROUDq9Yy7WS8XQCwIw6xZnV5AGkhxiJp3tD+3M6PZqLPIP09S2F+TWbI\\u002fWCkU2Tz\\u002f0T8dSHGImnfEP0xImbENSs0\\u002fcXufqg5s+j8zCwDsTrr5PwAAAAB0nhpA78dVFi4j9T\\u002flxM19sNAKQLILp00nugBA0jN6ct4hPECIZFhGInAvQAU10b19IShAomh2n32f\\u002fT+XzrBdVrX3P7jOzDStcsk\\u002fy5s5kM0G3T8sAtA16NPcP3IBND67IvM\\u002f95qJI4cX4j+DtEQ8zWMxQH003whTDPE\\u002fBjVTFk1ByD8uaBYHnajXP3xoVheIots\\u002fK2gSVv5o9z8jBLJ7wuADQEIFfDcNDSRAAAAAAAChwz8AAAAA0D0gQAAAAACeFT9AAAAAAAAYxT8AAAAAAILUPwAAAACAJu0\\u002fAAAAAEAk5D8AAAAAANXLPwAAAACg9wxAAAAAAIAR1D8AAAAA0BMQQJsEMOAQkRFAKQgAAr4g3z9wBIDq7u\\u002fQP2cFgK5umQRAvgdAHJaG3T\\u002fNB4AYLsHNP2kH4DBSROw\\u002f94PE9sZcDkAyEica\\u002fpUaQAEAAABuZvA\\u002f\\u002fv\\u002f\\u002f\\u002f88FyD8AAAAAAJH9P\\u002f\\u002f\\u002f\\u002f\\u002f8DoyZAAAAAIAx\\u002fFUAAAAAAiH3+P4PA00U46xFAPYwgq4OSBUBX0vxfAPIDQPo0Axc9KfE\\u002fH0mhFBoFF0DmNVcOsQsRQCqTw+rWGQdATC8\\u002fgC7RCkAjlDL+dCQ0QE25D3mII+M\\u002fHhbkEMXZIED9tFrmF5vqP1IGfDcQfcc\\u002f070416Y2+D9rIvUXAS\\u002f2PzYSXl7Qkfo\\u002fMjq5ZYFY7D\\u002fQngFgsj8xQENczQS+SwVALzIOKx0vAUAYqCJXuac9QC6DlLvu2gRAxJvsGBVA9j9AWmTfGnnLP\\u002f\\u002f\\u002f\\u002f\\u002f\\u002fj8R1AAAAAAHLmP0DSR6N0pmEOQNfu9X0gW+I\\u002fQMs3Gz8y3D+bAa6btHIAQGEOQBbWMEBASs8ogUmC+T\\u002fjNWdsKpb7P43OHEydAdI\\u002fBpyxB9ja6D\\u002f8zuifUW4GQI6luOGV8\\u002fc\\u002fPdlBwYWeHkDl0CLbhwgVQEODawIZ5CJAA3xn4a2uPEASd\\u002ftcs9YDQCohhM2EUBVAsO3ZehPn4j9pLPiq9g3+P77ZvVBbfwdAPSHf5n7tFUDpkZ6ZqDQGQJ7vp8b7mhBAWhJz8O+AAEAo22sc\\u002frfmPxR09RuN\\u002fsI\\u002fKNtrHP631j\\u002fH02xNGlwYQNtLETZWF8c\\u002fHfDxz2ZTuT+ROLMDiMutP5g4swOIy70\\u002fWpTSaXePuz8m6TyhaUsdQDPG5WiVHMQ\\u002fbg3JuwKZ4T+IqvM7q+PhP8BatYVsyw9AYpeSLKFdCkAWV7UDLsD3P7DnKLiwHvg\\u002fKP04EElx6z9m8WH\\u002f2wbOPz8+hlwqtixAxSXCWDaFFECkI9Gvnqj1P9BRBM3dRd4\\u002fkOFqw9gvEUA=\"},\"type\":\"violin\",\"meanline\":{\"visible\":true},\"jitter\":0.05,\"points\":\"all\"},{\"legendgroup\":\"CT-Lymph-Nodes\",\"line\":{\"color\":\"lightseagreen\"},\"name\":\"CT-Lymph-Nodes\",\"pointpos\":0.25,\"scalegroup\":\"CT-Lymph-Nodes\",\"side\":\"negative\",\"y\":{\"dtype\":\"f8\",\"bdata\":\"AAAAAKEvIUC1yHaeikkSQFYOLXIzfFNAmG4SA2z78z9dukkMIJfUP+58PzXPSQBArBxaZHf92T9eukkMW7f\\u002fPzq0yHZ2f\\u002fc\\u002fCgIrh6Pv\\u002fT8X2c4314UJQBFYObRsBu4\\u002fwsqhxbCUCEDTTWJw2KkWQPzMTkFvUgZA9cyINsKjEkAuAJo\\u002fI70FQAAAAACgVBpAAAAAAMAeDEAAAAAAgEQIQAAAAADAYQ9AAAAAAGCnFkAAAAAAkGciQAAAAAAAuLA\\u002fAAAAAADwtD8AAAAAgKARQAAAAADgmhtAAAAAAKAsIEAAAAAAQJ0DQAAAAAAg2BFAAAAAACBrH0AAAAAAAEAAQAAAAAAAOL0\\u002fAAAAAAAAnj8AAAAAAIChPwAAAAAA4+c\\u002fAAAAAEDGDEAAAAAAmJ0\\u002fQAAAAAAAOfw\\u002fAAAAAEAKH0AAAAAAgHf3PwAAAACgMRBAAAAAAICm9T8AAAAAgJwAQAAAAAAAYK0\\u002fAAAAAAAGA0AAAAAAAMsGQAAAAACAeAFAgGq89LmBAEBI4XoUN\\u002foiQMP1KFxJrhNAkML1KIqgGUCamZmZK5sgQFK4HoX30xZAmpmZmYUFHkBxPQrX0Q4UQClcj8LluhtAzczMzH6wH0ApXI\\u002fCLS4NQD0K16OwvQZA4XoUrseiIUC5HoXrX0AbQArXo3B1nCdAhetRuEbII0CuR+G6ErpEQOtRuB6PZyJAehSuRzb3\\u002fT8fhesJV08YQClcj7KUFhVACtejMJLSEUAAAABgaab2P83MzGyuFARAAAAAADyEEkAAAAAAAJfjPwAAAACQXD1AAAAAAIDfGEAzMzMzM9EBQJqZmZmZt\\u002fs\\u002fMzMzM7PaMkBmM+VEV4wHQMOZXTd+7AJA1Zn1UPKrC0COZmQ2UZcSQC8AlkBFEwZAMAAfwJjqFUAAAAAA\\u002fBwOQD4AkFO4j\\u002fw\\u002fAAAAAMCeHkAAAAAAgFcZQAAAAABAAgNAAAAAAADr6T8AAAAAAKUJQAAAAAAAtvc\\u002fAAAAAICdDkAAAAAAsD0nQAAAAAAA+wNAAAAAAFD5IEAAAAAAwIQAQAAAAACAMP0\\u002fAAAAAAD04D8AAAAAAEv0PwAAAAAAv+g\\u002fAAAAAOiXAUAAAAAASLcOQAAAAACwQQNAZ2ZmZmZpBECamZmZmRHsP2dmZmZmVuI\\u002fAAAAAADQ1D9mZmZmZsa6P83MzMzMjQNAzczMzExEEEBmZmZm5oYpQJqZmZmZ8eo\\u002fMzMzMzP18T\\u002fNzMzMzGIHQDMzMzMz7fw\\u002fMzMzMzMr2z8zMzMzMxvmPzMzMzMzN+g\\u002fzczMzMyw6j\\u002fD9Shc348RQJZDi2yvjhNAku18P4XDBUAlAFAyWDIBQCYAqjQbAAJAKsCJWZWqE0A1AHZIVcToPypAHZl\\u002fhRNAJYD7cvZsEUArgC97vDoUQDQAq8fyfvg\\u002fN8CA64HOGUBDAIna0\\u002fEOQC4A+EDENMY\\u002fMmCKFExtJ0A3AKhN7IraP8zGh3\\u002fPZPw\\u002f7cxwnpzYCEC8GqEu4JQVQM5HQahNqMg\\u002feRBHunmqEUCrGCDGLtUSQGtjMIiC7jFAY2HfLRl5NUDNHK6aI+cJQJpqb6YwrBRA9CO9qolaJkCYaKXXIVP9P77EzBhnbhpA8fcbs+q+GkCcxCCw1M\\u002fxP4GVQwvC9hZAQDVeGs78GkCamZmZBa4AQGZmZmZOixBAmpmZmRnKzj8BAAAAbPwTQDAzMzOzWbc\\u002fAAAAAIYaGUAjqinTVRb1PxODwIoafAFAAAAAAJC9C0AAAAAAhNEIQAAAAAAotyFAjL64Of07FEAlBoEV1DL1P1YOLbJf1Os\\u002foBovPSMdG0Cyne+nwq\\u002fPP\\u002fT91Pg3jPs\\u002fO99PDQkgEEClm8Qg\\u002frX7P83MzMzsRPM\\u002fAAAAAADM+D\\u002fNzMzMTAvkP83MzMz4FApAAAAAAOBn9D9nZmZmdubhP2dmZmaWOeQ\\u002fNDMzMyN07j9nZmZmQkMKQGZmZmZmGtw\\u002fzczMzBzb6T8yMzMzo3z\\u002fPzMzMzOpSxBAObTIdr6Z9z9CYOXQomnwP9v5fmo8hv8\\u002fQmDl0CKg+D\\u002f8qfHSzXv2PwAAAACA4vU\\u002fAAAAAGClG0AAAAAAACMQQAAAAADAQBFAAAAAAAAi9z8AAAAAgAwAQElsPlJC\\u002fhJAAAAAAEALCUAAAAAA0EYUQAAAAADfygxA\\u002f\\u002f\\u002f\\u002f\\u002f7cMA0AAAAAAC7sPQAAAAIBwVxBAAAAAALkgCUAAAACAtYQYQAAAAAA\\u002fbwlAAAAAAO3UEkAAAAAAe28KQAAAAABBIAdAAAAAAGBw9T8AAACALMYeQAjXo3Ba6Mc\\u002fcD0K1z\\u002fgwD8VrkchA9v6P9ejcF1ttPc\\u002fKVyPEo\\u002fOCEBI4Xq0EUwUQGdmZqbOZOc\\u002fH4XrUX9z3D8J16PwOKvuP3sUrsew6Ok\\u002fpHA9enI\\u002fAUCtR+F6roHuP47C9cijRPE\\u002fCtej8C2O5j9SuB7FUCUAQB6F61HYJ+8\\u002f9ihcDxQg6j\\u002fsUbjuV6QEQEjhepSG9dM\\u002fAQAAAGA27j\\u002f\\u002f\\u002f\\u002f\\u002f\\u002fn8zvPwAAAAAAKP4\\u002fAAAAAMDQCUAAAAAAgET9PwAAAACAW\\u002fo\\u002fAAAAAADp8T8AAAAAABbsP5qZmZmZKe8\\u002fZmZmZmaK9z9nZmZmZi4DQJqZmZmZvQVAMzMzMzMD\\u002fD9nZmZm5hkXQDMzMzMzJgFAzczMzMz7B0DNzMzMTFUXQGZmZmZmrxBAzczMzEz9EUDNzMzMzEUcQAAAAACARxFAMzMzMzMvAUAzMzMzM6PYP83MzMzMLw1AAAAAAK4KGkDMzMzMnDP\\u002fP5qZmZnBBA9AzczMzPBWIUCamZmZzQUuQDMzM3Ol0EFAzczMzPwdDEBmZmZm5n7wP2hmZmYmy+4\\u002fZ2ZmZsYkDkCamZmZwW8yQGdmZmYGcvI\\u002fAAAAAHAvFkBlZmZmho0NQJqZmZmJiilAzczMzJ88QUAAAAAAiCoVQGdmZmasKjpAAAAAAKD2\\u002fz+amZmZmXrfP5uTFOkd+BBA\\u002fXRjmy6k7D\\u002fcxAj1ayvtP52Ptg0dhfw\\u002fZwoHshxr4j9WLaJIT8gvQLhszYVdEARAIdFS53ak6j9B2XrLCrbyP0sE5kDtW+Y\\u002faGZmZv5DAUBnZmZmJJARQLbz\\u002fdRC7eU\\u002fmD1amafIB0CDjYsJIMb+P27hfo3GJwdAFFQjwk6N8D9G2conwjP8Pz4tZr601fs\\u002fONezCa6m+z+DZC+8FZYIQAAAAACOABRADXyvmG8SJ0ASe2Jt\\u002f2oNQHG22RhvOitAMzMzMyOEBkDXo3B9hmQEQHsUrsdGXgxAw\\u002fUonCtuFkBcj8L\\u002fszZqQLgehfu9KyNAKVyPorlrIEAAAAAAQHggQEWwUk\\u002fRofc\\u002fyfD7LwRZKUAvWG+SFXsEQHhkKwk8qgNAvMJHcCVoHUACeauxeE0OQMRwvXeHLsY\\u002fMgCwRCh65z9iMyNACOzlP18zFzzuifQ\\u002fbTMHTnar+j89B8A7ZpoLQHYEQOl2A\\u002fE\\u002fRgeAOY69+z8vByA\\u002fqmULQFYGAHR+KwhAPwgA\\u002fd1u\\u002fz+uBKDbWtgBQLYF9BrayjVAsgSA2u7pEUBNBjB2UAkoQEgGoHfa8gdA4XoUriejE0B9PzVeOlDOPxfZzvfPJgVAa7x0kwQYHEA+CtfjsVxGQIEB+FYAkhJAfwG+lz98IkBVQr4x+M88QFgCJxi2\\u002fBxAYAEjBYcDEUDhAZLsdDoHQJdBEEWWqDNAbQHCH8+aIUDHAcA3BwDWP\\u002fcBYCIzWShAOwI7peOMG0A7ACysGUr+P3IK\\u002f4DYY\\u002fs\\u002fBnsGZSj\\u002fAkAAAAAAgOYUQAAAAAAAGvk\\u002fMzMzMzN4DEBmZmZmZnD5P2dmZmZmjxhAMzMzM7OlJEBmZmZmZlj2PwAAAADAXNU\\u002fGACIpyAx5T8TAESF1pfwPx8AEL2Cd\\u002f0\\u002fDJx525829z8pIUSlKCIXQLJoplDKytU\\u002fSJJCW6Oqyz\\u002faVABv1LwLQIU9A9T75hJAAydpT9kg6D8AAAAAQO7sPwAAAADgnuc\\u002fdZMYBAneJUA+Ctdj5KAQQHsUrkcrih1AvXSTSBdvIEBGtvO9GPIAQOj7qXHfHPQ\\u002fokW2k8GuJkAxCKwcJqQPQFKzTY7j5RNAgaYkNlPCEECGZn7MY5\\u002fkP05zHLabxRBAXgp7noq8EEDFwrZldv8bQAEAAABsCxBACNfs5V2KFkAxBP2Q+UgQQPrOo0OP9\\u002fU\\u002fAAAAAADz8j8AAAAAOq4SQAAAAACmyx9AAAAAAP2ELkAAAAAAfAIIQAAAAAC41B1AAAAAAHSSDEAAAAAAlnsRQAEAAACs9QJAAAAAAMxGCkAAAAAAUMTyPwEAAADEPxFAAQAAAOwNCkAAAAAAeK\\u002f+PwAAAACAQxRAAAAAAICK7T8AAAAAgCXpPwAAAACYVwBAAAAAACBrAEAAAAAAAM\\u002fsPwAAAABwqwFAmpmZmfkAAUBPM2hPtVoVQIBmetO1kBNAw5kDuGqiD0AVAACs63PiP7gehWuWM\\u002fw\\u002fLbKd734X4z\\u002fP91NjQikTQBWuR5Wz9k9AvXSTUCLZRECmm8SQMyM1QM3MzMyM9+w\\u002fCXvcILvjFUDGmWnz6ov3P\\u002f7OyT4O6gNAI9MN4ibu6j9EsMJqZ83iPywp7M1c0+0\\u002fXQj0K9PX9z8Y\\u002fpzvMajjPzVY2ZdnTeQ\\u002fdDc14VvzBUBpXt4UG9T7P6wUekZ05\\u002fo\\u002fGn+o4R8BAkDDQ7v7\\u002fALZP8DEHPgriwNANa57kkO\\u002f8T8AAAAAiuIVQAAAAACIrfA\\u002fAAAAAMAs7T8NJ03l+3H4P3u43k\\u002f3sdw\\u002fypss46JpCEAzMzMzc0cwQGZmZmZm5vI\\u002fzczMzMwg+j9nZmZm5mYYQJqZmZmZA\\u002fs\\u002fAAAAAPhMIkDNzMzMLO8DQM3MzMzsyxxAzczMzMwCCEAAAAAAWJ8YQM3MzMysHQVAZmZmZr5tH0CamZmZEeARQM3MzMxMMdk\\u002fzczMzPw+EUCamZmZCUAaQM3MzMycrwdAmpmZmVn\\u002f\\u002fD+amZmZubgDQJqZmZnZ7Pk\\u002fmpmZmbks\\u002fT+amZmZgVESQGhmZma+FRRA1ZlJUajI+z\\u002fVmblR8O77PzMzMzP75QZAzczMzMzYAEAzMzMzMzUEQAAAAAAAvv0\\u002fZ2ZmZmaQGkAAAAAAAKjmPwAAAAAAAeM\\u002fAAAAAACM2T8AAAAAAO3sPwAAAAAA6Nc\\u002fAAAAAHyRNUAAAAAAphgRQJqZmZm4vCFAMzMzM28eAUAAAAAAK5cjQM3MzMyEuvs\\u002fAAAAAGAxFEA8ANBRmPb7PykAf7ZooPI\\u002fMYBHg\\u002fD+BkBD3N6MLA9fQAAAAAAA7Ng\\u002fAAAAAADu2z8JThI4njLtP2u8dBN9e\\u002f8\\u002fihgEVl46qz8dWmQ7GTD0P42XbhKKQOQ\\u002ftx6F63dL0D9vEoMAi5oQQJuZmZlpXv0\\u002fzczMzJhwLUCamZmZFUYPQAAAAACwJvg\\u002fmpmZmcVtCECamZmZlegDQM3MzMwUoARAzJlFRMpVB0C+mZk2gKmyP\\u002fbMqjhhXhNA\\u002fsyQQn7A9j82ADZKdV0JQFoz3zRKEvI\\u002fXjPbPOzM9D8yAJxCUsT2P8uZJsOx8xZAxJmpOXi10z89AMBVIE\\u002fNPzYAYErQa8k\\u002fy6FFtqG\\u002fFkBU46WbLBIUQL6fGi\\u002fda7k\\u002f3SQGgdkVBEC6QvcYLCI4QDwAAFQAtrw\\u002feDM7XbzdD0C+mTkysCrBP5VmZkAAA9Y\\u002fOgCAUMCDyz8MzcRYRFfuPyEAADGAv8A\\u002f78yMNaBNsj+2mRnKv8rpP2+PJkMM3gBAR1zLLLCQ+z+swt0tYg37P4XrUbguMvs\\u002fl0OLbNW8PECC61G4nrS4P3NokW271DRADi2yHQodOED2KFyPYIAWQMdLN4lpawJAMzMzM7MK0D+amZmZWaD1PxEpXBJN7a8\\u002fMq4HowbUuz+AjwIQLdnOP3GPovKcXeE\\u002f\\u002flG4xpm1tD8RKVwSTe2vPwAAAADRiCFAAAAAADaRE0AAAACA1y40QP\\u002f\\u002f\\u002f\\u002f+f+9Y\\u002fw3ANl56H8j8mAJY5oe4FQLPCcc\\u002fTgQRA+fVs7f\\u002fs\\u002fz\\u002flHqV3YxH6P5wUsv7SABNAo5TUTOKcKUD4o32xMS8VQJ\\u002friwl6rRBACHg93PTdF0DhyBU4OmYEQGJ53SnRORxANgD3yexH+T8sAGA80KL0Py8A7j\\u002fZ2fU\\u002fJwCKNatMAkBdM+C5IcgTQNWZZVE60vs\\u002fLACGPU0HBUCnZlPYgTAeQNuZFVfiww1A2JkrVWccHUBhM0M\\u002feJ\\u002fVP3Iz0tVYVR1AjGbgMzO7AUAyAPpD8zsHQG4z\\u002f0+6V\\u002fs\\u002fjGZGM5CG0T\\u002f1zGw2MJriPyQA+DLEa\\u002fE\\u002fBM0+THcPCkAngwASFCITQK6Z5wtEHANAWGChLnYlBUCeFiJOfkMVQG24ND2KAwlAUApWcOqTEUBAhffJAEIPQAAAAAAIsvM\\u002fmpmZme6VGUBnZmbmOkr6P5qZmdkgCwJAAAAAQDJeA0AAAAAAQ1oOQEik9UdHnfw\\u002fIKgeyOyxOUATM9BmFxcGQM3MzMyMsOU\\u002fuKowMICHAkAAAAAAUAQIQGhmZmZ+oxlAPgrXo0AF4T+3HoXrMfPcPzMzMzMzhNw\\u002fYjdV3fXXBEDZy0ZNfnIhQOP3E5QUngNA4Us6fZJAGUA1rjycaBY\\u002fQP17J3SxcyRAmpZmFi4+IUCul04jIKMeQNtJTaBIGh9Ayp5qW+2LMEBU46WbOtoSQDx6j9iz4ghAyLHDT4SaBEAAAAAAAP\\u002f4PwAAAACQwQpAAAAAAAzdAED+\\u002f\\u002f\\u002f\\u002fvwHBPwAAAADKkhhAKVyPwiVF7D+a5oX9WGwVQJbm1oM+YwNAlObmhRa5AkBBgG\\u002ftkJsaQBPNESXDTf0\\u002fMzMzM3JzG0A+AMhT3KLsPzdAAizF+hlAKgAKOet+8z8qQOWYW3ITQDIAQETgU\\u002fc\\u002fZmZmZsNoOECZmZmZvf4AQDMzMzPX4wJAmpmZmU3TAkCamZmZYXsHQAAAAACTuhFAAAAAAFtqAkAAAAAAcRkBQAAAAAAJ+h9AAAAAAOAbCEDwp8ZLN1PaP6JFtvP9MNY\\u002fZDvfT43t0j\\u002fy0k1inJIyQBOozAFsghdAGVIGwf\\u002fiHUArqi2BebQPQDGu9kY5GhNAZQxiR2OD4j9\\u002fukkpPJ6aP9IexXNQn7M\\u002fw3JoGWBhoD9344Q3IOYWQDuuc7cybwlAtJeWXsaYCkAxAxFrSHVEQBeBlRyMbaI\\u002fIyzZ9h29MUB4j8IfuHmUP9NycgdLtidA9U1oq7LTRkDORY5Nl14tQDbX5zJSYf0\\u002fL4I7GtxbJ0A\\u002fG3JWr7FBQCrYAVtI+yBA7yIVmPSuJEA\\u002fWoIgeq0GQNhITfhY1SdABvoNgNZmHEAAo10+XC4vQH0\\u002fNT4JyRNAQ2DlkE89DkD\\u002f\\u002f\\u002f8\\u002ff90PQARWDi02UcU\\u002ffT81ljnVPkDqJjF4fK8jQO58P+3+bjNAZ2ZmZlYW5z\\u002fhehSuwxXiP8P1KDxKoSBAoKwZ2S6AlT+t1TiwkNcZQIFKbO+d7RhAaDPrRmQ9+D+UZnm9\\u002fgIVQAAAAEBs6gNA\\u002f\\u002f\\u002f\\u002fD7cdK0AAAADgc5ohQAAAAMCORwRA\\u002f\\u002f\\u002f\\u002fn7yEHkAAAADAIAcIQAAAACAgWhBAAAAAAHx\\u002fCEAAAAAAAPruPwAAAAAAMKY\\u002fAAAAAICZ8z9WOEMnZ5QAQGAHEKjnz\\u002fc\\u002fAAAAAAA2wD8AAAAA4Hn5PwAAAAAwjw1AAAAAAPDmHkAAAAAAjL0gQAAAAACAC9U\\u002fAAAAAABX1z8AAAAAAEz9PwAAAAAw3gRAAAAAAADi3T8AAAAAQE\\u002fhPwAAAADgCPc\\u002fAAAAAHARCkAzMzODWVAlQB+F61Fh5Ps\\u002fAyuHFqv57T9NN4mBE5gDQDMzM5NOTBJAGy\\u002fdZElxAEDzzGozAZMBQKVmJlegyQ1AwZmlMxqn8T9cM4k45VITQDoA+E7E\\u002ffo\\u002f+MyoPLK79D9bM582aqvyP3Azu1L8Ruw\\u002f1Zm5UfDu6z\\u002f2zJw4mFnjP7yZ1S4CAvA\\u002f8Mz4L4pl8D+QZhI5yoHzP9uZmVkAoN4\\u002fzZk9Rg4C+D\\u002f0zKw0EAHyP+\\u002fM7DLwZ8E\\u002fNwDwSYhF+T8sAHw8Yqz0P1szDzey0QJAOgBQTljECkDWmUFT7HTsP76ZeTCQkeA\\u002fmWamRWDO9z\\u002fSmSFN\\u002fFzqP9KZeUyQI\\u002fo\\u002fjmauNRxZAkDcmZFbREz\\u002fP6pmglySnv8\\u002fBs3sTvD5+j\\u002fImTM+o0IFQJmZmZk5rO0\\u002fzczMzKxj8j\\u002fNzMzMBHH5PzMzMzPvngJAZ2ZmZtbO4T8AAAAAqIL0PzMzMzOvogVAMzMzMyPF5T8zMzMz04kJQM3MzMyMc+A\\u002fzczMzIzJ6j8zMzMzM5LRPwAAAAAA89I\\u002fZmZmZmaH2j9nZmZmFtrqP5qZmZlZG+A\\u002fmpmZmdkG7T8AAAAAgEEHQJqZmZnRXwdAZ2ZmZp7cAUBSM8syVFT1P9VHvdv7xfs\\u002fJAB4PGRk+T\\u002fLR5nJ3SfkPwt7hOEhM94\\u002fd48iYIPe8j\\u002fcHmGjSJv5P4GPQnDzo+k\\u002f\\u002f\\u002f\\u002f\\u002f\\u002f0hJKED6egKTlYwBQIg9Fp0KwABAVAr\\u002fxghZ8D\\u002fIR4gIVqYRQG44RUT3UiRAVQr\\u002fxghZAEAsrhsHWBUAQL2ZyRbgDwlAZ+HxHLMEFkBMXD+GsrH4PwtSugLbJQdApxROKsOL\\u002fz8HUiCkudfzP4o9PM0iCxJAZmZmZmZu9T9mZmZmZpDxP2ZmZmbmViNAZmZmZmYfAECYbhKDGIgVQPhT46Wb9u8\\u002fF9nO90NfA0DNzMzMeIcjQM3MzMwM6fo\\u002fZ2ZmZoZDB0AAAAAAALHuP5qZmZk59ARA\\u002f\\u002f\\u002f\\u002f\\u002f7ObJkAAAAAAoPoGQGwzk05Q2\\u002fo\\u002fk2ZaPOag9D+ZZgJE0j73P76Z6TDYt+A\\u002fuXCFb6Ui9D+vmWnZ93YSQNAezZ7YAgZAWuGCDl+O8T9CXEc42hHmP50UGvMErA5AcI\\u002faQGr34T\\u002fhzJDZNWTyP6TrJdHnfhlAAAAAAD+9BEAAAAAAPmQJQAAAAAD4J9M\\u002fAQAAANzB7T8AAAAAdOnpPwEAAAAsmPk\\u002fAgAAALoE\\u002fz8AAAAAqJPpPxHTuUcXyvo\\u002fo2zvn08q9D\\u002fSHqF382EmQBysTBs8kfA\\u002fFarEslTJFUByjVvucAz9P3lk79+hGPs\\u002fYQxa4Qcc5D+g6xGttG3nP42TsLngq+U\\u002fgmYizVsO+D+DPaSxpQAQQCDVIECX+vw\\u002fSod8DpbWCkCCko11VN8gQNd0s2yzBPA\\u002fH6jWdxVF7D8eK1OELmjwP8GZp6PXzgdAqxT6Zw95\\u002fD8T0Yqy0zT7P+h0k6OQXglAtO0KNAYGBUAAAAAAACTyPzMzMzMz9+U\\u002fMzMzM1NCCEBnZmZm5k8MQAAAAACAiu0\\u002faGZmZtZtBUBoZmZmvrMaQAAAAACwFQpAMzMzMxMk+D9mZmZmVvAAQJqZmZlpZAJAZWZmZob4\\u002fj8zMzMzEyT4P5qZmZmZ8+8\\u002faGZmZhYFBkArAP47UYEEQGgzI0eIUOg\\u002f2JlZVKDU\\u002fD\\u002fZmeFVnFr9P8aZ2TvgdARABc2ETGQn6j92M2Na6OTeP2sz80ug9dk\\u002fJgDSMUcHAUD3zP44F3sjQItmZjIAOuE\\u002fx5nqvC\\u002fSFEAgsHJo2+IjQEjhehTOtPc\\u002fVOOlm6hEAEAxCKwcFrIPQBWuR+EAUztAVOOlO6FbUEBANV56IbFfQAaBlUNLJ+w\\u002fVg4tsqIjIkDufD81GjoZQK5H4XrU+Q9AiUFg5cplEkAv3SQGhVUBQIts5\\u002fuJ\\u002fOQ\\u002fMQisHAF+I0ANAiuHwt4JQC\\u002fdJAal7QVA+X5qvGOJKECCwMqh3nI\\u002fQHe+nxrvrvo\\u002fQmDl0FqQCkBvEoPASvbsP3WTGATaHw5A\\u002fanx0lGvCEDVeOkm1W0DQAAAAAAI+xpAAAAAAEBx7D8BAAAATBAnQAAAAADQrgJAAAAAAKhfEUAAAACA1GM3QAAAAACgPug\\u002fAQAAAOyBAEAAAAAACJ8AQAAAAAD0eBRAAAAAAMhM+z8AAAAAgK\\u002fbP6AV7b03YTFAAAAAAJvcKUAAAACAbYk1QAAAAIADcTVAAAAAAEDcD0AAAAAAdIAPQAAAAAAwAwNA\\u002f\\u002f\\u002f\\u002f\\u002fyMFA0AAAAAAqGAFQP\\u002f\\u002f\\u002f\\u002f\\u002fYoipAAAAAAECPB0AAAAAA4Iz6PwAAAAD2QRhAAAAAAPBaFEAAAAAAfvwhQAAAAAC8mAlAAQAAACzmEED\\u002f\\u002f\\u002f\\u002f\\u002fGM4oQAAAAADmICdA\\u002f\\u002f\\u002f\\u002f\\u002f1\\u002fv1D8AAAAAhVElQAAAAAAgRwZAAAAAAAAFtD8AAACA3\\u002fk0QEkzNyfW\\u002f\\u002fE\\u002fTfOazh5kFUBXM6dBPiLuP34GzZuaGjRAVTP7PcxyDECwGRlqhVITQLAZcuhekCJAHwAzumi2+j8fhetRllTwP2dmZmZyRPg\\u002fFa5H4S6i5j+amZmZZfwGQM3MzMw06v4\\u002fMzMzM0fx4z8fhetRCFblPz4K16OkC\\u002fM\\u002fXI\\u002fC9aBd6j9bj8L1kMPYPwrXo3DrufM\\u002fuB6F61VK4D8zMzMzs3\\u002fwP2ZmZmZqoABAMzMzMyOx6z8zMzMzs7r0P83MzMwsz+Y\\u002fZ2ZmZhaS9D8zMzMzM2\\u002fsP5qZmZmZy\\u002f8\\u002fag7tjxOm4j9jM6tBBHLmPwZNXQ7kyCpAAAAAAABc\\u002fD8AAAAAgEzwPwAAAACAx\\u002fI\\u002fAAAAAAC48D8AAAAAwDAEQAAAAACADwFAAAAAAIBXCUAAAAAAAArkPwAAAACAuvA\\u002fAAAAAICz\\u002fD8AAAAAgKwEQAAAAAAAVvg\\u002fAAAAAIAK9j8AAAAAgIT5PwAAAAAA2us\\u002fAAAAAIAV9T8AAAAAwCEuQAAAAACAAQVAAAAAAIC6AEAAAAAAaLlAQAAAAAAAHfA\\u002fAAAAAAAo6T8AAAAAADHlPwAAAAAAQug\\u002fAAAAAAAC\\u002fD8AAAAAACLwPwAAAACA8QBAAAAAAMDYBkAAAAAAADzkP5CII\\u002fxkstY\\u002fGxmAwaaF7j8AvZ4uGdveP\\u002fA\\u002fklxid+A\\u002fPhkODQFzzz8XknYEIwbSP5hKVcHyNeM\\u002fPQPCyRxT5T+cxCCwUs\\u002fsPyuHFtkOQAJAAAAAAICEDkAAAAAAFG0wQAAAAACkSTJAZ2ZmZgbaC0BnZmZm5lQIQAAAAABAcfg\\u002fZ2ZmZkYl\\u002fj8zMzMz01jxP83MzMzMBeE\\u002fmpmZmZmq7D9mZmZmZpr8PwAAAADAMQ1AAAAAAMB1D0AAAAAAADDmPwAAAADAYQVAAAAAACCUFEAAAAAAQAgCQA==\"},\"type\":\"violin\",\"meanline\":{\"visible\":true},\"jitter\":0.05,\"points\":\"all\"},{\"legendgroup\":\"Task06_Lung\",\"line\":{\"color\":\"lightseagreen\"},\"name\":\"Task06_Lung\",\"pointpos\":0.25,\"scalegroup\":\"Task06_Lung\",\"side\":\"negative\",\"y\":{\"dtype\":\"f8\",\"bdata\":\"AAAAANhoE0DNzMxMR970P83M3PtPMfc\\u002f+FOdDjkk9T8AAACgDHgcQGkEnGz5zhBAgvvA07ldVkB9BADGmoSKP0QEN5LBXChAIo4yT3oiP0Bv0+yjetjxP89UmVg5fxRAAAAAAN8OIUAbL93kP1oGQEEmUYn3jE1AsG1GgUKfE0BISm3sNVEPQADg3\\u002f8qNjZA\\u002ff\\u002f\\u002f7cEcbz8A+AaW1EU9QLCAKX\\u002fQ5XA\\u002fzqBSI53qYkDNHTCydfQLQGd8sSissVFAkUco4d1hQEC\\u002fJJNANGMsQADg2FETJyBA9v8fr8CEqD8AAAAAAHXyPwAAAACg3BRAbc2VjUWtT0CzgIOTtBQYQIKHiz0XpQZAAAA4j200KUABQJWMuHEZQAHg\\u002fXjvLCRAfT813osjFEAxCKwcdz8FQAAAAADQWChAAMBU4Rcmd0ApWyGoYU8aQKaQLeMdlDxAAAAAAIAXE0DNTOQUq67pPwKwZYQG\\u002fPg\\u002fmplBn2py+D\\u002fir5pTrPwTQGY2+lbltFZAntZOuuy3RED16JT+GX4fQMk\\u002fSCn+oOo\\u002faqA62q\\u002fNAUCaWRB\\u002f7Oj6P5sHHyB37iJAMzMzMzPBO0DzqfHSjTemPwAAAOBKpyZArKxuBiOoFkCKNh2QBpgJQKVJ+ly4mPI\\u002fCCpzmFjNB0AAAACg+U\\u002f2PwDwNDvSDDFA\\u002fP+\\u002ffEvJrD\\u002f\\u002f\\u002fzdFrozaPwBQ2zilRT9A8GC65X4YDED\\u002f\\u002f0mQYfMBQBv8y9By5BBAeOtUlYyb5z8=\"},\"type\":\"violin\",\"meanline\":{\"visible\":true},\"jitter\":0.05,\"points\":\"all\"},{\"legendgroup\":\"Task07_Pancreas\",\"line\":{\"color\":\"lightseagreen\"},\"name\":\"Task07_Pancreas\",\"pointpos\":0.25,\"scalegroup\":\"Task07_Pancreas\",\"side\":\"negative\",\"y\":{\"dtype\":\"f8\",\"bdata\":\"sB3fPkUpO0BJb0amhZZDQHU1CUlvaR5AU5oCpFE7K0D9hFK49QVTQPZFwcfGQCpAekCTsdZmIEDSHL74tvEjQC8aK+tc\\u002fCBADgLi2CpkGUAIfRQHiMHJP9WvD5tZ1iRAAmcPcQTCOEB5KXUntB0gQIXrUbges\\u002f8\\u002fAAAAAMB9\\u002fD9LAFQHhgsQQLYsaNQHkxZAymmiaOmBFkC9KtbrT0kjQOaVgxk0LABA8M\\u002feFyMaOkDfa1yUeVMFQMP1KFzP7hZA5QY4UfNKGkDhnxlp0UYEQFUChjkm1hxA64WUVTHjDkCEULAKYIYQQCnVoGAJ\\u002fSpAj+N+WA0IBkAAAAAAsM8OQAAAAACw2\\u002f8\\u002fgs1zwjjoHEA5NWN71JXoP1Rpbh1kLQtACppDWYZT9z8dO9PGHYr5P1uegXctn\\u002f8\\u002fZ2ZmZpI7HECSQ6cgHisjQA6cQfoF+xRAzczMzAx7BkCKZ4e8UfMgQIwCtJQ8QSVAnmhQrrEEGUAAAAAA4MkzQDtwDvzAcypAAAAAAADGC0CMACBn\\u002fOHyP2WbQa\\u002ffrxBApHA9CuPDH0BhNbmASycYQAAAAADgZBBAHxbahCOpJ0CQwvUoDBgaQJXYjJUltS9AcwTg6bL58D+\\u002f7KskPsogQHc4la7EliVAzHMGfM6A\\u002fT\\u002fMiV1CVGsFQLNt4mAKc\\u002fw\\u002fHTzT8Ml1\\u002fj8wAqjZMyYFQCACMCZxzRVAR+SCyN6Q\\u002fT\\u002fNBADUfk8SQOoEIM3quvI\\u002fOgU0OTLyI0DD9ShczwceQGnNODdhwghA+gVAitbPJkBJzUZicJ7xPwAAAAC8BxZA6wTM+vgWDkDYNiNJ4lsBQFDscUGNtO4\\u002foG1VRKuUDkB\\u002fAZQgitsAQBNx3eisavQ\\u002fwSEl9qhs2j\\u002fnC0A1Wjj6P6rUPLuEmwBA+QBaGNY9\\u002fD9egFZizB0wQAD5qD9o2xxAAAAAACC2IEB4RLP2YlArQEm4i+pmYB9AeXHijeJkKEABXiNt5ewFQIQGqGi93BhAE5qvxyllG0BgVwgQsmgQQDZNqqQJyRdAAQAAANyMJUAasNjcCBlIQJhyMUPb1SRAFNR0olB\\u002fJ0BEbZ4tnIf4PzGFFmvvFzJArTYb4S0dF0BUXrBrrYskQPMZxH\\u002f+p\\u002fQ\\u002fzQgA+sFpDEC8nJH9I9IkQHTyWYFjt0NALs+IBr8FF0CWSqboYv0uQNLoSo4uhBNAwcG2p+CVKkAOgrmRHTAxQNkzW4N6bhdAIdRQUzVHPkBXuYSPO74jQAAAAADkxBRAJwRcN1doCUBc5uqOFi0iQNicnctJiw1AI2gCGT47A0BVmuNPkWgLQMUBQrO0\\u002fjJAAAAAAICBFUDV\\u002f982UIsdQKUujVvpoyJANdOgzN3pIUBU7T9SPSYXQLxzSMbuWCZAhetRuJ5pCECpBMDcxsYRQOAVPiZqLBJANjY1SEsFIEBNA8AgaawYQEpr3qxSBvM\\u002fqNsYHsO6HEDnuFsFv109QBgMC7TZxANAMTU69lx9RkBOaf4a+vH6PwAAAABOblFAXICUQd4fMkDBtGfm4lgDQADuD7n3k2FAAAAAACATAkBuBkhu2YQYQLBXlo8eJABALmRPYjW66z8AAAAAgJInQNBmjYWNixhA5mm2vAQ0HUCUK4CYVngAQJkBIE3bpgNAXU3ABHioF0AToEjVS4AQQPYcav\\u002fXkGFAAAAAAOg2IUAT57KkXUkXQN7y+MQahSlAAAAAACBNFUD+xVPxQd5WQNoZrewa44ZA+NNvxCs6I0AAAAAA4MoFQAAAAAAA2xhAsLkGNyWzJECwBYicMbIVQGQ6OMOmCjdA5tFY26yACEDkBh6fWKEYQAY2wW9p4y9A8ny\\u002fru8CIkAkDdGOUw4cQOgCPhz3yBhAgdBwTiieCECgy2VPUksKQDGhkbSugxhAxmzVnsQwLUC\\u002fuI3E5OEXQCI2OU6jehNANND8SzOc7z8rNiFLcroTQK5H4Xo8RQxAV76uZ5A3JkCG8NaHN9oLQAygeVNfjhVAbADu78qE9D8AAAAAgEA1QPFqGVdSSQdA30eq8Xv19z9pADUJ4AICQGdowjkIMwJABgXwxTgrI0C\\u002fNosSSscEQIwgX+J6eyNAAAAAAPCLIECqczY9jz4sQAeWPiIm3h5AzM5YxxmuEEB2pVmRRez\\u002fPyydedmSugdAYAZQscQoAUBH4XoU9sULQJizS8W8tyZAgwJY5bMNH0AiIFAslBYyQLeA9Nr2WC5A0gUa8s39+z8X6VprW3NDQCSt\\u002f4tOq0NAAAAAALo9UkDih5sYrTL6P4cFYKZiGBVACDpLmQNkEkBxHa4XkXAVQE41i+0l8xFASOF6FD6UGUC1RTMSc6AAQJYANe8oNBVA7xditBw+IUBv8Vlvk0TtPzjVOGSyMCtAF0GT69iqCUAsPgVog2IZQLvFn+Y3nh5AXjU3ojgzBkAAAAAAkOXxP\\u002f\\u002f\\u002f\\u002f\\u002f8zXB5AUrgehevTLkAIaZQs+cUuQAEQ11snffw\\u002fXdE0cQwlDUDcBcCRploGQMibWTYnN\\u002fI\\u002fpaARle9w+z\\u002fgaPZkaFEAQFtDR1oT7h5AU7gehQNsDUDWo3A9pokdQN0EB58+ww1AcXDm8C0GC0CaxCmxSN8XQNxNyxjhFPc\\u002fdsBeosBF5D8yP8M58G0KQCArjEXrt+s\\u002fDEJLUmklDkA9oalqn9IAQJps8dKTQRRABFQxAh3CE0CEqf78pGsFQHSEyTJFMhVAAAAAAACgAkAAAAAAaAceQAAAAACTrTxAzczMzAwjTkCebG6\\u002f8mETQGXt68ekWSZAHAZIgllMF0CzNR+8vUZiQCcH0EBMSztAlgh215rmMkATbYZ\\u002fLYkVQAAAAABQtSRAuB6F61H2KECw1XitLOsnQI2bw4gVwCFABLs6VF0gC0DiLM2+PjYkQHufGVIx\\u002fPI\\u002fK9mD5nEuFEAAAAAA4Or\\u002fPwAAAACAcAlAcj0K13udAUBeBWCwInwEQPhmKpQ5ywlAv2DYio2JNkCLaUowBSUZQAZbafWQpRRARNY8IGyPLkBv0Mw94SfrPyjTquzDQRxAG93fW9maQUA=\"},\"type\":\"violin\",\"meanline\":{\"visible\":true},\"jitter\":0.05,\"points\":\"all\"},{\"legendgroup\":\"Task08_HepaticVessel\",\"line\":{\"color\":\"lightseagreen\"},\"name\":\"Task08_HepaticVessel\",\"pointpos\":0.25,\"scalegroup\":\"Task08_HepaticVessel\",\"side\":\"negative\",\"y\":{\"dtype\":\"f8\",\"bdata\":\"7JoZmxDMAUAf+mcMaNk9QIEGLwmA1FhA6wTfbOK+UkAs\\u002ffj56yqFQHsUrkehRRVAq2HzqS9kQkAAAAAAQAEeQG8Po2K6MGVA2Q+d3NdAVEAbhPXGrwBtQPK2FYY5NUVAAAAAADADQ0DJXehPWkEbQLVKliO3gp1A5i88QALnmUCkcD0KN6EzQIGosEvjBs8\\u002fdrvB0PtuZEDyjWzfJ\\u002fq1PwtTrYJi89k\\u002f7DyzAa4p+j\\u002fUaPbuLP\\u002ftPyt1w+Th+BxAyAHS9wz+FUDINMtdiDwAQOt7pE92CRpAiWd7doGTHEBaNNOtEe68P5grHPYk5vc\\u002fAAAAAMDJ8j8AAAAAoEHiPwAAAAAgIfA\\u002fAAAAAIDnH0D5WpBhYXIXQKNt7qfrviJArkfhekQeDEAK16NwRYkUQL\\u002fZ92LfIts\\u002fW2z7SAvv8z\\u002fxxJ\\u002fCAEKQPxydw9OR8tI\\u002f3jBcKH25wz8nDKD7eW4FQB9w5mIuJeE\\u002fzczMzKzGW0BWqhyHku1CQNUGIFXqDVpAoTTCuUMkQEC7a5AnprNHQHCo0484N0pA3EW8KeFahkCcBuBiEjcJQA8GQIX2HQdACgUAcd7Y3j\\u002fhA1zX6XvyPx0EDC46jgNAmlKzwsbVG0CU3AoCtTsQQIqdoMlGtyZAlbC0auoo+z\\u002f1FBjsNg\\u002f9P7K86hCW5PA\\u002flwy6sUIA4j8FF5nNCR6\\u002fP1yRUAaCZTdAcAYgbkqHGECbfi8kvzVQQIeXoh86KSVAs7JKpKOFUEAzBwr+oXZLQGkF4K0yowRAJAhAAzYNH0CjEW+qHb9IQAkGqIb9BydAslqNZixIjECEhvgZIYlhQIk3JUaznXNAukoEdQ3QdECMPvrLyY5eQMAKaXm7L5xAtNR8d+tqIUD1BFWqjuZiQAAAAACAdydAhITvO2eFYkDDkevDGQndP3jhnX6l80dAihzuHMeD8j+FE9ePNlHlP2fUzPVEddE\\u002fAAAAAKK7R0AUBjJEcS5HQPYoXI\\u002fSszVAAQAAAEyzK0AAAAAAAKvyP34p7uFQkwRAPuxqE\\u002fD4C0BltuGIm6g6QJfL6GHtn1pAUVFIYFlsOUB3Kcqnhf3yPwiBXjPDeHVAiE4sPGUstT+qIC\\u002f7K6W6P5U+1DufE9c\\u002fcCqVvSTpGkCuuiKoDs4GQFzPZtNr6TxA2AHeBa\\u002fFNECyAkAieXjuP8gF3XbBCkZAJ+yCo\\u002fW4BEBgDVB3U7keQOfWjHxsM\\u002fc\\u002fAAAAABBSE0AAAAAAVClAQAtq1q1qhuE\\u002fxZD7NgxjH0DPN30NVSYGQJrdsEIxPSNArF8eFC3eAEBZnMNiOJQ\\u002fQJCvtwJyEvE\\u002figdP\\u002f\\u002fzOS0AxhweV0M8XQDfEjOdTADNAFGg2hOuc8z\\u002fBpdhM1HMGQFQlXq0aYEFAGVKUz8Gh1D9A01piFEbnP811FbV2nuI\\u002fZrmwY89iAEBO2coscyrwPzVgzxHVZ1FAG\\u002fgYuUl1+z8XsKeeGonnPzXtsSniyeM\\u002fps4sZH6p5T\\u002fIkAKHiqDgP4eVRLj6Q0NAJDVHuT7kI0BGm5FU7CjxPz5wZtNhrsU\\u002fUJHrDw\\u002fduj9a9FFwznWzP6p8vdRLfgpApc71pOimuj\\u002fXJwn+rRgkQLyawoLIEMk\\u002fr0\\u002fBqqShzD8b2vx33FANQLRyhIgmHUtAinMmcMrzLECg+BiVSfwYQACGwFPwiOk\\u002f4XoUrvdgJUAAAAAAABbhPxjQ1MYieztAE1C2pdwJuT9xHi5JIdX3P29WO2EXfmVAJ3qbYDjtiEDHNVsrxiEBQP4CiAlq2zNAmOYakdNkF0CLaFpz9iJmQCNsbkv6Ruk\\u002fuwScWHkHQkCoiQFi8w1VQNywGW1GKVpASAUUNgYjNEAAAAAAZCQXQPEFwIzGqEZANRf5E0CVoEA\\u002f+DSfWRhhQAAAAABorTxAeKZ7GChokUDjCigFPf0nQAhYBOH6uTFA2O4s2CEdZEDkBadVHTB4QPhHCPCw\\u002f4NAhetR+LxBZEARDcDNBBNHQEhWG5yiI11A7tPVrSJJkUBdLf1ymVeAQCGrzOQgLjlAeitHaOoyIkBcj8L1VpkzQIOjudbd1SVACnNmWMLZ2z+02nyUTKMeQAAAAAA4DhBAogpvN7B3UkAAAAAA6LQaQF8DEEnnVD9AAAAAgP1VREA4oqPqMc5TQLgeheu1T2hAFq5HYXySaEByiItAZZBPQFG53RaRuINA82YE4SEA8D9UWWqfWpt1QJSBCDZiOZRAAAAAgLJ0j0CKGINI2xBTQK2bIWoViStAd76fmlbxREAAAAAA9kgmQKUEsN0guCFANQeIPZF+K0CWYLrAoOhDQFAGbrUnFVhAXwaYjghUKEC3XWe0w2x3QJYH8CU47xxA+kO8Yy9qVECFFpngYvaGQOVykdprr5NA3q3DX7JXZEADcmRK2gcwQDg1wAkzlGFANwEWq33QUUC+M0\\u002fwDMIWQKw16jl9iW1AmlxBNSCEakBySKAFjqF1QE45ndVWRj9ActjTEtnAAECKn1lRhn0eQAAAAODqEXpAAAAAAMB\\u002fCkBcSr7fuEWCQHHQ2hN+LkhAJFx7I8YTekB3WJMkMVswQAAAAAAwIyZAAAAAwLGBhkAViJg83J57QHrFtYIPEts\\u002fJww3VL7E4T9OkdTjXQkSQMG4ZBRE9OM\\u002fmDq+u22NB0DSnFkOhH3bP9MC8NQ3Hvg\\u002fhgKwhYyOBUDEAhjPnpUHQHNoke38j+U\\u002fAAAAAHCA+D9gf8imF+ANQI3ZgN19syBAtomL9CFowD8q6jRpdr8PQHdS+F+7o\\u002fk\\u002fuBE3WBzrREDgYNPYNC4+QH8AoF9sgrE\\u002fAAAAALA2+T8AAAAAUIDxP5qZmZn58RdASOF6FK6+1T\\u002fSLz8ifOQIQDD20LKJdeE\\u002fpNch7pGHCEACBeDGkhzzP5PJj8SeNEBAyCKhRZXK8j9wKoQMPQ8wQDKH0+fOnQBAWJKa3dnaF0BnZmZmxr7jPwAAAICyk0VAAAAAAEjLMEAzMzMzm5AnQFoEIJnK6fw\\u002fUvYv1kNpGUCg19Nz44faP89AgSPXGUVAM53+KVrNAECRSjm1vVQPQAZ+3RTId\\u002f0\\u002f8k4xjMoAAEDmMlw+iOTVP8pcONF+9Nc\\u002fwaLNMksrJECmWhnSPgjnP+bKNjwFj8M\\u002fYtZNqubHrj8Xnt9Tx70lQJcHVhdYNc8\\u002f2fze8IKq6j\\u002ffaPaFKAv2P2T00kZBXsg\\u002fI11sYFXy+j8MOL48vfTYP3oalGnX6eA\\u002f0JHaWtvX9T+ZJduzssvIPyDZE\\u002fDukeI\\u002frUHF93964z\\u002fBkmK0ajHePxoGFog\\u002f2dE\\u002f1+N69CdA2T+FFlTPYxoUQD8f5XQupdU\\u002faPF1Y1kiL0DIj36aMTTxP5Bch1EpcOA\\u002ftQpBGOLZOUAoz\\u002fUFK7IzQMmbGb9QVOA\\u002fMQKgv8xf0D+\\u002fAjDwGobkP6o2cy\\u002f57dk\\u002fx5y5FT275z8hNjMAYeTVP8bP8IM0NiZAMGmm9LjnxD9cAwAmQR+5P+JoZtqAqcI\\u002f0NB8X8sI7j+ZaFCA324QQDzQTCwRqdk\\u002f2mh21l5T8j\\u002f3NeeqbI0nQJoCgFl3MtY\\u002fUp0ZPUzC7z97AtXhDHEpQAg2q927D\\u002f0\\u002fWc\\u002fAenImCkDCm+viKSE2QB6cFX4V0QlAT\\u002fcWew59E0DttWnKCTZ2QOzxQRKjHEBA2D82GkNCDkAmVDijTBTMP63+VGjje6I\\u002fo0jhjqnZxz+yK9+a5xrRPyCnW04Ktd4\\u002fheM9DCCHQUBacvhSdTshQBlzYSpf9QFAwz8a1dTx4D9EFxa7cloUQEAtEvJkUh9AYEAuuT13BUCMIQEnaqoUQJwoAfJoIUBAKmDXq8pA\\u002fT8toNdL0lAfQKefYIN41hxA7Guc54tHGkAba16tKGXmP91pltBugNA\\u002fmpmZGV61QkDgDF\\u002fzdoQRQF51vUb7bM8\\u002fqNcryEcd5j9O9th8mITTPyri6ua8sd8\\u002fE2d2tHEs2D\\u002fiCo9mewLnPzUfZSBajOE\\u002ffvbAoJs76j\\u002fJhRt1w9DnP4VxPcflg98\\u002f648KTDL34z9VmtXYJTD6Pz\\u002fTqPI70ERAkQawZSALSUAAAAAAYttDQGx0\\u002fXw7p+A\\u002f4FXZRhJvEUBYLmDOpL33P\\u002fjx3XJVZvw\\u002fUjiXjiCN9j97BMDRRtOzP8EGoDrqvN0\\u002f5RAbNRWZTkAvAvi+cVEAQGtICc08LU5AlqYo8tyDCkDXvwBKgzKHQIpNNmNAsDdA8lxHXoLlGEB\\u002fzy1M6ZtLQPYoXI8FK0tAa0GrZCWpg0BOBAlTkmpgQJujuBJH7lpAAAAAAGj\\u002fNkBUAT18gO1RQP4fxDTu0V1AAAAAQJj+gECF61G4pgE7QMvOPCuVA4JALWV5pW\\u002ffc0DYjbGVi4ygQP3VJzA+qE1AJAOn7gUVZkBcj8L1KN8UQBLIgPzwyCVAelAMPGK1TkDVm7kxG6LyP0t57QhJz0dAZ\\u002fyvZhLLGECOoiY+2txAQCdRzetdOkhAmpmZGat1V0Al1KrKB\\u002fpHQAaa5sA7hxVAH8Qt8D0XYkCWN7eozMU8QAgB6+6o1A1AAAAAAACkEUD7ADT5cQ49QMIBjEAvpXBADUJhIqZzO0C7N52CsexIQAiL0QzAsW1ANTmbxIkrIEAW\\u002ffb1ds9HQAAAAMDRlVpAIQVgv8KRI0ANQsa9wzDxP7gehevRfQJAAAAAAOAM8z8pXI\\u002fC9enTP88qZWRvUB9ASZvC4Lbf7j97ACnWCcT7P\\u002f8LAGrCFN8\\u002fs3CmRY2t+j8KHa5c0ivWP\\u002fv+6Ihx4fc\\u002fKVy4nsSF6j+N\\u002fbcyXcNSQAAAAABe21ZAZmZmZqY0K0CWn2irs\\u002fBmQItu3nVi1ylAAAAAAMStZUAAAACAsK1CQDiTGXSoqnNAAAzcFwaQO0AlIbZ11l5LQC5TIurXeFNA675oLd3ES0Cw8xmIMoMgQM0EHhSqTWJAdw6U4jDCQECub3Np7zRgQIWlaOnbLj9Az5\\u002fJyqnZFECiK\\u002fyr6VX6P0zhT9C5W+Q\\u002fC848UFyA8D+haF+A+4RNQEBo6FbEs4NARs1cwdQC0T\\u002fsZooW75MCQFzs0cksFd4\\u002fJOM6r+lf6j9+kNovCw8QQJZTaA4NnPc\\u002fqq\\u002f3aaV59j\\u002fZBHYZjKkhQHXBXngunas\\u002f31THb85eyz\\u002fDQLO\\u002fLevnP4Vy5vztYOU\\u002frqWZ\\u002ft1O1T9rJX7hZSAbQAAAAAAwIShAAAAAAKKsSkDKOP3wQsgoQOqmclSuHw1ARWR2uuFLEEDhARDg3iX6PzU1hRaZBSxAP3vdcRsWI0DtG\\u002fasBxJVQK0uLpHgOi9AAAAAAOBdM0DgN0WMtsjzPzdDalB\\u002fdOg\\u002fb3\\u002feLRFF8z8rMEYZBnj+PwiaKux9C1ZAaZm3rYM1N0Bgn6krS8AQQEuacWO+HOo\\u002fmQDqfauBFkAvZx7hhIEdQHMH91g4wztAq0CS6mVZPUCNAJiKNF3oP4sLR70v0PI\\u002fwRVKVy1BMkA4pTCT+uTjPz0HnoAxhl5Ar2fl+HPpMkC+SqGIxgQpQIiB1GJPzsc\\u002fyLxrseiBYEC62JKMzFExQHnyA07axjJAUkgK76sYuz8f4aNKnxrZPxGQurhLIfU\\u002fXx\\u002fV7Yqz0z8Q7EkNSVHwP2oCpINvVvA\\u002fZJy5DWTYIkAjajZtdToJQHsUrkfh5C1APQrXo3AFCkBI4XoUrkfhPwAAAAAAoBdAk4UDNy2P+T+zj0xZiE8TQI2A9G6qKVJA4N1ztGjT8z8Av57bT2DjPwCBlDd6wAFAoEd6l\\u002f2K\\u002fT8=\"},\"type\":\"violin\",\"meanline\":{\"visible\":true},\"jitter\":0.05,\"points\":\"all\"},{\"legendgroup\":\"NSCLC-Radiogenomics\",\"line\":{\"color\":\"lightseagreen\"},\"name\":\"NSCLC-Radiogenomics\",\"pointpos\":0.25,\"scalegroup\":\"NSCLC-Radiogenomics\",\"side\":\"negative\",\"y\":{\"dtype\":\"f8\",\"bdata\":\"AAAAAMrGJEDqJjH4lUQlQNRxL5KAjA1AAAAAAEXkMkAdYNAu+VxGQIC1bKo+zCBAAAAAAGp3LkBDYOXApS1CQEnMaAqkoilAAAAAwL9uREBdj8KVveclQDMzM9Mn2zJA9ihcz\\u002f4RAUANCjYwOQ9LQAAAAADijhxAAAAAAOjRHkCmm8TwlMY3QCbadbdtvBRAH4XrybuNOEAAAABg0ZdSQIXrUbh2NyBAGy\\u002fd5D9aBkAzMzMz41cnQEEmUYn3jE1AsG1GgUKfE0BW5dEtmHdMQHeWGhYgR70\\u002fJbF\\u002f+ZZmD0AAAAAAVE82QAAAAAAAQG8\\u002fAAAAAFNiPUAKNDMjHvdwPwjDbPv7\\u002fWJAA2dMkqIQDEAAAAAAQHUTQAAAAECfwFFA+gFQ1OZJFkBPuTsvD3JAQNIIQrvWeyxAgnRLMKQxcUAAAAAAZDYgQAAAAAAAnKg\\u002fAAAAAAB18j8AAAAAoNwUQB+F61G4PqA\\u002fAAAAAJ9MLUAAAAAA2Dj7P2ulkLMzz09As4CDk7QUGECCh4s9F6UGQIwagIRHveo\\u002f7QGwu+LeAUAAAAAA2AD7PwAAAABAUQdAmwcfIHfuIkAzMzMzM8E7QOk9mRMLxqE\\u002fYHUhHm8fIkDvbY9UJEY0QGVTZfRJq0RA04hy9gPbFkBlMPTYO7IJQKVJ+ly4mPI\\u002fvGqiberlB0AAAAAAoLwBQGK6\\u002f\\u002fODwiRAAAAAAGBm9j8AAAAAAh8xQAAAAAAA6Kw\\u002fAAAAAACp2j8AAAAAEL4NQAAAAAC+Yz9AERtQCHYZWkAlLT6n7ydkQEoMAiv3NfI\\u002fAQAAAKzRK0AAAAAAAEB0P2eBjbIzTCFAzczMTEfe9D9gBRA1x1oBQAAAAAAARvc\\u002fw\\u002fUoXOc39T8AAACgDHgcQGkEnGz5zhBAqcSBxbXo8z81XrpJDH4YQIL7wNO5XVZAfQQAxpqEij9EBDeSwVwoQIGVQ\\u002fONi1tAWDm0yKXbAUAAAAAAIO0WQCKOMk96Ij9Ab9Pso3rY8T\\u002fj98rlVpYUQAAAACCLOElAAAAAAKAHAkAAAAAAGDQYQGkqGyBA9xBATmIQWG3UM0BnZkKnR99HQLTMzCBcj5w\\u002f9gIjo54kNkDhehQOe8wkQGvogjWM2DBAEys0l09NUUCWSlSE0TotQAZQlVFolTFAFK5H4XqsO0AAAACAKhtDQCrDVzIBuuc\\u002fAAAAAKiREUAAAAAA0OwQQH00k5eEZBFA\\u002fiWPNaLaZkDIONnD0GBEQGAIJ5Qc+V9AAAAAAACD6D8AAAAAwGjzPwAAAAA\\u002fmi1AAAAAQKFPQ0Cp7j1tLBhDQN8001RbItE\\u002fJdcE4Z7WC0AjBsi9HYUgQAAAAACobBpApq8R3WKFBUAxBuT8k6AXQAAAAADfDiFA\\u002f\\u002f\\u002f\\u002f\\u002f2NLKUC5BIxPh512QNZ8Zh75NQxAAAAAAODN6z8BAAAArIsZQP\\u002f\\u002f\\u002f\\u002f\\u002fjQyRAfT813osjFEAxCKwcdz8FQAAAAADYaBNAKTozGFJ0I0AAAAAA0FgoQCPuIdrdIxBAAAAAALQ9d0BDAUUAcmsaQEOkRHB5sjxAAAAAAMCOBUAAAAAAgBcTQAAAAAAQyuk\\u002fUwlwFoAZ+T8AAAAAMIYSQAAAAAA4kPg\\u002fdQeM+NARFEAAAAAAwO3qPwAAAABuzFZAntZOuuy3REC2NZd+sZ8fQIeZooZaV+o\\u002f\"},\"type\":\"violin\",\"meanline\":{\"visible\":true},\"jitter\":0.05,\"points\":\"all\"},{\"legendgroup\":\"KiTS23\",\"line\":{\"color\":\"lightseagreen\"},\"name\":\"KiTS23\",\"pointpos\":0.25,\"scalegroup\":\"KiTS23\",\"side\":\"negative\",\"y\":{\"dtype\":\"f8\",\"bdata\":\"UVuibg7kikAoXI\\u002fKWEMzQKvvzueFpGxAhxbZzi89N0ABAABQZi9aQG3n++k94hFABoGVQ1LWIEAAAACASxITQI2XbhKDgO0\\u002fvHSTGAS2+z\\u002fSf75ZjPF+QAKq8YyTuAlAAQAAAAxuF0D\\u002f\\u002f\\u002f+\\u002fyj1ZQD4K19MqYIFAoCEcuyOO+z9nZmZmYSb3P5mZmRmuhlhAlBiEhC6km0BmZubORBtwQAAAAABKQRdAAAAAgCBvSECF69G8EUpxQLOxxhA55mhAAXBm5gGQZj9YopmpAb6DP4MJAMgBJ5U\\u002fAXBm5gGQZj+SPjMjAmKJP2hmZmb+sgpAa7x0U821CkBYhU5UUngkQMP1KNxbShBABoGVIAuXhEDRfD81Xk5zP\\u002fZT46XbVsk\\u002f8KfGC\\u002fKwP0CDBRiV01QnQNkF4H6Cwug\\u002feJ05ASth8D\\u002fOrOo8+bELQAAAAAAAI\\u002fk\\u002fAAAAAKAJGkAAAAAAgBb+P+BoDgJOawlAeekm0c4jLkDFILCi61AhQAIrhxZnoPg\\u002f8tJN4nLhBkAxCKxceoFCQBWuR+HDviZAAAAAANo0NEAAAACw3RZQQAAAAAANlyZAjZduKp45M0CsHFrIhq2BQI\\u002fC9ehcsSJA6iYxCODPLUAAAAAA+TVMQAAAANA5Z3BAAAAAEE3LQ0AzMzOTIM8UQN0kBnEvbDFA16Nwb3dgREAAAAAAZpEZQAAAAACA2Pw\\u002fAAAAAMklFkDXo3AlaX46QKjGS7dogB1AP9o0VDBmDEAAAAAA6hleQBRy9U\\u002fEiYBA9ihcj7p2bEB9PzVemgARQAEAAAj53XFAmpmZYQhoV0CPwvXrtJuWQNejcD0K27U\\u002ffQvwkIGOEEBR5Ab4gHUiQMl2vh8K7RNAMzMzs6OWRkB7FK7nysc3QFpkOw8sp1NAcT0KNWhUU0AAAAAACB0aQJ1eOMJGOxxACKwcGnx\\u002fKUDKoUVuqjc3QGdmZq4lU5VAMzMzMzMzeD8zMzMzMzNYPzMzMzMzM1g\\u002fMzMzMzMzWD8zMzMzMzNoP4gkOtkVdCdAAAAArlliYUCznon8bx9QQAAAAACWyElAexSuf6wQX0AXTlb5LsRDQDVeuvmHjBdA9QCixboI\\u002fT+amZkZ7SJAQDMzM7PV3C9ArkfhOgQTREAAAAAAqjwkQAAAAIqcBX9APgrXLanHXEDD9Sh29VBWQDQzM5PGWCZA+FPjZRsoMEDP91O35ZhBQFAH+DYb5VtAAAAAAJxKGUCamZmZoQwYQAAAAADQ4xVAAAAAAPh1GUB5O9NNikImQPaFgNEpRUlAZmbmFFt3kECamZmZdpQwQAAAADAj3UVAAQCATsk9e0ABAAAA\\u002fHwnQAAAAABqgQRAAAAAICoJe0AK16Nwoeg4QLa4iA59XjJAAAAAALLGekAAAACA2aOGQJqZmZmwSxRAAAAAAJgwLECkcD12ZLBjQDMzM0NCbBNAAACA9FMsa0BnZmbe9HozQAAAAADrtzZAAAAAsIV8dkBcj8Ilyi8zQDMzM4OLVSVAtMh2nuDYZUAAAAAA\\u002fs8zQHA9Cpfaf1lA16NwvYkVTUB7FK5HQUH3PwAAAIAiLTxAhetRmOU6IkAAAAAAqOkTQAAAAAA6ckdAEDCzCHstLkAAAABA48gzQGdmZuaEEEdAAAAAwFguRkBcj8L1H6wiQM3MzIxZoRlACtejEG9vIECiRbaP5xKFQAAAAFBPQXZAAAAAcHaiQ0CwSMwyCzYcQJZDi+wkvBNAAAAAANDoKUABAAAAg+ZYQG\\u002fF3EHbLxlAgSopN95YPUCkcD2a3VFCQCUGgZUfjGxAAAAAwgwFVEDufD+RVBlXQBkEVs7urjFAAAAA4CCbfkByPQrX0CQqQArXo8DIl01A5tAi25d8+z+BlUOL4Kv1P\\u002fp+arxc0xpA\\u002f1Co6mNTLkBg5dBiEM00QJv20Bm0RVtATDeJQbbb+j\\u002fNzMzs28AQQJqZmfx00YRAN4lBYDmfEkAAAAAAFG9IQLtJDHIWgEtA8tJNYh3P4z\\u002fsUbje9DYQQFrnXE6KIX9AMzOzETqFckA+FPq2astbQAAAALiQ7zxAYHNIKF6WPECbmZkZTEBZQOOlm4eg95RAdiYxCKxsVT+amZmZsTgcQO58P7XcEkRAPq167L0gNEDdZm9SPEUlQGmR7dTY7k1AsHJo0XKqN0AAAAA42jZhQOn7qfGlMgRADGR25xkACEAAAABgoJE+QI049GwxwPw\\u002fAAAAAPxFFUAAAAAAeMcaQClcj+IaB1BA\\u002f\\u002f\\u002f\\u002f\\u002f7PJKEAWAmc1DsYpQHE9Crfs\\u002fRBAAAAAAHtZQEDNzMzMDDToP98YI86ofEtAirtSYcNiSkCamZn1TcxHQBfZ7iGiVoBAAAAAgPXsIEABAAAALCkEQAAAACCGRzJAAAAA9FjZjUBkO99PZ5MRQAAAABDzGhBA+n5qjDqoQEAAAACAe25MQAAAABxG4UBA+f\\u002f\\u002f\\u002f\\u002f+gaT8AAAAwGQJuQPL\\u002f\\u002f\\u002f\\u002f\\u002fgZQ\\u002fZ2ZmZiosJUAAAACA0wczQMP1KFzneDlAeekmca8Ta0A5pJH4wmcnQAAAAIAlFyZAMzMzM9EaPkAAAAAAsBcxQAAAABBlfxlA\\u002f\\u002f\\u002f\\u002f\\u002f+NcBEAnMQiMLpVRQDMzMzPD7g5Aw\\u002fUoHM3FUUBYObS86ItIQOF6FP6\\u002f3kBA7FG4Hr0wPkAAAAAAwCdFQM3MzMyhNxNAuB6F65tk8j\\u002f+xk9+mqJOQOfdwLFYpxRAvOU3Avv6PUCKII5\\u002ftT84QArXoz8J\\u002fmFAgxGZfG4IgkA+Ctcj\\u002f3ofQNNNYmAaOyRAcj0K91wANEAAAAAAONgSQAAAAAAw\\u002feM\\u002fAAAAwPSbTUAAAADUJt5BQEnhek7al3JAAAAA0Dh+ZEBGM757c3RcQAAAACxgdIRAAAAAAIDyIUATg8CKzOc5QP\\u002f\\u002f\\u002f7\\u002fCli1A\\u002f\\u002f\\u002f\\u002fvwIsKEAAAACAQXcbQP\\u002f\\u002f\\u002fz8KsC1AAAAAgEA2G0AAAACAS8gWQAAAAABEtg9AAAAAAEoDCkAAAAC4IF5jQNVdd9peQkVAZ2ZmZvu\\u002fcUAAAAAAEOBlQKrx0k1G9gZAZ2ZmZpKAM0DfofGINjoCQAAAAIDaN4hAAAAAACKTF0AK16NwPRoMQIXrUbgeBdk\\u002fMjMz+Wb5VkB0aJE12PZCQHNoke5ju2tAAAAA0Dz5F0DX2qV6c+xeQAAAAADY3zNAmpmZmZnRmD9nZmbmlE1WQAAAAADgrxBA3kgztiKmXEDTTWIQdNUFQLByaJGNIlBAAAAAAAD40T8AAAAAgAQiQAAAAADAgwtA4XoUFh1WRkDNzMwMmnEiQAAAAAAAzghArkfhssUBc0C\\u002fn9oCDleLQGdmZmZYFRNAvXSTGNQ7BEC0yHa+Z3ElQAAAAAAscUdA30+NJ0MeREBOYhBYsyFEQM3MzMwwhzNAQDVeRvQge0AAAAAAmHA1QGdm5p9gD4JA\\u002f\\u002f\\u002f\\u002f\\u002fyS3XEA5tMgbIEiIQIXrUSE6sW5AAAAAYPfjOUAAAAAAAJASQAdBqHT+knFAhjr+DSbegD\\u002fNzMzMCkYHQAAAAMAntE5AWmQ730coHEAAAADAUWhJQO8u9bgoqJJAdZMYBIO77T8AAAAAODU6QEjhesSn1IBASOF6FK5ngT\\u002f\\u002fPXbZtMFRQAAAAAA0ZBNAAAAAgNFsMUAAAAAAdqksQD4K1ylgAFZAAAAAAPHYIUABAABwASlNQDMzM9dvr0ZAMzMzM3teLkDHhhAJPK2GQAAAALD0XTlAAAAAMLHRakAdWmSfX49uQA5EtvP9TF4\\u002fT0\\u002feek4eMECF61F4PgRGQHA9CpPoImpAiUFghdlaT0A3iUFgehELQBcGU2C9Y0BAh+kpYDLFHUAAAAAArkkaQHt8Bce88kpAcT0K9wS2QkApXI\\u002fC9Y9MQGY730\\u002frKk1AMzMzuWlMh0DhehSuTyQdQPT91NDAX2dAku18P1U5GEBSuB7FOEVAQAAAAIA1ci5AKMFpC2sNNEAAAABcqnhKQAAAAAAYjlRAzczM0GYeU0APLbI9ECocQJQYBHa7vzhAXI\\u002fCgdSqhECkcD0ir\\u002fFfQCyHFtkatiJAAAAAAAD9KUAAAAA4RcpuQHz9oU\\u002fB2FRAFa5HoWoFf0Dy0k36V6JTQGdmZpGp\\u002f2NAiUFgwafjTUAfhevxd54dQAEAAJA8z3VAlBgE3kKyP0BnZmaqc1NjQCCF61ESaP4\\u002fuB6F66x5AUDWo3A9qAQnQAAAACCBimBACtejkINgkkAAAAAARGhhQLKd7\\u002f+4my5ADAIrh5ULN0Bcj8J1sBkqQBT4g382UEZAL90khnWyVEBnZmYGaHcEQAAAAAD8ZRBAAAAAABUKLUCuR+H61j0RQM\\u002fRAKAMLDBANAUAKyHKAEA\\u002fbBZQQ99CQCLb+Y5gazVAZ2ZmfgenTUAAAACQJNA8QKRwPXouh4VAAAAAxOiDdUAAAAAAI6kwQIXrUbgeIBdAZ2ZmZmoE6z+amZmZnVliQAAAAADgthNAAAAAAHCaKEAAAAAA6NYzQNz5ftpnHDtAPcp2fkANFUDH9MjA46QGQCH6QCLAnhlAZmZmpp48Z0AAAABMBLqDQOr\\u002f\\u002f\\u002f\\u002f\\u002fuoc\\u002fHsuKN6ACRUAAAABA\\u002flpiQAAAAAAGMSdApHA9CpfAI0AAAAAAimwKQHze5I93CihAAACA45J9e0Dm\\u002f\\u002f\\u002f\\u002fnzeUPwAAAGClj3BASOF6VPWHN0AghevRl88uQA8zMzMzCIk\\u002fhsL1KJxIqj8AAAAADD4fQD4KlybWPaRAc8L1KFzTez+WmZmZGWShPwAAAMqphnRAaJHtfE\\u002fLA0BMN4lBhpRRQNnO91PjNZk\\u002fhevRrkJVY0A0MzMzJbX0PwAAAACQNyBAKVyPggyVJkDhehTOuGJCQL+fGi9mplNAMzMz8wNBQUBI4XoM88FPQJqZmZkFxChAAiuH4jRHP0DjpZsUiTkRQM3MzMxvIC1A4XoUrhbg+j+uR+F6lKbpPwAAAAAwuNo\\u002fAAAA8PtKY0AAAAAAWjsYQP\\u002f\\u002f\\u002f\\u002f93iAJAUDXHLn1bB0Cq8dJNnOdKQHsUrkex4gxAzczMxZRQYkB+PzVeorTtPwAAACCY3EdAAAAAamuPikC4HoXrkRoYQAAAAAAAZfY\\u002fAAAAACBK9D\\u002fsUbjGmPhoQAwCK4csCwNAtx6F69enPUCF61G4pr0UQAAAAAAgEzFAUbgeRZ6aJ0AAAACArm4aQHsUrsdQKUJAw\\u002fUoXKVCEkDRGXFQmGhQQJhBFvBicUdAS5kmsamu9z8AAAAAgoMcQAAAAAAsVjdAAAAARI5+RkD\\u002f\\u002f\\u002f\\u002f\\u002f0x0kQF2PwqUAW0ZAzcxMCzAtc0A0ZmZmZg12P2ZmZk74Vl5An59lUlEIZUAv2fNDn2wwQMl2vp96EEVAAAAAAEbpKEAAAADAa5RNQOr\\u002f\\u002f\\u002f\\u002f\\u002fcpU\\u002fU\\u002f\\u002f\\u002f\\u002f\\u002f8Xaz\\u002fG\\u002f\\u002f\\u002f\\u002f\\u002fxd7PxWuR4m0IEBAJS5h95V7eUCH6nO1+DGGP4YZi6Zdono\\u002fh+pztfgxhj+H6nO1+DGGP4fqc7X4MYY\\u002fAAAAENWbgkAAAAAAAPySPwAAAAAAQGQ\\u002fAAAAAAD8kj8AAAAAALiRP57vp+62AWBAAAAAwApkdUAAAAAAkw0pQAAAAACCMRBAmpmZevhFY0CwcmhRhMIwQIXrUbhGvB9Aq\\u002fHS\\u002fam7SUDdJAYIaadqQB+F61HhdyBAfXIh4iFUU0DNzMztHiFgQKRwPYowggdAKVyPQjhXJUAAAADA1IlTQAAAACgL61FAcT0K16PdTkAAAAAAEzcgQArXo3AlRFBAj8L1KLtVQUAAAAAA+akhQAAAAAAdGyNAAAAAAABQyT8AAAAASP4lQDMzMzNzuApAZmZmZuZK7z\\u002f\\u002f\\u002f\\u002f\\u002f\\u002fI0AOQAAAAKDjGhlAzczM9BojSEAAAADQ2jREQP\\u002f\\u002f\\u002f5+0gDNAAJTAcWVgKUAGgZVjvCtjQK5H4ZryYRNA7sgDt7cEIEBzaJElbSU1QDm0yHZOIhNA1njpJl1fGEA3iUEzL5GEQOB6FHUrWmJAmG4SgwpR8j8zMzNz+6gjQKX9a9N1SDNAKFL1YnxLMEAAAABQ3sohQM3MzMzMMDZAPQrXo3A9BUDhehQu4YB6QClcj8L1KIU\\u002fMzMzMzNzij98FK5HSYcNQAAAAGA+jUBAd88UoGLahEDOVD0JNmRzQKTqc7X4MZY\\u002fAAAAAAJkMkAfhetRqDwPQArXo3CtGAFA9ihcj\\u002fI0PEAAAADwbmF1QOP\\u002f\\u002f\\u002f\\u002f\\u002f64A\\u002fMzMzMzMTaz\\u002fXo1DUlYeaQGl9lhhdb0ZAAAAAIH4VhkD\\u002f\\u002f\\u002f9\\u002fpik4QNEi2xmaLFNAVhlTi1eiC0DByqFFZtzuP0SLbHGnRXhAHmeko8kxT0A1XrrJJacfQI\\u002fC9diOIyBAzczMTOQfbUCamZn+QQmEQFG4HoV7UPI\\u002f+n5qPNyIjEA\\u002fNV66SYx3P7bz\\u002fdR46Vo\\u002fUrgehevRcD\\u002fIuthkS\\u002fhTQBSDwMp0CA1APN9PHUbzQkAAAAAAMFALQAAAAADNxyxAAAAAADh6FEABAADyRZJxQA2j3hYV325AmpmZ2ViRRkAAAAAA0A\\u002f3Pw==\"},\"type\":\"violin\",\"meanline\":{\"visible\":true},\"jitter\":0.05,\"points\":\"all\"},{\"legendgroup\":\"Task10_Colon\",\"line\":{\"color\":\"lightseagreen\"},\"name\":\"Task10_Colon\",\"pointpos\":0.25,\"scalegroup\":\"Task10_Colon\",\"side\":\"negative\",\"y\":{\"dtype\":\"f8\",\"bdata\":\"dZcMAwo+IECobDam19TrPwwSZLpZXEdAmpmZmZkNCkBbAMIR+ikyQOPH3nUYXypAwILpwPSVRECkBVtSJ0cjQAEAAADfCkNAsgX8G726NUCdLEM6+bwwQNZL4YbvD8M\\u002fkh5dK5p2OECuX49GaicMQAAAAADSgzBAZmZmZlCjS0A2C3jxQFcvQJvgNHD2e11Azj+3WLdPUUCf8DA8E5cuQE7eq93h1ypAmLgy4GlcVEAAAAAAuBoiQJgE+ODbhDFAAAAAAIDgXEDTdlH7yz4yQDjZZ3FFYjxAvAeQHLSBLUA7o\\u002f0HZ+Y6QJqZmZlRgTRAo96oFnwZYkBtpYl8j0s8QFt8lonPRTNAMz9YfnCoQEDXpoV5t9pBQNJNYhAMzy1A3QbwUhgwGkBXmrCc6C0oQAAAAACQcTxAweuqJG8TJ0A\\u002fJy\\u002f1FhhHQOvNxSkZeBtA99Z8g892NUAsoscog+g5QJ+3CvbfxENAox6Z2Rc4ZkAgY4VizT19QF17iaLb3FFA6JZf8BMWMEA\\u002f5FoEFZLRP0YjEhI18BpA\\u002fn6t6XdlKUA+CtejBFAjQCatU37fchFAJmk7YmHsVkAAAAAA4L0mQJeEI4MZTB1Aq3q9wNKFQ0AQBMsdy1pDQEKkNRLCxDVAuEuFge6v8j93KeGys9wzQJboNO+lVjBAQk1H7nzhMUC3gOq1UIU4QD1ph4Arrj1AldynAJfAUEC0m0niesEXQFKNy\\u002f2wJS5AvNPD7VUMRECsoF+a8r9QQI2NFUDK0TBA25syNcbqPUBLffcFCypTQPw9\\u002fWRJxBdA7FG4HquuFkC5AQveCU81QLH0bMrg9ydAimhiKmRhHEAvBxg\\u002fJ2YrQAAAAADwtyFA\\u002f\\u002f\\u002f\\u002f\\u002f8NOLEAAAADA2XxpQAAAAADgW\\u002f4\\u002fw87ST2e7PEDSEMxfx5cyQFw12k1LWTJAKZwLYLJ0IkAXPZNg1NROQHWDa568iUxAAAAAAJASUkClurgI3N8vQNg+OnhWRPM\\u002fU5wNhETCFkAAAAAALGBOQM38DoqqLUJAAIJGok0uQkCksCintXVCQAAAAADgkidAFv8o5S4e\\u002fj9V46Wb8z9DQGZmZmZmFDVAMsgnxqHEDEDpFFoUeGgxQGDwnCUj8TZAzWAnSnZ+S0DDn8dBhzZBQB9eMj5hDzpAXuLt2SJxREAAAAAAWGAdQPcsNVkEeB9AAAAAACC4GEBdP6Iv7yEUQBFqGi38nD5APnCYf22sTkDTj2PyryRBQGw\\u002ffzksH0RA8zQnpqdYMkAEVg5tMVFQQBhVpZp2HjtAAAAAADRwQED2KFwPf8JUQK9K9codiiJA2mctvERlQEAAAAAAOHtVQJgCQUzFkkdAAAAAAB4OEEBAg6CdFug6QMXYjVZM2lNAAAAAABBvR0A=\"},\"type\":\"violin\",\"meanline\":{\"visible\":true},\"jitter\":0.05,\"points\":\"all\"},{\"legendgroup\":\"KiPA22\",\"line\":{\"color\":\"lightseagreen\"},\"name\":\"KiPA22\",\"pointpos\":0.25,\"scalegroup\":\"KiPA22\",\"side\":\"negative\",\"y\":{\"dtype\":\"f8\",\"bdata\":\"lc28ivkfQ0B0qGLV7dYhQAuHSEvaUCFAUqvrp7YhSUBE\\u002fPUtw5kwQDgfDtu9\\u002fERAZT\\u002fb+JFALEDwp8a7b+1SQLLDT6m0ACRAKfdW1iGXJUBKoMet\\u002fn1wQKBX6nciXDlAzNWmkBRNQUBRYYQqATNMQOODCfSLAzlACOckuRYuFkBZLJRxICI2QFXbc5xWf1dAVFYUwhqbJUCrxT4tkbhoQKnezZq3sTtACjMAU4TbTEDjQNB1kUMzQAAAAACAAU9AvnqH\\u002fCj2F0DKzY5FHmJAQGu8dBPvpjFApgiNI\\u002ff+QkCIE5n8JocrQK\\u002fWkm5sVVZAfYqe9OByE0BnYPgI3BozQIaSUxwsuFBAH4QSr9z2TEDbwzfYXw\\u002f\\u002fP8+4TaB6kyZAGnNcAi2cSEBywu9ZncE6QLCP9dGSdCZAFjBeb9lxVECjtGxXDoBEQGuGWpDZ\\u002fh9AN9nJRc8eQEAtN4mbO9lSQD4Zra6N5T1AOwEL9wfcLUAWGtX57nogQDPdqft+gQRAWFo\\u002fn8fTT0ATv+8SG8NDQNCg\\u002ftvUdiZAW1aCQab2MED6Zqadnpg4QCbgzG4CYTJAFxWuxuI9QkCOI1kLkJ4KQJ6DktowEkZAy\\u002fwXnNbCIEDDcqdIYdAVQM2wG22EjztAl0CjPlzaYUAzsrIWrnhrQHJimZlWOUlAgaI5fa9JFEAfMYKNJFQKQGoo\\u002fcTg7VBABJrIrhBgR0CH\\u002fw4mBRQvQGb2zT2NsxxAlKtjyKmYQEAp1658gLgXQAprLdYNhkJA\"},\"type\":\"violin\",\"meanline\":{\"visible\":true},\"jitter\":0.05,\"points\":\"all\"},{\"legendgroup\":\"HCC-TACE-Seg\",\"line\":{\"color\":\"lightseagreen\"},\"name\":\"HCC-TACE-Seg\",\"pointpos\":0.25,\"scalegroup\":\"HCC-TACE-Seg\",\"side\":\"negative\",\"y\":{\"dtype\":\"f8\",\"bdata\":\"AAAAAAC9\\u002fz8AAAAA5FswQAAAAACgDiVAAAAAAECCBUCTUnLUr89vQAAAAABIci1AAAAAAMykWUD\\u002f\\u002f\\u002f\\u002f\\u002fs3cvQAAAAABxSkRArqGzF+nARUAAAAAAaCCKQAMG7Wcn9GZAFjqrlneGEkDr0tS+VXcQQOs9M8292sw\\u002fODpzjzbl4j+NiamVPgtVQAAAAAB+PHVA3aEc+7ytSkBzBuosNppIQAAAAIAVlHdAAQAAAGwLFkAAAAAA0OzyPwAAAADARdI\\u002fnge+qbHHMEAAAAAA8I0oQP89GzW9CxNAKmvaKbPWpkAtsdb3Fr6HQAAAAAD84jZAAAAAANqkckDTO\\u002fX6Kzo3QAAAAABAXTdA\\u002f\\u002f\\u002f\\u002f\\u002f3AbWUAtdeQZ+nRyQLGxZ\\u002fDQ4WhAAAAAAOgDSUAAAAAAII4PQI4L\\u002flTzYDRAAAAA4JD7lkCByHsJhuRmQKHOSfqtzWlAAAAA4P1QZkBMdiBBI\\u002fqbQMOjmeLhYuY\\u002fzDrDaA+8EEBGB5BZjwcAQNVvZsDBzMQ\\u002ffXJGPoaj+j\\u002f\\u002f\\u002f\\u002f\\u002f\\u002fgxQuQAAAAACclTlAAAAAwHCnUkABAAAAdZhJQDaA67ZNFpJAADryJtvzZUAAAAAAPF0bQAAAAOBigI5AAAAAAAUpP0AAAAAQ\\u002fLKAQAAAAAAATbM\\u002fAAAAAICPwT8AAAAAABaxP8sx7DHCqW5AYQYm8esqQUD\\u002f\\u002f\\u002f+\\u002f+S9xQAAAAADic0NAAAAAAJIBQkBnX4w57DiIQAAAADQW2ZFAAAAAAFA3DUAAAABQOqlzQAEAAMB04lZAAAAAAMCa3j8AAAAAAIa5PwEAAADMfitAAAAAgFGORECDFwNxrReTQAAAAAAs4EFAAAAAAGnwfkAAAAB008mbQAAAAADAHuU\\u002fAAAAAACxzj8AAAAAoJznPwAAAADADtA\\u002fAAAAAFBaY0DG0mBGSBQgQEjVzEI+07Y\\u002fPT7LvBKyLUDoCmxDFFttQAtvJxq5REdAZGyGxXof8D\\u002ffPFMEOgf6P088MyE+jLg\\u002fAAAAAKClKUAAAABIUfmFQAAAABAvXXJAfnBsHyk9lkAAAAAADWZRQP\\u002f\\u002f\\u002f\\u002f+g3F1AAAAAAAJuN0Ac2aKIjx5bQKakbaoxfUNAd948EdcoT0AAAAAAgINaQAAAAGCQWHFAAAAAALB6CkCCQBt4RVJNQAAAAMCtz1BAwi3Ppb\\u002fMc0AAAAAApDh0QAAAAMi3L4FAAAAAADN8QUAAAACA3NVeQAWjfh8BwkRAAAAA6CXqkED\\u002f\\u002f\\u002f\\u002f\\u002fzHE7QAkMyDvphTpAAAAAAAoET0AAAAAAwGIUQKoIzNymGpJAAAAAALitaEB71PYs16lEQAAAAODzmWJAAAAAwCanYUAAAACAxyJAQAAAAAAwwvI\\u002fttUorGb8N0DlCv\\u002fjilNtQM3MzLNBra9A4By5LM9bjEAAAAAIhRuCQAAAAACkcDhAAAAAAJbHK0AAAABQZCuRQAAAAABg+iFAS8a43eXuYECXN4H0\\u002f8V3QAAAAACk51ZASZaUtHARo0AAAACAyuJEQMcVqDAq6B1AmNM625pKMkAZo2ENXZBJQHA5tlinx5BAAAAAAJ72T0A=\"},\"type\":\"violin\",\"meanline\":{\"visible\":true},\"jitter\":0.05,\"points\":\"all\"},{\"legendgroup\":\"GLIS-RT\",\"line\":{\"color\":\"lightseagreen\"},\"name\":\"GLIS-RT\",\"pointpos\":0.25,\"scalegroup\":\"GLIS-RT\",\"side\":\"negative\",\"y\":{\"dtype\":\"f8\",\"bdata\":\"C\\u002frzRbSHZUCp1DOUk+pnQDP0dc9rZGtAxOmAWlxbVkCHB35prbdsQCQT+xA1f2dAqQaYX1dqKUCxC6HXgb1LQA0m2fGdFHdAd9e3craiUEDpBEjNebhCQMTDcZGZJlxAIYd7kjQxW0A2C2Lv9HFgQL\\u002fjqUul\\u002f0tApwQ43XO\\u002fUUDD3d+FEhtZQKHG30m2RmlAAwODp1KEZkBowlWaFPlBQNAS0Wm8gGdAmVlB7fRjcECATyK3HnZpQNGG6kWOAXpA4kO9K80HTUBCY8ytg09eQKeG\\u002fs8VZFlAA4fs+e68akBCBNlVoD5AQHyjz\\u002fy+C2pA3yMWT4X5bEA4AkDCOJkgQCgFo93rrENApHA9CtLrc0AchI891TlZQBv0M3iDSjNAGroqNFcmakC3+CB66yNFQD7d+Nw6ImBA\\u002fnLRd0ZfZkCDqhl40fpmQPiYmW1wK2FA1cKX07\\u002fKWECVRNomT1BoQHA9ClesAmpAuPefJmvIXkAUOw92lLhbQAV8yyMi22NAyoPskEmjNUCSK2Hd1oZqQEej2rz7uVJAbhABcXVERUDZDSVB29tMQNejcD3WsVdAr\\u002fhXvpdcZUDS0G4vxW5lQKRwPQpBEjxA10rtWAAIZEBg9ggXukB3QJotW1TnHTNApWfe9ea33T8IbCCzSBRsQOmCgO47vzVA+SIsQEY7ZkCBR317feM8QEnoEE4Sv1dAn8\\u002fRX7cwU0D\\u002f3hQ7yxdQQOF6FK6DXlpAzxIHUS1uV0Abz4p4gW5WQEKqctFESlpAMrVugwp6ZEByLsA5rXRpQDaE2iCthD9A2EODaDjBbEBtiXWq\\u002fiJcQAu6oax+RFNAQpzkIoWmOEATkKoMWwpJQGT01wcviGdAuJiUzWL2VUA1mc7yHntxQPhVdcJU4zxAYMUY+HuAZEBuoTciICpyQPKHgZ+2TV5AVsEr2LTeO0AQH3SYh8dtQCQEp25wpVFAETQ0\\u002fRZabkBI4XoUrwA\\u002fQP\\u002fy1SHHjFhAf8VCqUF7WkBKAlKIAh5hQGE5YpgRj3VAuB6Fy25eZEAGJNDZJ+Y4QDQuqCK\\u002fMkxAMXbHwLbbW0DD9ShcnZ9eQN+2yhpkJXFAvypd\\u002f+lfS0A9ApDD7rXwP0bj4SGubVhACQPICfi19j\\u002fWo3B9GaBtQBfsPq1ientAWE+s\\u002fncYZkCftuDE\\u002f0FiQMJNG\\u002fVcED5AAAAAwAAgUEABAAAAp1g+QGlTIsCveWlANLN8oqj3Z0B86BcgfK1gQIkLgcJWw1NAEsT+C2ZrTkDfJ76qkdQ4QNcJdK\\u002fnDP8\\u002fDeGhlO\\u002f9X0Clz3AikbJhQEdD97ZhhWhAgyb3onBFa0CdMhPSgxhsQKhYnlwZk1hAPQrXo9S0V0Af5d4HPRdgQAGaujS9Y2dAxYPVmR8vbEDdi\\u002f+wXq1gQJiP\\u002feycxGJA3IJKqh5jVUB8Qmdxs5NiQJjS6yqXVmxAAAAAwJ0rVkB75\\u002fnMCmxAQNh38u9gCmlAQ8TP\\u002fEHbT0BvwRVAE85WQOxRuB4zHVZALmK9Um9MYEB4gvKH2XNSQBt5nhbvWltAoLPQqVS3V0CToWWjTP9aQAAAAAAAi19ArkfhehTOAkAxp2s1GLBmQFZpn1Jej2RAUy+bYL5qWECamZmZpZZJQI\\u002fC9SiHrjBAM9HsWcniQECaegPnvEdyQEEfawcZomJAuMFmGGbAWUDDX2au2PtoQMwyys7H6mRAPwrXo1aTakBpcyGcnHlpQFUQZcq+KmpA5UoXpFi1YEB2NqVCsEUgQGjXyi2VXztA0ZNWpTaSaEAJx8uM8kVpQOuNpJTQaWxABOuVZ51AVkA8lEpCr+9NQLvfg9cvw21AkNw3EzdA4j8OsZjvnqxtQEBBak0Vkfo\\u002fYA2nuSrcBUAVrkehA1JjQCWWXXUHDHRAKVyPwjXIMUAyagQuIJhlQNRUD8vRd2lAQQuc3E1cY0AXRx9qrUphQNbto5L9yHFApA7uJLDWXEBhkZG7p41dQESkK8Eb419APEvAAunrdECy4uVvRSh0QGoonsy7RmRAj8L1KKyOUkAWqK3H2zhEQMZKj92LnG5Ap3Sc1YSJaEB8hYBLxi9ZQJDC9cgTXmlAEkXvqlRIX0DXdiRSg1pVQO6iP8xw5WVAMpDPt7q\\u002fUUDSIsbyLhZlQAIudj1qY2RAv+jTp6J5XkCF61G4+R5iQK8p9RpUkGFAuYVBKr\\u002fVZUBu7dAhMNlxQEx45k1WKHNACtejcNUtQEDMu4p7DblYQIgZ\\u002fm8RZWxAEmPErE8jZEAxAuaJpkM4QNYE1bFecUJAAAAAAMi6P0Cb401DEJZ9QIK5dKBPJ2VAub2f67cwWED08hwEOg5mQMkxtv\\u002fnqGpAbBjVX2hEYUDIhSQpepBgQORfLH7IFmNAnMO3w1T6SkDyMPk7zY9cQBYD260XDydAi4KJrgAEU0DcNLi8PxBTQFUGJPRLKUhAj8L1qLZ2QEAAAABgIj15QCCF6zGQoGVAVraACAbiaEA9CtfDJyVqQAAAAMgI70JA5G9VHicNZEAbw7+XgzhXQDGdZ\\u002fNCCx5AUtCS+ntlHUBuwoGnZkdUQF3PvBKxbhVAlwKoENKe9T8zMzMzMysLQI\\u002fC9ShcIxBAhetRuB5bIUDNzMzMzOAnQI\\u002fC9ShcxjJAHLPR+Qs6Z0Db72WDEXNdQMKDk9ibE0xAAAAAAELhY0A=\"},\"type\":\"violin\",\"meanline\":{\"visible\":true},\"jitter\":0.05,\"points\":\"all\"},{\"legendgroup\":\"Adrenal-ACC-Ki67\",\"line\":{\"color\":\"lightseagreen\"},\"name\":\"Adrenal-ACC-Ki67\",\"pointpos\":0.25,\"scalegroup\":\"Adrenal-ACC-Ki67\",\"side\":\"negative\",\"y\":{\"dtype\":\"f8\",\"bdata\":\"AAAAgF2UbkBxPQq3zG+aQAAAAEC8v15AzVl4bok3OkCG61HYmPZvQAAAAAA+SC9Ayb2RnUl0f0C\\u002fIjDeuTFOQFi72bLa8VFAaLwSGsQnBUAAAACAYnJ3QAAAgH2vH4JAAAAAvsK3vkBnLrLD2g9nQNjcrdD0poVAAAAAAICz4j8AAABAQyphQBzYkQ7EbF5ApHA9dkPLiUAzMzMHpmFJQIPAyqGV\\u002fZxAOVMnIK\\u002f\\u002fiEAAAAAAyHsxQBRSzNB6rZdANDMz30pWREAAAAAgXRNyQAAAAIA\\u002f8n1AzczMHIsKZkBScREZHu5ZQBTom4Ncy2FAY94H1cJHg0Bd1V7+YQ1XQIzr3S01JpZANOKsIzwcP0CnzxFQhVhoQAAAAODwUWZACKwcGgdNYUAyp\\u002f+jxSBJQC\\u002fIcf6kanpAKlwPW4eMfUB7FK5H4ZY6QMj\\u002fTI1+WVhAuwXs5YjYNUAAAACgRYRjQKLVkuNwdiNAAQAAwLBTSkBvfX051riUQPxMyn+lzWVAAAAA8CiogUAAAAAA\\u002ft52QFpx2WDuSYRAAAAAQIvRl0Avpfu7M15DQAAAAKj9hHFA\"},\"type\":\"violin\",\"meanline\":{\"visible\":true},\"jitter\":0.05,\"points\":\"all\"}],                        {\"template\":{\"data\":{\"histogram2dcontour\":[{\"type\":\"histogram2dcontour\",\"colorbar\":{\"outlinewidth\":0,\"ticks\":\"\"},\"colorscale\":[[0.0,\"#0d0887\"],[0.1111111111111111,\"#46039f\"],[0.2222222222222222,\"#7201a8\"],[0.3333333333333333,\"#9c179e\"],[0.4444444444444444,\"#bd3786\"],[0.5555555555555556,\"#d8576b\"],[0.6666666666666666,\"#ed7953\"],[0.7777777777777778,\"#fb9f3a\"],[0.8888888888888888,\"#fdca26\"],[1.0,\"#f0f921\"]]}],\"choropleth\":[{\"type\":\"choropleth\",\"colorbar\":{\"outlinewidth\":0,\"ticks\":\"\"}}],\"histogram2d\":[{\"type\":\"histogram2d\",\"colorbar\":{\"outlinewidth\":0,\"ticks\":\"\"},\"colorscale\":[[0.0,\"#0d0887\"],[0.1111111111111111,\"#46039f\"],[0.2222222222222222,\"#7201a8\"],[0.3333333333333333,\"#9c179e\"],[0.4444444444444444,\"#bd3786\"],[0.5555555555555556,\"#d8576b\"],[0.6666666666666666,\"#ed7953\"],[0.7777777777777778,\"#fb9f3a\"],[0.8888888888888888,\"#fdca26\"],[1.0,\"#f0f921\"]]}],\"heatmap\":[{\"type\":\"heatmap\",\"colorbar\":{\"outlinewidth\":0,\"ticks\":\"\"},\"colorscale\":[[0.0,\"#0d0887\"],[0.1111111111111111,\"#46039f\"],[0.2222222222222222,\"#7201a8\"],[0.3333333333333333,\"#9c179e\"],[0.4444444444444444,\"#bd3786\"],[0.5555555555555556,\"#d8576b\"],[0.6666666666666666,\"#ed7953\"],[0.7777777777777778,\"#fb9f3a\"],[0.8888888888888888,\"#fdca26\"],[1.0,\"#f0f921\"]]}],\"contourcarpet\":[{\"type\":\"contourcarpet\",\"colorbar\":{\"outlinewidth\":0,\"ticks\":\"\"}}],\"contour\":[{\"type\":\"contour\",\"colorbar\":{\"outlinewidth\":0,\"ticks\":\"\"},\"colorscale\":[[0.0,\"#0d0887\"],[0.1111111111111111,\"#46039f\"],[0.2222222222222222,\"#7201a8\"],[0.3333333333333333,\"#9c179e\"],[0.4444444444444444,\"#bd3786\"],[0.5555555555555556,\"#d8576b\"],[0.6666666666666666,\"#ed7953\"],[0.7777777777777778,\"#fb9f3a\"],[0.8888888888888888,\"#fdca26\"],[1.0,\"#f0f921\"]]}],\"surface\":[{\"type\":\"surface\",\"colorbar\":{\"outlinewidth\":0,\"ticks\":\"\"},\"colorscale\":[[0.0,\"#0d0887\"],[0.1111111111111111,\"#46039f\"],[0.2222222222222222,\"#7201a8\"],[0.3333333333333333,\"#9c179e\"],[0.4444444444444444,\"#bd3786\"],[0.5555555555555556,\"#d8576b\"],[0.6666666666666666,\"#ed7953\"],[0.7777777777777778,\"#fb9f3a\"],[0.8888888888888888,\"#fdca26\"],[1.0,\"#f0f921\"]]}],\"mesh3d\":[{\"type\":\"mesh3d\",\"colorbar\":{\"outlinewidth\":0,\"ticks\":\"\"}}],\"scatter\":[{\"fillpattern\":{\"fillmode\":\"overlay\",\"size\":10,\"solidity\":0.2},\"type\":\"scatter\"}],\"parcoords\":[{\"type\":\"parcoords\",\"line\":{\"colorbar\":{\"outlinewidth\":0,\"ticks\":\"\"}}}],\"scatterpolargl\":[{\"type\":\"scatterpolargl\",\"marker\":{\"colorbar\":{\"outlinewidth\":0,\"ticks\":\"\"}}}],\"bar\":[{\"error_x\":{\"color\":\"#2a3f5f\"},\"error_y\":{\"color\":\"#2a3f5f\"},\"marker\":{\"line\":{\"color\":\"#E5ECF6\",\"width\":0.5},\"pattern\":{\"fillmode\":\"overlay\",\"size\":10,\"solidity\":0.2}},\"type\":\"bar\"}],\"scattergeo\":[{\"type\":\"scattergeo\",\"marker\":{\"colorbar\":{\"outlinewidth\":0,\"ticks\":\"\"}}}],\"scatterpolar\":[{\"type\":\"scatterpolar\",\"marker\":{\"colorbar\":{\"outlinewidth\":0,\"ticks\":\"\"}}}],\"histogram\":[{\"marker\":{\"pattern\":{\"fillmode\":\"overlay\",\"size\":10,\"solidity\":0.2}},\"type\":\"histogram\"}],\"scattergl\":[{\"type\":\"scattergl\",\"marker\":{\"colorbar\":{\"outlinewidth\":0,\"ticks\":\"\"}}}],\"scatter3d\":[{\"type\":\"scatter3d\",\"line\":{\"colorbar\":{\"outlinewidth\":0,\"ticks\":\"\"}},\"marker\":{\"colorbar\":{\"outlinewidth\":0,\"ticks\":\"\"}}}],\"scattermap\":[{\"type\":\"scattermap\",\"marker\":{\"colorbar\":{\"outlinewidth\":0,\"ticks\":\"\"}}}],\"scattermapbox\":[{\"type\":\"scattermapbox\",\"marker\":{\"colorbar\":{\"outlinewidth\":0,\"ticks\":\"\"}}}],\"scatterternary\":[{\"type\":\"scatterternary\",\"marker\":{\"colorbar\":{\"outlinewidth\":0,\"ticks\":\"\"}}}],\"scattercarpet\":[{\"type\":\"scattercarpet\",\"marker\":{\"colorbar\":{\"outlinewidth\":0,\"ticks\":\"\"}}}],\"carpet\":[{\"aaxis\":{\"endlinecolor\":\"#2a3f5f\",\"gridcolor\":\"white\",\"linecolor\":\"white\",\"minorgridcolor\":\"white\",\"startlinecolor\":\"#2a3f5f\"},\"baxis\":{\"endlinecolor\":\"#2a3f5f\",\"gridcolor\":\"white\",\"linecolor\":\"white\",\"minorgridcolor\":\"white\",\"startlinecolor\":\"#2a3f5f\"},\"type\":\"carpet\"}],\"table\":[{\"cells\":{\"fill\":{\"color\":\"#EBF0F8\"},\"line\":{\"color\":\"white\"}},\"header\":{\"fill\":{\"color\":\"#C8D4E3\"},\"line\":{\"color\":\"white\"}},\"type\":\"table\"}],\"barpolar\":[{\"marker\":{\"line\":{\"color\":\"#E5ECF6\",\"width\":0.5},\"pattern\":{\"fillmode\":\"overlay\",\"size\":10,\"solidity\":0.2}},\"type\":\"barpolar\"}],\"pie\":[{\"automargin\":true,\"type\":\"pie\"}]},\"layout\":{\"autotypenumbers\":\"strict\",\"colorway\":[\"#636efa\",\"#EF553B\",\"#00cc96\",\"#ab63fa\",\"#FFA15A\",\"#19d3f3\",\"#FF6692\",\"#B6E880\",\"#FF97FF\",\"#FECB52\"],\"font\":{\"color\":\"#2a3f5f\"},\"hovermode\":\"closest\",\"hoverlabel\":{\"align\":\"left\"},\"paper_bgcolor\":\"white\",\"plot_bgcolor\":\"#E5ECF6\",\"polar\":{\"bgcolor\":\"#E5ECF6\",\"angularaxis\":{\"gridcolor\":\"white\",\"linecolor\":\"white\",\"ticks\":\"\"},\"radialaxis\":{\"gridcolor\":\"white\",\"linecolor\":\"white\",\"ticks\":\"\"}},\"ternary\":{\"bgcolor\":\"#E5ECF6\",\"aaxis\":{\"gridcolor\":\"white\",\"linecolor\":\"white\",\"ticks\":\"\"},\"baxis\":{\"gridcolor\":\"white\",\"linecolor\":\"white\",\"ticks\":\"\"},\"caxis\":{\"gridcolor\":\"white\",\"linecolor\":\"white\",\"ticks\":\"\"}},\"coloraxis\":{\"colorbar\":{\"outlinewidth\":0,\"ticks\":\"\"}},\"colorscale\":{\"sequential\":[[0.0,\"#0d0887\"],[0.1111111111111111,\"#46039f\"],[0.2222222222222222,\"#7201a8\"],[0.3333333333333333,\"#9c179e\"],[0.4444444444444444,\"#bd3786\"],[0.5555555555555556,\"#d8576b\"],[0.6666666666666666,\"#ed7953\"],[0.7777777777777778,\"#fb9f3a\"],[0.8888888888888888,\"#fdca26\"],[1.0,\"#f0f921\"]],\"sequentialminus\":[[0.0,\"#0d0887\"],[0.1111111111111111,\"#46039f\"],[0.2222222222222222,\"#7201a8\"],[0.3333333333333333,\"#9c179e\"],[0.4444444444444444,\"#bd3786\"],[0.5555555555555556,\"#d8576b\"],[0.6666666666666666,\"#ed7953\"],[0.7777777777777778,\"#fb9f3a\"],[0.8888888888888888,\"#fdca26\"],[1.0,\"#f0f921\"]],\"diverging\":[[0,\"#8e0152\"],[0.1,\"#c51b7d\"],[0.2,\"#de77ae\"],[0.3,\"#f1b6da\"],[0.4,\"#fde0ef\"],[0.5,\"#f7f7f7\"],[0.6,\"#e6f5d0\"],[0.7,\"#b8e186\"],[0.8,\"#7fbc41\"],[0.9,\"#4d9221\"],[1,\"#276419\"]]},\"xaxis\":{\"gridcolor\":\"white\",\"linecolor\":\"white\",\"ticks\":\"\",\"title\":{\"standoff\":15},\"zerolinecolor\":\"white\",\"automargin\":true,\"zerolinewidth\":2},\"yaxis\":{\"gridcolor\":\"white\",\"linecolor\":\"white\",\"ticks\":\"\",\"title\":{\"standoff\":15},\"zerolinecolor\":\"white\",\"automargin\":true,\"zerolinewidth\":2},\"scene\":{\"xaxis\":{\"backgroundcolor\":\"#E5ECF6\",\"gridcolor\":\"white\",\"linecolor\":\"white\",\"showbackground\":true,\"ticks\":\"\",\"zerolinecolor\":\"white\",\"gridwidth\":2},\"yaxis\":{\"backgroundcolor\":\"#E5ECF6\",\"gridcolor\":\"white\",\"linecolor\":\"white\",\"showbackground\":true,\"ticks\":\"\",\"zerolinecolor\":\"white\",\"gridwidth\":2},\"zaxis\":{\"backgroundcolor\":\"#E5ECF6\",\"gridcolor\":\"white\",\"linecolor\":\"white\",\"showbackground\":true,\"ticks\":\"\",\"zerolinecolor\":\"white\",\"gridwidth\":2}},\"shapedefaults\":{\"line\":{\"color\":\"#2a3f5f\"}},\"annotationdefaults\":{\"arrowcolor\":\"#2a3f5f\",\"arrowhead\":0,\"arrowwidth\":1},\"geo\":{\"bgcolor\":\"white\",\"landcolor\":\"#E5ECF6\",\"subunitcolor\":\"white\",\"showland\":true,\"showlakes\":true,\"lakecolor\":\"white\"},\"title\":{\"x\":0.05},\"mapbox\":{\"style\":\"light\"}}},\"xaxis\":{\"showgrid\":false,\"zeroline\":false,\"title\":{\"text\":\"Dataset\"},\"tickangle\":-90},\"yaxis\":{\"range\":[0,1000],\"title\":{\"text\":\"Lesion Volume (ml)\"}},\"width\":1000,\"height\":800,\"title\":{\"text\":\"Distribution of Lesion Volumes by Dataset\"},\"violingap\":0,\"violingroupgap\":0,\"violinmode\":\"overlay\",\"showlegend\":false},                        {\"responsive\": true}                    ).then(function(){\n",
       "                            \n",
       "var gd = document.getElementById('1bef1862-4382-4c66-8148-76ee07fe3fc5');\n",
       "var x = new MutationObserver(function (mutations, observer) {{\n",
       "        var display = window.getComputedStyle(gd).display;\n",
       "        if (!display || display === 'none') {{\n",
       "            console.log([gd, 'removed!']);\n",
       "            Plotly.purge(gd);\n",
       "            observer.disconnect();\n",
       "        }}\n",
       "}});\n",
       "\n",
       "// Listen for the removal of the full notebook cells\n",
       "var notebookContainer = gd.closest('#notebook-container');\n",
       "if (notebookContainer) {{\n",
       "    x.observe(notebookContainer, {childList: true});\n",
       "}}\n",
       "\n",
       "// Listen for the clearing of the current output cell\n",
       "var outputEl = gd.closest('.output');\n",
       "if (outputEl) {{\n",
       "    x.observe(outputEl, {childList: true});\n",
       "}}\n",
       "\n",
       "                        })                };            </script>        </div>"
      ]
     },
     "metadata": {},
     "output_type": "display_data"
    }
   ],
   "source": [
    "# Distribution of Lesions Volume for each Dataset\n",
    "sorted_by_median = df.groupby('dataset')['volume_ml'].median().reset_index().sort_values(by='volume_ml')['dataset'].tolist()\n",
    "fig = go.Figure()\n",
    "for dataset in sorted_by_median:\n",
    "    fig.add_trace(\n",
    "        go.Violin(\n",
    "            y=df[df['dataset'] == dataset]['volume_ml'],\n",
    "            legendgroup=dataset,\n",
    "            scalegroup=dataset,\n",
    "            name=dataset,\n",
    "            side='negative',\n",
    "            pointpos=0.25,\n",
    "            line_color='lightseagreen'\n",
    "        )\n",
    "    )\n",
    "# Update for all traces \n",
    "fig.update_traces(\n",
    "    meanline_visible=True,\n",
    "    points='all',\n",
    "    jitter=0.05\n",
    ")\n",
    "fig.update_layout(\n",
    "    xaxis_showgrid=False,\n",
    "    xaxis_zeroline=False,\n",
    "    width=1000,\n",
    "    height=800,\n",
    "    yaxis_range=[0, 1000],\n",
    "    yaxis_title='Lesion Volume (ml)',\n",
    "    xaxis_title='Dataset',\n",
    "    title='Distribution of Lesion Volumes by Dataset',\n",
    "    violingap=0,\n",
    "    violingroupgap=0,\n",
    "    violinmode='overlay',\n",
    "    showlegend=False,\n",
    "    xaxis_tickangle=-90\n",
    ")\n",
    "fig.show()"
   ]
  }
 ],
 "metadata": {
  "kernelspec": {
   "display_name": "Python 3 (ipykernel)",
   "language": "python",
   "name": "python3"
  },
  "language_info": {
   "codemirror_mode": {
    "name": "ipython",
    "version": 3
   },
   "file_extension": ".py",
   "mimetype": "text/x-python",
   "name": "python",
   "nbconvert_exporter": "python",
   "pygments_lexer": "ipython3",
   "version": "3.10.13"
  }
 },
 "nbformat": 4,
 "nbformat_minor": 5
}
