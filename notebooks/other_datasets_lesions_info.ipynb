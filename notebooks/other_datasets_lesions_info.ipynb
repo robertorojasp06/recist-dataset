{
 "cells": [
  {
   "cell_type": "code",
   "execution_count": 1,
   "id": "fc259d6d-e262-4b24-aa7c-0ec4ae08a2c4",
   "metadata": {},
   "outputs": [],
   "source": [
    "import pandas as pd\n",
    "import matplotlib.pyplot as plt\n",
    "import seaborn as sns\n",
    "import warnings\n",
    "import numpy as np\n",
    "import plotly.express as px\n",
    "from pathlib import Path\n",
    "from scipy.stats import gaussian_kde\n",
    "from matplotlib import cm"
   ]
  },
  {
   "cell_type": "code",
   "execution_count": 2,
   "id": "beed0166-4913-47b5-a6a6-d6f25986969e",
   "metadata": {},
   "outputs": [],
   "source": [
    "path_to_data = Path.cwd() / \"resources\" / \"other_datasets_lesions_info.csv\"\n",
    "min_voxels = 50\n",
    "min_slices = 2"
   ]
  },
  {
   "cell_type": "code",
   "execution_count": 87,
   "id": "5f6a3d6f-ba84-4183-969e-92b2c2828b38",
   "metadata": {},
   "outputs": [],
   "source": [
    "df = pd.read_csv(path_to_data)"
   ]
  },
  {
   "cell_type": "code",
   "execution_count": 88,
   "id": "71d3cd81-1126-4cda-9c21-27392eee4298",
   "metadata": {},
   "outputs": [],
   "source": [
    "# Add column to identify the image\n",
    "df[\"image\"] = df.apply(\n",
    "    lambda row: f\"{'-'.join([row['dataset'], row['patient'], row['study'], row['filename']])}\",\n",
    "    axis=1\n",
    ")"
   ]
  },
  {
   "cell_type": "code",
   "execution_count": 89,
   "id": "b2e3601f-939c-4e67-ba7d-765b9e0acd2a",
   "metadata": {},
   "outputs": [],
   "source": [
    "# Remove lesions smaller than 50 voxels or with 1 slice\n",
    "df = df[\n",
    "    (df[\"voxels_count\"] >= min_voxels) |\n",
    "    (df[\"slices_count\"] >= min_slices)\n",
    "].copy()"
   ]
  },
  {
   "cell_type": "code",
   "execution_count": 90,
   "id": "dca75d5a-b002-4e10-bf1e-c5a82bdc4903",
   "metadata": {},
   "outputs": [
    {
     "data": {
      "text/html": [
       "<div>\n",
       "<style scoped>\n",
       "    .dataframe tbody tr th:only-of-type {\n",
       "        vertical-align: middle;\n",
       "    }\n",
       "\n",
       "    .dataframe tbody tr th {\n",
       "        vertical-align: top;\n",
       "    }\n",
       "\n",
       "    .dataframe thead th {\n",
       "        text-align: right;\n",
       "    }\n",
       "</style>\n",
       "<table border=\"1\" class=\"dataframe\">\n",
       "  <thead>\n",
       "    <tr style=\"text-align: right;\">\n",
       "      <th></th>\n",
       "      <th>dataset</th>\n",
       "      <th>lesions_count</th>\n",
       "    </tr>\n",
       "  </thead>\n",
       "  <tbody>\n",
       "    <tr>\n",
       "      <th>0</th>\n",
       "      <td>Adrenal-ACC-Ki67</td>\n",
       "      <td>54</td>\n",
       "    </tr>\n",
       "    <tr>\n",
       "      <th>10</th>\n",
       "      <td>Task06_Lung</td>\n",
       "      <td>70</td>\n",
       "    </tr>\n",
       "    <tr>\n",
       "      <th>4</th>\n",
       "      <td>KiPA22</td>\n",
       "      <td>72</td>\n",
       "    </tr>\n",
       "    <tr>\n",
       "      <th>13</th>\n",
       "      <td>Task10_Colon</td>\n",
       "      <td>130</td>\n",
       "    </tr>\n",
       "    <tr>\n",
       "      <th>3</th>\n",
       "      <td>HCC-TACE-Seg</td>\n",
       "      <td>145</td>\n",
       "    </tr>\n",
       "    <tr>\n",
       "      <th>7</th>\n",
       "      <td>NSCLC-Radiogenomics</td>\n",
       "      <td>156</td>\n",
       "    </tr>\n",
       "    <tr>\n",
       "      <th>2</th>\n",
       "      <td>GLIS-RT</td>\n",
       "      <td>250</td>\n",
       "    </tr>\n",
       "    <tr>\n",
       "      <th>11</th>\n",
       "      <td>Task07_Pancreas</td>\n",
       "      <td>283</td>\n",
       "    </tr>\n",
       "    <tr>\n",
       "      <th>12</th>\n",
       "      <td>Task08_HepaticVessel</td>\n",
       "      <td>532</td>\n",
       "    </tr>\n",
       "    <tr>\n",
       "      <th>5</th>\n",
       "      <td>KiTS23</td>\n",
       "      <td>602</td>\n",
       "    </tr>\n",
       "    <tr>\n",
       "      <th>9</th>\n",
       "      <td>Task03_Liver</td>\n",
       "      <td>857</td>\n",
       "    </tr>\n",
       "    <tr>\n",
       "      <th>1</th>\n",
       "      <td>CT-Lymph-Nodes</td>\n",
       "      <td>1031</td>\n",
       "    </tr>\n",
       "    <tr>\n",
       "      <th>6</th>\n",
       "      <td>Mediastinal-Lymph-Node-SEG</td>\n",
       "      <td>1438</td>\n",
       "    </tr>\n",
       "    <tr>\n",
       "      <th>8</th>\n",
       "      <td>PET-CT</td>\n",
       "      <td>7141</td>\n",
       "    </tr>\n",
       "  </tbody>\n",
       "</table>\n",
       "</div>"
      ],
      "text/plain": [
       "                       dataset  lesions_count\n",
       "0             Adrenal-ACC-Ki67             54\n",
       "10                 Task06_Lung             70\n",
       "4                       KiPA22             72\n",
       "13                Task10_Colon            130\n",
       "3                 HCC-TACE-Seg            145\n",
       "7          NSCLC-Radiogenomics            156\n",
       "2                      GLIS-RT            250\n",
       "11             Task07_Pancreas            283\n",
       "12        Task08_HepaticVessel            532\n",
       "5                       KiTS23            602\n",
       "9                 Task03_Liver            857\n",
       "1               CT-Lymph-Nodes           1031\n",
       "6   Mediastinal-Lymph-Node-SEG           1438\n",
       "8                       PET-CT           7141"
      ]
     },
     "metadata": {},
     "output_type": "display_data"
    }
   ],
   "source": [
    "# Total annotated lesions\n",
    "grouped = df.groupby('dataset').size().reset_index(name='lesions_count')\n",
    "display(grouped.sort_values(by='lesions_count'))"
   ]
  },
  {
   "cell_type": "code",
   "execution_count": 7,
   "id": "6ff7f1b8-c956-4ae2-a0c1-922a41f6758b",
   "metadata": {},
   "outputs": [
    {
     "data": {
      "text/html": [
       "<div>\n",
       "<style scoped>\n",
       "    .dataframe tbody tr th:only-of-type {\n",
       "        vertical-align: middle;\n",
       "    }\n",
       "\n",
       "    .dataframe tbody tr th {\n",
       "        vertical-align: top;\n",
       "    }\n",
       "\n",
       "    .dataframe thead th {\n",
       "        text-align: right;\n",
       "    }\n",
       "</style>\n",
       "<table border=\"1\" class=\"dataframe\">\n",
       "  <thead>\n",
       "    <tr style=\"text-align: right;\">\n",
       "      <th></th>\n",
       "      <th>volume_mm3</th>\n",
       "      <th>volume_ml</th>\n",
       "    </tr>\n",
       "    <tr>\n",
       "      <th>dataset</th>\n",
       "      <th></th>\n",
       "      <th></th>\n",
       "    </tr>\n",
       "  </thead>\n",
       "  <tbody>\n",
       "    <tr>\n",
       "      <th>Adrenal-ACC-Ki67</th>\n",
       "      <td>2.815078e+07</td>\n",
       "      <td>28150.777203</td>\n",
       "    </tr>\n",
       "    <tr>\n",
       "      <th>CT-Lymph-Nodes</th>\n",
       "      <td>4.912883e+06</td>\n",
       "      <td>4912.883119</td>\n",
       "    </tr>\n",
       "    <tr>\n",
       "      <th>GLIS-RT</th>\n",
       "      <td>3.259464e+07</td>\n",
       "      <td>32594.640646</td>\n",
       "    </tr>\n",
       "    <tr>\n",
       "      <th>HCC-TACE-Seg</th>\n",
       "      <td>4.002449e+07</td>\n",
       "      <td>40024.492483</td>\n",
       "    </tr>\n",
       "    <tr>\n",
       "      <th>KiPA22</th>\n",
       "      <td>2.852676e+06</td>\n",
       "      <td>2852.675798</td>\n",
       "    </tr>\n",
       "    <tr>\n",
       "      <th>KiTS23</th>\n",
       "      <td>6.454911e+07</td>\n",
       "      <td>64549.105090</td>\n",
       "    </tr>\n",
       "    <tr>\n",
       "      <th>Mediastinal-Lymph-Node-SEG</th>\n",
       "      <td>9.796613e+06</td>\n",
       "      <td>9796.613349</td>\n",
       "    </tr>\n",
       "    <tr>\n",
       "      <th>NSCLC-Radiogenomics</th>\n",
       "      <td>3.905487e+06</td>\n",
       "      <td>3905.486775</td>\n",
       "    </tr>\n",
       "    <tr>\n",
       "      <th>PET-CT</th>\n",
       "      <td>1.100855e+08</td>\n",
       "      <td>110085.477634</td>\n",
       "    </tr>\n",
       "    <tr>\n",
       "      <th>Task03_Liver</th>\n",
       "      <td>1.021325e+07</td>\n",
       "      <td>10213.245204</td>\n",
       "    </tr>\n",
       "    <tr>\n",
       "      <th>Task06_Lung</th>\n",
       "      <td>1.384761e+06</td>\n",
       "      <td>1384.760864</td>\n",
       "    </tr>\n",
       "    <tr>\n",
       "      <th>Task07_Pancreas</th>\n",
       "      <td>3.635317e+06</td>\n",
       "      <td>3635.316687</td>\n",
       "    </tr>\n",
       "    <tr>\n",
       "      <th>Task08_HepaticVessel</th>\n",
       "      <td>4.225789e+07</td>\n",
       "      <td>42257.885540</td>\n",
       "    </tr>\n",
       "    <tr>\n",
       "      <th>Task10_Colon</th>\n",
       "      <td>4.540225e+06</td>\n",
       "      <td>4540.225030</td>\n",
       "    </tr>\n",
       "  </tbody>\n",
       "</table>\n",
       "</div>"
      ],
      "text/plain": [
       "                              volume_mm3      volume_ml\n",
       "dataset                                                \n",
       "Adrenal-ACC-Ki67            2.815078e+07   28150.777203\n",
       "CT-Lymph-Nodes              4.912883e+06    4912.883119\n",
       "GLIS-RT                     3.259464e+07   32594.640646\n",
       "HCC-TACE-Seg                4.002449e+07   40024.492483\n",
       "KiPA22                      2.852676e+06    2852.675798\n",
       "KiTS23                      6.454911e+07   64549.105090\n",
       "Mediastinal-Lymph-Node-SEG  9.796613e+06    9796.613349\n",
       "NSCLC-Radiogenomics         3.905487e+06    3905.486775\n",
       "PET-CT                      1.100855e+08  110085.477634\n",
       "Task03_Liver                1.021325e+07   10213.245204\n",
       "Task06_Lung                 1.384761e+06    1384.760864\n",
       "Task07_Pancreas             3.635317e+06    3635.316687\n",
       "Task08_HepaticVessel        4.225789e+07   42257.885540\n",
       "Task10_Colon                4.540225e+06    4540.225030"
      ]
     },
     "metadata": {},
     "output_type": "display_data"
    }
   ],
   "source": [
    "# Total annotated volume\n",
    "grouped = df.groupby('dataset')[['volume_mm3', 'volume_ml']].sum()\n",
    "display(grouped)"
   ]
  },
  {
   "cell_type": "code",
   "execution_count": 8,
   "id": "5dbd0367-e559-43fd-8b11-bb110e5e1086",
   "metadata": {},
   "outputs": [
    {
     "data": {
      "text/html": [
       "<div>\n",
       "<style scoped>\n",
       "    .dataframe tbody tr th:only-of-type {\n",
       "        vertical-align: middle;\n",
       "    }\n",
       "\n",
       "    .dataframe tbody tr th {\n",
       "        vertical-align: top;\n",
       "    }\n",
       "\n",
       "    .dataframe thead th {\n",
       "        text-align: right;\n",
       "    }\n",
       "</style>\n",
       "<table border=\"1\" class=\"dataframe\">\n",
       "  <thead>\n",
       "    <tr style=\"text-align: right;\">\n",
       "      <th></th>\n",
       "      <th>dataset</th>\n",
       "      <th>annotated_volumes</th>\n",
       "    </tr>\n",
       "  </thead>\n",
       "  <tbody>\n",
       "    <tr>\n",
       "      <th>0</th>\n",
       "      <td>Adrenal-ACC-Ki67</td>\n",
       "      <td>53</td>\n",
       "    </tr>\n",
       "    <tr>\n",
       "      <th>1</th>\n",
       "      <td>CT-Lymph-Nodes</td>\n",
       "      <td>1031</td>\n",
       "    </tr>\n",
       "    <tr>\n",
       "      <th>2</th>\n",
       "      <td>GLIS-RT</td>\n",
       "      <td>229</td>\n",
       "    </tr>\n",
       "    <tr>\n",
       "      <th>3</th>\n",
       "      <td>HCC-TACE-Seg</td>\n",
       "      <td>105</td>\n",
       "    </tr>\n",
       "    <tr>\n",
       "      <th>4</th>\n",
       "      <td>KiPA22</td>\n",
       "      <td>70</td>\n",
       "    </tr>\n",
       "    <tr>\n",
       "      <th>5</th>\n",
       "      <td>KiTS23</td>\n",
       "      <td>489</td>\n",
       "    </tr>\n",
       "    <tr>\n",
       "      <th>6</th>\n",
       "      <td>Mediastinal-Lymph-Node-SEG</td>\n",
       "      <td>513</td>\n",
       "    </tr>\n",
       "    <tr>\n",
       "      <th>7</th>\n",
       "      <td>NSCLC-Radiogenomics</td>\n",
       "      <td>144</td>\n",
       "    </tr>\n",
       "    <tr>\n",
       "      <th>8</th>\n",
       "      <td>PET-CT</td>\n",
       "      <td>501</td>\n",
       "    </tr>\n",
       "    <tr>\n",
       "      <th>9</th>\n",
       "      <td>Task03_Liver</td>\n",
       "      <td>118</td>\n",
       "    </tr>\n",
       "    <tr>\n",
       "      <th>10</th>\n",
       "      <td>Task06_Lung</td>\n",
       "      <td>63</td>\n",
       "    </tr>\n",
       "    <tr>\n",
       "      <th>11</th>\n",
       "      <td>Task07_Pancreas</td>\n",
       "      <td>281</td>\n",
       "    </tr>\n",
       "    <tr>\n",
       "      <th>12</th>\n",
       "      <td>Task08_HepaticVessel</td>\n",
       "      <td>303</td>\n",
       "    </tr>\n",
       "    <tr>\n",
       "      <th>13</th>\n",
       "      <td>Task10_Colon</td>\n",
       "      <td>126</td>\n",
       "    </tr>\n",
       "  </tbody>\n",
       "</table>\n",
       "</div>"
      ],
      "text/plain": [
       "                       dataset  annotated_volumes\n",
       "0             Adrenal-ACC-Ki67                 53\n",
       "1               CT-Lymph-Nodes               1031\n",
       "2                      GLIS-RT                229\n",
       "3                 HCC-TACE-Seg                105\n",
       "4                       KiPA22                 70\n",
       "5                       KiTS23                489\n",
       "6   Mediastinal-Lymph-Node-SEG                513\n",
       "7          NSCLC-Radiogenomics                144\n",
       "8                       PET-CT                501\n",
       "9                 Task03_Liver                118\n",
       "10                 Task06_Lung                 63\n",
       "11             Task07_Pancreas                281\n",
       "12        Task08_HepaticVessel                303\n",
       "13                Task10_Colon                126"
      ]
     },
     "metadata": {},
     "output_type": "display_data"
    }
   ],
   "source": [
    "# Volumes with annotated lesions\n",
    "grouped = df.groupby(['dataset'])['image'].nunique().reset_index(name='annotated_volumes')\n",
    "display(grouped)"
   ]
  },
  {
   "cell_type": "code",
   "execution_count": 9,
   "id": "a29581c6-0bf6-4eab-8d1b-dc089f9dbdc3",
   "metadata": {},
   "outputs": [
    {
     "data": {
      "text/html": [
       "<div>\n",
       "<style scoped>\n",
       "    .dataframe tbody tr th:only-of-type {\n",
       "        vertical-align: middle;\n",
       "    }\n",
       "\n",
       "    .dataframe tbody tr th {\n",
       "        vertical-align: top;\n",
       "    }\n",
       "\n",
       "    .dataframe thead th {\n",
       "        text-align: right;\n",
       "    }\n",
       "</style>\n",
       "<table border=\"1\" class=\"dataframe\">\n",
       "  <thead>\n",
       "    <tr style=\"text-align: right;\">\n",
       "      <th></th>\n",
       "      <th>count</th>\n",
       "      <th>mean</th>\n",
       "      <th>std</th>\n",
       "      <th>min</th>\n",
       "      <th>25%</th>\n",
       "      <th>50%</th>\n",
       "      <th>75%</th>\n",
       "      <th>max</th>\n",
       "    </tr>\n",
       "    <tr>\n",
       "      <th>dataset</th>\n",
       "      <th></th>\n",
       "      <th></th>\n",
       "      <th></th>\n",
       "      <th></th>\n",
       "      <th></th>\n",
       "      <th></th>\n",
       "      <th></th>\n",
       "      <th></th>\n",
       "    </tr>\n",
       "  </thead>\n",
       "  <tbody>\n",
       "    <tr>\n",
       "      <th>Adrenal-ACC-Ki67</th>\n",
       "      <td>54.0</td>\n",
       "      <td>521.310689</td>\n",
       "      <td>1123.448462</td>\n",
       "      <td>0.584412</td>\n",
       "      <td>54.587495</td>\n",
       "      <td>177.445068</td>\n",
       "      <td>549.581985</td>\n",
       "      <td>7863.760712</td>\n",
       "    </tr>\n",
       "    <tr>\n",
       "      <th>CT-Lymph-Nodes</th>\n",
       "      <td>1031.0</td>\n",
       "      <td>4.765163</td>\n",
       "      <td>10.698951</td>\n",
       "      <td>0.019996</td>\n",
       "      <td>1.100525</td>\n",
       "      <td>2.340375</td>\n",
       "      <td>4.763207</td>\n",
       "      <td>209.709473</td>\n",
       "    </tr>\n",
       "    <tr>\n",
       "      <th>GLIS-RT</th>\n",
       "      <td>250.0</td>\n",
       "      <td>130.378563</td>\n",
       "      <td>91.379041</td>\n",
       "      <td>0.464349</td>\n",
       "      <td>56.726751</td>\n",
       "      <td>121.228342</td>\n",
       "      <td>188.197556</td>\n",
       "      <td>473.378970</td>\n",
       "    </tr>\n",
       "    <tr>\n",
       "      <th>HCC-TACE-Seg</th>\n",
       "      <td>145.0</td>\n",
       "      <td>276.030983</td>\n",
       "      <td>569.153760</td>\n",
       "      <td>0.066742</td>\n",
       "      <td>8.989014</td>\n",
       "      <td>43.507113</td>\n",
       "      <td>245.304955</td>\n",
       "      <td>4054.628325</td>\n",
       "    </tr>\n",
       "    <tr>\n",
       "      <th>KiPA22</th>\n",
       "      <td>72.0</td>\n",
       "      <td>39.620497</td>\n",
       "      <td>47.833205</td>\n",
       "      <td>1.941254</td>\n",
       "      <td>10.800999</td>\n",
       "      <td>26.058104</td>\n",
       "      <td>49.480939</td>\n",
       "      <td>263.874677</td>\n",
       "    </tr>\n",
       "    <tr>\n",
       "      <th>KiTS23</th>\n",
       "      <td>602.0</td>\n",
       "      <td>107.224427</td>\n",
       "      <td>245.738676</td>\n",
       "      <td>0.001308</td>\n",
       "      <td>4.774009</td>\n",
       "      <td>18.324243</td>\n",
       "      <td>71.527078</td>\n",
       "      <td>2590.918263</td>\n",
       "    </tr>\n",
       "    <tr>\n",
       "      <th>Mediastinal-Lymph-Node-SEG</th>\n",
       "      <td>1438.0</td>\n",
       "      <td>6.812666</td>\n",
       "      <td>16.027156</td>\n",
       "      <td>0.005490</td>\n",
       "      <td>0.540306</td>\n",
       "      <td>2.189587</td>\n",
       "      <td>6.029569</td>\n",
       "      <td>224.386235</td>\n",
       "    </tr>\n",
       "    <tr>\n",
       "      <th>NSCLC-Radiogenomics</th>\n",
       "      <td>156.0</td>\n",
       "      <td>25.035172</td>\n",
       "      <td>53.826520</td>\n",
       "      <td>0.003815</td>\n",
       "      <td>2.555422</td>\n",
       "      <td>6.605518</td>\n",
       "      <td>22.184753</td>\n",
       "      <td>371.856445</td>\n",
       "    </tr>\n",
       "    <tr>\n",
       "      <th>PET-CT</th>\n",
       "      <td>7141.0</td>\n",
       "      <td>15.415975</td>\n",
       "      <td>77.274389</td>\n",
       "      <td>0.024882</td>\n",
       "      <td>0.559846</td>\n",
       "      <td>1.542687</td>\n",
       "      <td>4.615619</td>\n",
       "      <td>2144.682651</td>\n",
       "    </tr>\n",
       "    <tr>\n",
       "      <th>Task03_Liver</th>\n",
       "      <td>857.0</td>\n",
       "      <td>11.917439</td>\n",
       "      <td>54.748762</td>\n",
       "      <td>0.000976</td>\n",
       "      <td>0.172187</td>\n",
       "      <td>0.608098</td>\n",
       "      <td>3.366875</td>\n",
       "      <td>968.636209</td>\n",
       "    </tr>\n",
       "    <tr>\n",
       "      <th>Task06_Lung</th>\n",
       "      <td>70.0</td>\n",
       "      <td>19.782298</td>\n",
       "      <td>49.800521</td>\n",
       "      <td>0.003798</td>\n",
       "      <td>1.536333</td>\n",
       "      <td>4.951139</td>\n",
       "      <td>12.497090</td>\n",
       "      <td>370.380830</td>\n",
       "    </tr>\n",
       "    <tr>\n",
       "      <th>Task07_Pancreas</th>\n",
       "      <td>283.0</td>\n",
       "      <td>12.845642</td>\n",
       "      <td>46.564436</td>\n",
       "      <td>0.201219</td>\n",
       "      <td>2.747302</td>\n",
       "      <td>5.755612</td>\n",
       "      <td>10.189377</td>\n",
       "      <td>732.388147</td>\n",
       "    </tr>\n",
       "    <tr>\n",
       "      <th>Task08_HepaticVessel</th>\n",
       "      <td>532.0</td>\n",
       "      <td>79.432116</td>\n",
       "      <td>244.763596</td>\n",
       "      <td>0.015877</td>\n",
       "      <td>1.028779</td>\n",
       "      <td>6.059212</td>\n",
       "      <td>40.031004</td>\n",
       "      <td>2122.625152</td>\n",
       "    </tr>\n",
       "    <tr>\n",
       "      <th>Task10_Colon</th>\n",
       "      <td>130.0</td>\n",
       "      <td>34.924808</td>\n",
       "      <td>50.488145</td>\n",
       "      <td>0.148924</td>\n",
       "      <td>11.412627</td>\n",
       "      <td>21.194216</td>\n",
       "      <td>39.414937</td>\n",
       "      <td>467.862643</td>\n",
       "    </tr>\n",
       "  </tbody>\n",
       "</table>\n",
       "</div>"
      ],
      "text/plain": [
       "                             count        mean          std       min  \\\n",
       "dataset                                                                 \n",
       "Adrenal-ACC-Ki67              54.0  521.310689  1123.448462  0.584412   \n",
       "CT-Lymph-Nodes              1031.0    4.765163    10.698951  0.019996   \n",
       "GLIS-RT                      250.0  130.378563    91.379041  0.464349   \n",
       "HCC-TACE-Seg                 145.0  276.030983   569.153760  0.066742   \n",
       "KiPA22                        72.0   39.620497    47.833205  1.941254   \n",
       "KiTS23                       602.0  107.224427   245.738676  0.001308   \n",
       "Mediastinal-Lymph-Node-SEG  1438.0    6.812666    16.027156  0.005490   \n",
       "NSCLC-Radiogenomics          156.0   25.035172    53.826520  0.003815   \n",
       "PET-CT                      7141.0   15.415975    77.274389  0.024882   \n",
       "Task03_Liver                 857.0   11.917439    54.748762  0.000976   \n",
       "Task06_Lung                   70.0   19.782298    49.800521  0.003798   \n",
       "Task07_Pancreas              283.0   12.845642    46.564436  0.201219   \n",
       "Task08_HepaticVessel         532.0   79.432116   244.763596  0.015877   \n",
       "Task10_Colon                 130.0   34.924808    50.488145  0.148924   \n",
       "\n",
       "                                  25%         50%         75%          max  \n",
       "dataset                                                                     \n",
       "Adrenal-ACC-Ki67            54.587495  177.445068  549.581985  7863.760712  \n",
       "CT-Lymph-Nodes               1.100525    2.340375    4.763207   209.709473  \n",
       "GLIS-RT                     56.726751  121.228342  188.197556   473.378970  \n",
       "HCC-TACE-Seg                 8.989014   43.507113  245.304955  4054.628325  \n",
       "KiPA22                      10.800999   26.058104   49.480939   263.874677  \n",
       "KiTS23                       4.774009   18.324243   71.527078  2590.918263  \n",
       "Mediastinal-Lymph-Node-SEG   0.540306    2.189587    6.029569   224.386235  \n",
       "NSCLC-Radiogenomics          2.555422    6.605518   22.184753   371.856445  \n",
       "PET-CT                       0.559846    1.542687    4.615619  2144.682651  \n",
       "Task03_Liver                 0.172187    0.608098    3.366875   968.636209  \n",
       "Task06_Lung                  1.536333    4.951139   12.497090   370.380830  \n",
       "Task07_Pancreas              2.747302    5.755612   10.189377   732.388147  \n",
       "Task08_HepaticVessel         1.028779    6.059212   40.031004  2122.625152  \n",
       "Task10_Colon                11.412627   21.194216   39.414937   467.862643  "
      ]
     },
     "metadata": {},
     "output_type": "display_data"
    }
   ],
   "source": [
    "# Statistics of annotated lesions (volume_ml)\n",
    "grouped = df.groupby('dataset')['volume_ml'].describe()\n",
    "display(grouped)"
   ]
  },
  {
   "cell_type": "code",
   "execution_count": 123,
   "id": "f2dd445a-f7ec-4804-9527-305dbe3eb67a",
   "metadata": {},
   "outputs": [
    {
     "data": {
      "image/png": "[encoded data removed]",
      "text/plain": [
       "<Figure size 640x480 with 1 Axes>"
      ]
     },
     "metadata": {},
     "output_type": "display_data"
    }
   ],
   "source": [
    "# Boxplots of lesion volumes\n",
    "sns.boxplot(x=\"dataset\", y=\"volume_ml\", data=df)\n",
    "plt.title(\"Volume of annotated lesions for each dataset\")\n",
    "plt.xticks(rotation=90)\n",
    "plt.ylabel(\"volume (ml)\")\n",
    "plt.ylim([0, 250])\n",
    "plt.show()"
   ]
  },
  {
   "cell_type": "markdown",
   "id": "260e6c78-5937-47e9-9b76-be56938d6dac",
   "metadata": {},
   "source": [
    "# Analysis from final table"
   ]
  },
  {
   "cell_type": "code",
   "execution_count": 13,
   "id": "0ea32dca-a5ca-4bf7-95d3-6fb7b07e4efa",
   "metadata": {},
   "outputs": [
    {
     "data": {
      "text/html": [
       "        <script type=\"text/javascript\">\n",
       "        window.PlotlyConfig = {MathJaxConfig: 'local'};\n",
       "        if (window.MathJax && window.MathJax.Hub && window.MathJax.Hub.Config) {window.MathJax.Hub.Config({SVG: {font: \"STIX-Web\"}});}\n",
       "        </script>\n",
       "        <script type=\"module\">import \"https://cdn.plot.ly/plotly-3.0.1.min\"</script>\n",
       "        "
      ]
     },
     "metadata": {},
     "output_type": "display_data"
    }
   ],
   "source": [
    "from plotly.subplots import make_subplots\n",
    "import plotly.graph_objects as go\n",
    "import plotly.offline as pyo\n",
    "pyo.init_notebook_mode(connected=True)"
   ]
  },
  {
   "cell_type": "code",
   "execution_count": 14,
   "id": "e1d2def6-1a5d-4f58-90b4-98fc13ffec21",
   "metadata": {},
   "outputs": [],
   "source": [
    "path_to_csv = Path.cwd() / \"resources\" / \"datasets_with_annotations_for_tumor_segmentation.csv\""
   ]
  },
  {
   "cell_type": "code",
   "execution_count": 15,
   "id": "c57532d9-bb1d-4908-ad48-4a30119668ed",
   "metadata": {},
   "outputs": [
    {
     "data": {
      "text/plain": [
       "Index(['Dataset', 'Modality', 'Anatomical region', 'Affected organ',\n",
       "       'File format', 'Primary diagnosis', 'Age', 'Sex', 'Race/Ethnicity',\n",
       "       'Pathologies', 'Lesions', 'Labels', 'Images',\n",
       "       'Images with annotated lesions', 'Images without lesions',\n",
       "       'Annotated lesions', 'Annotated volume (ml)', 'Patients',\n",
       "       'Multicentric data', 'Annotators', 'Annotation approach',\n",
       "       'Years of experience of annotators', 'License'],\n",
       "      dtype='object')"
      ]
     },
     "execution_count": 15,
     "metadata": {},
     "output_type": "execute_result"
    }
   ],
   "source": [
    "table_df = pd.read_csv(path_to_csv)\n",
    "table_df.columns"
   ]
  },
  {
   "cell_type": "code",
   "execution_count": 16,
   "id": "7767872c-00da-4e46-9641-3f40d614a316",
   "metadata": {},
   "outputs": [
    {
     "data": {
      "application/vnd.plotly.v1+json": {
       "config": {
        "plotlyServerURL": "https://plot.ly"
       },
       "data": [
        {
         "domain": {
          "x": [
           0,
           0.2888888888888889
          ],
          "y": [
           0.625,
           1
          ]
         },
         "labels": [
          "CT",
          "PET-CT"
         ],
         "textinfo": "label+value",
         "textposition": "inside",
         "type": "pie",
         "values": {
          "bdata": "DAI=",
          "dtype": "i1"
         }
        },
        {
         "domain": {
          "x": [
           0.35555555555555557,
           0.6444444444444445
          ],
          "y": [
           0.625,
           1
          ]
         },
         "labels": [
          "Abdomen",
          "Thorax",
          "Whole-body",
          "Head-and-neck",
          "Thorax (mediastinum)",
          "Abdomen, Thorax (mediastinum)"
         ],
         "textinfo": "label+value",
         "textposition": "inside",
         "type": "pie",
         "values": {
          "bdata": "CAIBAQEB",
          "dtype": "i1"
         }
        },
        {
         "domain": {
          "x": [
           0.7111111111111111,
           1
          ],
          "y": [
           0.625,
           1
          ]
         },
         "labels": [
          "Liver",
          "Lung",
          "Kidney",
          "Lymph nodes",
          "Lymph nodes, Lung, Skin",
          "Pancreas",
          "Colon",
          "Adrenal glands",
          "Brain"
         ],
         "textinfo": "label+value",
         "textposition": "inside",
         "type": "pie",
         "values": {
          "bdata": "AwICAgEBAQEB",
          "dtype": "i1"
         }
        },
        {
         "domain": {
          "x": [
           0,
           0.2888888888888889
          ],
          "y": [
           0,
           0.375
          ]
         },
         "labels": [
          "NIfTI",
          "DICOM",
          "DICOM, NIfTI"
         ],
         "textinfo": "label+value",
         "textposition": "inside",
         "type": "pie",
         "values": {
          "bdata": "BwYB",
          "dtype": "i1"
         }
        },
        {
         "domain": {
          "x": [
           0.35555555555555557,
           0.6444444444444445
          ],
          "y": [
           0,
           0.375
          ]
         },
         "labels": [
          "No",
          "Yes"
         ],
         "textinfo": "label+value",
         "textposition": "inside",
         "type": "pie",
         "values": {
          "bdata": "DAI=",
          "dtype": "i1"
         }
        },
        {
         "domain": {
          "x": [
           0.7111111111111111,
           1
          ],
          "y": [
           0,
           0.375
          ]
         },
         "labels": [
          "CC BY-SA 4.0",
          "CC BY 4.0",
          "TCIA Restricted",
          "CC BY-NC 3.0",
          "CC BY-NC-ND",
          "CC BY-NC-SA 4.0",
          "CC BY 3.0"
         ],
         "textinfo": "label+value",
         "textposition": "inside",
         "type": "pie",
         "values": {
          "bdata": "BQMCAQEBAQ==",
          "dtype": "i1"
         }
        }
       ],
       "layout": {
        "annotations": [
         {
          "font": {
           "size": 16
          },
          "showarrow": false,
          "text": "Modality",
          "x": 0.14444444444444446,
          "xanchor": "center",
          "xref": "paper",
          "y": 1,
          "yanchor": "bottom",
          "yref": "paper"
         },
         {
          "font": {
           "size": 16
          },
          "showarrow": false,
          "text": "Anatomical region",
          "x": 0.5,
          "xanchor": "center",
          "xref": "paper",
          "y": 1,
          "yanchor": "bottom",
          "yref": "paper"
         },
         {
          "font": {
           "size": 16
          },
          "showarrow": false,
          "text": "Affected organ",
          "x": 0.8555555555555556,
          "xanchor": "center",
          "xref": "paper",
          "y": 1,
          "yanchor": "bottom",
          "yref": "paper"
         },
         {
          "font": {
           "size": 16
          },
          "showarrow": false,
          "text": "File format",
          "x": 0.14444444444444446,
          "xanchor": "center",
          "xref": "paper",
          "y": 0.375,
          "yanchor": "bottom",
          "yref": "paper"
         },
         {
          "font": {
           "size": 16
          },
          "showarrow": false,
          "text": "Multicentric data",
          "x": 0.5,
          "xanchor": "center",
          "xref": "paper",
          "y": 0.375,
          "yanchor": "bottom",
          "yref": "paper"
         },
         {
          "font": {
           "size": 16
          },
          "showarrow": false,
          "text": "License",
          "x": 0.8555555555555556,
          "xanchor": "center",
          "xref": "paper",
          "y": 0.375,
          "yanchor": "bottom",
          "yref": "paper"
         }
        ],
        "height": 700,
        "showlegend": false,
        "template": {
         "data": {
          "bar": [
           {
            "error_x": {
             "color": "#2a3f5f"
            },
            "error_y": {
             "color": "#2a3f5f"
            },
            "marker": {
             "line": {
              "color": "#E5ECF6",
              "width": 0.5
             },
             "pattern": {
              "fillmode": "overlay",
              "size": 10,
              "solidity": 0.2
             }
            },
            "type": "bar"
           }
          ],
          "barpolar": [
           {
            "marker": {
             "line": {
              "color": "#E5ECF6",
              "width": 0.5
             },
             "pattern": {
              "fillmode": "overlay",
              "size": 10,
              "solidity": 0.2
             }
            },
            "type": "barpolar"
           }
          ],
          "carpet": [
           {
            "aaxis": {
             "endlinecolor": "#2a3f5f",
             "gridcolor": "white",
             "linecolor": "white",
             "minorgridcolor": "white",
             "startlinecolor": "#2a3f5f"
            },
            "baxis": {
             "endlinecolor": "#2a3f5f",
             "gridcolor": "white",
             "linecolor": "white",
             "minorgridcolor": "white",
             "startlinecolor": "#2a3f5f"
            },
            "type": "carpet"
           }
          ],
          "choropleth": [
           {
            "colorbar": {
             "outlinewidth": 0,
             "ticks": ""
            },
            "type": "choropleth"
           }
          ],
          "contour": [
           {
            "colorbar": {
             "outlinewidth": 0,
             "ticks": ""
            },
            "colorscale": [
             [
              0,
              "#0d0887"
             ],
             [
              0.1111111111111111,
              "#46039f"
             ],
             [
              0.2222222222222222,
              "#7201a8"
             ],
             [
              0.3333333333333333,
              "#9c179e"
             ],
             [
              0.4444444444444444,
              "#bd3786"
             ],
             [
              0.5555555555555556,
              "#d8576b"
             ],
             [
              0.6666666666666666,
              "#ed7953"
             ],
             [
              0.7777777777777778,
              "#fb9f3a"
             ],
             [
              0.8888888888888888,
              "#fdca26"
             ],
             [
              1,
              "#f0f921"
             ]
            ],
            "type": "contour"
           }
          ],
          "contourcarpet": [
           {
            "colorbar": {
             "outlinewidth": 0,
             "ticks": ""
            },
            "type": "contourcarpet"
           }
          ],
          "heatmap": [
           {
            "colorbar": {
             "outlinewidth": 0,
             "ticks": ""
            },
            "colorscale": [
             [
              0,
              "#0d0887"
             ],
             [
              0.1111111111111111,
              "#46039f"
             ],
             [
              0.2222222222222222,
              "#7201a8"
             ],
             [
              0.3333333333333333,
              "#9c179e"
             ],
             [
              0.4444444444444444,
              "#bd3786"
             ],
             [
              0.5555555555555556,
              "#d8576b"
             ],
             [
              0.6666666666666666,
              "#ed7953"
             ],
             [
              0.7777777777777778,
              "#fb9f3a"
             ],
             [
              0.8888888888888888,
              "#fdca26"
             ],
             [
              1,
              "#f0f921"
             ]
            ],
            "type": "heatmap"
           }
          ],
          "histogram": [
           {
            "marker": {
             "pattern": {
              "fillmode": "overlay",
              "size": 10,
              "solidity": 0.2
             }
            },
            "type": "histogram"
           }
          ],
          "histogram2d": [
           {
            "colorbar": {
             "outlinewidth": 0,
             "ticks": ""
            },
            "colorscale": [
             [
              0,
              "#0d0887"
             ],
             [
              0.1111111111111111,
              "#46039f"
             ],
             [
              0.2222222222222222,
              "#7201a8"
             ],
             [
              0.3333333333333333,
              "#9c179e"
             ],
             [
              0.4444444444444444,
              "#bd3786"
             ],
             [
              0.5555555555555556,
              "#d8576b"
             ],
             [
              0.6666666666666666,
              "#ed7953"
             ],
             [
              0.7777777777777778,
              "#fb9f3a"
             ],
             [
              0.8888888888888888,
              "#fdca26"
             ],
             [
              1,
              "#f0f921"
             ]
            ],
            "type": "histogram2d"
           }
          ],
          "histogram2dcontour": [
           {
            "colorbar": {
             "outlinewidth": 0,
             "ticks": ""
            },
            "colorscale": [
             [
              0,
              "#0d0887"
             ],
             [
              0.1111111111111111,
              "#46039f"
             ],
             [
              0.2222222222222222,
              "#7201a8"
             ],
             [
              0.3333333333333333,
              "#9c179e"
             ],
             [
              0.4444444444444444,
              "#bd3786"
             ],
             [
              0.5555555555555556,
              "#d8576b"
             ],
             [
              0.6666666666666666,
              "#ed7953"
             ],
             [
              0.7777777777777778,
              "#fb9f3a"
             ],
             [
              0.8888888888888888,
              "#fdca26"
             ],
             [
              1,
              "#f0f921"
             ]
            ],
            "type": "histogram2dcontour"
           }
          ],
          "mesh3d": [
           {
            "colorbar": {
             "outlinewidth": 0,
             "ticks": ""
            },
            "type": "mesh3d"
           }
          ],
          "parcoords": [
           {
            "line": {
             "colorbar": {
              "outlinewidth": 0,
              "ticks": ""
             }
            },
            "type": "parcoords"
           }
          ],
          "pie": [
           {
            "automargin": true,
            "type": "pie"
           }
          ],
          "scatter": [
           {
            "fillpattern": {
             "fillmode": "overlay",
             "size": 10,
             "solidity": 0.2
            },
            "type": "scatter"
           }
          ],
          "scatter3d": [
           {
            "line": {
             "colorbar": {
              "outlinewidth": 0,
              "ticks": ""
             }
            },
            "marker": {
             "colorbar": {
              "outlinewidth": 0,
              "ticks": ""
             }
            },
            "type": "scatter3d"
           }
          ],
          "scattercarpet": [
           {
            "marker": {
             "colorbar": {
              "outlinewidth": 0,
              "ticks": ""
             }
            },
            "type": "scattercarpet"
           }
          ],
          "scattergeo": [
           {
            "marker": {
             "colorbar": {
              "outlinewidth": 0,
              "ticks": ""
             }
            },
            "type": "scattergeo"
           }
          ],
          "scattergl": [
           {
            "marker": {
             "colorbar": {
              "outlinewidth": 0,
              "ticks": ""
             }
            },
            "type": "scattergl"
           }
          ],
          "scattermap": [
           {
            "marker": {
             "colorbar": {
              "outlinewidth": 0,
              "ticks": ""
             }
            },
            "type": "scattermap"
           }
          ],
          "scattermapbox": [
           {
            "marker": {
             "colorbar": {
              "outlinewidth": 0,
              "ticks": ""
             }
            },
            "type": "scattermapbox"
           }
          ],
          "scatterpolar": [
           {
            "marker": {
             "colorbar": {
              "outlinewidth": 0,
              "ticks": ""
             }
            },
            "type": "scatterpolar"
           }
          ],
          "scatterpolargl": [
           {
            "marker": {
             "colorbar": {
              "outlinewidth": 0,
              "ticks": ""
             }
            },
            "type": "scatterpolargl"
           }
          ],
          "scatterternary": [
           {
            "marker": {
             "colorbar": {
              "outlinewidth": 0,
              "ticks": ""
             }
            },
            "type": "scatterternary"
           }
          ],
          "surface": [
           {
            "colorbar": {
             "outlinewidth": 0,
             "ticks": ""
            },
            "colorscale": [
             [
              0,
              "#0d0887"
             ],
             [
              0.1111111111111111,
              "#46039f"
             ],
             [
              0.2222222222222222,
              "#7201a8"
             ],
             [
              0.3333333333333333,
              "#9c179e"
             ],
             [
              0.4444444444444444,
              "#bd3786"
             ],
             [
              0.5555555555555556,
              "#d8576b"
             ],
             [
              0.6666666666666666,
              "#ed7953"
             ],
             [
              0.7777777777777778,
              "#fb9f3a"
             ],
             [
              0.8888888888888888,
              "#fdca26"
             ],
             [
              1,
              "#f0f921"
             ]
            ],
            "type": "surface"
           }
          ],
          "table": [
           {
            "cells": {
             "fill": {
              "color": "#EBF0F8"
             },
             "line": {
              "color": "white"
             }
            },
            "header": {
             "fill": {
              "color": "#C8D4E3"
             },
             "line": {
              "color": "white"
             }
            },
            "type": "table"
           }
          ]
         },
         "layout": {
          "annotationdefaults": {
           "arrowcolor": "#2a3f5f",
           "arrowhead": 0,
           "arrowwidth": 1
          },
          "autotypenumbers": "strict",
          "coloraxis": {
           "colorbar": {
            "outlinewidth": 0,
            "ticks": ""
           }
          },
          "colorscale": {
           "diverging": [
            [
             0,
             "#8e0152"
            ],
            [
             0.1,
             "#c51b7d"
            ],
            [
             0.2,
             "#de77ae"
            ],
            [
             0.3,
             "#f1b6da"
            ],
            [
             0.4,
             "#fde0ef"
            ],
            [
             0.5,
             "#f7f7f7"
            ],
            [
             0.6,
             "#e6f5d0"
            ],
            [
             0.7,
             "#b8e186"
            ],
            [
             0.8,
             "#7fbc41"
            ],
            [
             0.9,
             "#4d9221"
            ],
            [
             1,
             "#276419"
            ]
           ],
           "sequential": [
            [
             0,
             "#0d0887"
            ],
            [
             0.1111111111111111,
             "#46039f"
            ],
            [
             0.2222222222222222,
             "#7201a8"
            ],
            [
             0.3333333333333333,
             "#9c179e"
            ],
            [
             0.4444444444444444,
             "#bd3786"
            ],
            [
             0.5555555555555556,
             "#d8576b"
            ],
            [
             0.6666666666666666,
             "#ed7953"
            ],
            [
             0.7777777777777778,
             "#fb9f3a"
            ],
            [
             0.8888888888888888,
             "#fdca26"
            ],
            [
             1,
             "#f0f921"
            ]
           ],
           "sequentialminus": [
            [
             0,
             "#0d0887"
            ],
            [
             0.1111111111111111,
             "#46039f"
            ],
            [
             0.2222222222222222,
             "#7201a8"
            ],
            [
             0.3333333333333333,
             "#9c179e"
            ],
            [
             0.4444444444444444,
             "#bd3786"
            ],
            [
             0.5555555555555556,
             "#d8576b"
            ],
            [
             0.6666666666666666,
             "#ed7953"
            ],
            [
             0.7777777777777778,
             "#fb9f3a"
            ],
            [
             0.8888888888888888,
             "#fdca26"
            ],
            [
             1,
             "#f0f921"
            ]
           ]
          },
          "colorway": [
           "#636efa",
           "#EF553B",
           "#00cc96",
           "#ab63fa",
           "#FFA15A",
           "#19d3f3",
           "#FF6692",
           "#B6E880",
           "#FF97FF",
           "#FECB52"
          ],
          "font": {
           "color": "#2a3f5f"
          },
          "geo": {
           "bgcolor": "white",
           "lakecolor": "white",
           "landcolor": "#E5ECF6",
           "showlakes": true,
           "showland": true,
           "subunitcolor": "white"
          },
          "hoverlabel": {
           "align": "left"
          },
          "hovermode": "closest",
          "mapbox": {
           "style": "light"
          },
          "paper_bgcolor": "white",
          "plot_bgcolor": "#E5ECF6",
          "polar": {
           "angularaxis": {
            "gridcolor": "white",
            "linecolor": "white",
            "ticks": ""
           },
           "bgcolor": "#E5ECF6",
           "radialaxis": {
            "gridcolor": "white",
            "linecolor": "white",
            "ticks": ""
           }
          },
          "scene": {
           "xaxis": {
            "backgroundcolor": "#E5ECF6",
            "gridcolor": "white",
            "gridwidth": 2,
            "linecolor": "white",
            "showbackground": true,
            "ticks": "",
            "zerolinecolor": "white"
           },
           "yaxis": {
            "backgroundcolor": "#E5ECF6",
            "gridcolor": "white",
            "gridwidth": 2,
            "linecolor": "white",
            "showbackground": true,
            "ticks": "",
            "zerolinecolor": "white"
           },
           "zaxis": {
            "backgroundcolor": "#E5ECF6",
            "gridcolor": "white",
            "gridwidth": 2,
            "linecolor": "white",
            "showbackground": true,
            "ticks": "",
            "zerolinecolor": "white"
           }
          },
          "shapedefaults": {
           "line": {
            "color": "#2a3f5f"
           }
          },
          "ternary": {
           "aaxis": {
            "gridcolor": "white",
            "linecolor": "white",
            "ticks": ""
           },
           "baxis": {
            "gridcolor": "white",
            "linecolor": "white",
            "ticks": ""
           },
           "bgcolor": "#E5ECF6",
           "caxis": {
            "gridcolor": "white",
            "linecolor": "white",
            "ticks": ""
           }
          },
          "title": {
           "x": 0.05
          },
          "xaxis": {
           "automargin": true,
           "gridcolor": "white",
           "linecolor": "white",
           "ticks": "",
           "title": {
            "standoff": 15
           },
           "zerolinecolor": "white",
           "zerolinewidth": 2
          },
          "yaxis": {
           "automargin": true,
           "gridcolor": "white",
           "linecolor": "white",
           "ticks": "",
           "title": {
            "standoff": 15
           },
           "zerolinecolor": "white",
           "zerolinewidth": 2
          }
         }
        },
        "title": {
         "text": "Distribution per Variable"
        },
        "width": 800
       }
      },
      "image/png": "[encoded data removed]",
      "text/html": [
       "<div>            <script src=\"https://cdnjs.cloudflare.com/ajax/libs/mathjax/2.7.5/MathJax.js?config=TeX-AMS-MML_SVG\"></script><script type=\"text/javascript\">if (window.MathJax && window.MathJax.Hub && window.MathJax.Hub.Config) {window.MathJax.Hub.Config({SVG: {font: \"STIX-Web\"}});}</script>                <script type=\"text/javascript\">window.PlotlyConfig = {MathJaxConfig: 'local'};</script>\n",
       "        <script charset=\"utf-8\" src=\"https://cdn.plot.ly/plotly-3.0.1.min.js\"></script>                <div id=\"5d1d2fa5-3a9f-42ef-866d-4b1918f8a54a\" class=\"plotly-graph-div\" style=\"height:700px; width:800px;\"></div>            <script type=\"text/javascript\">                window.PLOTLYENV=window.PLOTLYENV || {};                                if (document.getElementById(\"5d1d2fa5-3a9f-42ef-866d-4b1918f8a54a\")) {                    Plotly.newPlot(                        \"5d1d2fa5-3a9f-42ef-866d-4b1918f8a54a\",                        [{\"labels\":[\"CT\",\"PET-CT\"],\"textinfo\":\"label+value\",\"textposition\":\"inside\",\"values\":{\"dtype\":\"i1\",\"bdata\":\"DAI=\"},\"type\":\"pie\",\"domain\":{\"x\":[0.0,0.2888888888888889],\"y\":[0.625,1.0]}},{\"labels\":[\"Abdomen\",\"Thorax\",\"Whole-body\",\"Head-and-neck\",\"Thorax (mediastinum)\",\"Abdomen, Thorax (mediastinum)\"],\"textinfo\":\"label+value\",\"textposition\":\"inside\",\"values\":{\"dtype\":\"i1\",\"bdata\":\"CAIBAQEB\"},\"type\":\"pie\",\"domain\":{\"x\":[0.35555555555555557,0.6444444444444445],\"y\":[0.625,1.0]}},{\"labels\":[\"Liver\",\"Lung\",\"Kidney\",\"Lymph nodes\",\"Lymph nodes, Lung, Skin\",\"Pancreas\",\"Colon\",\"Adrenal glands\",\"Brain\"],\"textinfo\":\"label+value\",\"textposition\":\"inside\",\"values\":{\"dtype\":\"i1\",\"bdata\":\"AwICAgEBAQEB\"},\"type\":\"pie\",\"domain\":{\"x\":[0.7111111111111111,1.0],\"y\":[0.625,1.0]}},{\"labels\":[\"NIfTI\",\"DICOM\",\"DICOM, NIfTI\"],\"textinfo\":\"label+value\",\"textposition\":\"inside\",\"values\":{\"dtype\":\"i1\",\"bdata\":\"BwYB\"},\"type\":\"pie\",\"domain\":{\"x\":[0.0,0.2888888888888889],\"y\":[0.0,0.375]}},{\"labels\":[\"No\",\"Yes\"],\"textinfo\":\"label+value\",\"textposition\":\"inside\",\"values\":{\"dtype\":\"i1\",\"bdata\":\"DAI=\"},\"type\":\"pie\",\"domain\":{\"x\":[0.35555555555555557,0.6444444444444445],\"y\":[0.0,0.375]}},{\"labels\":[\"CC BY-SA 4.0\",\"CC BY 4.0\",\"TCIA Restricted\",\"CC BY-NC 3.0\",\"CC BY-NC-ND\",\"CC BY-NC-SA 4.0\",\"CC BY 3.0\"],\"textinfo\":\"label+value\",\"textposition\":\"inside\",\"values\":{\"dtype\":\"i1\",\"bdata\":\"BQMCAQEBAQ==\"},\"type\":\"pie\",\"domain\":{\"x\":[0.7111111111111111,1.0],\"y\":[0.0,0.375]}}],                        {\"template\":{\"data\":{\"histogram2dcontour\":[{\"type\":\"histogram2dcontour\",\"colorbar\":{\"outlinewidth\":0,\"ticks\":\"\"},\"colorscale\":[[0.0,\"#0d0887\"],[0.1111111111111111,\"#46039f\"],[0.2222222222222222,\"#7201a8\"],[0.3333333333333333,\"#9c179e\"],[0.4444444444444444,\"#bd3786\"],[0.5555555555555556,\"#d8576b\"],[0.6666666666666666,\"#ed7953\"],[0.7777777777777778,\"#fb9f3a\"],[0.8888888888888888,\"#fdca26\"],[1.0,\"#f0f921\"]]}],\"choropleth\":[{\"type\":\"choropleth\",\"colorbar\":{\"outlinewidth\":0,\"ticks\":\"\"}}],\"histogram2d\":[{\"type\":\"histogram2d\",\"colorbar\":{\"outlinewidth\":0,\"ticks\":\"\"},\"colorscale\":[[0.0,\"#0d0887\"],[0.1111111111111111,\"#46039f\"],[0.2222222222222222,\"#7201a8\"],[0.3333333333333333,\"#9c179e\"],[0.4444444444444444,\"#bd3786\"],[0.5555555555555556,\"#d8576b\"],[0.6666666666666666,\"#ed7953\"],[0.7777777777777778,\"#fb9f3a\"],[0.8888888888888888,\"#fdca26\"],[1.0,\"#f0f921\"]]}],\"heatmap\":[{\"type\":\"heatmap\",\"colorbar\":{\"outlinewidth\":0,\"ticks\":\"\"},\"colorscale\":[[0.0,\"#0d0887\"],[0.1111111111111111,\"#46039f\"],[0.2222222222222222,\"#7201a8\"],[0.3333333333333333,\"#9c179e\"],[0.4444444444444444,\"#bd3786\"],[0.5555555555555556,\"#d8576b\"],[0.6666666666666666,\"#ed7953\"],[0.7777777777777778,\"#fb9f3a\"],[0.8888888888888888,\"#fdca26\"],[1.0,\"#f0f921\"]]}],\"contourcarpet\":[{\"type\":\"contourcarpet\",\"colorbar\":{\"outlinewidth\":0,\"ticks\":\"\"}}],\"contour\":[{\"type\":\"contour\",\"colorbar\":{\"outlinewidth\":0,\"ticks\":\"\"},\"colorscale\":[[0.0,\"#0d0887\"],[0.1111111111111111,\"#46039f\"],[0.2222222222222222,\"#7201a8\"],[0.3333333333333333,\"#9c179e\"],[0.4444444444444444,\"#bd3786\"],[0.5555555555555556,\"#d8576b\"],[0.6666666666666666,\"#ed7953\"],[0.7777777777777778,\"#fb9f3a\"],[0.8888888888888888,\"#fdca26\"],[1.0,\"#f0f921\"]]}],\"surface\":[{\"type\":\"surface\",\"colorbar\":{\"outlinewidth\":0,\"ticks\":\"\"},\"colorscale\":[[0.0,\"#0d0887\"],[0.1111111111111111,\"#46039f\"],[0.2222222222222222,\"#7201a8\"],[0.3333333333333333,\"#9c179e\"],[0.4444444444444444,\"#bd3786\"],[0.5555555555555556,\"#d8576b\"],[0.6666666666666666,\"#ed7953\"],[0.7777777777777778,\"#fb9f3a\"],[0.8888888888888888,\"#fdca26\"],[1.0,\"#f0f921\"]]}],\"mesh3d\":[{\"type\":\"mesh3d\",\"colorbar\":{\"outlinewidth\":0,\"ticks\":\"\"}}],\"scatter\":[{\"fillpattern\":{\"fillmode\":\"overlay\",\"size\":10,\"solidity\":0.2},\"type\":\"scatter\"}],\"parcoords\":[{\"type\":\"parcoords\",\"line\":{\"colorbar\":{\"outlinewidth\":0,\"ticks\":\"\"}}}],\"scatterpolargl\":[{\"type\":\"scatterpolargl\",\"marker\":{\"colorbar\":{\"outlinewidth\":0,\"ticks\":\"\"}}}],\"bar\":[{\"error_x\":{\"color\":\"#2a3f5f\"},\"error_y\":{\"color\":\"#2a3f5f\"},\"marker\":{\"line\":{\"color\":\"#E5ECF6\",\"width\":0.5},\"pattern\":{\"fillmode\":\"overlay\",\"size\":10,\"solidity\":0.2}},\"type\":\"bar\"}],\"scattergeo\":[{\"type\":\"scattergeo\",\"marker\":{\"colorbar\":{\"outlinewidth\":0,\"ticks\":\"\"}}}],\"scatterpolar\":[{\"type\":\"scatterpolar\",\"marker\":{\"colorbar\":{\"outlinewidth\":0,\"ticks\":\"\"}}}],\"histogram\":[{\"marker\":{\"pattern\":{\"fillmode\":\"overlay\",\"size\":10,\"solidity\":0.2}},\"type\":\"histogram\"}],\"scattergl\":[{\"type\":\"scattergl\",\"marker\":{\"colorbar\":{\"outlinewidth\":0,\"ticks\":\"\"}}}],\"scatter3d\":[{\"type\":\"scatter3d\",\"line\":{\"colorbar\":{\"outlinewidth\":0,\"ticks\":\"\"}},\"marker\":{\"colorbar\":{\"outlinewidth\":0,\"ticks\":\"\"}}}],\"scattermap\":[{\"type\":\"scattermap\",\"marker\":{\"colorbar\":{\"outlinewidth\":0,\"ticks\":\"\"}}}],\"scattermapbox\":[{\"type\":\"scattermapbox\",\"marker\":{\"colorbar\":{\"outlinewidth\":0,\"ticks\":\"\"}}}],\"scatterternary\":[{\"type\":\"scatterternary\",\"marker\":{\"colorbar\":{\"outlinewidth\":0,\"ticks\":\"\"}}}],\"scattercarpet\":[{\"type\":\"scattercarpet\",\"marker\":{\"colorbar\":{\"outlinewidth\":0,\"ticks\":\"\"}}}],\"carpet\":[{\"aaxis\":{\"endlinecolor\":\"#2a3f5f\",\"gridcolor\":\"white\",\"linecolor\":\"white\",\"minorgridcolor\":\"white\",\"startlinecolor\":\"#2a3f5f\"},\"baxis\":{\"endlinecolor\":\"#2a3f5f\",\"gridcolor\":\"white\",\"linecolor\":\"white\",\"minorgridcolor\":\"white\",\"startlinecolor\":\"#2a3f5f\"},\"type\":\"carpet\"}],\"table\":[{\"cells\":{\"fill\":{\"color\":\"#EBF0F8\"},\"line\":{\"color\":\"white\"}},\"header\":{\"fill\":{\"color\":\"#C8D4E3\"},\"line\":{\"color\":\"white\"}},\"type\":\"table\"}],\"barpolar\":[{\"marker\":{\"line\":{\"color\":\"#E5ECF6\",\"width\":0.5},\"pattern\":{\"fillmode\":\"overlay\",\"size\":10,\"solidity\":0.2}},\"type\":\"barpolar\"}],\"pie\":[{\"automargin\":true,\"type\":\"pie\"}]},\"layout\":{\"autotypenumbers\":\"strict\",\"colorway\":[\"#636efa\",\"#EF553B\",\"#00cc96\",\"#ab63fa\",\"#FFA15A\",\"#19d3f3\",\"#FF6692\",\"#B6E880\",\"#FF97FF\",\"#FECB52\"],\"font\":{\"color\":\"#2a3f5f\"},\"hovermode\":\"closest\",\"hoverlabel\":{\"align\":\"left\"},\"paper_bgcolor\":\"white\",\"plot_bgcolor\":\"#E5ECF6\",\"polar\":{\"bgcolor\":\"#E5ECF6\",\"angularaxis\":{\"gridcolor\":\"white\",\"linecolor\":\"white\",\"ticks\":\"\"},\"radialaxis\":{\"gridcolor\":\"white\",\"linecolor\":\"white\",\"ticks\":\"\"}},\"ternary\":{\"bgcolor\":\"#E5ECF6\",\"aaxis\":{\"gridcolor\":\"white\",\"linecolor\":\"white\",\"ticks\":\"\"},\"baxis\":{\"gridcolor\":\"white\",\"linecolor\":\"white\",\"ticks\":\"\"},\"caxis\":{\"gridcolor\":\"white\",\"linecolor\":\"white\",\"ticks\":\"\"}},\"coloraxis\":{\"colorbar\":{\"outlinewidth\":0,\"ticks\":\"\"}},\"colorscale\":{\"sequential\":[[0.0,\"#0d0887\"],[0.1111111111111111,\"#46039f\"],[0.2222222222222222,\"#7201a8\"],[0.3333333333333333,\"#9c179e\"],[0.4444444444444444,\"#bd3786\"],[0.5555555555555556,\"#d8576b\"],[0.6666666666666666,\"#ed7953\"],[0.7777777777777778,\"#fb9f3a\"],[0.8888888888888888,\"#fdca26\"],[1.0,\"#f0f921\"]],\"sequentialminus\":[[0.0,\"#0d0887\"],[0.1111111111111111,\"#46039f\"],[0.2222222222222222,\"#7201a8\"],[0.3333333333333333,\"#9c179e\"],[0.4444444444444444,\"#bd3786\"],[0.5555555555555556,\"#d8576b\"],[0.6666666666666666,\"#ed7953\"],[0.7777777777777778,\"#fb9f3a\"],[0.8888888888888888,\"#fdca26\"],[1.0,\"#f0f921\"]],\"diverging\":[[0,\"#8e0152\"],[0.1,\"#c51b7d\"],[0.2,\"#de77ae\"],[0.3,\"#f1b6da\"],[0.4,\"#fde0ef\"],[0.5,\"#f7f7f7\"],[0.6,\"#e6f5d0\"],[0.7,\"#b8e186\"],[0.8,\"#7fbc41\"],[0.9,\"#4d9221\"],[1,\"#276419\"]]},\"xaxis\":{\"gridcolor\":\"white\",\"linecolor\":\"white\",\"ticks\":\"\",\"title\":{\"standoff\":15},\"zerolinecolor\":\"white\",\"automargin\":true,\"zerolinewidth\":2},\"yaxis\":{\"gridcolor\":\"white\",\"linecolor\":\"white\",\"ticks\":\"\",\"title\":{\"standoff\":15},\"zerolinecolor\":\"white\",\"automargin\":true,\"zerolinewidth\":2},\"scene\":{\"xaxis\":{\"backgroundcolor\":\"#E5ECF6\",\"gridcolor\":\"white\",\"linecolor\":\"white\",\"showbackground\":true,\"ticks\":\"\",\"zerolinecolor\":\"white\",\"gridwidth\":2},\"yaxis\":{\"backgroundcolor\":\"#E5ECF6\",\"gridcolor\":\"white\",\"linecolor\":\"white\",\"showbackground\":true,\"ticks\":\"\",\"zerolinecolor\":\"white\",\"gridwidth\":2},\"zaxis\":{\"backgroundcolor\":\"#E5ECF6\",\"gridcolor\":\"white\",\"linecolor\":\"white\",\"showbackground\":true,\"ticks\":\"\",\"zerolinecolor\":\"white\",\"gridwidth\":2}},\"shapedefaults\":{\"line\":{\"color\":\"#2a3f5f\"}},\"annotationdefaults\":{\"arrowcolor\":\"#2a3f5f\",\"arrowhead\":0,\"arrowwidth\":1},\"geo\":{\"bgcolor\":\"white\",\"landcolor\":\"#E5ECF6\",\"subunitcolor\":\"white\",\"showland\":true,\"showlakes\":true,\"lakecolor\":\"white\"},\"title\":{\"x\":0.05},\"mapbox\":{\"style\":\"light\"}}},\"annotations\":[{\"font\":{\"size\":16},\"showarrow\":false,\"text\":\"Modality\",\"x\":0.14444444444444446,\"xanchor\":\"center\",\"xref\":\"paper\",\"y\":1.0,\"yanchor\":\"bottom\",\"yref\":\"paper\"},{\"font\":{\"size\":16},\"showarrow\":false,\"text\":\"Anatomical region\",\"x\":0.5,\"xanchor\":\"center\",\"xref\":\"paper\",\"y\":1.0,\"yanchor\":\"bottom\",\"yref\":\"paper\"},{\"font\":{\"size\":16},\"showarrow\":false,\"text\":\"Affected organ\",\"x\":0.8555555555555556,\"xanchor\":\"center\",\"xref\":\"paper\",\"y\":1.0,\"yanchor\":\"bottom\",\"yref\":\"paper\"},{\"font\":{\"size\":16},\"showarrow\":false,\"text\":\"File format\",\"x\":0.14444444444444446,\"xanchor\":\"center\",\"xref\":\"paper\",\"y\":0.375,\"yanchor\":\"bottom\",\"yref\":\"paper\"},{\"font\":{\"size\":16},\"showarrow\":false,\"text\":\"Multicentric data\",\"x\":0.5,\"xanchor\":\"center\",\"xref\":\"paper\",\"y\":0.375,\"yanchor\":\"bottom\",\"yref\":\"paper\"},{\"font\":{\"size\":16},\"showarrow\":false,\"text\":\"License\",\"x\":0.8555555555555556,\"xanchor\":\"center\",\"xref\":\"paper\",\"y\":0.375,\"yanchor\":\"bottom\",\"yref\":\"paper\"}],\"title\":{\"text\":\"Distribution per Variable\"},\"height\":700,\"width\":800,\"showlegend\":false},                        {\"responsive\": true}                    ).then(function(){\n",
       "                            \n",
       "var gd = document.getElementById('5d1d2fa5-3a9f-42ef-866d-4b1918f8a54a');\n",
       "var x = new MutationObserver(function (mutations, observer) {{\n",
       "        var display = window.getComputedStyle(gd).display;\n",
       "        if (!display || display === 'none') {{\n",
       "            console.log([gd, 'removed!']);\n",
       "            Plotly.purge(gd);\n",
       "            observer.disconnect();\n",
       "        }}\n",
       "}});\n",
       "\n",
       "// Listen for the removal of the full notebook cells\n",
       "var notebookContainer = gd.closest('#notebook-container');\n",
       "if (notebookContainer) {{\n",
       "    x.observe(notebookContainer, {childList: true});\n",
       "}}\n",
       "\n",
       "// Listen for the clearing of the current output cell\n",
       "var outputEl = gd.closest('.output');\n",
       "if (outputEl) {{\n",
       "    x.observe(outputEl, {childList: true});\n",
       "}}\n",
       "\n",
       "                        })                };            </script>        </div>"
      ]
     },
     "metadata": {},
     "output_type": "display_data"
    }
   ],
   "source": [
    "columns = [\n",
    "    'Modality',\n",
    "    'Anatomical region',\n",
    "    'Affected organ',\n",
    "    'File format',\n",
    "    'Multicentric data',\n",
    "    'License'\n",
    "]\n",
    "# Create subplot grid: 2 rows × 3 columns\n",
    "fig = make_subplots(\n",
    "    rows=2, cols=3,\n",
    "    specs=[[{'type':'domain'}]*3]*2,  # 'domain' is needed for pie charts\n",
    "    subplot_titles=columns\n",
    ")\n",
    "row, col = 1, 1\n",
    "for i, column in enumerate(columns):\n",
    "    counts = table_df[column].value_counts().reset_index(name='counts')\n",
    "    fig.add_trace(\n",
    "        go.Pie(\n",
    "            labels=counts[column],\n",
    "            values=counts['counts'],\n",
    "            textinfo='label+value',\n",
    "            textposition='inside'\n",
    "        ),\n",
    "        row=row,\n",
    "        col=col\n",
    "    )\n",
    "    col += 1\n",
    "    if col > 3:\n",
    "        col = 1\n",
    "        row += 1\n",
    "\n",
    "fig.update_layout(\n",
    "    height=700,\n",
    "    width=800,\n",
    "    title_text=\"Distribution per Variable\",\n",
    "    showlegend=False\n",
    ")\n",
    "fig.show()"
   ]
  },
  {
   "cell_type": "code",
   "execution_count": 17,
   "id": "dda3e0b4-9025-4593-9a0b-18fb09f5c9e1",
   "metadata": {},
   "outputs": [],
   "source": [
    "# Reporting of per-patient variables (diagnosis, age, sex, ethnicity/race)"
   ]
  },
  {
   "cell_type": "code",
   "execution_count": 18,
   "id": "864db90c-df07-4f3f-a56c-fef2222ed223",
   "metadata": {},
   "outputs": [],
   "source": [
    "# Distribution of Patients, Annotated images, Annotated lesions"
   ]
  },
  {
   "cell_type": "code",
   "execution_count": 19,
   "id": "780e33e0-3d8f-4674-b7a1-f699d849ca10",
   "metadata": {},
   "outputs": [],
   "source": [
    "# Distribution of Lesions types (primary, metastases, lymph node)"
   ]
  },
  {
   "cell_type": "code",
   "execution_count": 20,
   "id": "4a2943ac-863b-4dc3-8346-25a32d00e1c0",
   "metadata": {},
   "outputs": [],
   "source": [
    "# Distribution of Annotators count "
   ]
  },
  {
   "cell_type": "code",
   "execution_count": 37,
   "id": "b16d5958-3fb4-4c62-b45c-fdc8bc0835a6",
   "metadata": {},
   "outputs": [
    {
     "data": {
      "text/plain": [
       "['PET-CT',\n",
       " 'Task03_Liver',\n",
       " 'Task06_Lung',\n",
       " 'Task07_Pancreas',\n",
       " 'Task08_HepaticVessel',\n",
       " 'Task10_Colon',\n",
       " 'Adrenal-ACC-Ki67',\n",
       " 'GLIS-RT',\n",
       " 'HCC-TACE-Seg',\n",
       " 'KiPA22',\n",
       " 'KiTS23',\n",
       " 'Mediastinal-Lymph-Node-SEG',\n",
       " 'CT-Lymph-Nodes',\n",
       " 'NSCLC-Radiogenomics']"
      ]
     },
     "execution_count": 37,
     "metadata": {},
     "output_type": "execute_result"
    }
   ],
   "source": [
    "df['dataset'].unique().tolist()"
   ]
  },
  {
   "cell_type": "code",
   "execution_count": 86,
   "id": "d4bda69a-c577-4e44-b356-39be13036b4f",
   "metadata": {},
   "outputs": [
    {
     "data": {
      "text/plain": [
       "['Task03_Liver',\n",
       " 'PET-CT',\n",
       " 'Mediastinal-Lymph-Node-SEG',\n",
       " 'CT-Lymph-Nodes',\n",
       " 'Task06_Lung',\n",
       " 'Task07_Pancreas',\n",
       " 'Task08_HepaticVessel',\n",
       " 'NSCLC-Radiogenomics',\n",
       " 'KiTS23',\n",
       " 'Task10_Colon',\n",
       " 'KiPA22',\n",
       " 'HCC-TACE-Seg',\n",
       " 'GLIS-RT',\n",
       " 'Adrenal-ACC-Ki67']"
      ]
     },
     "execution_count": 86,
     "metadata": {},
     "output_type": "execute_result"
    }
   ],
   "source": []
  },
  {
   "cell_type": "code",
   "execution_count": 114,
   "id": "376149ab-e4eb-439f-b9a7-bb14d20f56e2",
   "metadata": {},
   "outputs": [
    {
     "data": {
      "text/plain": [
       "Index(['dataset', 'patient', 'study', 'filename', 'voxels_count',\n",
       "       'slices_count', 'volume_mm3', 'volume_ml', 'label_value', 'major_axis',\n",
       "       'minor_axis', 'major_axis_slice_idx', 'image'],\n",
       "      dtype='object')"
      ]
     },
     "execution_count": 114,
     "metadata": {},
     "output_type": "execute_result"
    }
   ],
   "source": [
    "df.columns"
   ]
  },
  {
   "cell_type": "code",
   "execution_count": 116,
   "id": "e881e341-1f8d-4a86-b99f-c4b4aacb20cd",
   "metadata": {},
   "outputs": [
    {
     "data": {
      "text/html": [
       "<div>\n",
       "<style scoped>\n",
       "    .dataframe tbody tr th:only-of-type {\n",
       "        vertical-align: middle;\n",
       "    }\n",
       "\n",
       "    .dataframe tbody tr th {\n",
       "        vertical-align: top;\n",
       "    }\n",
       "\n",
       "    .dataframe thead th {\n",
       "        text-align: right;\n",
       "    }\n",
       "</style>\n",
       "<table border=\"1\" class=\"dataframe\">\n",
       "  <thead>\n",
       "    <tr style=\"text-align: right;\">\n",
       "      <th></th>\n",
       "      <th>dataset</th>\n",
       "      <th>patient</th>\n",
       "      <th>study</th>\n",
       "      <th>filename</th>\n",
       "      <th>voxels_count</th>\n",
       "      <th>slices_count</th>\n",
       "      <th>volume_mm3</th>\n",
       "      <th>volume_ml</th>\n",
       "      <th>label_value</th>\n",
       "      <th>major_axis</th>\n",
       "      <th>minor_axis</th>\n",
       "      <th>major_axis_slice_idx</th>\n",
       "      <th>image</th>\n",
       "    </tr>\n",
       "  </thead>\n",
       "  <tbody>\n",
       "    <tr>\n",
       "      <th>8659</th>\n",
       "      <td>Task03_Liver</td>\n",
       "      <td>Not Reported</td>\n",
       "      <td>Not Reported</td>\n",
       "      <td>liver_100.nii.gz</td>\n",
       "      <td>97</td>\n",
       "      <td>6</td>\n",
       "      <td>33.196778</td>\n",
       "      <td>0.033197</td>\n",
       "      <td>11</td>\n",
       "      <td>4.631785</td>\n",
       "      <td>2.429242</td>\n",
       "      <td>644</td>\n",
       "      <td>Task03_Liver-Not Reported-Not Reported-liver_1...</td>\n",
       "    </tr>\n",
       "    <tr>\n",
       "      <th>8936</th>\n",
       "      <td>Task03_Liver</td>\n",
       "      <td>Not Reported</td>\n",
       "      <td>Not Reported</td>\n",
       "      <td>liver_120.nii.gz</td>\n",
       "      <td>124</td>\n",
       "      <td>6</td>\n",
       "      <td>102.996620</td>\n",
       "      <td>0.102997</td>\n",
       "      <td>5</td>\n",
       "      <td>5.501113</td>\n",
       "      <td>4.282178</td>\n",
       "      <td>258</td>\n",
       "      <td>Task03_Liver-Not Reported-Not Reported-liver_1...</td>\n",
       "    </tr>\n",
       "    <tr>\n",
       "      <th>8934</th>\n",
       "      <td>Task03_Liver</td>\n",
       "      <td>Not Reported</td>\n",
       "      <td>Not Reported</td>\n",
       "      <td>liver_120.nii.gz</td>\n",
       "      <td>167</td>\n",
       "      <td>10</td>\n",
       "      <td>138.713190</td>\n",
       "      <td>0.138713</td>\n",
       "      <td>3</td>\n",
       "      <td>26.019649</td>\n",
       "      <td>1.499641</td>\n",
       "      <td>254</td>\n",
       "      <td>Task03_Liver-Not Reported-Not Reported-liver_1...</td>\n",
       "    </tr>\n",
       "    <tr>\n",
       "      <th>8933</th>\n",
       "      <td>Task03_Liver</td>\n",
       "      <td>Not Reported</td>\n",
       "      <td>Not Reported</td>\n",
       "      <td>liver_120.nii.gz</td>\n",
       "      <td>2507</td>\n",
       "      <td>23</td>\n",
       "      <td>2082.359087</td>\n",
       "      <td>2.082359</td>\n",
       "      <td>2</td>\n",
       "      <td>17.531059</td>\n",
       "      <td>9.231314</td>\n",
       "      <td>204</td>\n",
       "      <td>Task03_Liver-Not Reported-Not Reported-liver_1...</td>\n",
       "    </tr>\n",
       "    <tr>\n",
       "      <th>8932</th>\n",
       "      <td>Task03_Liver</td>\n",
       "      <td>Not Reported</td>\n",
       "      <td>Not Reported</td>\n",
       "      <td>liver_120.nii.gz</td>\n",
       "      <td>409</td>\n",
       "      <td>6</td>\n",
       "      <td>339.722723</td>\n",
       "      <td>0.339723</td>\n",
       "      <td>1</td>\n",
       "      <td>8.921166</td>\n",
       "      <td>7.226883</td>\n",
       "      <td>178</td>\n",
       "      <td>Task03_Liver-Not Reported-Not Reported-liver_1...</td>\n",
       "    </tr>\n",
       "    <tr>\n",
       "      <th>...</th>\n",
       "      <td>...</td>\n",
       "      <td>...</td>\n",
       "      <td>...</td>\n",
       "      <td>...</td>\n",
       "      <td>...</td>\n",
       "      <td>...</td>\n",
       "      <td>...</td>\n",
       "      <td>...</td>\n",
       "      <td>...</td>\n",
       "      <td>...</td>\n",
       "      <td>...</td>\n",
       "      <td>...</td>\n",
       "      <td>...</td>\n",
       "    </tr>\n",
       "    <tr>\n",
       "      <th>10666</th>\n",
       "      <td>Adrenal-ACC-Ki67</td>\n",
       "      <td>Adrenal_Ki67_Seg_004</td>\n",
       "      <td>06-28-2004-NA-CT ABDOMEN-75328</td>\n",
       "      <td>1.3.6.1.4.1.14519.5.2.1.2922579417069938735800...</td>\n",
       "      <td>402458</td>\n",
       "      <td>35</td>\n",
       "      <td>616970.132886</td>\n",
       "      <td>616.970133</td>\n",
       "      <td>1</td>\n",
       "      <td>143.759964</td>\n",
       "      <td>81.833677</td>\n",
       "      <td>51</td>\n",
       "      <td>Adrenal-ACC-Ki67-Adrenal_Ki67_Seg_004-06-28-20...</td>\n",
       "    </tr>\n",
       "    <tr>\n",
       "      <th>10665</th>\n",
       "      <td>Adrenal-ACC-Ki67</td>\n",
       "      <td>Adrenal_Ki67_Seg_003</td>\n",
       "      <td>10-14-2003-NA-CT ABDOMEN-08445</td>\n",
       "      <td>1.3.6.1.4.1.14519.5.2.1.2041104608816005537385...</td>\n",
       "      <td>68915</td>\n",
       "      <td>19</td>\n",
       "      <td>142355.043225</td>\n",
       "      <td>142.355043</td>\n",
       "      <td>1</td>\n",
       "      <td>90.674507</td>\n",
       "      <td>41.030582</td>\n",
       "      <td>48</td>\n",
       "      <td>Adrenal-ACC-Ki67-Adrenal_Ki67_Seg_003-10-14-20...</td>\n",
       "    </tr>\n",
       "    <tr>\n",
       "      <th>10664</th>\n",
       "      <td>Adrenal-ACC-Ki67</td>\n",
       "      <td>Adrenal_Ki67_Seg_002</td>\n",
       "      <td>09-25-2001-NA-CT ABDOMEN-85015</td>\n",
       "      <td>1.3.6.1.4.1.14519.5.2.1.1814798070388834764142...</td>\n",
       "      <td>33922</td>\n",
       "      <td>10</td>\n",
       "      <td>103720.587031</td>\n",
       "      <td>103.720587</td>\n",
       "      <td>1</td>\n",
       "      <td>78.870960</td>\n",
       "      <td>47.664721</td>\n",
       "      <td>37</td>\n",
       "      <td>Adrenal-ACC-Ki67-Adrenal_Ki67_Seg_002-09-25-20...</td>\n",
       "    </tr>\n",
       "    <tr>\n",
       "      <th>10679</th>\n",
       "      <td>Adrenal-ACC-Ki67</td>\n",
       "      <td>Adrenal_Ki67_Seg_014</td>\n",
       "      <td>11-04-2006-NA-CT ABDOMEN-67659</td>\n",
       "      <td>1.3.6.1.4.1.14519.5.2.1.1633614827105666835906...</td>\n",
       "      <td>9454</td>\n",
       "      <td>8</td>\n",
       "      <td>26589.375000</td>\n",
       "      <td>26.589375</td>\n",
       "      <td>1</td>\n",
       "      <td>42.542101</td>\n",
       "      <td>35.120458</td>\n",
       "      <td>31</td>\n",
       "      <td>Adrenal-ACC-Ki67-Adrenal_Ki67_Seg_014-11-04-20...</td>\n",
       "    </tr>\n",
       "    <tr>\n",
       "      <th>10685</th>\n",
       "      <td>Adrenal-ACC-Ki67</td>\n",
       "      <td>Adrenal_Ki67_Seg_019</td>\n",
       "      <td>12-22-2007-NA-ABD ADRENAL SURG -54029</td>\n",
       "      <td>1.3.6.1.4.1.14519.5.2.1.1091190749562391670604...</td>\n",
       "      <td>85203</td>\n",
       "      <td>40</td>\n",
       "      <td>52653.831482</td>\n",
       "      <td>52.653831</td>\n",
       "      <td>1</td>\n",
       "      <td>50.302570</td>\n",
       "      <td>35.738915</td>\n",
       "      <td>133</td>\n",
       "      <td>Adrenal-ACC-Ki67-Adrenal_Ki67_Seg_019-12-22-20...</td>\n",
       "    </tr>\n",
       "  </tbody>\n",
       "</table>\n",
       "<p>12761 rows × 13 columns</p>\n",
       "</div>"
      ],
      "text/plain": [
       "                dataset               patient  \\\n",
       "8659       Task03_Liver          Not Reported   \n",
       "8936       Task03_Liver          Not Reported   \n",
       "8934       Task03_Liver          Not Reported   \n",
       "8933       Task03_Liver          Not Reported   \n",
       "8932       Task03_Liver          Not Reported   \n",
       "...                 ...                   ...   \n",
       "10666  Adrenal-ACC-Ki67  Adrenal_Ki67_Seg_004   \n",
       "10665  Adrenal-ACC-Ki67  Adrenal_Ki67_Seg_003   \n",
       "10664  Adrenal-ACC-Ki67  Adrenal_Ki67_Seg_002   \n",
       "10679  Adrenal-ACC-Ki67  Adrenal_Ki67_Seg_014   \n",
       "10685  Adrenal-ACC-Ki67  Adrenal_Ki67_Seg_019   \n",
       "\n",
       "                                       study  \\\n",
       "8659                            Not Reported   \n",
       "8936                            Not Reported   \n",
       "8934                            Not Reported   \n",
       "8933                            Not Reported   \n",
       "8932                            Not Reported   \n",
       "...                                      ...   \n",
       "10666         06-28-2004-NA-CT ABDOMEN-75328   \n",
       "10665         10-14-2003-NA-CT ABDOMEN-08445   \n",
       "10664         09-25-2001-NA-CT ABDOMEN-85015   \n",
       "10679         11-04-2006-NA-CT ABDOMEN-67659   \n",
       "10685  12-22-2007-NA-ABD ADRENAL SURG -54029   \n",
       "\n",
       "                                                filename  voxels_count  \\\n",
       "8659                                    liver_100.nii.gz            97   \n",
       "8936                                    liver_120.nii.gz           124   \n",
       "8934                                    liver_120.nii.gz           167   \n",
       "8933                                    liver_120.nii.gz          2507   \n",
       "8932                                    liver_120.nii.gz           409   \n",
       "...                                                  ...           ...   \n",
       "10666  1.3.6.1.4.1.14519.5.2.1.2922579417069938735800...        402458   \n",
       "10665  1.3.6.1.4.1.14519.5.2.1.2041104608816005537385...         68915   \n",
       "10664  1.3.6.1.4.1.14519.5.2.1.1814798070388834764142...         33922   \n",
       "10679  1.3.6.1.4.1.14519.5.2.1.1633614827105666835906...          9454   \n",
       "10685  1.3.6.1.4.1.14519.5.2.1.1091190749562391670604...         85203   \n",
       "\n",
       "       slices_count     volume_mm3   volume_ml  label_value  major_axis  \\\n",
       "8659              6      33.196778    0.033197           11    4.631785   \n",
       "8936              6     102.996620    0.102997            5    5.501113   \n",
       "8934             10     138.713190    0.138713            3   26.019649   \n",
       "8933             23    2082.359087    2.082359            2   17.531059   \n",
       "8932              6     339.722723    0.339723            1    8.921166   \n",
       "...             ...            ...         ...          ...         ...   \n",
       "10666            35  616970.132886  616.970133            1  143.759964   \n",
       "10665            19  142355.043225  142.355043            1   90.674507   \n",
       "10664            10  103720.587031  103.720587            1   78.870960   \n",
       "10679             8   26589.375000   26.589375            1   42.542101   \n",
       "10685            40   52653.831482   52.653831            1   50.302570   \n",
       "\n",
       "       minor_axis  major_axis_slice_idx  \\\n",
       "8659     2.429242                   644   \n",
       "8936     4.282178                   258   \n",
       "8934     1.499641                   254   \n",
       "8933     9.231314                   204   \n",
       "8932     7.226883                   178   \n",
       "...           ...                   ...   \n",
       "10666   81.833677                    51   \n",
       "10665   41.030582                    48   \n",
       "10664   47.664721                    37   \n",
       "10679   35.120458                    31   \n",
       "10685   35.738915                   133   \n",
       "\n",
       "                                                   image  \n",
       "8659   Task03_Liver-Not Reported-Not Reported-liver_1...  \n",
       "8936   Task03_Liver-Not Reported-Not Reported-liver_1...  \n",
       "8934   Task03_Liver-Not Reported-Not Reported-liver_1...  \n",
       "8933   Task03_Liver-Not Reported-Not Reported-liver_1...  \n",
       "8932   Task03_Liver-Not Reported-Not Reported-liver_1...  \n",
       "...                                                  ...  \n",
       "10666  Adrenal-ACC-Ki67-Adrenal_Ki67_Seg_004-06-28-20...  \n",
       "10665  Adrenal-ACC-Ki67-Adrenal_Ki67_Seg_003-10-14-20...  \n",
       "10664  Adrenal-ACC-Ki67-Adrenal_Ki67_Seg_002-09-25-20...  \n",
       "10679  Adrenal-ACC-Ki67-Adrenal_Ki67_Seg_014-11-04-20...  \n",
       "10685  Adrenal-ACC-Ki67-Adrenal_Ki67_Seg_019-12-22-20...  \n",
       "\n",
       "[12761 rows x 13 columns]"
      ]
     },
     "execution_count": 116,
     "metadata": {},
     "output_type": "execute_result"
    }
   ],
   "source": []
  },
  {
   "cell_type": "code",
   "execution_count": 137,
   "id": "5f04fd4b-9873-4af5-9313-ffa87da6263a",
   "metadata": {},
   "outputs": [
    {
     "data": {
      "image/png": "[encoded data removed]",
      "text/plain": [
       "<Figure size 640x480 with 7 Axes>"
      ]
     },
     "metadata": {},
     "output_type": "display_data"
    }
   ],
   "source": [
    "import joypy\n",
    "sorted_by_median = df.groupby('dataset')['volume_ml'].median().sort_values().index.tolist()\n",
    "sorted_df = df.sort_values(\n",
    "    by='dataset',\n",
    "    key=lambda col: col.map({k: i for i, k in enumerate(sorted_by_median)})\n",
    ")\n",
    "fig, ax = joypy.joyplot(\n",
    "    sorted_df[sorted_df['dataset'].isin(sorted_by_median[:6])], \n",
    "    by=\"dataset\", \n",
    "    column=\"volume_ml\",\n",
    "    #figsize=(8, 10),\n",
    "    colormap=cm.tab20,\n",
    "    kind=\"kde\",\n",
    "    ylim='own',\n",
    "    x_range=(0,100),\n",
    ")\n",
    "plt.show()"
   ]
  },
  {
   "cell_type": "code",
   "execution_count": 138,
   "id": "bf273608-eaa9-4553-8777-82ee65d0d28c",
   "metadata": {},
   "outputs": [
    {
     "data": {
      "image/png": "[encoded data removed]",
      "text/plain": [
       "<Figure size 640x480 with 9 Axes>"
      ]
     },
     "metadata": {},
     "output_type": "display_data"
    }
   ],
   "source": [
    "fig, ax = joypy.joyplot(\n",
    "    sorted_df[sorted_df['dataset'].isin(sorted_by_median[6:])], \n",
    "    by=\"dataset\", \n",
    "    column=\"volume_ml\",\n",
    "    #figsize=(8, 10),\n",
    "    colormap=cm.tab20,\n",
    "    kind=\"kde\",\n",
    "    ylim='own',\n",
    "    x_range=(0,1000),\n",
    ")\n",
    "plt.show()"
   ]
  },
  {
   "cell_type": "code",
   "execution_count": 144,
   "id": "88f808a9-c4c2-48a2-a54e-833d283b205f",
   "metadata": {},
   "outputs": [
    {
     "data": {
      "image/png": "[encoded data removed]",
      "text/plain": [
       "<Figure size 640x480 with 15 Axes>"
      ]
     },
     "metadata": {},
     "output_type": "display_data"
    }
   ],
   "source": [
    "fig, ax = joypy.joyplot(\n",
    "    sorted_df[sorted_df['dataset'].isin(sorted_by_median[:])], \n",
    "    by=\"dataset\", \n",
    "    column=\"volume_ml\",\n",
    "    #figsize=(8, 10),\n",
    "    colormap=cm.tab20,\n",
    "    kind=\"kde\",\n",
    "    ylim='own',\n",
    "    x_range=(0,1000),\n",
    "    alpha=1\n",
    ")\n",
    "plt.show()"
   ]
  }
 ],
 "metadata": {
  "kernelspec": {
   "display_name": "Python 3 (ipykernel)",
   "language": "python",
   "name": "python3"
  },
  "language_info": {
   "codemirror_mode": {
    "name": "ipython",
    "version": 3
   },
   "file_extension": ".py",
   "mimetype": "text/x-python",
   "name": "python",
   "nbconvert_exporter": "python",
   "pygments_lexer": "ipython3",
   "version": "3.10.13"
  }
 },
 "nbformat": 4,
 "nbformat_minor": 5
}
